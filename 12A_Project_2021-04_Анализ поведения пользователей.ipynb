{
 "cells": [
  {
   "cell_type": "markdown",
   "metadata": {},
   "source": [
    "# <p style=\"text-align: center; color:green\">Мобильные приложения — Анализ поведения пользователей в мобильном приложении</p>\n",
    "---"
   ]
  },
  {
   "cell_type": "markdown",
   "metadata": {},
   "source": [
    "### Задача:\n",
    "\n",
    "1. Проанализируйте связь целевого события — просмотра контактов — и других действий пользователей. \n",
    "2. Оцените, какие действия чаще совершают те пользователи, которые просматривают контакты.\n",
    "- Проведите исследовательский анализ данных\n",
    "- Проанализируйте влияние событий на совершение целевого события\n",
    "- Проверьте статистические гипотезы\n",
    "    1. Одни пользователи совершают действия `tips_show` и `tips_click`, другие — только `tips_show`. Проверьте гипотезу: конверсия в просмотры контактов различается у этих двух групп.\n",
    "    2. Сформулируйте собственную статистическую гипотезу. Дополните её нулевой и альтернативной гипотезами. Проверьте гипотезу с помощью статистического теста.  "
   ]
  },
  {
   "cell_type": "markdown",
   "metadata": {},
   "source": [
    "### **Описание данных:**\n",
    "\n",
    "Датасет содержит данные о событиях, совершенных в мобильном приложении \"Ненужные вещи\". В нем пользователи продают свои ненужные вещи, размещая их на доске объявлений.\n",
    "\n",
    "В датасете содержатся данные пользователей, впервые совершивших действия в приложении после 7 октября 2019 года.\n",
    "\n",
    "Колонки в \"mobile_sources.csv\": \n",
    "\n",
    "- `userId` — идентификатор пользователя,\n",
    "- `source` — источник, с которого пользователь установил приложение.\n",
    "\n",
    "Колонки в \"mobile_dataset.csv\":\n",
    "\n",
    "- `event.time` — время совершения,\n",
    "- `user.id` — идентификатор пользователя,\n",
    "- `event.name` — действие пользователя.\n",
    "\n",
    "Виды действий:\n",
    "\n",
    "- `advert_open` — открыл карточки объявления,\n",
    "- `photos_show` — просмотрел фотографий в объявлении,\n",
    "- `tips_show` — увидел рекомендованные объявления,\n",
    "- `tips_click` — кликнул по рекомендованному объявлению,\n",
    "- `contacts_show` и `show_contacts` — посмотрел номер телефона,\n",
    "- `contacts_call` — позвонил по номеру из объявления,\n",
    "- `map` — открыл карту объявлений,\n",
    "- `search_1`—`search_7` — разные действия, связанные с поиском по сайту,\n",
    "- `favorites_add` — добавил объявление в избранное.\n",
    "\n",
    "По итогам исследования подготовьте презентацию. Для создания презентации используйте любой удобный инструмент, но отправить презентацию нужно **обязательно** в формате **pdf,** прикрепив ссылку на файл в основном проекте.  \n",
    "\n",
    "    \n",
    "---"
   ]
  },
  {
   "cell_type": "markdown",
   "metadata": {},
   "source": [
    "## <p style=\"text-align: center; color:green\">ДЕКОМОЗИЦИЯ</p> <a id=\"shag0\"></a>"
   ]
  },
  {
   "cell_type": "markdown",
   "metadata": {},
   "source": [
    "**Этап предобработки данных:**  \n",
    "  * Загрузка и первычный осмотр. Проверка корректность наименований колонок и переименование;\n",
    "  * Исследовать пропущенные значения / Заполнение и удаление пропусков;  \n",
    "  * Исследовать соответствие типов / Привести типы;  \n",
    "  * Исследовать дубликаты / Удалить дубликаты;  \n",
    "\n",
    "**Исследование данных:**  \n",
    "  * Исследование корректности строковых данных (схожесть, повторы)\n",
    "  * Исследование корректности числовых данных и дата/время (распределение, выбросы)  \n",
    "  \n",
    "**Анализ событий**  \n",
    "\n",
    "1. **Проверка ухудшает ли `Целевое событие` конверсию в `Совершение звонка` (из вэбинара первой встречи)** \n",
    "\n",
    "  * Рассчитать кол-во Звонков и Показов контантов, затем найти их соотношение.  \n",
    "\n",
    "2. **Рассчет среднего времени от первого действия до `Целевого` (из вэбинара первой встречи)**  \n",
    "\n",
    "  * Составить таблицу с полями: пользователь / дата первого события / дата первого целевого. Рассчитать разницу во времени между столбцами, затем рассчитать среднее и медиану. Рассчитать Последнее действие и потом разницу между первым и последним(Это и будет общее время в приложении). Сравнить эти обе дельты. Сделать выводы.  \n",
    "  \n",
    "3. Проанализируйте связь `Целевого события` — просмотра контактов — и других действий пользователей.  \n",
    "\n",
    "  * Для каждого пользователя (и каждого \"contacts_show\", у некоторых пользователей их может быть несколько) найти действие предшествующее \"contacts_show\" и подсчитать количество для каждого. Затем разделить на общее кол-во каждого действия. Получим конверсию каждого действия в \"contacts_show\". Проанализировать результат и сделать выводы.  \n",
    "\n",
    "4. Оцените, какие действия чаще совершают те пользователи, которые просматривают контакты. // **Сделать срез всех пользователей, которые просматривают контакты, затем применить метод value_counts() к столбцу событий, и мы подсчитаем сколько и каких событий они совершают.**    \n",
    "   - Проведите исследовательский анализ данных  \n",
    "   - Проанализируйте влияние событий на совершение целевого события // **Вопрос Аналоничен 3 пункту**  \n",
    "   - Повыщают ли дополнительные события конверсию в `Целевое событие` и в `Совершение звонка` (из вэбинара первой встречи) // **По целевым событиям взять информацию о конверсии из пункта 3. Вычислить конверсию дополнительных событий в `Совершение звонка` - кол-во каждого доп-события, после которых наступило `Совершение звонка` (через `Целевое событие`), разделить на общее кол-во каждого допсобытия соответственно.**   \n",
    " \n",
    "   - Проверьте статистические гипотезы  \n",
    "      1. Одни пользователи совершают действия `tips_show` и `tips_click`, другие — только `tips_show`. Проверьте гипотезу: конверсия в просмотры контактов различается у этих двух групп.  \n",
    "      2. Сформулируйте собственную статистическую гипотезу. Дополните её нулевой и альтернативной гипотезами. Проверьте гипотезу с помощью статистического теста.  \n",
    "\n",
    "**Выводы и рекомендации.  \n",
    "Презентация для директоров(ссылка).  \n",
    "DashBoard(ссылка).**"
   ]
  },
  {
   "cell_type": "markdown",
   "metadata": {},
   "source": [
    "---"
   ]
  },
  {
   "cell_type": "markdown",
   "metadata": {},
   "source": [
    "## <p style=\"text-align: center; color:green\">**===============================================================================**</p>\n",
    "## <p style=\"text-align: center; color:green\">СОДЕРЖАНИЕ</p> <a id=\"soder\"></a>\n",
    "\n",
    "[Декомпозиция](#shag0) \n",
    "\n",
    "[Шаг 1. Загрузка данных и импорт бибилиотек, модулей](#shag1)  \n",
    "\n",
    "[Шаг 2. Предобработка и исследовательский анализ данных](#shag2)  \n",
    "    [2.1 Изучение датасетов. Пропуски](#shag2.1)  \n",
    "    [2.2 Замена типов ](#shag2.2)  \n",
    "    [2.3 Дубликаты](#shag2.3)  \n",
    "    [2.4 Исследование данных](#shag2.4)  \n",
    "    \n",
    "[Шаг 3. Анализ событий](#shag3)  \n",
    "    [3.1 Общий анализ событий и пользователей](#shag3.1)  \n",
    "    [3.2 Проверка ухудшает ли `Целевое событие` конверсию в `Совершение звонка`](#shag3.2)  \n",
    "    [3.3 Рассчет среднего времени от первого действия до Целевого](#shag3.3)  \n",
    "    [3.4 Проанализируйте связь Целевого события — просмотра контактов — и других действий пользователей.](#shag3.4)  \n",
    "    [3.5 Поведение у людей, которые совершали Целевое действие и кто нет](#shag3.5)  \n",
    "    [3.6 Анализ/сравнение пары событий: Целевое событие и Совершение звонка](#shag3.6)  \n",
    "    \n",
    "[Шаг 4. Проверка статистических гипотез](#shag4)  \n",
    "    [4.1 Различается ли конверсия в просмотры контактов tips_show+tips_click и tips_show](#shag4.1)  \n",
    "    [4.2 Своя гипотеза](#shag4.2)   \n",
    "    \n",
    "[Выводы и рекомендации. Презентация](#shag5)   \n",
    "\n",
    "[Tableau DashBoard](#shag6)   \n",
    "\n",
    "## <p style=\"text-align: center; color:green\">**==============================================================================**</p>"
   ]
  },
  {
   "cell_type": "markdown",
   "metadata": {},
   "source": [
    "## Шаг 1. Загрузка данных <a id=\"shag1\"></a>  \n",
    "[К содержанию](#soder)"
   ]
  },
  {
   "cell_type": "code",
   "execution_count": 3,
   "metadata": {},
   "outputs": [],
   "source": [
    "# import warnings\n",
    "# warnings.filterwarnings('ignore')\n",
    "\n",
    "import numpy as np\n",
    "import pandas as pd\n",
    "from matplotlib import pyplot as plt\n",
    "import seaborn as sns\n",
    "from IPython.display import display\n",
    "import datetime as dt\n",
    "import plotly.express as px\n",
    "from scipy import stats as st\n",
    "import math as mth\n"
   ]
  },
  {
   "cell_type": "code",
   "execution_count": 4,
   "metadata": {},
   "outputs": [],
   "source": [
    "df = pd.read_csv('Final_project_Tolmakov_VV/mobile_dataset.csv')\n",
    "sources = pd.read_csv('Final_project_Tolmakov_VV/mobile_sources.csv')\n",
    "\n",
    "# df = pd.read_csv('mobile_dataset.csv')\n",
    "# sources = pd.read_csv('mobile_sources.csv')"
   ]
  },
  {
   "cell_type": "code",
   "execution_count": 5,
   "metadata": {
    "scrolled": false
   },
   "outputs": [
    {
     "data": {
      "text/html": [
       "<div>\n",
       "<style scoped>\n",
       "    .dataframe tbody tr th:only-of-type {\n",
       "        vertical-align: middle;\n",
       "    }\n",
       "\n",
       "    .dataframe tbody tr th {\n",
       "        vertical-align: top;\n",
       "    }\n",
       "\n",
       "    .dataframe thead th {\n",
       "        text-align: right;\n",
       "    }\n",
       "</style>\n",
       "<table border=\"1\" class=\"dataframe\">\n",
       "  <thead>\n",
       "    <tr style=\"text-align: right;\">\n",
       "      <th></th>\n",
       "      <th>userId</th>\n",
       "      <th>source</th>\n",
       "    </tr>\n",
       "  </thead>\n",
       "  <tbody>\n",
       "    <tr>\n",
       "      <td>0</td>\n",
       "      <td>020292ab-89bc-4156-9acf-68bc2783f894</td>\n",
       "      <td>other</td>\n",
       "    </tr>\n",
       "    <tr>\n",
       "      <td>1</td>\n",
       "      <td>cf7eda61-9349-469f-ac27-e5b6f5ec475c</td>\n",
       "      <td>yandex</td>\n",
       "    </tr>\n",
       "    <tr>\n",
       "      <td>2</td>\n",
       "      <td>8c356c42-3ba9-4cb6-80b8-3f868d0192c3</td>\n",
       "      <td>yandex</td>\n",
       "    </tr>\n",
       "    <tr>\n",
       "      <td>3</td>\n",
       "      <td>d9b06b47-0f36-419b-bbb0-3533e582a6cb</td>\n",
       "      <td>other</td>\n",
       "    </tr>\n",
       "    <tr>\n",
       "      <td>4</td>\n",
       "      <td>f32e1e2a-3027-4693-b793-b7b3ff274439</td>\n",
       "      <td>google</td>\n",
       "    </tr>\n",
       "    <tr>\n",
       "      <td>...</td>\n",
       "      <td>...</td>\n",
       "      <td>...</td>\n",
       "    </tr>\n",
       "    <tr>\n",
       "      <td>4288</td>\n",
       "      <td>b86fe56e-f2de-4f8a-b192-cd89a37ecd41</td>\n",
       "      <td>yandex</td>\n",
       "    </tr>\n",
       "    <tr>\n",
       "      <td>4289</td>\n",
       "      <td>424c0ae1-3ea3-4f1e-a814-6bac73e48ab1</td>\n",
       "      <td>yandex</td>\n",
       "    </tr>\n",
       "    <tr>\n",
       "      <td>4290</td>\n",
       "      <td>437a4cd4-9ba9-457f-8614-d142bc48fbeb</td>\n",
       "      <td>yandex</td>\n",
       "    </tr>\n",
       "    <tr>\n",
       "      <td>4291</td>\n",
       "      <td>c10055f0-0b47-477a-869e-d391b31fdf8f</td>\n",
       "      <td>yandex</td>\n",
       "    </tr>\n",
       "    <tr>\n",
       "      <td>4292</td>\n",
       "      <td>d157bffc-264d-4464-8220-1cc0c42f43a9</td>\n",
       "      <td>google</td>\n",
       "    </tr>\n",
       "  </tbody>\n",
       "</table>\n",
       "<p>4293 rows × 2 columns</p>\n",
       "</div>"
      ],
      "text/plain": [
       "                                    userId  source\n",
       "0     020292ab-89bc-4156-9acf-68bc2783f894   other\n",
       "1     cf7eda61-9349-469f-ac27-e5b6f5ec475c  yandex\n",
       "2     8c356c42-3ba9-4cb6-80b8-3f868d0192c3  yandex\n",
       "3     d9b06b47-0f36-419b-bbb0-3533e582a6cb   other\n",
       "4     f32e1e2a-3027-4693-b793-b7b3ff274439  google\n",
       "...                                    ...     ...\n",
       "4288  b86fe56e-f2de-4f8a-b192-cd89a37ecd41  yandex\n",
       "4289  424c0ae1-3ea3-4f1e-a814-6bac73e48ab1  yandex\n",
       "4290  437a4cd4-9ba9-457f-8614-d142bc48fbeb  yandex\n",
       "4291  c10055f0-0b47-477a-869e-d391b31fdf8f  yandex\n",
       "4292  d157bffc-264d-4464-8220-1cc0c42f43a9  google\n",
       "\n",
       "[4293 rows x 2 columns]"
      ]
     },
     "execution_count": 5,
     "metadata": {},
     "output_type": "execute_result"
    }
   ],
   "source": [
    "sources"
   ]
  },
  {
   "cell_type": "markdown",
   "metadata": {},
   "source": [
    "***Сразу поменяем название колонок по стандарту***"
   ]
  },
  {
   "cell_type": "code",
   "execution_count": 6,
   "metadata": {},
   "outputs": [
    {
     "data": {
      "text/plain": [
       "Index(['user', 'source'], dtype='object')"
      ]
     },
     "execution_count": 6,
     "metadata": {},
     "output_type": "execute_result"
    }
   ],
   "source": [
    "sources.columns = ['user', 'source']\n",
    "sources.columns"
   ]
  },
  {
   "cell_type": "code",
   "execution_count": 7,
   "metadata": {
    "scrolled": false
   },
   "outputs": [
    {
     "data": {
      "text/html": [
       "<div>\n",
       "<style scoped>\n",
       "    .dataframe tbody tr th:only-of-type {\n",
       "        vertical-align: middle;\n",
       "    }\n",
       "\n",
       "    .dataframe tbody tr th {\n",
       "        vertical-align: top;\n",
       "    }\n",
       "\n",
       "    .dataframe thead th {\n",
       "        text-align: right;\n",
       "    }\n",
       "</style>\n",
       "<table border=\"1\" class=\"dataframe\">\n",
       "  <thead>\n",
       "    <tr style=\"text-align: right;\">\n",
       "      <th></th>\n",
       "      <th>event.time</th>\n",
       "      <th>event.name</th>\n",
       "      <th>user.id</th>\n",
       "    </tr>\n",
       "  </thead>\n",
       "  <tbody>\n",
       "    <tr>\n",
       "      <td>0</td>\n",
       "      <td>2019-10-07 00:00:00.431357</td>\n",
       "      <td>advert_open</td>\n",
       "      <td>020292ab-89bc-4156-9acf-68bc2783f894</td>\n",
       "    </tr>\n",
       "    <tr>\n",
       "      <td>1</td>\n",
       "      <td>2019-10-07 00:00:01.236320</td>\n",
       "      <td>tips_show</td>\n",
       "      <td>020292ab-89bc-4156-9acf-68bc2783f894</td>\n",
       "    </tr>\n",
       "    <tr>\n",
       "      <td>2</td>\n",
       "      <td>2019-10-07 00:00:02.245341</td>\n",
       "      <td>tips_show</td>\n",
       "      <td>cf7eda61-9349-469f-ac27-e5b6f5ec475c</td>\n",
       "    </tr>\n",
       "    <tr>\n",
       "      <td>3</td>\n",
       "      <td>2019-10-07 00:00:07.039334</td>\n",
       "      <td>tips_show</td>\n",
       "      <td>020292ab-89bc-4156-9acf-68bc2783f894</td>\n",
       "    </tr>\n",
       "    <tr>\n",
       "      <td>4</td>\n",
       "      <td>2019-10-07 00:00:56.319813</td>\n",
       "      <td>advert_open</td>\n",
       "      <td>cf7eda61-9349-469f-ac27-e5b6f5ec475c</td>\n",
       "    </tr>\n",
       "    <tr>\n",
       "      <td>...</td>\n",
       "      <td>...</td>\n",
       "      <td>...</td>\n",
       "      <td>...</td>\n",
       "    </tr>\n",
       "    <tr>\n",
       "      <td>74192</td>\n",
       "      <td>2019-11-03 23:53:29.534986</td>\n",
       "      <td>tips_show</td>\n",
       "      <td>28fccdf4-7b9e-42f5-bc73-439a265f20e9</td>\n",
       "    </tr>\n",
       "    <tr>\n",
       "      <td>74193</td>\n",
       "      <td>2019-11-03 23:54:00.407086</td>\n",
       "      <td>tips_show</td>\n",
       "      <td>28fccdf4-7b9e-42f5-bc73-439a265f20e9</td>\n",
       "    </tr>\n",
       "    <tr>\n",
       "      <td>74194</td>\n",
       "      <td>2019-11-03 23:56:57.041825</td>\n",
       "      <td>search_1</td>\n",
       "      <td>20850c8f-4135-4059-b13b-198d3ac59902</td>\n",
       "    </tr>\n",
       "    <tr>\n",
       "      <td>74195</td>\n",
       "      <td>2019-11-03 23:57:06.232189</td>\n",
       "      <td>tips_show</td>\n",
       "      <td>28fccdf4-7b9e-42f5-bc73-439a265f20e9</td>\n",
       "    </tr>\n",
       "    <tr>\n",
       "      <td>74196</td>\n",
       "      <td>2019-11-03 23:58:12.532487</td>\n",
       "      <td>tips_show</td>\n",
       "      <td>28fccdf4-7b9e-42f5-bc73-439a265f20e9</td>\n",
       "    </tr>\n",
       "  </tbody>\n",
       "</table>\n",
       "<p>74197 rows × 3 columns</p>\n",
       "</div>"
      ],
      "text/plain": [
       "                       event.time   event.name  \\\n",
       "0      2019-10-07 00:00:00.431357  advert_open   \n",
       "1      2019-10-07 00:00:01.236320    tips_show   \n",
       "2      2019-10-07 00:00:02.245341    tips_show   \n",
       "3      2019-10-07 00:00:07.039334    tips_show   \n",
       "4      2019-10-07 00:00:56.319813  advert_open   \n",
       "...                           ...          ...   \n",
       "74192  2019-11-03 23:53:29.534986    tips_show   \n",
       "74193  2019-11-03 23:54:00.407086    tips_show   \n",
       "74194  2019-11-03 23:56:57.041825     search_1   \n",
       "74195  2019-11-03 23:57:06.232189    tips_show   \n",
       "74196  2019-11-03 23:58:12.532487    tips_show   \n",
       "\n",
       "                                    user.id  \n",
       "0      020292ab-89bc-4156-9acf-68bc2783f894  \n",
       "1      020292ab-89bc-4156-9acf-68bc2783f894  \n",
       "2      cf7eda61-9349-469f-ac27-e5b6f5ec475c  \n",
       "3      020292ab-89bc-4156-9acf-68bc2783f894  \n",
       "4      cf7eda61-9349-469f-ac27-e5b6f5ec475c  \n",
       "...                                     ...  \n",
       "74192  28fccdf4-7b9e-42f5-bc73-439a265f20e9  \n",
       "74193  28fccdf4-7b9e-42f5-bc73-439a265f20e9  \n",
       "74194  20850c8f-4135-4059-b13b-198d3ac59902  \n",
       "74195  28fccdf4-7b9e-42f5-bc73-439a265f20e9  \n",
       "74196  28fccdf4-7b9e-42f5-bc73-439a265f20e9  \n",
       "\n",
       "[74197 rows x 3 columns]"
      ]
     },
     "execution_count": 7,
     "metadata": {},
     "output_type": "execute_result"
    }
   ],
   "source": [
    "df"
   ]
  },
  {
   "cell_type": "code",
   "execution_count": 8,
   "metadata": {},
   "outputs": [],
   "source": [
    "df.columns = ['time', 'event', 'user']"
   ]
  },
  {
   "cell_type": "markdown",
   "metadata": {},
   "source": [
    "## Шаг 2. Предобработка и исследовательский анализ данных <a id=\"shag2\"></a>  \n",
    "[К содержанию](#soder)"
   ]
  },
  {
   "cell_type": "markdown",
   "metadata": {},
   "source": [
    "### 2.1 Изучение датасетов. Пропуски <a id=\"shag2.1\"></a>  \n",
    "[К содержанию](#soder)"
   ]
  },
  {
   "cell_type": "code",
   "execution_count": 9,
   "metadata": {},
   "outputs": [
    {
     "name": "stdout",
     "output_type": "stream",
     "text": [
      "<class 'pandas.core.frame.DataFrame'>\n",
      "RangeIndex: 4293 entries, 0 to 4292\n",
      "Data columns (total 2 columns):\n",
      "user      4293 non-null object\n",
      "source    4293 non-null object\n",
      "dtypes: object(2)\n",
      "memory usage: 67.2+ KB\n"
     ]
    }
   ],
   "source": [
    "sources.info()"
   ]
  },
  {
   "cell_type": "code",
   "execution_count": 10,
   "metadata": {
    "scrolled": true
   },
   "outputs": [
    {
     "name": "stdout",
     "output_type": "stream",
     "text": [
      "<class 'pandas.core.frame.DataFrame'>\n",
      "RangeIndex: 74197 entries, 0 to 74196\n",
      "Data columns (total 3 columns):\n",
      "time     74197 non-null object\n",
      "event    74197 non-null object\n",
      "user     74197 non-null object\n",
      "dtypes: object(3)\n",
      "memory usage: 1.7+ MB\n"
     ]
    }
   ],
   "source": [
    "df.info()"
   ]
  },
  {
   "cell_type": "markdown",
   "metadata": {},
   "source": [
    "***В обоих датасетах отсутствуют пропуски, что очень хорошо. Типы подходящие, за исключением колонки `time` датасета `df`, - тип надо поменять на \"datetime\". Индексы тоже идут по порядку.***"
   ]
  },
  {
   "cell_type": "markdown",
   "metadata": {},
   "source": [
    "### 2.2 Замена типов <a id=\"shag2.2\"></a>  \n",
    "[К содержанию](#soder)"
   ]
  },
  {
   "cell_type": "code",
   "execution_count": 11,
   "metadata": {},
   "outputs": [
    {
     "name": "stdout",
     "output_type": "stream",
     "text": [
      "<class 'pandas.core.frame.DataFrame'>\n",
      "RangeIndex: 74197 entries, 0 to 74196\n",
      "Data columns (total 3 columns):\n",
      "time     74197 non-null datetime64[ns]\n",
      "event    74197 non-null object\n",
      "user     74197 non-null object\n",
      "dtypes: datetime64[ns](1), object(2)\n",
      "memory usage: 1.7+ MB\n"
     ]
    }
   ],
   "source": [
    "df['time'] = df['time'].astype('datetime64')\n",
    "df.info()"
   ]
  },
  {
   "cell_type": "code",
   "execution_count": 12,
   "metadata": {
    "scrolled": true
   },
   "outputs": [
    {
     "data": {
      "text/html": [
       "<div>\n",
       "<style scoped>\n",
       "    .dataframe tbody tr th:only-of-type {\n",
       "        vertical-align: middle;\n",
       "    }\n",
       "\n",
       "    .dataframe tbody tr th {\n",
       "        vertical-align: top;\n",
       "    }\n",
       "\n",
       "    .dataframe thead th {\n",
       "        text-align: right;\n",
       "    }\n",
       "</style>\n",
       "<table border=\"1\" class=\"dataframe\">\n",
       "  <thead>\n",
       "    <tr style=\"text-align: right;\">\n",
       "      <th></th>\n",
       "      <th>time</th>\n",
       "      <th>event</th>\n",
       "      <th>user</th>\n",
       "    </tr>\n",
       "  </thead>\n",
       "  <tbody>\n",
       "    <tr>\n",
       "      <td>73345</td>\n",
       "      <td>2019-11-03 19:54:24.717016</td>\n",
       "      <td>photos_show</td>\n",
       "      <td>860bad3b-3925-43ef-909e-fc1a0d3abea6</td>\n",
       "    </tr>\n",
       "    <tr>\n",
       "      <td>26298</td>\n",
       "      <td>2019-10-17 20:00:27.991011</td>\n",
       "      <td>tips_show</td>\n",
       "      <td>a5b2560d-e6ab-4dc8-b67b-cfaa01785150</td>\n",
       "    </tr>\n",
       "    <tr>\n",
       "      <td>41074</td>\n",
       "      <td>2019-10-23 14:21:53.919102</td>\n",
       "      <td>tips_show</td>\n",
       "      <td>0d2f2408-97e7-4787-bcf6-a118b0665f7d</td>\n",
       "    </tr>\n",
       "  </tbody>\n",
       "</table>\n",
       "</div>"
      ],
      "text/plain": [
       "                            time        event  \\\n",
       "73345 2019-11-03 19:54:24.717016  photos_show   \n",
       "26298 2019-10-17 20:00:27.991011    tips_show   \n",
       "41074 2019-10-23 14:21:53.919102    tips_show   \n",
       "\n",
       "                                       user  \n",
       "73345  860bad3b-3925-43ef-909e-fc1a0d3abea6  \n",
       "26298  a5b2560d-e6ab-4dc8-b67b-cfaa01785150  \n",
       "41074  0d2f2408-97e7-4787-bcf6-a118b0665f7d  "
      ]
     },
     "execution_count": 12,
     "metadata": {},
     "output_type": "execute_result"
    }
   ],
   "source": [
    "df.sample(3)"
   ]
  },
  {
   "cell_type": "markdown",
   "metadata": {},
   "source": [
    "***С типами всё теперь в порядке***"
   ]
  },
  {
   "cell_type": "markdown",
   "metadata": {},
   "source": [
    "### 2.3 Дубликаты <a id=\"shag2.3\"></a>  \n",
    "[К содержанию](#soder)"
   ]
  },
  {
   "cell_type": "code",
   "execution_count": 13,
   "metadata": {},
   "outputs": [
    {
     "data": {
      "text/plain": [
       "0"
      ]
     },
     "execution_count": 13,
     "metadata": {},
     "output_type": "execute_result"
    }
   ],
   "source": [
    "df.duplicated().sum()"
   ]
  },
  {
   "cell_type": "code",
   "execution_count": 14,
   "metadata": {},
   "outputs": [
    {
     "data": {
      "text/plain": [
       "0"
      ]
     },
     "execution_count": 14,
     "metadata": {},
     "output_type": "execute_result"
    }
   ],
   "source": [
    "sources.duplicated().sum()"
   ]
  },
  {
   "cell_type": "markdown",
   "metadata": {},
   "source": [
    "***Прекрасно дубликатов тоже нет***"
   ]
  },
  {
   "cell_type": "markdown",
   "metadata": {},
   "source": [
    "### 2.4 Исследование данных <a id=\"shag2.4\"></a>  \n",
    "[К содержанию](#soder)"
   ]
  },
  {
   "cell_type": "markdown",
   "metadata": {},
   "source": [
    "### 1) Датасет `sources`"
   ]
  },
  {
   "cell_type": "code",
   "execution_count": 15,
   "metadata": {
    "scrolled": false
   },
   "outputs": [
    {
     "data": {
      "text/html": [
       "<div>\n",
       "<style scoped>\n",
       "    .dataframe tbody tr th:only-of-type {\n",
       "        vertical-align: middle;\n",
       "    }\n",
       "\n",
       "    .dataframe tbody tr th {\n",
       "        vertical-align: top;\n",
       "    }\n",
       "\n",
       "    .dataframe thead th {\n",
       "        text-align: right;\n",
       "    }\n",
       "</style>\n",
       "<table border=\"1\" class=\"dataframe\">\n",
       "  <thead>\n",
       "    <tr style=\"text-align: right;\">\n",
       "      <th></th>\n",
       "      <th>user</th>\n",
       "      <th>source</th>\n",
       "    </tr>\n",
       "  </thead>\n",
       "  <tbody>\n",
       "    <tr>\n",
       "      <td>4133</td>\n",
       "      <td>59e6ce74-5a2a-4fc3-90d4-41b6c44b0338</td>\n",
       "      <td>google</td>\n",
       "    </tr>\n",
       "    <tr>\n",
       "      <td>4203</td>\n",
       "      <td>a3dd3738-52be-4fb5-8b02-36704f6b6cbe</td>\n",
       "      <td>google</td>\n",
       "    </tr>\n",
       "    <tr>\n",
       "      <td>2555</td>\n",
       "      <td>0526d7c6-4dd5-42e2-b3fa-410d5bbd8741</td>\n",
       "      <td>yandex</td>\n",
       "    </tr>\n",
       "  </tbody>\n",
       "</table>\n",
       "</div>"
      ],
      "text/plain": [
       "                                      user  source\n",
       "4133  59e6ce74-5a2a-4fc3-90d4-41b6c44b0338  google\n",
       "4203  a3dd3738-52be-4fb5-8b02-36704f6b6cbe  google\n",
       "2555  0526d7c6-4dd5-42e2-b3fa-410d5bbd8741  yandex"
      ]
     },
     "execution_count": 15,
     "metadata": {},
     "output_type": "execute_result"
    }
   ],
   "source": [
    "sources.sample(3)"
   ]
  },
  {
   "cell_type": "markdown",
   "metadata": {},
   "source": [
    "**столбец `source`**"
   ]
  },
  {
   "cell_type": "code",
   "execution_count": 16,
   "metadata": {
    "scrolled": false
   },
   "outputs": [
    {
     "data": {
      "text/plain": [
       "yandex    1934\n",
       "other     1230\n",
       "google    1129\n",
       "Name: source, dtype: int64"
      ]
     },
     "execution_count": 16,
     "metadata": {},
     "output_type": "execute_result"
    }
   ],
   "source": [
    "sources['source'].value_counts()"
   ]
  },
  {
   "cell_type": "markdown",
   "metadata": {},
   "source": [
    "***Всего 3 имени источника. Здесь всё чисто и просто.***"
   ]
  },
  {
   "cell_type": "markdown",
   "metadata": {},
   "source": [
    "**столбец `user`**  \n",
    "здесь главное, чтобы все идентификаторы были уникальны."
   ]
  },
  {
   "cell_type": "code",
   "execution_count": 17,
   "metadata": {},
   "outputs": [
    {
     "name": "stdout",
     "output_type": "stream",
     "text": [
      "Всего строк - 4293 \n",
      "Уникальных идентификаторов - 4293\n"
     ]
    }
   ],
   "source": [
    "print(f'Всего строк - {len(sources)} \\nУникальных идентификаторов - {sources[\"user\"].nunique()}')"
   ]
  },
  {
   "cell_type": "markdown",
   "metadata": {},
   "source": [
    "***Все пользователи уникальны.***  \n",
    "***Датасет `sources` - не требует обработки, так как все данные корректны.***"
   ]
  },
  {
   "cell_type": "markdown",
   "metadata": {},
   "source": [
    "### 2) Датасет `df`"
   ]
  },
  {
   "cell_type": "code",
   "execution_count": 18,
   "metadata": {},
   "outputs": [
    {
     "data": {
      "text/html": [
       "<div>\n",
       "<style scoped>\n",
       "    .dataframe tbody tr th:only-of-type {\n",
       "        vertical-align: middle;\n",
       "    }\n",
       "\n",
       "    .dataframe tbody tr th {\n",
       "        vertical-align: top;\n",
       "    }\n",
       "\n",
       "    .dataframe thead th {\n",
       "        text-align: right;\n",
       "    }\n",
       "</style>\n",
       "<table border=\"1\" class=\"dataframe\">\n",
       "  <thead>\n",
       "    <tr style=\"text-align: right;\">\n",
       "      <th></th>\n",
       "      <th>time</th>\n",
       "      <th>event</th>\n",
       "      <th>user</th>\n",
       "    </tr>\n",
       "  </thead>\n",
       "  <tbody>\n",
       "    <tr>\n",
       "      <td>27335</td>\n",
       "      <td>2019-10-18 09:17:47.783871</td>\n",
       "      <td>tips_show</td>\n",
       "      <td>881152bf-c49d-4eed-923e-3c424b1a327f</td>\n",
       "    </tr>\n",
       "    <tr>\n",
       "      <td>54495</td>\n",
       "      <td>2019-10-27 21:49:17.555012</td>\n",
       "      <td>contacts_show</td>\n",
       "      <td>5b4d3f2d-eff7-4bf7-b420-f55552854a8a</td>\n",
       "    </tr>\n",
       "    <tr>\n",
       "      <td>14976</td>\n",
       "      <td>2019-10-13 20:05:19.717163</td>\n",
       "      <td>tips_show</td>\n",
       "      <td>c68bdd6d-bad7-4f51-8113-302f2364387c</td>\n",
       "    </tr>\n",
       "  </tbody>\n",
       "</table>\n",
       "</div>"
      ],
      "text/plain": [
       "                            time          event  \\\n",
       "27335 2019-10-18 09:17:47.783871      tips_show   \n",
       "54495 2019-10-27 21:49:17.555012  contacts_show   \n",
       "14976 2019-10-13 20:05:19.717163      tips_show   \n",
       "\n",
       "                                       user  \n",
       "27335  881152bf-c49d-4eed-923e-3c424b1a327f  \n",
       "54495  5b4d3f2d-eff7-4bf7-b420-f55552854a8a  \n",
       "14976  c68bdd6d-bad7-4f51-8113-302f2364387c  "
      ]
     },
     "execution_count": 18,
     "metadata": {},
     "output_type": "execute_result"
    }
   ],
   "source": [
    "df.sample(3)"
   ]
  },
  {
   "cell_type": "markdown",
   "metadata": {},
   "source": [
    "**столбец `time`** "
   ]
  },
  {
   "cell_type": "code",
   "execution_count": 19,
   "metadata": {},
   "outputs": [
    {
     "data": {
      "text/plain": [
       "count                          74197\n",
       "unique                         74197\n",
       "top       2019-10-20 20:53:28.313292\n",
       "freq                               1\n",
       "first     2019-10-07 00:00:00.431357\n",
       "last      2019-11-03 23:58:12.532487\n",
       "Name: time, dtype: object"
      ]
     },
     "execution_count": 19,
     "metadata": {},
     "output_type": "execute_result"
    }
   ],
   "source": [
    "df['time'].describe()"
   ]
  },
  {
   "cell_type": "code",
   "execution_count": 20,
   "metadata": {},
   "outputs": [
    {
     "name": "stdout",
     "output_type": "stream",
     "text": [
      "Мы располагаем периодом = 27 days 23:58:12.101130\n"
     ]
    }
   ],
   "source": [
    "print('Мы располагаем периодом =', (df['time'].max() - df['time'].min()))"
   ]
  },
  {
   "cell_type": "markdown",
   "metadata": {},
   "source": [
    "***Мы располагаем данными с 7октября по 3ноября 2019 года. Период времени почти 28 дней (можно сказать почти месяц).***"
   ]
  },
  {
   "cell_type": "markdown",
   "metadata": {},
   "source": [
    "**столбец `event`** "
   ]
  },
  {
   "cell_type": "code",
   "execution_count": 21,
   "metadata": {
    "scrolled": false
   },
   "outputs": [
    {
     "data": {
      "text/plain": [
       "tips_show        40055\n",
       "photos_show      10012\n",
       "advert_open       6164\n",
       "contacts_show     4450\n",
       "map               3881\n",
       "search_1          3506\n",
       "favorites_add     1417\n",
       "search_5          1049\n",
       "tips_click         814\n",
       "search_4           701\n",
       "contacts_call      541\n",
       "search_3           522\n",
       "search_6           460\n",
       "search_2           324\n",
       "search_7           222\n",
       "show_contacts       79\n",
       "Name: event, dtype: int64"
      ]
     },
     "execution_count": 21,
     "metadata": {},
     "output_type": "execute_result"
    }
   ],
   "source": [
    "df['event'].value_counts()"
   ]
  },
  {
   "cell_type": "markdown",
   "metadata": {},
   "source": [
    "***Среди ссобытий есть 2 одинаковых но записаных по-разному - \"contacts_show\" и \"show_contacts\". Переименуем всё в \"contacts_show\"***"
   ]
  },
  {
   "cell_type": "code",
   "execution_count": 22,
   "metadata": {
    "scrolled": true
   },
   "outputs": [
    {
     "data": {
      "text/plain": [
       "tips_show        40055\n",
       "photos_show      10012\n",
       "advert_open       6164\n",
       "contacts_show     4529\n",
       "map               3881\n",
       "search_1          3506\n",
       "favorites_add     1417\n",
       "search_5          1049\n",
       "tips_click         814\n",
       "search_4           701\n",
       "contacts_call      541\n",
       "search_3           522\n",
       "search_6           460\n",
       "search_2           324\n",
       "search_7           222\n",
       "Name: event, dtype: int64"
      ]
     },
     "execution_count": 22,
     "metadata": {},
     "output_type": "execute_result"
    }
   ],
   "source": [
    "# df.loc[(df.query('event == \"show_contacts\"').index.tolist()),'event'] = \"contacts_show\"\n",
    "df.loc[(df.query('event == \"show_contacts\"').index),'event'] = \"contacts_show\"\n",
    "df['event'].value_counts()"
   ]
  },
  {
   "cell_type": "markdown",
   "metadata": {},
   "source": [
    "***Готово - повторяющиеся названия событий объединены.***\n",
    "\n",
    "***Надо отметить, что самым повторяющимся действием является \"tips_show\" (показ рекомендации) и \"photos_show\" (показ фото), а самыми редкими поиски - search_7, search_2, search_6, search_3 и contacts_call***"
   ]
  },
  {
   "cell_type": "markdown",
   "metadata": {},
   "source": [
    "**столбец `user`** "
   ]
  },
  {
   "cell_type": "code",
   "execution_count": 23,
   "metadata": {},
   "outputs": [
    {
     "name": "stdout",
     "output_type": "stream",
     "text": [
      "Кол-во уникальных пользователей = 4293\n"
     ]
    }
   ],
   "source": [
    "print('Кол-во уникальных пользователей =',df['user'].nunique())"
   ]
  },
  {
   "cell_type": "markdown",
   "metadata": {},
   "source": [
    "***4293 уникальных пользователя, как и в таблице `sources`. По количеству всё совпадает.***  \n",
    "\n",
    "**А теперь проверим совпадают ли сами идентификаторы в обоих датасетах**"
   ]
  },
  {
   "cell_type": "code",
   "execution_count": 24,
   "metadata": {},
   "outputs": [
    {
     "name": "stdout",
     "output_type": "stream",
     "text": [
      "Множества идентификаторов в обоих датасетах совпадают +++\n"
     ]
    }
   ],
   "source": [
    "if set(df['user']) == set(sources['user']):\n",
    "    print('Множества идентификаторов в обоих датасетах совпадают +++')\n",
    "else:\n",
    "    print('Множества не совпадают ---')"
   ]
  },
  {
   "cell_type": "markdown",
   "metadata": {},
   "source": [
    "***Отлично все идентификаторы совпадают и их кол-во тоже. Столбец не требует вмешательства и дополнительного анализа***"
   ]
  },
  {
   "cell_type": "markdown",
   "metadata": {},
   "source": [
    "## Шаг 3. Анализ событий <a id=\"shag3\"></a>  \n",
    "[К содержанию](#soder)"
   ]
  },
  {
   "cell_type": "markdown",
   "metadata": {},
   "source": [
    "### 3.1 Общий анализ событий и пользователей <a id=\"shag3.1\"></a>  \n",
    "[К содержанию](#soder)"
   ]
  },
  {
   "cell_type": "markdown",
   "metadata": {},
   "source": [
    "***Вспомним, что, по условию, ЦЕЛЕВОЕ СОБЫТИЕ (далее ЦС) - это \"contacts_show\"***"
   ]
  },
  {
   "cell_type": "markdown",
   "metadata": {},
   "source": [
    "**Добавим в таблицу `df` данные из `sources`, и будем работать только с одной таблицей.**"
   ]
  },
  {
   "cell_type": "code",
   "execution_count": 25,
   "metadata": {
    "scrolled": false
   },
   "outputs": [
    {
     "data": {
      "text/html": [
       "<div>\n",
       "<style scoped>\n",
       "    .dataframe tbody tr th:only-of-type {\n",
       "        vertical-align: middle;\n",
       "    }\n",
       "\n",
       "    .dataframe tbody tr th {\n",
       "        vertical-align: top;\n",
       "    }\n",
       "\n",
       "    .dataframe thead th {\n",
       "        text-align: right;\n",
       "    }\n",
       "</style>\n",
       "<table border=\"1\" class=\"dataframe\">\n",
       "  <thead>\n",
       "    <tr style=\"text-align: right;\">\n",
       "      <th></th>\n",
       "      <th>time</th>\n",
       "      <th>event</th>\n",
       "      <th>user</th>\n",
       "      <th>source</th>\n",
       "    </tr>\n",
       "  </thead>\n",
       "  <tbody>\n",
       "    <tr>\n",
       "      <td>0</td>\n",
       "      <td>2019-10-07 00:00:00.431357</td>\n",
       "      <td>advert_open</td>\n",
       "      <td>020292ab-89bc-4156-9acf-68bc2783f894</td>\n",
       "      <td>other</td>\n",
       "    </tr>\n",
       "    <tr>\n",
       "      <td>1</td>\n",
       "      <td>2019-10-07 00:00:01.236320</td>\n",
       "      <td>tips_show</td>\n",
       "      <td>020292ab-89bc-4156-9acf-68bc2783f894</td>\n",
       "      <td>other</td>\n",
       "    </tr>\n",
       "    <tr>\n",
       "      <td>2</td>\n",
       "      <td>2019-10-07 00:00:02.245341</td>\n",
       "      <td>tips_show</td>\n",
       "      <td>cf7eda61-9349-469f-ac27-e5b6f5ec475c</td>\n",
       "      <td>yandex</td>\n",
       "    </tr>\n",
       "    <tr>\n",
       "      <td>3</td>\n",
       "      <td>2019-10-07 00:00:07.039334</td>\n",
       "      <td>tips_show</td>\n",
       "      <td>020292ab-89bc-4156-9acf-68bc2783f894</td>\n",
       "      <td>other</td>\n",
       "    </tr>\n",
       "    <tr>\n",
       "      <td>4</td>\n",
       "      <td>2019-10-07 00:00:56.319813</td>\n",
       "      <td>advert_open</td>\n",
       "      <td>cf7eda61-9349-469f-ac27-e5b6f5ec475c</td>\n",
       "      <td>yandex</td>\n",
       "    </tr>\n",
       "    <tr>\n",
       "      <td>...</td>\n",
       "      <td>...</td>\n",
       "      <td>...</td>\n",
       "      <td>...</td>\n",
       "      <td>...</td>\n",
       "    </tr>\n",
       "    <tr>\n",
       "      <td>74192</td>\n",
       "      <td>2019-11-03 23:53:29.534986</td>\n",
       "      <td>tips_show</td>\n",
       "      <td>28fccdf4-7b9e-42f5-bc73-439a265f20e9</td>\n",
       "      <td>google</td>\n",
       "    </tr>\n",
       "    <tr>\n",
       "      <td>74193</td>\n",
       "      <td>2019-11-03 23:54:00.407086</td>\n",
       "      <td>tips_show</td>\n",
       "      <td>28fccdf4-7b9e-42f5-bc73-439a265f20e9</td>\n",
       "      <td>google</td>\n",
       "    </tr>\n",
       "    <tr>\n",
       "      <td>74194</td>\n",
       "      <td>2019-11-03 23:56:57.041825</td>\n",
       "      <td>search_1</td>\n",
       "      <td>20850c8f-4135-4059-b13b-198d3ac59902</td>\n",
       "      <td>google</td>\n",
       "    </tr>\n",
       "    <tr>\n",
       "      <td>74195</td>\n",
       "      <td>2019-11-03 23:57:06.232189</td>\n",
       "      <td>tips_show</td>\n",
       "      <td>28fccdf4-7b9e-42f5-bc73-439a265f20e9</td>\n",
       "      <td>google</td>\n",
       "    </tr>\n",
       "    <tr>\n",
       "      <td>74196</td>\n",
       "      <td>2019-11-03 23:58:12.532487</td>\n",
       "      <td>tips_show</td>\n",
       "      <td>28fccdf4-7b9e-42f5-bc73-439a265f20e9</td>\n",
       "      <td>google</td>\n",
       "    </tr>\n",
       "  </tbody>\n",
       "</table>\n",
       "<p>74197 rows × 4 columns</p>\n",
       "</div>"
      ],
      "text/plain": [
       "                            time        event  \\\n",
       "0     2019-10-07 00:00:00.431357  advert_open   \n",
       "1     2019-10-07 00:00:01.236320    tips_show   \n",
       "2     2019-10-07 00:00:02.245341    tips_show   \n",
       "3     2019-10-07 00:00:07.039334    tips_show   \n",
       "4     2019-10-07 00:00:56.319813  advert_open   \n",
       "...                          ...          ...   \n",
       "74192 2019-11-03 23:53:29.534986    tips_show   \n",
       "74193 2019-11-03 23:54:00.407086    tips_show   \n",
       "74194 2019-11-03 23:56:57.041825     search_1   \n",
       "74195 2019-11-03 23:57:06.232189    tips_show   \n",
       "74196 2019-11-03 23:58:12.532487    tips_show   \n",
       "\n",
       "                                       user  source  \n",
       "0      020292ab-89bc-4156-9acf-68bc2783f894   other  \n",
       "1      020292ab-89bc-4156-9acf-68bc2783f894   other  \n",
       "2      cf7eda61-9349-469f-ac27-e5b6f5ec475c  yandex  \n",
       "3      020292ab-89bc-4156-9acf-68bc2783f894   other  \n",
       "4      cf7eda61-9349-469f-ac27-e5b6f5ec475c  yandex  \n",
       "...                                     ...     ...  \n",
       "74192  28fccdf4-7b9e-42f5-bc73-439a265f20e9  google  \n",
       "74193  28fccdf4-7b9e-42f5-bc73-439a265f20e9  google  \n",
       "74194  20850c8f-4135-4059-b13b-198d3ac59902  google  \n",
       "74195  28fccdf4-7b9e-42f5-bc73-439a265f20e9  google  \n",
       "74196  28fccdf4-7b9e-42f5-bc73-439a265f20e9  google  \n",
       "\n",
       "[74197 rows x 4 columns]"
      ]
     },
     "execution_count": 25,
     "metadata": {},
     "output_type": "execute_result"
    }
   ],
   "source": [
    "df = df.merge(sources, on='user', how='left')\n",
    "df"
   ]
  },
  {
   "cell_type": "markdown",
   "metadata": {},
   "source": [
    "***Данные в таблице с виду отсортированы по времени, но на всякий случай сделаем сортировку заново.***"
   ]
  },
  {
   "cell_type": "code",
   "execution_count": 26,
   "metadata": {
    "scrolled": false
   },
   "outputs": [],
   "source": [
    "df = df.sort_values(by='time').reset_index(drop=True)"
   ]
  },
  {
   "cell_type": "markdown",
   "metadata": {},
   "source": [
    "**Посмотрим сколько всего пользователей и событий**"
   ]
  },
  {
   "cell_type": "code",
   "execution_count": 27,
   "metadata": {},
   "outputs": [
    {
     "name": "stdout",
     "output_type": "stream",
     "text": [
      "Кол-во пользователей = 4293\n",
      "Кол-во событий = 74197\n"
     ]
    }
   ],
   "source": [
    "print(\"Кол-во пользователей =\", df['user'].nunique())\n",
    "print(\"Кол-во событий =\", df['event'].count())"
   ]
  },
  {
   "cell_type": "markdown",
   "metadata": {},
   "source": [
    "**Вычислим кол-во событий которое совершает один пользователь за день и среднее кол-во событий пользователя за день(2 варианта простой и средня по пользователям). (Напомним всего пользователей 4293)**"
   ]
  },
  {
   "cell_type": "code",
   "execution_count": 28,
   "metadata": {
    "scrolled": false
   },
   "outputs": [
    {
     "name": "stdout",
     "output_type": "stream",
     "text": [
      "Кол-во событий которое совершает один пользователь за день - 17.3 (Простой способ)\n",
      "Кол-во событий которое совершает один пользователь за день - 17.3 (Cпособ среднее по пользователям)\n"
     ]
    }
   ],
   "source": [
    "print('Кол-во событий которое совершает один пользователь за день -', round(74197/4293, 1), '(Простой способ)')\n",
    "print('Кол-во событий которое совершает один пользователь за день -', round(df.groupby('user')['event'].count().mean(), 1), '(Cпособ среднее по пользователям)')"
   ]
  },
  {
   "cell_type": "markdown",
   "metadata": {},
   "source": [
    "**Подсчитаем еще раз каким периодом данных мы располагаем**"
   ]
  },
  {
   "cell_type": "code",
   "execution_count": 29,
   "metadata": {},
   "outputs": [
    {
     "data": {
      "text/plain": [
       "count                          74197\n",
       "unique                         74197\n",
       "top       2019-10-20 20:53:28.313292\n",
       "freq                               1\n",
       "first     2019-10-07 00:00:00.431357\n",
       "last      2019-11-03 23:58:12.532487\n",
       "Name: time, dtype: object"
      ]
     },
     "execution_count": 29,
     "metadata": {},
     "output_type": "execute_result"
    }
   ],
   "source": [
    "df['time'].describe()"
   ]
  },
  {
   "cell_type": "code",
   "execution_count": 30,
   "metadata": {},
   "outputs": [
    {
     "name": "stdout",
     "output_type": "stream",
     "text": [
      "Мы располагаем периодом = 27 days 23:58:12.101130\n"
     ]
    }
   ],
   "source": [
    "print('Мы располагаем периодом =', (df['time'].max() - df['time'].min()))"
   ]
  },
  {
   "cell_type": "markdown",
   "metadata": {},
   "source": [
    "* ***Мы располагаем данными с 7октября (00:00:00) по 3ноября (23:58:12) 2019 года. Период времени почти 28 дней (можно сказать почти месяц).***"
   ]
  },
  {
   "cell_type": "markdown",
   "metadata": {},
   "source": [
    "**Посчитаем сколько пользователей совершали \"contacts_show\" и сколько раз**"
   ]
  },
  {
   "cell_type": "code",
   "execution_count": 31,
   "metadata": {
    "scrolled": true
   },
   "outputs": [
    {
     "name": "stdout",
     "output_type": "stream",
     "text": [
      "Кол-во пользователей совершивших ЦЕЛЕВОЕ действие = 981\n"
     ]
    },
    {
     "data": {
      "text/plain": [
       "user\n",
       "e38cb669-7335-4d56-9de5-c8d5d2f13fd3    137\n",
       "320cab3c-e823-4dff-8c01-c4253764640a    100\n",
       "cb36854f-570a-41f4-baa8-36680b396370     86\n",
       "be1449f6-ca45-4f94-93a7-ea4b079b8f0f     83\n",
       "9b835c74-8ede-4586-9f59-e5473aa48de2     74\n",
       "                                       ... \n",
       "8196713b-e0a6-44b7-b2af-2a8a7c2c716f      1\n",
       "81ce7cc8-ee16-42db-b5f0-6aa086426bd4      1\n",
       "83625e13-09da-4308-8401-5ea62a4047e0      1\n",
       "8457e987-5dcd-4b56-8022-b513c1c16ccc      1\n",
       "8188f8d3-1db1-4cdd-a6bd-2b9b3d2b3819      1\n",
       "Name: event, Length: 981, dtype: int64"
      ]
     },
     "execution_count": 31,
     "metadata": {},
     "output_type": "execute_result"
    }
   ],
   "source": [
    "contact_show_users = df.query('event == \"contacts_show\"').groupby('user')['event'].count().sort_values(ascending=False)\n",
    "print('Кол-во пользователей совершивших ЦЕЛЕВОЕ действие =', len(contact_show_users))\n",
    "contact_show_users"
   ]
  },
  {
   "cell_type": "markdown",
   "metadata": {},
   "source": [
    "**Теперь подсчитаем сколько ЦС совершает пользователь**"
   ]
  },
  {
   "cell_type": "code",
   "execution_count": 32,
   "metadata": {},
   "outputs": [
    {
     "data": {
      "text/plain": [
       "count    981.000000\n",
       "mean       4.616718\n",
       "std        9.621611\n",
       "min        1.000000\n",
       "25%        1.000000\n",
       "50%        2.000000\n",
       "75%        4.000000\n",
       "max      137.000000\n",
       "Name: event, dtype: float64"
      ]
     },
     "execution_count": 32,
     "metadata": {},
     "output_type": "execute_result"
    }
   ],
   "source": [
    "contact_show_users.describe()"
   ]
  },
  {
   "cell_type": "code",
   "execution_count": 33,
   "metadata": {
    "scrolled": false
   },
   "outputs": [
    {
     "data": {
      "image/png": "[encoded data removed]",
      "text/plain": [
       "<Figure size 864x216 with 1 Axes>"
      ]
     },
     "metadata": {
      "needs_background": "light"
     },
     "output_type": "display_data"
    },
    {
     "data": {
      "image/png": "[encoded data removed]",
      "text/plain": [
       "<Figure size 864x216 with 1 Axes>"
      ]
     },
     "metadata": {
      "needs_background": "light"
     },
     "output_type": "display_data"
    }
   ],
   "source": [
    "contact_show_users.hist(figsize=(12,3), bins=40)\n",
    "plt.title('Кол-во ЦС совершаемых пользователями')\n",
    "plt.ylabel('Кол-во пользователей');\n",
    "plt.show()\n",
    "plt.xlabel('Кол-во ЦС')\n",
    "plt.ylabel('Кол-во пользователей')\n",
    "contact_show_users.hist(figsize=(12,3), bins=40, range=(0,20));"
   ]
  },
  {
   "cell_type": "markdown",
   "metadata": {},
   "source": [
    "* ***В среднем каждый пользователь совершил 1-4 ЦС (из 981 пользователя, кто вообще совершал ЦС) за предоставленный период 28 дней***"
   ]
  },
  {
   "cell_type": "markdown",
   "metadata": {},
   "source": [
    "---"
   ]
  },
  {
   "cell_type": "markdown",
   "metadata": {},
   "source": [
    "**Теперь подсчитаем сколько и каких событий совершает один пользователь**"
   ]
  },
  {
   "cell_type": "code",
   "execution_count": 34,
   "metadata": {},
   "outputs": [
    {
     "data": {
      "text/html": [
       "<div>\n",
       "<style scoped>\n",
       "    .dataframe tbody tr th:only-of-type {\n",
       "        vertical-align: middle;\n",
       "    }\n",
       "\n",
       "    .dataframe tbody tr th {\n",
       "        vertical-align: top;\n",
       "    }\n",
       "\n",
       "    .dataframe thead th {\n",
       "        text-align: right;\n",
       "    }\n",
       "</style>\n",
       "<table border=\"1\" class=\"dataframe\">\n",
       "  <thead>\n",
       "    <tr style=\"text-align: right;\">\n",
       "      <th></th>\n",
       "      <th>time</th>\n",
       "      <th>event</th>\n",
       "      <th>user</th>\n",
       "      <th>source</th>\n",
       "      <th>week</th>\n",
       "      <th>day</th>\n",
       "    </tr>\n",
       "  </thead>\n",
       "  <tbody>\n",
       "    <tr>\n",
       "      <td>0</td>\n",
       "      <td>2019-10-07 00:00:00.431357</td>\n",
       "      <td>advert_open</td>\n",
       "      <td>020292ab-89bc-4156-9acf-68bc2783f894</td>\n",
       "      <td>other</td>\n",
       "      <td>41</td>\n",
       "      <td>2019-10-07</td>\n",
       "    </tr>\n",
       "    <tr>\n",
       "      <td>1</td>\n",
       "      <td>2019-10-07 00:00:01.236320</td>\n",
       "      <td>tips_show</td>\n",
       "      <td>020292ab-89bc-4156-9acf-68bc2783f894</td>\n",
       "      <td>other</td>\n",
       "      <td>41</td>\n",
       "      <td>2019-10-07</td>\n",
       "    </tr>\n",
       "    <tr>\n",
       "      <td>2</td>\n",
       "      <td>2019-10-07 00:00:02.245341</td>\n",
       "      <td>tips_show</td>\n",
       "      <td>cf7eda61-9349-469f-ac27-e5b6f5ec475c</td>\n",
       "      <td>yandex</td>\n",
       "      <td>41</td>\n",
       "      <td>2019-10-07</td>\n",
       "    </tr>\n",
       "    <tr>\n",
       "      <td>3</td>\n",
       "      <td>2019-10-07 00:00:07.039334</td>\n",
       "      <td>tips_show</td>\n",
       "      <td>020292ab-89bc-4156-9acf-68bc2783f894</td>\n",
       "      <td>other</td>\n",
       "      <td>41</td>\n",
       "      <td>2019-10-07</td>\n",
       "    </tr>\n",
       "    <tr>\n",
       "      <td>4</td>\n",
       "      <td>2019-10-07 00:00:56.319813</td>\n",
       "      <td>advert_open</td>\n",
       "      <td>cf7eda61-9349-469f-ac27-e5b6f5ec475c</td>\n",
       "      <td>yandex</td>\n",
       "      <td>41</td>\n",
       "      <td>2019-10-07</td>\n",
       "    </tr>\n",
       "    <tr>\n",
       "      <td>...</td>\n",
       "      <td>...</td>\n",
       "      <td>...</td>\n",
       "      <td>...</td>\n",
       "      <td>...</td>\n",
       "      <td>...</td>\n",
       "      <td>...</td>\n",
       "    </tr>\n",
       "    <tr>\n",
       "      <td>74192</td>\n",
       "      <td>2019-11-03 23:53:29.534986</td>\n",
       "      <td>tips_show</td>\n",
       "      <td>28fccdf4-7b9e-42f5-bc73-439a265f20e9</td>\n",
       "      <td>google</td>\n",
       "      <td>44</td>\n",
       "      <td>2019-11-03</td>\n",
       "    </tr>\n",
       "    <tr>\n",
       "      <td>74193</td>\n",
       "      <td>2019-11-03 23:54:00.407086</td>\n",
       "      <td>tips_show</td>\n",
       "      <td>28fccdf4-7b9e-42f5-bc73-439a265f20e9</td>\n",
       "      <td>google</td>\n",
       "      <td>44</td>\n",
       "      <td>2019-11-03</td>\n",
       "    </tr>\n",
       "    <tr>\n",
       "      <td>74194</td>\n",
       "      <td>2019-11-03 23:56:57.041825</td>\n",
       "      <td>search_1</td>\n",
       "      <td>20850c8f-4135-4059-b13b-198d3ac59902</td>\n",
       "      <td>google</td>\n",
       "      <td>44</td>\n",
       "      <td>2019-11-03</td>\n",
       "    </tr>\n",
       "    <tr>\n",
       "      <td>74195</td>\n",
       "      <td>2019-11-03 23:57:06.232189</td>\n",
       "      <td>tips_show</td>\n",
       "      <td>28fccdf4-7b9e-42f5-bc73-439a265f20e9</td>\n",
       "      <td>google</td>\n",
       "      <td>44</td>\n",
       "      <td>2019-11-03</td>\n",
       "    </tr>\n",
       "    <tr>\n",
       "      <td>74196</td>\n",
       "      <td>2019-11-03 23:58:12.532487</td>\n",
       "      <td>tips_show</td>\n",
       "      <td>28fccdf4-7b9e-42f5-bc73-439a265f20e9</td>\n",
       "      <td>google</td>\n",
       "      <td>44</td>\n",
       "      <td>2019-11-03</td>\n",
       "    </tr>\n",
       "  </tbody>\n",
       "</table>\n",
       "<p>74197 rows × 6 columns</p>\n",
       "</div>"
      ],
      "text/plain": [
       "                            time        event  \\\n",
       "0     2019-10-07 00:00:00.431357  advert_open   \n",
       "1     2019-10-07 00:00:01.236320    tips_show   \n",
       "2     2019-10-07 00:00:02.245341    tips_show   \n",
       "3     2019-10-07 00:00:07.039334    tips_show   \n",
       "4     2019-10-07 00:00:56.319813  advert_open   \n",
       "...                          ...          ...   \n",
       "74192 2019-11-03 23:53:29.534986    tips_show   \n",
       "74193 2019-11-03 23:54:00.407086    tips_show   \n",
       "74194 2019-11-03 23:56:57.041825     search_1   \n",
       "74195 2019-11-03 23:57:06.232189    tips_show   \n",
       "74196 2019-11-03 23:58:12.532487    tips_show   \n",
       "\n",
       "                                       user  source  week         day  \n",
       "0      020292ab-89bc-4156-9acf-68bc2783f894   other    41  2019-10-07  \n",
       "1      020292ab-89bc-4156-9acf-68bc2783f894   other    41  2019-10-07  \n",
       "2      cf7eda61-9349-469f-ac27-e5b6f5ec475c  yandex    41  2019-10-07  \n",
       "3      020292ab-89bc-4156-9acf-68bc2783f894   other    41  2019-10-07  \n",
       "4      cf7eda61-9349-469f-ac27-e5b6f5ec475c  yandex    41  2019-10-07  \n",
       "...                                     ...     ...   ...         ...  \n",
       "74192  28fccdf4-7b9e-42f5-bc73-439a265f20e9  google    44  2019-11-03  \n",
       "74193  28fccdf4-7b9e-42f5-bc73-439a265f20e9  google    44  2019-11-03  \n",
       "74194  20850c8f-4135-4059-b13b-198d3ac59902  google    44  2019-11-03  \n",
       "74195  28fccdf4-7b9e-42f5-bc73-439a265f20e9  google    44  2019-11-03  \n",
       "74196  28fccdf4-7b9e-42f5-bc73-439a265f20e9  google    44  2019-11-03  \n",
       "\n",
       "[74197 rows x 6 columns]"
      ]
     },
     "execution_count": 34,
     "metadata": {},
     "output_type": "execute_result"
    }
   ],
   "source": [
    "df['week'] = df['time'].dt.week\n",
    "# df['day'] = df['time'].dt.day\n",
    "df['day'] = df['time'].dt.strftime('%Y-%m-%d')\n",
    "df"
   ]
  },
  {
   "cell_type": "markdown",
   "metadata": {},
   "source": [
    "**Для визуализации кол-ва событий за день построим таблицу-HeatMap**"
   ]
  },
  {
   "cell_type": "code",
   "execution_count": 35,
   "metadata": {
    "scrolled": false
   },
   "outputs": [
    {
     "data": {
      "image/png": "[encoded data removed]",
      "text/plain": [
       "<Figure size 1152x720 with 2 Axes>"
      ]
     },
     "metadata": {
      "needs_background": "light"
     },
     "output_type": "display_data"
    },
    {
     "data": {
      "image/png": "[encoded data removed]",
      "text/plain": [
       "<Figure size 1152x720 with 2 Axes>"
      ]
     },
     "metadata": {
      "needs_background": "light"
     },
     "output_type": "display_data"
    }
   ],
   "source": [
    "day_event_pivot = df.pivot_table(index='day', columns='event', values='time', aggfunc='count')\n",
    "plt.figure(figsize=(16,10)) \n",
    "plt.title('Кол-во событий за день')\n",
    "sns.heatmap(day_event_pivot, annot=True, fmt='', square=False);\n",
    "plt.show()\n",
    "plt.figure(figsize=(16,10)) \n",
    "plt.title('Кол-во событий за день, без \"Целевого\" и без \"Совершения звонка\"')\n",
    "sns.heatmap(day_event_pivot.drop(['tips_show','photos_show'], axis=1), annot=True, fmt='', square=False);"
   ]
  },
  {
   "cell_type": "markdown",
   "metadata": {},
   "source": [
    "*Для лучшей видимости, во второй HeatMap были удалены столбцы с событиями 'tips_show','photos_show'*\n",
    "\n",
    "**Построим еще таблицы со значениями по неделям**"
   ]
  },
  {
   "cell_type": "code",
   "execution_count": 36,
   "metadata": {},
   "outputs": [
    {
     "data": {
      "image/png": "[encoded data removed]",
      "text/plain": [
       "<Figure size 1152x144 with 2 Axes>"
      ]
     },
     "metadata": {
      "needs_background": "light"
     },
     "output_type": "display_data"
    },
    {
     "data": {
      "image/png": "[encoded data removed]",
      "text/plain": [
       "<Figure size 1152x144 with 2 Axes>"
      ]
     },
     "metadata": {
      "needs_background": "light"
     },
     "output_type": "display_data"
    }
   ],
   "source": [
    "week_event_pivot = df.pivot_table(index='week', columns='event', values='time', aggfunc='count')\n",
    "plt.figure(figsize=(16,2)) \n",
    "plt.title('Кол-во событий за неделю')\n",
    "sns.heatmap(week_event_pivot, annot=True, fmt='', square=False);\n",
    "plt.show()\n",
    "plt.figure(figsize=(16,2))\n",
    "plt.title('Кол-во событий за неделю, без \"Целевого\" и без \"Совершения звонка\"')\n",
    "sns.heatmap(week_event_pivot.drop(['tips_show','photos_show'], axis=1), annot=True, fmt='', square=False);"
   ]
  },
  {
   "cell_type": "markdown",
   "metadata": {},
   "source": [
    "***Из таблиц HeatMap видно, что кол-во событий совершенных за день распределено более менее равномерно по дням. Поэтому , более показательным будет `среднее` значение кол-во событий за день. Подсчитаем на всякий случай и медиану тоже***"
   ]
  },
  {
   "cell_type": "markdown",
   "metadata": {},
   "source": [
    "<div class=\"alert alert-warning\">\n",
    "<b>Комментарий наставника:</b> Мне кажется обычный line chart здесь подошел бы лучше, сейчас жти таблицы сложно воспринимать.</div>"
   ]
  },
  {
   "cell_type": "code",
   "execution_count": 37,
   "metadata": {
    "scrolled": true
   },
   "outputs": [
    {
     "name": "stdout",
     "output_type": "stream",
     "text": [
      "Медианное и Среднее кол-во событий за день и кол-во всех событий за весь период\n",
      "\n",
      "            event  median    mean  n_events\n",
      "0       tips_show  1443.0  1430.5     40055\n",
      "1     photos_show   345.5   357.6     10012\n",
      "2     advert_open   226.0   220.1      6164\n",
      "3   contacts_show   178.0   161.8      4529\n",
      "4             map   137.0   138.6      3881\n",
      "5        search_1   127.0   125.2      3506\n",
      "6   favorites_add    44.0    50.6      1417\n",
      "7        search_5    37.5    37.5      1049\n",
      "8      tips_click    27.0    29.1       814\n",
      "9        search_4    25.0    25.0       701\n",
      "10  contacts_call    19.0    19.3       541\n",
      "11       search_3    18.0    18.6       522\n",
      "12       search_6    16.0    16.4       460\n",
      "13       search_2    11.0    11.6       324\n",
      "14       search_7     7.0     7.9       222\n"
     ]
    }
   ],
   "source": [
    "mean_events_per_day = df.groupby(['day', 'event'])['time'].count().reset_index()\n",
    "mean_events_per_day.columns = ['day', 'event', 'n_events']\n",
    "mean_events_per_day = mean_events_per_day.groupby('event')['n_events'].agg(['median', 'mean']).round(1) #.reset_index()\n",
    "mean_events_per_day = mean_events_per_day.sort_values(by='mean', ascending=False).reset_index()\n",
    "\n",
    "print('Медианное и Среднее кол-во событий за день и кол-во всех событий за весь период\\n')\n",
    "\n",
    "n_events = df['event'].value_counts().reset_index() # Общее кол-во каждого события\n",
    "n_events.columns = ['event', 'n_events']\n",
    "\n",
    "print(mean_events_per_day.merge(n_events, on='event'))"
   ]
  },
  {
   "cell_type": "markdown",
   "metadata": {},
   "source": [
    "***Как и предполагалось среднее мало отличается от медианы. А также пропорционально кол-вам всем событий за весь период. Самые частые события - \"tips_show\" и \"photos_show\". Самые редкие - search_7, search_2, search_6, search_3***"
   ]
  },
  {
   "cell_type": "markdown",
   "metadata": {},
   "source": [
    "### 3.2 Проверка ухудшает ли `Целевое событие` конверсию в `Совершение звонка` <a id=\"shag3.2\"></a>  \n",
    "[К содержанию](#soder)"
   ]
  },
  {
   "cell_type": "markdown",
   "metadata": {},
   "source": [
    "**Сначала грубо прикинем общую конверсию всех событий в Целевое - \"contacts_show\"**"
   ]
  },
  {
   "cell_type": "code",
   "execution_count": 38,
   "metadata": {},
   "outputs": [
    {
     "name": "stdout",
     "output_type": "stream",
     "text": [
      "Кол-во всех событий, кроме contacts_show = 69668\n",
      "Общая конверсия всех событий в Целевое - 'contacts_show' = 6.5%\n"
     ]
    }
   ],
   "source": [
    "no_contacts_show = df[df['event'] !='contacts_show']['event'].count()\n",
    "print(f\"Кол-во всех событий, кроме contacts_show =\", no_contacts_show)\n",
    "print(f\"Общая конверсия всех событий в Целевое - 'contacts_show' = {round((4529/no_contacts_show*100), 2)}%\")"
   ]
  },
  {
   "cell_type": "markdown",
   "metadata": {},
   "source": [
    "***Общая конверсия всех событий 'contacts_show' - 6,5%, вполне не плохо (даже хорошо).***"
   ]
  },
  {
   "cell_type": "markdown",
   "metadata": {},
   "source": [
    "**Подсчитаем конверсию `Целевое событие` в `Совершение звонка`**"
   ]
  },
  {
   "cell_type": "code",
   "execution_count": 39,
   "metadata": {
    "scrolled": true
   },
   "outputs": [
    {
     "name": "stdout",
     "output_type": "stream",
     "text": [
      "Конверсия ЦС в Совершение звонка = 12%\n"
     ]
    }
   ],
   "source": [
    "print(f'Конверсия ЦС в Совершение звонка = {round(541/4529*100)}%')"
   ]
  },
  {
   "cell_type": "markdown",
   "metadata": {},
   "source": [
    "***По общей конверсии событий в \"contacts_show\" надо отметить хороший результат, который составляет 6,5%.***  \n",
    "\n",
    "***`Целевое событие` ( contacts_show ) по условию, было добавлено недавно. Оно является промежуточным звеном перед звонком - то есть когда его не было пользователи сразу звонили (contacts_call). Получается когда появилось новое событие (Целевое), то до звонка стало доходить всего 12% пользователей (от тех кто хотел позвонить)! Падение звонков больше чем в 8 раз - это просто катастрофа!*** \n",
    "\n",
    "**Рекомендация: Нужно срочно убрать это событие (contacts_show), и вернуть как было до этого. И проанализировать почему так произошло. Возможно разработать/внедрить другой аналог Captcha для защиты пользователей.**"
   ]
  },
  {
   "cell_type": "markdown",
   "metadata": {},
   "source": [
    "### 3.3 Рассчет среднего времени от первого действия до Целевого <a id=\"shag3.3\"></a>  \n",
    "[К содержанию](#soder)"
   ]
  },
  {
   "cell_type": "markdown",
   "metadata": {},
   "source": [
    "**Создадим таблицу пользователей, где присутствуют дата первого события и дата первого Целевого (первого, так как возможно каждый пользователь мог совершать несколько целевых событий)**"
   ]
  },
  {
   "cell_type": "code",
   "execution_count": 40,
   "metadata": {},
   "outputs": [
    {
     "data": {
      "text/html": [
       "<div>\n",
       "<style scoped>\n",
       "    .dataframe tbody tr th:only-of-type {\n",
       "        vertical-align: middle;\n",
       "    }\n",
       "\n",
       "    .dataframe tbody tr th {\n",
       "        vertical-align: top;\n",
       "    }\n",
       "\n",
       "    .dataframe thead th {\n",
       "        text-align: right;\n",
       "    }\n",
       "</style>\n",
       "<table border=\"1\" class=\"dataframe\">\n",
       "  <thead>\n",
       "    <tr style=\"text-align: right;\">\n",
       "      <th></th>\n",
       "      <th>user</th>\n",
       "      <th>time_first_contacts_show</th>\n",
       "    </tr>\n",
       "  </thead>\n",
       "  <tbody>\n",
       "    <tr>\n",
       "      <td>0</td>\n",
       "      <td>00157779-810c-4498-9e05-a1e9e3cedf93</td>\n",
       "      <td>2019-10-20 19:17:18.659799</td>\n",
       "    </tr>\n",
       "    <tr>\n",
       "      <td>1</td>\n",
       "      <td>00551e79-152e-4441-9cf7-565d7eb04090</td>\n",
       "      <td>2019-10-25 16:44:41.263364</td>\n",
       "    </tr>\n",
       "    <tr>\n",
       "      <td>2</td>\n",
       "      <td>005fbea5-2678-406f-88a6-fbe9787e2268</td>\n",
       "      <td>2019-10-11 11:22:54.442841</td>\n",
       "    </tr>\n",
       "    <tr>\n",
       "      <td>3</td>\n",
       "      <td>00753c79-ea81-4456-acd0-a47a23ca2fb9</td>\n",
       "      <td>2019-10-20 14:57:06.080501</td>\n",
       "    </tr>\n",
       "    <tr>\n",
       "      <td>4</td>\n",
       "      <td>007d031d-5018-4e02-b7ee-72a30609173f</td>\n",
       "      <td>2019-10-22 13:08:09.140381</td>\n",
       "    </tr>\n",
       "    <tr>\n",
       "      <td>...</td>\n",
       "      <td>...</td>\n",
       "      <td>...</td>\n",
       "    </tr>\n",
       "    <tr>\n",
       "      <td>976</td>\n",
       "      <td>fee3ba1c-16f4-46f7-bf56-4bf80cc4e2f5</td>\n",
       "      <td>2019-10-26 12:13:19.781554</td>\n",
       "    </tr>\n",
       "    <tr>\n",
       "      <td>977</td>\n",
       "      <td>ff1554b5-919e-40b1-90bb-ee1f7f6d5846</td>\n",
       "      <td>2019-10-21 10:59:23.944891</td>\n",
       "    </tr>\n",
       "    <tr>\n",
       "      <td>978</td>\n",
       "      <td>ffc01466-fdb1-4460-ae94-e800f52eb136</td>\n",
       "      <td>2019-10-07 20:33:42.135500</td>\n",
       "    </tr>\n",
       "    <tr>\n",
       "      <td>979</td>\n",
       "      <td>ffe68f10-e48e-470e-be9b-eeb93128ff1a</td>\n",
       "      <td>2019-10-22 16:07:17.683553</td>\n",
       "    </tr>\n",
       "    <tr>\n",
       "      <td>980</td>\n",
       "      <td>fffb9e79-b927-4dbb-9b48-7fd09b23a62b</td>\n",
       "      <td>2019-10-16 12:57:40.598641</td>\n",
       "    </tr>\n",
       "  </tbody>\n",
       "</table>\n",
       "<p>981 rows × 2 columns</p>\n",
       "</div>"
      ],
      "text/plain": [
       "                                     user   time_first_contacts_show\n",
       "0    00157779-810c-4498-9e05-a1e9e3cedf93 2019-10-20 19:17:18.659799\n",
       "1    00551e79-152e-4441-9cf7-565d7eb04090 2019-10-25 16:44:41.263364\n",
       "2    005fbea5-2678-406f-88a6-fbe9787e2268 2019-10-11 11:22:54.442841\n",
       "3    00753c79-ea81-4456-acd0-a47a23ca2fb9 2019-10-20 14:57:06.080501\n",
       "4    007d031d-5018-4e02-b7ee-72a30609173f 2019-10-22 13:08:09.140381\n",
       "..                                    ...                        ...\n",
       "976  fee3ba1c-16f4-46f7-bf56-4bf80cc4e2f5 2019-10-26 12:13:19.781554\n",
       "977  ff1554b5-919e-40b1-90bb-ee1f7f6d5846 2019-10-21 10:59:23.944891\n",
       "978  ffc01466-fdb1-4460-ae94-e800f52eb136 2019-10-07 20:33:42.135500\n",
       "979  ffe68f10-e48e-470e-be9b-eeb93128ff1a 2019-10-22 16:07:17.683553\n",
       "980  fffb9e79-b927-4dbb-9b48-7fd09b23a62b 2019-10-16 12:57:40.598641\n",
       "\n",
       "[981 rows x 2 columns]"
      ]
     },
     "execution_count": 40,
     "metadata": {},
     "output_type": "execute_result"
    }
   ],
   "source": [
    "user_first_contacts_show = df.query('event == \"contacts_show\"').groupby('user')['time'].min().reset_index()\n",
    "user_first_contacts_show.columns = ['user', 'time_first_contacts_show']\n",
    "user_first_contacts_show"
   ]
  },
  {
   "cell_type": "code",
   "execution_count": 41,
   "metadata": {
    "scrolled": false
   },
   "outputs": [],
   "source": [
    "user_first_event = df.groupby('user')['time'].min().reset_index()\n",
    "# user_first_event"
   ]
  },
  {
   "cell_type": "markdown",
   "metadata": {},
   "source": [
    "**Добавим столбец с названием первого события**"
   ]
  },
  {
   "cell_type": "code",
   "execution_count": 42,
   "metadata": {},
   "outputs": [
    {
     "data": {
      "text/html": [
       "<div>\n",
       "<style scoped>\n",
       "    .dataframe tbody tr th:only-of-type {\n",
       "        vertical-align: middle;\n",
       "    }\n",
       "\n",
       "    .dataframe tbody tr th {\n",
       "        vertical-align: top;\n",
       "    }\n",
       "\n",
       "    .dataframe thead th {\n",
       "        text-align: right;\n",
       "    }\n",
       "</style>\n",
       "<table border=\"1\" class=\"dataframe\">\n",
       "  <thead>\n",
       "    <tr style=\"text-align: right;\">\n",
       "      <th></th>\n",
       "      <th>user</th>\n",
       "      <th>time</th>\n",
       "      <th>first_event</th>\n",
       "    </tr>\n",
       "  </thead>\n",
       "  <tbody>\n",
       "    <tr>\n",
       "      <td>0</td>\n",
       "      <td>0001b1d5-b74a-4cbf-aeb0-7df5947bf349</td>\n",
       "      <td>2019-10-07 13:39:45.989359</td>\n",
       "      <td>tips_show</td>\n",
       "    </tr>\n",
       "    <tr>\n",
       "      <td>1</td>\n",
       "      <td>00157779-810c-4498-9e05-a1e9e3cedf93</td>\n",
       "      <td>2019-10-19 21:34:33.849769</td>\n",
       "      <td>search_1</td>\n",
       "    </tr>\n",
       "    <tr>\n",
       "      <td>2</td>\n",
       "      <td>00463033-5717-4bf1-91b4-09183923b9df</td>\n",
       "      <td>2019-11-01 13:54:35.385028</td>\n",
       "      <td>photos_show</td>\n",
       "    </tr>\n",
       "    <tr>\n",
       "      <td>3</td>\n",
       "      <td>004690c3-5a84-4bb7-a8af-e0c8f8fca64e</td>\n",
       "      <td>2019-10-18 22:14:05.555052</td>\n",
       "      <td>search_7</td>\n",
       "    </tr>\n",
       "    <tr>\n",
       "      <td>4</td>\n",
       "      <td>00551e79-152e-4441-9cf7-565d7eb04090</td>\n",
       "      <td>2019-10-25 16:44:41.263364</td>\n",
       "      <td>contacts_show</td>\n",
       "    </tr>\n",
       "    <tr>\n",
       "      <td>...</td>\n",
       "      <td>...</td>\n",
       "      <td>...</td>\n",
       "      <td>...</td>\n",
       "    </tr>\n",
       "    <tr>\n",
       "      <td>4288</td>\n",
       "      <td>ffab8d8a-30bb-424a-a3ab-0b63ebbf7b07</td>\n",
       "      <td>2019-10-13 16:11:27.414960</td>\n",
       "      <td>map</td>\n",
       "    </tr>\n",
       "    <tr>\n",
       "      <td>4289</td>\n",
       "      <td>ffc01466-fdb1-4460-ae94-e800f52eb136</td>\n",
       "      <td>2019-10-07 20:32:49.997044</td>\n",
       "      <td>photos_show</td>\n",
       "    </tr>\n",
       "    <tr>\n",
       "      <td>4290</td>\n",
       "      <td>ffcf50d9-293c-4254-8243-4890b030b238</td>\n",
       "      <td>2019-10-23 11:51:35.199237</td>\n",
       "      <td>tips_show</td>\n",
       "    </tr>\n",
       "    <tr>\n",
       "      <td>4291</td>\n",
       "      <td>ffe68f10-e48e-470e-be9b-eeb93128ff1a</td>\n",
       "      <td>2019-10-21 16:39:33.867145</td>\n",
       "      <td>search_1</td>\n",
       "    </tr>\n",
       "    <tr>\n",
       "      <td>4292</td>\n",
       "      <td>fffb9e79-b927-4dbb-9b48-7fd09b23a62b</td>\n",
       "      <td>2019-10-12 00:57:21.241896</td>\n",
       "      <td>tips_show</td>\n",
       "    </tr>\n",
       "  </tbody>\n",
       "</table>\n",
       "<p>4293 rows × 3 columns</p>\n",
       "</div>"
      ],
      "text/plain": [
       "                                      user                       time  \\\n",
       "0     0001b1d5-b74a-4cbf-aeb0-7df5947bf349 2019-10-07 13:39:45.989359   \n",
       "1     00157779-810c-4498-9e05-a1e9e3cedf93 2019-10-19 21:34:33.849769   \n",
       "2     00463033-5717-4bf1-91b4-09183923b9df 2019-11-01 13:54:35.385028   \n",
       "3     004690c3-5a84-4bb7-a8af-e0c8f8fca64e 2019-10-18 22:14:05.555052   \n",
       "4     00551e79-152e-4441-9cf7-565d7eb04090 2019-10-25 16:44:41.263364   \n",
       "...                                    ...                        ...   \n",
       "4288  ffab8d8a-30bb-424a-a3ab-0b63ebbf7b07 2019-10-13 16:11:27.414960   \n",
       "4289  ffc01466-fdb1-4460-ae94-e800f52eb136 2019-10-07 20:32:49.997044   \n",
       "4290  ffcf50d9-293c-4254-8243-4890b030b238 2019-10-23 11:51:35.199237   \n",
       "4291  ffe68f10-e48e-470e-be9b-eeb93128ff1a 2019-10-21 16:39:33.867145   \n",
       "4292  fffb9e79-b927-4dbb-9b48-7fd09b23a62b 2019-10-12 00:57:21.241896   \n",
       "\n",
       "        first_event  \n",
       "0         tips_show  \n",
       "1          search_1  \n",
       "2       photos_show  \n",
       "3          search_7  \n",
       "4     contacts_show  \n",
       "...             ...  \n",
       "4288            map  \n",
       "4289    photos_show  \n",
       "4290      tips_show  \n",
       "4291       search_1  \n",
       "4292      tips_show  \n",
       "\n",
       "[4293 rows x 3 columns]"
      ]
     },
     "execution_count": 42,
     "metadata": {},
     "output_type": "execute_result"
    }
   ],
   "source": [
    "def event_min(row):\n",
    "    l = (df.loc[(df['user']==row['user']) & (df['time']==row['time']),'event']).values #.astype(str)\n",
    "#     print(l[0])\n",
    "    return l[0]\n",
    "    \n",
    "user_first_event['first_event'] = user_first_event.apply(event_min, axis=1)\n",
    "user_first_event"
   ]
  },
  {
   "cell_type": "markdown",
   "metadata": {},
   "source": [
    "***Как видим \"contacts_show\" совершали 981 пользователь, а всего пользователей 4293***\n",
    "\n",
    "***Присоеденим вторую таблицу к первой и найдём разницу во ремени***"
   ]
  },
  {
   "cell_type": "code",
   "execution_count": 43,
   "metadata": {},
   "outputs": [
    {
     "data": {
      "text/html": [
       "<div>\n",
       "<style scoped>\n",
       "    .dataframe tbody tr th:only-of-type {\n",
       "        vertical-align: middle;\n",
       "    }\n",
       "\n",
       "    .dataframe tbody tr th {\n",
       "        vertical-align: top;\n",
       "    }\n",
       "\n",
       "    .dataframe thead th {\n",
       "        text-align: right;\n",
       "    }\n",
       "</style>\n",
       "<table border=\"1\" class=\"dataframe\">\n",
       "  <thead>\n",
       "    <tr style=\"text-align: right;\">\n",
       "      <th></th>\n",
       "      <th>user</th>\n",
       "      <th>time_first_contacts_show</th>\n",
       "      <th>time_first_event</th>\n",
       "      <th>first_event</th>\n",
       "      <th>delta_time</th>\n",
       "    </tr>\n",
       "  </thead>\n",
       "  <tbody>\n",
       "    <tr>\n",
       "      <td>0</td>\n",
       "      <td>00157779-810c-4498-9e05-a1e9e3cedf93</td>\n",
       "      <td>2019-10-20 19:17:18.659799</td>\n",
       "      <td>2019-10-19 21:34:33.849769</td>\n",
       "      <td>search_1</td>\n",
       "      <td>0 days 21:42:44.810030</td>\n",
       "    </tr>\n",
       "    <tr>\n",
       "      <td>1</td>\n",
       "      <td>00551e79-152e-4441-9cf7-565d7eb04090</td>\n",
       "      <td>2019-10-25 16:44:41.263364</td>\n",
       "      <td>2019-10-25 16:44:41.263364</td>\n",
       "      <td>contacts_show</td>\n",
       "      <td>0 days 00:00:00</td>\n",
       "    </tr>\n",
       "    <tr>\n",
       "      <td>2</td>\n",
       "      <td>005fbea5-2678-406f-88a6-fbe9787e2268</td>\n",
       "      <td>2019-10-11 11:22:54.442841</td>\n",
       "      <td>2019-10-11 11:22:54.442841</td>\n",
       "      <td>contacts_show</td>\n",
       "      <td>0 days 00:00:00</td>\n",
       "    </tr>\n",
       "    <tr>\n",
       "      <td>3</td>\n",
       "      <td>00753c79-ea81-4456-acd0-a47a23ca2fb9</td>\n",
       "      <td>2019-10-20 14:57:06.080501</td>\n",
       "      <td>2019-10-20 14:57:06.080501</td>\n",
       "      <td>contacts_show</td>\n",
       "      <td>0 days 00:00:00</td>\n",
       "    </tr>\n",
       "    <tr>\n",
       "      <td>4</td>\n",
       "      <td>007d031d-5018-4e02-b7ee-72a30609173f</td>\n",
       "      <td>2019-10-22 13:08:09.140381</td>\n",
       "      <td>2019-10-22 13:02:26.636223</td>\n",
       "      <td>map</td>\n",
       "      <td>0 days 00:05:42.504158</td>\n",
       "    </tr>\n",
       "    <tr>\n",
       "      <td>...</td>\n",
       "      <td>...</td>\n",
       "      <td>...</td>\n",
       "      <td>...</td>\n",
       "      <td>...</td>\n",
       "      <td>...</td>\n",
       "    </tr>\n",
       "    <tr>\n",
       "      <td>976</td>\n",
       "      <td>fee3ba1c-16f4-46f7-bf56-4bf80cc4e2f5</td>\n",
       "      <td>2019-10-26 12:13:19.781554</td>\n",
       "      <td>2019-10-26 11:43:11.921954</td>\n",
       "      <td>search_4</td>\n",
       "      <td>0 days 00:30:07.859600</td>\n",
       "    </tr>\n",
       "    <tr>\n",
       "      <td>977</td>\n",
       "      <td>ff1554b5-919e-40b1-90bb-ee1f7f6d5846</td>\n",
       "      <td>2019-10-21 10:59:23.944891</td>\n",
       "      <td>2019-10-21 08:28:33.429234</td>\n",
       "      <td>photos_show</td>\n",
       "      <td>0 days 02:30:50.515657</td>\n",
       "    </tr>\n",
       "    <tr>\n",
       "      <td>978</td>\n",
       "      <td>ffc01466-fdb1-4460-ae94-e800f52eb136</td>\n",
       "      <td>2019-10-07 20:33:42.135500</td>\n",
       "      <td>2019-10-07 20:32:49.997044</td>\n",
       "      <td>photos_show</td>\n",
       "      <td>0 days 00:00:52.138456</td>\n",
       "    </tr>\n",
       "    <tr>\n",
       "      <td>979</td>\n",
       "      <td>ffe68f10-e48e-470e-be9b-eeb93128ff1a</td>\n",
       "      <td>2019-10-22 16:07:17.683553</td>\n",
       "      <td>2019-10-21 16:39:33.867145</td>\n",
       "      <td>search_1</td>\n",
       "      <td>0 days 23:27:43.816408</td>\n",
       "    </tr>\n",
       "    <tr>\n",
       "      <td>980</td>\n",
       "      <td>fffb9e79-b927-4dbb-9b48-7fd09b23a62b</td>\n",
       "      <td>2019-10-16 12:57:40.598641</td>\n",
       "      <td>2019-10-12 00:57:21.241896</td>\n",
       "      <td>tips_show</td>\n",
       "      <td>4 days 12:00:19.356745</td>\n",
       "    </tr>\n",
       "  </tbody>\n",
       "</table>\n",
       "<p>981 rows × 5 columns</p>\n",
       "</div>"
      ],
      "text/plain": [
       "                                     user   time_first_contacts_show  \\\n",
       "0    00157779-810c-4498-9e05-a1e9e3cedf93 2019-10-20 19:17:18.659799   \n",
       "1    00551e79-152e-4441-9cf7-565d7eb04090 2019-10-25 16:44:41.263364   \n",
       "2    005fbea5-2678-406f-88a6-fbe9787e2268 2019-10-11 11:22:54.442841   \n",
       "3    00753c79-ea81-4456-acd0-a47a23ca2fb9 2019-10-20 14:57:06.080501   \n",
       "4    007d031d-5018-4e02-b7ee-72a30609173f 2019-10-22 13:08:09.140381   \n",
       "..                                    ...                        ...   \n",
       "976  fee3ba1c-16f4-46f7-bf56-4bf80cc4e2f5 2019-10-26 12:13:19.781554   \n",
       "977  ff1554b5-919e-40b1-90bb-ee1f7f6d5846 2019-10-21 10:59:23.944891   \n",
       "978  ffc01466-fdb1-4460-ae94-e800f52eb136 2019-10-07 20:33:42.135500   \n",
       "979  ffe68f10-e48e-470e-be9b-eeb93128ff1a 2019-10-22 16:07:17.683553   \n",
       "980  fffb9e79-b927-4dbb-9b48-7fd09b23a62b 2019-10-16 12:57:40.598641   \n",
       "\n",
       "              time_first_event    first_event             delta_time  \n",
       "0   2019-10-19 21:34:33.849769       search_1 0 days 21:42:44.810030  \n",
       "1   2019-10-25 16:44:41.263364  contacts_show        0 days 00:00:00  \n",
       "2   2019-10-11 11:22:54.442841  contacts_show        0 days 00:00:00  \n",
       "3   2019-10-20 14:57:06.080501  contacts_show        0 days 00:00:00  \n",
       "4   2019-10-22 13:02:26.636223            map 0 days 00:05:42.504158  \n",
       "..                         ...            ...                    ...  \n",
       "976 2019-10-26 11:43:11.921954       search_4 0 days 00:30:07.859600  \n",
       "977 2019-10-21 08:28:33.429234    photos_show 0 days 02:30:50.515657  \n",
       "978 2019-10-07 20:32:49.997044    photos_show 0 days 00:00:52.138456  \n",
       "979 2019-10-21 16:39:33.867145       search_1 0 days 23:27:43.816408  \n",
       "980 2019-10-12 00:57:21.241896      tips_show 4 days 12:00:19.356745  \n",
       "\n",
       "[981 rows x 5 columns]"
      ]
     },
     "execution_count": 43,
     "metadata": {},
     "output_type": "execute_result"
    }
   ],
   "source": [
    "target = user_first_contacts_show.merge(user_first_event, on='user', how='left')\n",
    "target.columns = ['user', 'time_first_contacts_show', 'time_first_event', 'first_event']\n",
    "target['delta_time'] = target['time_first_contacts_show'] - target['time_first_event']\n",
    "target"
   ]
  },
  {
   "cell_type": "code",
   "execution_count": 44,
   "metadata": {
    "scrolled": false
   },
   "outputs": [
    {
     "data": {
      "text/html": [
       "<div>\n",
       "<style scoped>\n",
       "    .dataframe tbody tr th:only-of-type {\n",
       "        vertical-align: middle;\n",
       "    }\n",
       "\n",
       "    .dataframe tbody tr th {\n",
       "        vertical-align: top;\n",
       "    }\n",
       "\n",
       "    .dataframe thead th {\n",
       "        text-align: right;\n",
       "    }\n",
       "</style>\n",
       "<table border=\"1\" class=\"dataframe\">\n",
       "  <thead>\n",
       "    <tr style=\"text-align: right;\">\n",
       "      <th></th>\n",
       "      <th>user</th>\n",
       "      <th>time_first_contacts_show</th>\n",
       "      <th>time_first_event</th>\n",
       "      <th>first_event</th>\n",
       "      <th>delta_time</th>\n",
       "    </tr>\n",
       "  </thead>\n",
       "  <tbody>\n",
       "    <tr>\n",
       "      <td>302</td>\n",
       "      <td>4e62e09e-ef99-4c52-b8f6-ec50b42f6d56</td>\n",
       "      <td>2019-10-16 12:53:01.602333</td>\n",
       "      <td>2019-10-16 12:53:01.602333</td>\n",
       "      <td>contacts_show</td>\n",
       "      <td>0 days 00:00:00</td>\n",
       "    </tr>\n",
       "    <tr>\n",
       "      <td>480</td>\n",
       "      <td>7f38ea5d-ad7c-4e8a-b1e1-c63da89a4c4c</td>\n",
       "      <td>2019-10-16 17:07:15.556563</td>\n",
       "      <td>2019-10-16 17:07:15.556563</td>\n",
       "      <td>contacts_show</td>\n",
       "      <td>0 days 00:00:00</td>\n",
       "    </tr>\n",
       "    <tr>\n",
       "      <td>198</td>\n",
       "      <td>2fb6515e-a902-4329-8080-749bcf4f8053</td>\n",
       "      <td>2019-10-31 00:35:18.082028</td>\n",
       "      <td>2019-10-31 00:35:18.082028</td>\n",
       "      <td>contacts_show</td>\n",
       "      <td>0 days 00:00:00</td>\n",
       "    </tr>\n",
       "    <tr>\n",
       "      <td>200</td>\n",
       "      <td>30a6b55e-a72a-40bc-bbb9-7cc28a2e0b3e</td>\n",
       "      <td>2019-10-11 14:03:59.819208</td>\n",
       "      <td>2019-10-11 14:03:59.819208</td>\n",
       "      <td>contacts_show</td>\n",
       "      <td>0 days 00:00:00</td>\n",
       "    </tr>\n",
       "    <tr>\n",
       "      <td>474</td>\n",
       "      <td>7cc38f4c-7d5e-4dd4-a246-ef1ee2187da5</td>\n",
       "      <td>2019-10-19 15:18:30.743570</td>\n",
       "      <td>2019-10-19 15:18:30.743570</td>\n",
       "      <td>contacts_show</td>\n",
       "      <td>0 days 00:00:00</td>\n",
       "    </tr>\n",
       "    <tr>\n",
       "      <td>...</td>\n",
       "      <td>...</td>\n",
       "      <td>...</td>\n",
       "      <td>...</td>\n",
       "      <td>...</td>\n",
       "      <td>...</td>\n",
       "    </tr>\n",
       "    <tr>\n",
       "      <td>737</td>\n",
       "      <td>c21daf1f-e787-4a5c-9d92-62cd3dafc9b3</td>\n",
       "      <td>2019-10-25 15:38:49.696340</td>\n",
       "      <td>2019-10-07 14:32:55.398091</td>\n",
       "      <td>photos_show</td>\n",
       "      <td>18 days 01:05:54.298249</td>\n",
       "    </tr>\n",
       "    <tr>\n",
       "      <td>958</td>\n",
       "      <td>f9c19253-73e7-4b9e-9630-45353a792248</td>\n",
       "      <td>2019-11-03 11:39:32.218473</td>\n",
       "      <td>2019-10-14 09:09:14.282327</td>\n",
       "      <td>photos_show</td>\n",
       "      <td>20 days 02:30:17.936146</td>\n",
       "    </tr>\n",
       "    <tr>\n",
       "      <td>455</td>\n",
       "      <td>771c9e69-4c82-4e02-a862-d56b40a29838</td>\n",
       "      <td>2019-11-02 18:03:57.471081</td>\n",
       "      <td>2019-10-11 12:25:56.046262</td>\n",
       "      <td>photos_show</td>\n",
       "      <td>22 days 05:38:01.424819</td>\n",
       "    </tr>\n",
       "    <tr>\n",
       "      <td>782</td>\n",
       "      <td>cbfbc3ed-2ca7-468e-9d1e-3c321f35dcc9</td>\n",
       "      <td>2019-11-03 22:38:17.561256</td>\n",
       "      <td>2019-10-12 16:18:29.111366</td>\n",
       "      <td>search_1</td>\n",
       "      <td>22 days 06:19:48.449890</td>\n",
       "    </tr>\n",
       "    <tr>\n",
       "      <td>41</td>\n",
       "      <td>08ff0fce-e12b-4f7e-8680-34e105f7f537</td>\n",
       "      <td>2019-11-03 13:34:38.950700</td>\n",
       "      <td>2019-10-11 09:14:00.382039</td>\n",
       "      <td>photos_show</td>\n",
       "      <td>23 days 04:20:38.568661</td>\n",
       "    </tr>\n",
       "  </tbody>\n",
       "</table>\n",
       "<p>981 rows × 5 columns</p>\n",
       "</div>"
      ],
      "text/plain": [
       "                                     user   time_first_contacts_show  \\\n",
       "302  4e62e09e-ef99-4c52-b8f6-ec50b42f6d56 2019-10-16 12:53:01.602333   \n",
       "480  7f38ea5d-ad7c-4e8a-b1e1-c63da89a4c4c 2019-10-16 17:07:15.556563   \n",
       "198  2fb6515e-a902-4329-8080-749bcf4f8053 2019-10-31 00:35:18.082028   \n",
       "200  30a6b55e-a72a-40bc-bbb9-7cc28a2e0b3e 2019-10-11 14:03:59.819208   \n",
       "474  7cc38f4c-7d5e-4dd4-a246-ef1ee2187da5 2019-10-19 15:18:30.743570   \n",
       "..                                    ...                        ...   \n",
       "737  c21daf1f-e787-4a5c-9d92-62cd3dafc9b3 2019-10-25 15:38:49.696340   \n",
       "958  f9c19253-73e7-4b9e-9630-45353a792248 2019-11-03 11:39:32.218473   \n",
       "455  771c9e69-4c82-4e02-a862-d56b40a29838 2019-11-02 18:03:57.471081   \n",
       "782  cbfbc3ed-2ca7-468e-9d1e-3c321f35dcc9 2019-11-03 22:38:17.561256   \n",
       "41   08ff0fce-e12b-4f7e-8680-34e105f7f537 2019-11-03 13:34:38.950700   \n",
       "\n",
       "              time_first_event    first_event              delta_time  \n",
       "302 2019-10-16 12:53:01.602333  contacts_show         0 days 00:00:00  \n",
       "480 2019-10-16 17:07:15.556563  contacts_show         0 days 00:00:00  \n",
       "198 2019-10-31 00:35:18.082028  contacts_show         0 days 00:00:00  \n",
       "200 2019-10-11 14:03:59.819208  contacts_show         0 days 00:00:00  \n",
       "474 2019-10-19 15:18:30.743570  contacts_show         0 days 00:00:00  \n",
       "..                         ...            ...                     ...  \n",
       "737 2019-10-07 14:32:55.398091    photos_show 18 days 01:05:54.298249  \n",
       "958 2019-10-14 09:09:14.282327    photos_show 20 days 02:30:17.936146  \n",
       "455 2019-10-11 12:25:56.046262    photos_show 22 days 05:38:01.424819  \n",
       "782 2019-10-12 16:18:29.111366       search_1 22 days 06:19:48.449890  \n",
       "41  2019-10-11 09:14:00.382039    photos_show 23 days 04:20:38.568661  \n",
       "\n",
       "[981 rows x 5 columns]"
      ]
     },
     "execution_count": 44,
     "metadata": {},
     "output_type": "execute_result"
    }
   ],
   "source": [
    "target.sort_values(by='delta_time')"
   ]
  },
  {
   "cell_type": "markdown",
   "metadata": {},
   "source": [
    "**Проверим все ли события явдяются \"contacts_show\" там где \"delta_time\" = \"0 days 00:00:00\"**"
   ]
  },
  {
   "cell_type": "code",
   "execution_count": 45,
   "metadata": {},
   "outputs": [
    {
     "data": {
      "text/plain": [
       "contacts_show    179\n",
       "Name: first_event, dtype: int64"
      ]
     },
     "execution_count": 45,
     "metadata": {},
     "output_type": "execute_result"
    }
   ],
   "source": [
    "target.query('delta_time ==\"0 days 00:00:00\"')['first_event'].value_counts()"
   ]
  },
  {
   "cell_type": "markdown",
   "metadata": {},
   "source": [
    "***Да, являются***\n",
    "\n",
    "***Из таблицы и проверки видно, что есть пользователи у которых \"delta_time\" равно 0. Это значит первым событием было \"contacts_show\". Возможно это произошло из-за того, что у нас срез данных и первое своё действие (когда и какое мы не узнаем) пользователь совершил за пределами (раньше) предоставленной нам информации (чтобы дойти до целевого события пользователь должен совершить перед ним хотя бы еще одно действие - так по условию). Поэтому, чтобы не искажать средний результат надо этих пользователей отбросить, даже не смотря на довольно большую относительную цифру - это больше 18% от всех \"contacts_show\"***"
   ]
  },
  {
   "cell_type": "code",
   "execution_count": 46,
   "metadata": {
    "scrolled": false
   },
   "outputs": [
    {
     "data": {
      "text/html": [
       "<div>\n",
       "<style scoped>\n",
       "    .dataframe tbody tr th:only-of-type {\n",
       "        vertical-align: middle;\n",
       "    }\n",
       "\n",
       "    .dataframe tbody tr th {\n",
       "        vertical-align: top;\n",
       "    }\n",
       "\n",
       "    .dataframe thead th {\n",
       "        text-align: right;\n",
       "    }\n",
       "</style>\n",
       "<table border=\"1\" class=\"dataframe\">\n",
       "  <thead>\n",
       "    <tr style=\"text-align: right;\">\n",
       "      <th></th>\n",
       "      <th>user</th>\n",
       "      <th>time_first_contacts_show</th>\n",
       "      <th>time_first_event</th>\n",
       "      <th>first_event</th>\n",
       "      <th>delta_time</th>\n",
       "    </tr>\n",
       "  </thead>\n",
       "  <tbody>\n",
       "    <tr>\n",
       "      <td>0</td>\n",
       "      <td>00157779-810c-4498-9e05-a1e9e3cedf93</td>\n",
       "      <td>2019-10-20 19:17:18.659799</td>\n",
       "      <td>2019-10-19 21:34:33.849769</td>\n",
       "      <td>search_1</td>\n",
       "      <td>0 days 21:42:44.810030</td>\n",
       "    </tr>\n",
       "    <tr>\n",
       "      <td>1</td>\n",
       "      <td>007d031d-5018-4e02-b7ee-72a30609173f</td>\n",
       "      <td>2019-10-22 13:08:09.140381</td>\n",
       "      <td>2019-10-22 13:02:26.636223</td>\n",
       "      <td>map</td>\n",
       "      <td>0 days 00:05:42.504158</td>\n",
       "    </tr>\n",
       "    <tr>\n",
       "      <td>2</td>\n",
       "      <td>0103a07d-513f-42b9-8d91-d5891d5655fe</td>\n",
       "      <td>2019-11-03 18:50:04.133976</td>\n",
       "      <td>2019-11-03 18:42:59.275533</td>\n",
       "      <td>tips_show</td>\n",
       "      <td>0 days 00:07:04.858443</td>\n",
       "    </tr>\n",
       "    <tr>\n",
       "      <td>3</td>\n",
       "      <td>01556e76-d389-43bd-9fc7-1a3ba9802f49</td>\n",
       "      <td>2019-10-10 16:09:38.534928</td>\n",
       "      <td>2019-10-10 16:09:12.170942</td>\n",
       "      <td>photos_show</td>\n",
       "      <td>0 days 00:00:26.363986</td>\n",
       "    </tr>\n",
       "    <tr>\n",
       "      <td>4</td>\n",
       "      <td>01585246-7d9b-4e03-a465-095d5b891b0a</td>\n",
       "      <td>2019-10-17 16:21:56.290598</td>\n",
       "      <td>2019-10-17 16:20:58.368137</td>\n",
       "      <td>search_1</td>\n",
       "      <td>0 days 00:00:57.922461</td>\n",
       "    </tr>\n",
       "    <tr>\n",
       "      <td>...</td>\n",
       "      <td>...</td>\n",
       "      <td>...</td>\n",
       "      <td>...</td>\n",
       "      <td>...</td>\n",
       "      <td>...</td>\n",
       "    </tr>\n",
       "    <tr>\n",
       "      <td>797</td>\n",
       "      <td>fee3ba1c-16f4-46f7-bf56-4bf80cc4e2f5</td>\n",
       "      <td>2019-10-26 12:13:19.781554</td>\n",
       "      <td>2019-10-26 11:43:11.921954</td>\n",
       "      <td>search_4</td>\n",
       "      <td>0 days 00:30:07.859600</td>\n",
       "    </tr>\n",
       "    <tr>\n",
       "      <td>798</td>\n",
       "      <td>ff1554b5-919e-40b1-90bb-ee1f7f6d5846</td>\n",
       "      <td>2019-10-21 10:59:23.944891</td>\n",
       "      <td>2019-10-21 08:28:33.429234</td>\n",
       "      <td>photos_show</td>\n",
       "      <td>0 days 02:30:50.515657</td>\n",
       "    </tr>\n",
       "    <tr>\n",
       "      <td>799</td>\n",
       "      <td>ffc01466-fdb1-4460-ae94-e800f52eb136</td>\n",
       "      <td>2019-10-07 20:33:42.135500</td>\n",
       "      <td>2019-10-07 20:32:49.997044</td>\n",
       "      <td>photos_show</td>\n",
       "      <td>0 days 00:00:52.138456</td>\n",
       "    </tr>\n",
       "    <tr>\n",
       "      <td>800</td>\n",
       "      <td>ffe68f10-e48e-470e-be9b-eeb93128ff1a</td>\n",
       "      <td>2019-10-22 16:07:17.683553</td>\n",
       "      <td>2019-10-21 16:39:33.867145</td>\n",
       "      <td>search_1</td>\n",
       "      <td>0 days 23:27:43.816408</td>\n",
       "    </tr>\n",
       "    <tr>\n",
       "      <td>801</td>\n",
       "      <td>fffb9e79-b927-4dbb-9b48-7fd09b23a62b</td>\n",
       "      <td>2019-10-16 12:57:40.598641</td>\n",
       "      <td>2019-10-12 00:57:21.241896</td>\n",
       "      <td>tips_show</td>\n",
       "      <td>4 days 12:00:19.356745</td>\n",
       "    </tr>\n",
       "  </tbody>\n",
       "</table>\n",
       "<p>802 rows × 5 columns</p>\n",
       "</div>"
      ],
      "text/plain": [
       "                                     user   time_first_contacts_show  \\\n",
       "0    00157779-810c-4498-9e05-a1e9e3cedf93 2019-10-20 19:17:18.659799   \n",
       "1    007d031d-5018-4e02-b7ee-72a30609173f 2019-10-22 13:08:09.140381   \n",
       "2    0103a07d-513f-42b9-8d91-d5891d5655fe 2019-11-03 18:50:04.133976   \n",
       "3    01556e76-d389-43bd-9fc7-1a3ba9802f49 2019-10-10 16:09:38.534928   \n",
       "4    01585246-7d9b-4e03-a465-095d5b891b0a 2019-10-17 16:21:56.290598   \n",
       "..                                    ...                        ...   \n",
       "797  fee3ba1c-16f4-46f7-bf56-4bf80cc4e2f5 2019-10-26 12:13:19.781554   \n",
       "798  ff1554b5-919e-40b1-90bb-ee1f7f6d5846 2019-10-21 10:59:23.944891   \n",
       "799  ffc01466-fdb1-4460-ae94-e800f52eb136 2019-10-07 20:33:42.135500   \n",
       "800  ffe68f10-e48e-470e-be9b-eeb93128ff1a 2019-10-22 16:07:17.683553   \n",
       "801  fffb9e79-b927-4dbb-9b48-7fd09b23a62b 2019-10-16 12:57:40.598641   \n",
       "\n",
       "              time_first_event  first_event             delta_time  \n",
       "0   2019-10-19 21:34:33.849769     search_1 0 days 21:42:44.810030  \n",
       "1   2019-10-22 13:02:26.636223          map 0 days 00:05:42.504158  \n",
       "2   2019-11-03 18:42:59.275533    tips_show 0 days 00:07:04.858443  \n",
       "3   2019-10-10 16:09:12.170942  photos_show 0 days 00:00:26.363986  \n",
       "4   2019-10-17 16:20:58.368137     search_1 0 days 00:00:57.922461  \n",
       "..                         ...          ...                    ...  \n",
       "797 2019-10-26 11:43:11.921954     search_4 0 days 00:30:07.859600  \n",
       "798 2019-10-21 08:28:33.429234  photos_show 0 days 02:30:50.515657  \n",
       "799 2019-10-07 20:32:49.997044  photos_show 0 days 00:00:52.138456  \n",
       "800 2019-10-21 16:39:33.867145     search_1 0 days 23:27:43.816408  \n",
       "801 2019-10-12 00:57:21.241896    tips_show 4 days 12:00:19.356745  \n",
       "\n",
       "[802 rows x 5 columns]"
      ]
     },
     "execution_count": 46,
     "metadata": {},
     "output_type": "execute_result"
    }
   ],
   "source": [
    "target = target.query('delta_time !=\"0 days 00:00:00\"').reset_index(drop=True)\n",
    "target"
   ]
  },
  {
   "cell_type": "markdown",
   "metadata": {},
   "source": [
    "**Таких пользователей оказалось 179 человек**"
   ]
  },
  {
   "cell_type": "code",
   "execution_count": 47,
   "metadata": {},
   "outputs": [
    {
     "name": "stdout",
     "output_type": "stream",
     "text": [
      "Среднее время = 1 days 12:00:42.995622 \n",
      "Медианное время = 0 days 00:22:53.561807\n"
     ]
    }
   ],
   "source": [
    "print(f\"Среднее время = {target['delta_time'].mean()} \\nМедианное время = {target['delta_time'].median()}\")\n"
   ]
  },
  {
   "cell_type": "code",
   "execution_count": 48,
   "metadata": {},
   "outputs": [
    {
     "data": {
      "text/plain": [
       "count                        802\n",
       "mean      1 days 12:00:42.995622\n",
       "std       3 days 10:16:12.825009\n",
       "min       0 days 00:00:07.509672\n",
       "25%       0 days 00:04:42.432411\n",
       "50%       0 days 00:22:53.561807\n",
       "75%       0 days 23:21:04.663852\n",
       "max      23 days 04:20:38.568661\n",
       "Name: delta_time, dtype: object"
      ]
     },
     "execution_count": 48,
     "metadata": {},
     "output_type": "execute_result"
    }
   ],
   "source": [
    "target['delta_time'].describe()"
   ]
  },
  {
   "cell_type": "markdown",
   "metadata": {},
   "source": [
    "***Да, уж! Слишком большая разница между средним и медианой. Посмотрим распределение времени на гистограмме***\n",
    "\n",
    "**Чтобы построить гистограмму переведем время в секунды и разделим на 60 (будет время в минутах).**"
   ]
  },
  {
   "cell_type": "code",
   "execution_count": 49,
   "metadata": {},
   "outputs": [
    {
     "data": {
      "text/plain": [
       "0      1302.7\n",
       "1         5.7\n",
       "2         7.1\n",
       "3         0.4\n",
       "4         1.0\n",
       "        ...  \n",
       "797      30.1\n",
       "798     150.8\n",
       "799       0.9\n",
       "800    1407.7\n",
       "801    6480.3\n",
       "Name: delta_time, Length: 802, dtype: float64"
      ]
     },
     "execution_count": 49,
     "metadata": {},
     "output_type": "execute_result"
    }
   ],
   "source": [
    "delta_minutes = round(target['delta_time'].dt.total_seconds()/60, 1)\n",
    "delta_minutes"
   ]
  },
  {
   "cell_type": "code",
   "execution_count": 50,
   "metadata": {
    "scrolled": false
   },
   "outputs": [
    {
     "data": {
      "image/png": "[encoded data removed]",
      "text/plain": [
       "<Figure size 792x216 with 1 Axes>"
      ]
     },
     "metadata": {
      "needs_background": "light"
     },
     "output_type": "display_data"
    },
    {
     "data": {
      "image/png": "[encoded data removed]",
      "text/plain": [
       "<Figure size 792x216 with 1 Axes>"
      ]
     },
     "metadata": {
      "needs_background": "light"
     },
     "output_type": "display_data"
    },
    {
     "data": {
      "image/png": "[encoded data removed]",
      "text/plain": [
       "<Figure size 216x576 with 1 Axes>"
      ]
     },
     "metadata": {
      "needs_background": "light"
     },
     "output_type": "display_data"
    }
   ],
   "source": [
    "delta_minutes.hist(figsize=(11,3),bins=60)\n",
    "plt.title('Распределение времени по кол-ву пользователей')\n",
    "plt.ylabel('Кол-во пользователей')\n",
    "plt.xlabel('Время, мин');\n",
    "plt.show()\n",
    "delta_minutes.hist(figsize=(11,3),bins=60, range=(0,500));\n",
    "plt.title('Распределение времени по кол-ву пользователей')\n",
    "plt.ylabel('Кол-во пользователей')\n",
    "plt.xlabel('Время, мин');\n",
    "plt.show()\n",
    "plt.figure(figsize=(3,8))\n",
    "plt.title('Распределение и выбросы')\n",
    "plt.ylabel('Время, мин');\n",
    "plt.boxplot(delta_minutes)\n",
    "plt.ylim(0,5000);"
   ]
  },
  {
   "cell_type": "code",
   "execution_count": 51,
   "metadata": {},
   "outputs": [
    {
     "name": "stdout",
     "output_type": "stream",
     "text": [
      "5-й процентиль = 0.7 минут\n",
      "10-й процентиль = 1.3 минут\n",
      "15-й процентиль = 2.1 минут\n",
      "20-й процентиль = 3.3 минут\n",
      "25-й процентиль = 4.7 минут\n",
      "30-й процентиль = 6.1 минут\n",
      "35-й процентиль = 8.5 минут\n",
      "40-й процентиль = 11.1 минут\n",
      "45-й процентиль = 15.4 минут\n",
      "50-й процентиль = 22.8 минут\n",
      "55-й процентиль = 36.3 минут\n",
      "60-й процентиль = 70.4 минут\n",
      "65-й процентиль = 169.0 минут\n",
      "70-й процентиль = 719.8 минут\n",
      "75-й процентиль = 1401.0 минут\n",
      "80-й процентиль = 2730.2 минут\n",
      "85-й процентиль = 4584.2 минут\n",
      "90-й процентиль = 7754.2 минут\n",
      "95-й процентиль = 13200.8 минут\n"
     ]
    }
   ],
   "source": [
    "for perc in range(5,100,5):\n",
    "    print(f\"{perc}-й процентиль = {round(np.percentile(delta_minutes, perc),1)} минут\")"
   ]
  },
  {
   "cell_type": "markdown",
   "metadata": {},
   "source": [
    "***Вывод: Учитывая усредненные,гистограммы, boxplot и процентили, - конкретное значение усредненного показателя времени от первого события до целевого сложно определить, так как время довольно \"плавно\" возрастает от нескольких секунд до 23 дней. Можно выделить 65-й процентиль = 169.0 минут, после него идет довольно резкий рост времени - 75-й процентиль = 1401.0 минут (это рост в 4 раза). Время же рационально было бы определять диапазоном от 5 минут до суток (1400 минут), как ориентир брать 170 минут.***"
   ]
  },
  {
   "cell_type": "markdown",
   "metadata": {},
   "source": [
    "**Подсчитаем время, которое пользователи проводят в приложении. Так как данных по началу и концу сессии нет, будем считать промежуток между первым и последним событием, но за исключением тех случаев где промежуток равен нулю.**"
   ]
  },
  {
   "cell_type": "code",
   "execution_count": 52,
   "metadata": {},
   "outputs": [
    {
     "data": {
      "text/html": [
       "<div>\n",
       "<style scoped>\n",
       "    .dataframe tbody tr th:only-of-type {\n",
       "        vertical-align: middle;\n",
       "    }\n",
       "\n",
       "    .dataframe tbody tr th {\n",
       "        vertical-align: top;\n",
       "    }\n",
       "\n",
       "    .dataframe thead th {\n",
       "        text-align: right;\n",
       "    }\n",
       "</style>\n",
       "<table border=\"1\" class=\"dataframe\">\n",
       "  <thead>\n",
       "    <tr style=\"text-align: right;\">\n",
       "      <th></th>\n",
       "      <th>user</th>\n",
       "      <th>first_time</th>\n",
       "      <th>last_time</th>\n",
       "    </tr>\n",
       "  </thead>\n",
       "  <tbody>\n",
       "    <tr>\n",
       "      <td>0</td>\n",
       "      <td>0001b1d5-b74a-4cbf-aeb0-7df5947bf349</td>\n",
       "      <td>2019-10-07 13:39:45.989359</td>\n",
       "      <td>2019-10-22 11:30:52.807203</td>\n",
       "    </tr>\n",
       "    <tr>\n",
       "      <td>1</td>\n",
       "      <td>00157779-810c-4498-9e05-a1e9e3cedf93</td>\n",
       "      <td>2019-10-19 21:34:33.849769</td>\n",
       "      <td>2019-11-03 17:12:09.708771</td>\n",
       "    </tr>\n",
       "    <tr>\n",
       "      <td>2</td>\n",
       "      <td>00463033-5717-4bf1-91b4-09183923b9df</td>\n",
       "      <td>2019-11-01 13:54:35.385028</td>\n",
       "      <td>2019-11-01 14:19:17.860053</td>\n",
       "    </tr>\n",
       "    <tr>\n",
       "      <td>3</td>\n",
       "      <td>004690c3-5a84-4bb7-a8af-e0c8f8fca64e</td>\n",
       "      <td>2019-10-18 22:14:05.555052</td>\n",
       "      <td>2019-10-31 21:42:15.606558</td>\n",
       "    </tr>\n",
       "    <tr>\n",
       "      <td>4</td>\n",
       "      <td>00551e79-152e-4441-9cf7-565d7eb04090</td>\n",
       "      <td>2019-10-25 16:44:41.263364</td>\n",
       "      <td>2019-10-29 02:17:12.342406</td>\n",
       "    </tr>\n",
       "    <tr>\n",
       "      <td>...</td>\n",
       "      <td>...</td>\n",
       "      <td>...</td>\n",
       "      <td>...</td>\n",
       "    </tr>\n",
       "    <tr>\n",
       "      <td>4288</td>\n",
       "      <td>ffab8d8a-30bb-424a-a3ab-0b63ebbf7b07</td>\n",
       "      <td>2019-10-13 16:11:27.414960</td>\n",
       "      <td>2019-10-26 19:53:51.993545</td>\n",
       "    </tr>\n",
       "    <tr>\n",
       "      <td>4289</td>\n",
       "      <td>ffc01466-fdb1-4460-ae94-e800f52eb136</td>\n",
       "      <td>2019-10-07 20:32:49.997044</td>\n",
       "      <td>2019-10-07 20:33:42.135500</td>\n",
       "    </tr>\n",
       "    <tr>\n",
       "      <td>4290</td>\n",
       "      <td>ffcf50d9-293c-4254-8243-4890b030b238</td>\n",
       "      <td>2019-10-23 11:51:35.199237</td>\n",
       "      <td>2019-10-23 11:52:55.577369</td>\n",
       "    </tr>\n",
       "    <tr>\n",
       "      <td>4291</td>\n",
       "      <td>ffe68f10-e48e-470e-be9b-eeb93128ff1a</td>\n",
       "      <td>2019-10-21 16:39:33.867145</td>\n",
       "      <td>2019-10-28 07:17:52.646652</td>\n",
       "    </tr>\n",
       "    <tr>\n",
       "      <td>4292</td>\n",
       "      <td>fffb9e79-b927-4dbb-9b48-7fd09b23a62b</td>\n",
       "      <td>2019-10-12 00:57:21.241896</td>\n",
       "      <td>2019-11-03 16:08:25.388712</td>\n",
       "    </tr>\n",
       "  </tbody>\n",
       "</table>\n",
       "<p>4293 rows × 3 columns</p>\n",
       "</div>"
      ],
      "text/plain": [
       "                                      user                 first_time  \\\n",
       "0     0001b1d5-b74a-4cbf-aeb0-7df5947bf349 2019-10-07 13:39:45.989359   \n",
       "1     00157779-810c-4498-9e05-a1e9e3cedf93 2019-10-19 21:34:33.849769   \n",
       "2     00463033-5717-4bf1-91b4-09183923b9df 2019-11-01 13:54:35.385028   \n",
       "3     004690c3-5a84-4bb7-a8af-e0c8f8fca64e 2019-10-18 22:14:05.555052   \n",
       "4     00551e79-152e-4441-9cf7-565d7eb04090 2019-10-25 16:44:41.263364   \n",
       "...                                    ...                        ...   \n",
       "4288  ffab8d8a-30bb-424a-a3ab-0b63ebbf7b07 2019-10-13 16:11:27.414960   \n",
       "4289  ffc01466-fdb1-4460-ae94-e800f52eb136 2019-10-07 20:32:49.997044   \n",
       "4290  ffcf50d9-293c-4254-8243-4890b030b238 2019-10-23 11:51:35.199237   \n",
       "4291  ffe68f10-e48e-470e-be9b-eeb93128ff1a 2019-10-21 16:39:33.867145   \n",
       "4292  fffb9e79-b927-4dbb-9b48-7fd09b23a62b 2019-10-12 00:57:21.241896   \n",
       "\n",
       "                      last_time  \n",
       "0    2019-10-22 11:30:52.807203  \n",
       "1    2019-11-03 17:12:09.708771  \n",
       "2    2019-11-01 14:19:17.860053  \n",
       "3    2019-10-31 21:42:15.606558  \n",
       "4    2019-10-29 02:17:12.342406  \n",
       "...                         ...  \n",
       "4288 2019-10-26 19:53:51.993545  \n",
       "4289 2019-10-07 20:33:42.135500  \n",
       "4290 2019-10-23 11:52:55.577369  \n",
       "4291 2019-10-28 07:17:52.646652  \n",
       "4292 2019-11-03 16:08:25.388712  \n",
       "\n",
       "[4293 rows x 3 columns]"
      ]
     },
     "execution_count": 52,
     "metadata": {},
     "output_type": "execute_result"
    }
   ],
   "source": [
    "first_time = df.groupby('user').agg({'time':'min'})\n",
    "last_time = df.groupby('user').agg({'time':'max'})\n",
    "all_time = first_time.merge(last_time, on='user', how='outer').reset_index()\n",
    "all_time.columns = ['user', 'first_time', 'last_time']\n",
    "all_time"
   ]
  },
  {
   "cell_type": "markdown",
   "metadata": {},
   "source": [
    "**Проверим не появились ли случайно пропуски**"
   ]
  },
  {
   "cell_type": "code",
   "execution_count": 53,
   "metadata": {
    "scrolled": true
   },
   "outputs": [
    {
     "data": {
      "text/plain": [
       "user          0\n",
       "first_time    0\n",
       "last_time     0\n",
       "dtype: int64"
      ]
     },
     "execution_count": 53,
     "metadata": {},
     "output_type": "execute_result"
    }
   ],
   "source": [
    "all_time.isna().sum()"
   ]
  },
  {
   "cell_type": "markdown",
   "metadata": {},
   "source": [
    "***Пропусков нет***"
   ]
  },
  {
   "cell_type": "code",
   "execution_count": 54,
   "metadata": {
    "scrolled": false
   },
   "outputs": [
    {
     "data": {
      "text/html": [
       "<div>\n",
       "<style scoped>\n",
       "    .dataframe tbody tr th:only-of-type {\n",
       "        vertical-align: middle;\n",
       "    }\n",
       "\n",
       "    .dataframe tbody tr th {\n",
       "        vertical-align: top;\n",
       "    }\n",
       "\n",
       "    .dataframe thead th {\n",
       "        text-align: right;\n",
       "    }\n",
       "</style>\n",
       "<table border=\"1\" class=\"dataframe\">\n",
       "  <thead>\n",
       "    <tr style=\"text-align: right;\">\n",
       "      <th></th>\n",
       "      <th>user</th>\n",
       "      <th>first_time</th>\n",
       "      <th>last_time</th>\n",
       "      <th>delta</th>\n",
       "    </tr>\n",
       "  </thead>\n",
       "  <tbody>\n",
       "    <tr>\n",
       "      <td>0</td>\n",
       "      <td>0001b1d5-b74a-4cbf-aeb0-7df5947bf349</td>\n",
       "      <td>2019-10-07 13:39:45.989359</td>\n",
       "      <td>2019-10-22 11:30:52.807203</td>\n",
       "      <td>14 days 21:51:06.817844</td>\n",
       "    </tr>\n",
       "    <tr>\n",
       "      <td>1</td>\n",
       "      <td>00157779-810c-4498-9e05-a1e9e3cedf93</td>\n",
       "      <td>2019-10-19 21:34:33.849769</td>\n",
       "      <td>2019-11-03 17:12:09.708771</td>\n",
       "      <td>14 days 19:37:35.859002</td>\n",
       "    </tr>\n",
       "    <tr>\n",
       "      <td>2</td>\n",
       "      <td>00463033-5717-4bf1-91b4-09183923b9df</td>\n",
       "      <td>2019-11-01 13:54:35.385028</td>\n",
       "      <td>2019-11-01 14:19:17.860053</td>\n",
       "      <td>0 days 00:24:42.475025</td>\n",
       "    </tr>\n",
       "    <tr>\n",
       "      <td>3</td>\n",
       "      <td>004690c3-5a84-4bb7-a8af-e0c8f8fca64e</td>\n",
       "      <td>2019-10-18 22:14:05.555052</td>\n",
       "      <td>2019-10-31 21:42:15.606558</td>\n",
       "      <td>12 days 23:28:10.051506</td>\n",
       "    </tr>\n",
       "    <tr>\n",
       "      <td>4</td>\n",
       "      <td>00551e79-152e-4441-9cf7-565d7eb04090</td>\n",
       "      <td>2019-10-25 16:44:41.263364</td>\n",
       "      <td>2019-10-29 02:17:12.342406</td>\n",
       "      <td>3 days 09:32:31.079042</td>\n",
       "    </tr>\n",
       "    <tr>\n",
       "      <td>...</td>\n",
       "      <td>...</td>\n",
       "      <td>...</td>\n",
       "      <td>...</td>\n",
       "      <td>...</td>\n",
       "    </tr>\n",
       "    <tr>\n",
       "      <td>4288</td>\n",
       "      <td>ffab8d8a-30bb-424a-a3ab-0b63ebbf7b07</td>\n",
       "      <td>2019-10-13 16:11:27.414960</td>\n",
       "      <td>2019-10-26 19:53:51.993545</td>\n",
       "      <td>13 days 03:42:24.578585</td>\n",
       "    </tr>\n",
       "    <tr>\n",
       "      <td>4289</td>\n",
       "      <td>ffc01466-fdb1-4460-ae94-e800f52eb136</td>\n",
       "      <td>2019-10-07 20:32:49.997044</td>\n",
       "      <td>2019-10-07 20:33:42.135500</td>\n",
       "      <td>0 days 00:00:52.138456</td>\n",
       "    </tr>\n",
       "    <tr>\n",
       "      <td>4290</td>\n",
       "      <td>ffcf50d9-293c-4254-8243-4890b030b238</td>\n",
       "      <td>2019-10-23 11:51:35.199237</td>\n",
       "      <td>2019-10-23 11:52:55.577369</td>\n",
       "      <td>0 days 00:01:20.378132</td>\n",
       "    </tr>\n",
       "    <tr>\n",
       "      <td>4291</td>\n",
       "      <td>ffe68f10-e48e-470e-be9b-eeb93128ff1a</td>\n",
       "      <td>2019-10-21 16:39:33.867145</td>\n",
       "      <td>2019-10-28 07:17:52.646652</td>\n",
       "      <td>6 days 14:38:18.779507</td>\n",
       "    </tr>\n",
       "    <tr>\n",
       "      <td>4292</td>\n",
       "      <td>fffb9e79-b927-4dbb-9b48-7fd09b23a62b</td>\n",
       "      <td>2019-10-12 00:57:21.241896</td>\n",
       "      <td>2019-11-03 16:08:25.388712</td>\n",
       "      <td>22 days 15:11:04.146816</td>\n",
       "    </tr>\n",
       "  </tbody>\n",
       "</table>\n",
       "<p>4293 rows × 4 columns</p>\n",
       "</div>"
      ],
      "text/plain": [
       "                                      user                 first_time  \\\n",
       "0     0001b1d5-b74a-4cbf-aeb0-7df5947bf349 2019-10-07 13:39:45.989359   \n",
       "1     00157779-810c-4498-9e05-a1e9e3cedf93 2019-10-19 21:34:33.849769   \n",
       "2     00463033-5717-4bf1-91b4-09183923b9df 2019-11-01 13:54:35.385028   \n",
       "3     004690c3-5a84-4bb7-a8af-e0c8f8fca64e 2019-10-18 22:14:05.555052   \n",
       "4     00551e79-152e-4441-9cf7-565d7eb04090 2019-10-25 16:44:41.263364   \n",
       "...                                    ...                        ...   \n",
       "4288  ffab8d8a-30bb-424a-a3ab-0b63ebbf7b07 2019-10-13 16:11:27.414960   \n",
       "4289  ffc01466-fdb1-4460-ae94-e800f52eb136 2019-10-07 20:32:49.997044   \n",
       "4290  ffcf50d9-293c-4254-8243-4890b030b238 2019-10-23 11:51:35.199237   \n",
       "4291  ffe68f10-e48e-470e-be9b-eeb93128ff1a 2019-10-21 16:39:33.867145   \n",
       "4292  fffb9e79-b927-4dbb-9b48-7fd09b23a62b 2019-10-12 00:57:21.241896   \n",
       "\n",
       "                      last_time                   delta  \n",
       "0    2019-10-22 11:30:52.807203 14 days 21:51:06.817844  \n",
       "1    2019-11-03 17:12:09.708771 14 days 19:37:35.859002  \n",
       "2    2019-11-01 14:19:17.860053  0 days 00:24:42.475025  \n",
       "3    2019-10-31 21:42:15.606558 12 days 23:28:10.051506  \n",
       "4    2019-10-29 02:17:12.342406  3 days 09:32:31.079042  \n",
       "...                         ...                     ...  \n",
       "4288 2019-10-26 19:53:51.993545 13 days 03:42:24.578585  \n",
       "4289 2019-10-07 20:33:42.135500  0 days 00:00:52.138456  \n",
       "4290 2019-10-23 11:52:55.577369  0 days 00:01:20.378132  \n",
       "4291 2019-10-28 07:17:52.646652  6 days 14:38:18.779507  \n",
       "4292 2019-11-03 16:08:25.388712 22 days 15:11:04.146816  \n",
       "\n",
       "[4293 rows x 4 columns]"
      ]
     },
     "execution_count": 54,
     "metadata": {},
     "output_type": "execute_result"
    }
   ],
   "source": [
    "all_time['delta'] = all_time['last_time'] - all_time['first_time']\n",
    "all_time"
   ]
  },
  {
   "cell_type": "markdown",
   "metadata": {},
   "source": [
    "**Посмотрим сколько пользователей с delta=0 и удалим их**"
   ]
  },
  {
   "cell_type": "code",
   "execution_count": 55,
   "metadata": {},
   "outputs": [
    {
     "data": {
      "text/html": [
       "<div>\n",
       "<style scoped>\n",
       "    .dataframe tbody tr th:only-of-type {\n",
       "        vertical-align: middle;\n",
       "    }\n",
       "\n",
       "    .dataframe tbody tr th {\n",
       "        vertical-align: top;\n",
       "    }\n",
       "\n",
       "    .dataframe thead th {\n",
       "        text-align: right;\n",
       "    }\n",
       "</style>\n",
       "<table border=\"1\" class=\"dataframe\">\n",
       "  <thead>\n",
       "    <tr style=\"text-align: right;\">\n",
       "      <th></th>\n",
       "      <th>user</th>\n",
       "      <th>first_time</th>\n",
       "      <th>last_time</th>\n",
       "      <th>delta</th>\n",
       "    </tr>\n",
       "  </thead>\n",
       "  <tbody>\n",
       "    <tr>\n",
       "      <td>118</td>\n",
       "      <td>0729a0c7-9e58-4ea9-92bf-33830024ee68</td>\n",
       "      <td>2019-10-15 14:54:48.529218</td>\n",
       "      <td>2019-10-15 14:54:48.529218</td>\n",
       "      <td>0 days</td>\n",
       "    </tr>\n",
       "    <tr>\n",
       "      <td>124</td>\n",
       "      <td>07b1849e-eb60-444d-98cb-f8516ad23a74</td>\n",
       "      <td>2019-10-16 09:48:02.878567</td>\n",
       "      <td>2019-10-16 09:48:02.878567</td>\n",
       "      <td>0 days</td>\n",
       "    </tr>\n",
       "    <tr>\n",
       "      <td>202</td>\n",
       "      <td>0ba4e644-8d45-48b4-a8eb-98e5687ca092</td>\n",
       "      <td>2019-10-26 10:54:51.713232</td>\n",
       "      <td>2019-10-26 10:54:51.713232</td>\n",
       "      <td>0 days</td>\n",
       "    </tr>\n",
       "    <tr>\n",
       "      <td>242</td>\n",
       "      <td>0dea426d-4547-47d3-9ba2-716db6ca789b</td>\n",
       "      <td>2019-10-25 11:25:33.432521</td>\n",
       "      <td>2019-10-25 11:25:33.432521</td>\n",
       "      <td>0 days</td>\n",
       "    </tr>\n",
       "    <tr>\n",
       "      <td>270</td>\n",
       "      <td>0f579ce9-7646-430a-91de-1d6d93e2a4d2</td>\n",
       "      <td>2019-10-26 14:00:04.851059</td>\n",
       "      <td>2019-10-26 14:00:04.851059</td>\n",
       "      <td>0 days</td>\n",
       "    </tr>\n",
       "    <tr>\n",
       "      <td>...</td>\n",
       "      <td>...</td>\n",
       "      <td>...</td>\n",
       "      <td>...</td>\n",
       "      <td>...</td>\n",
       "    </tr>\n",
       "    <tr>\n",
       "      <td>3911</td>\n",
       "      <td>e89a6681-7227-457e-a11c-753385fe082f</td>\n",
       "      <td>2019-10-23 20:50:48.674982</td>\n",
       "      <td>2019-10-23 20:50:48.674982</td>\n",
       "      <td>0 days</td>\n",
       "    </tr>\n",
       "    <tr>\n",
       "      <td>3984</td>\n",
       "      <td>ed38683e-f887-429d-aa71-7fe8712ec22b</td>\n",
       "      <td>2019-10-18 01:03:30.602293</td>\n",
       "      <td>2019-10-18 01:03:30.602293</td>\n",
       "      <td>0 days</td>\n",
       "    </tr>\n",
       "    <tr>\n",
       "      <td>4154</td>\n",
       "      <td>f81367bf-86de-4f2c-80d6-88871b7dccb8</td>\n",
       "      <td>2019-10-22 09:10:24.397998</td>\n",
       "      <td>2019-10-22 09:10:24.397998</td>\n",
       "      <td>0 days</td>\n",
       "    </tr>\n",
       "    <tr>\n",
       "      <td>4196</td>\n",
       "      <td>fa6aa4b5-d098-436d-9976-f87ed0cf1dca</td>\n",
       "      <td>2019-10-14 10:00:35.489958</td>\n",
       "      <td>2019-10-14 10:00:35.489958</td>\n",
       "      <td>0 days</td>\n",
       "    </tr>\n",
       "    <tr>\n",
       "      <td>4277</td>\n",
       "      <td>fe92fa6c-7eef-484f-b31b-fa0db4e4d895</td>\n",
       "      <td>2019-10-13 18:02:11.003357</td>\n",
       "      <td>2019-10-13 18:02:11.003357</td>\n",
       "      <td>0 days</td>\n",
       "    </tr>\n",
       "  </tbody>\n",
       "</table>\n",
       "<p>65 rows × 4 columns</p>\n",
       "</div>"
      ],
      "text/plain": [
       "                                      user                 first_time  \\\n",
       "118   0729a0c7-9e58-4ea9-92bf-33830024ee68 2019-10-15 14:54:48.529218   \n",
       "124   07b1849e-eb60-444d-98cb-f8516ad23a74 2019-10-16 09:48:02.878567   \n",
       "202   0ba4e644-8d45-48b4-a8eb-98e5687ca092 2019-10-26 10:54:51.713232   \n",
       "242   0dea426d-4547-47d3-9ba2-716db6ca789b 2019-10-25 11:25:33.432521   \n",
       "270   0f579ce9-7646-430a-91de-1d6d93e2a4d2 2019-10-26 14:00:04.851059   \n",
       "...                                    ...                        ...   \n",
       "3911  e89a6681-7227-457e-a11c-753385fe082f 2019-10-23 20:50:48.674982   \n",
       "3984  ed38683e-f887-429d-aa71-7fe8712ec22b 2019-10-18 01:03:30.602293   \n",
       "4154  f81367bf-86de-4f2c-80d6-88871b7dccb8 2019-10-22 09:10:24.397998   \n",
       "4196  fa6aa4b5-d098-436d-9976-f87ed0cf1dca 2019-10-14 10:00:35.489958   \n",
       "4277  fe92fa6c-7eef-484f-b31b-fa0db4e4d895 2019-10-13 18:02:11.003357   \n",
       "\n",
       "                      last_time  delta  \n",
       "118  2019-10-15 14:54:48.529218 0 days  \n",
       "124  2019-10-16 09:48:02.878567 0 days  \n",
       "202  2019-10-26 10:54:51.713232 0 days  \n",
       "242  2019-10-25 11:25:33.432521 0 days  \n",
       "270  2019-10-26 14:00:04.851059 0 days  \n",
       "...                         ...    ...  \n",
       "3911 2019-10-23 20:50:48.674982 0 days  \n",
       "3984 2019-10-18 01:03:30.602293 0 days  \n",
       "4154 2019-10-22 09:10:24.397998 0 days  \n",
       "4196 2019-10-14 10:00:35.489958 0 days  \n",
       "4277 2019-10-13 18:02:11.003357 0 days  \n",
       "\n",
       "[65 rows x 4 columns]"
      ]
     },
     "execution_count": 55,
     "metadata": {},
     "output_type": "execute_result"
    }
   ],
   "source": [
    "all_time[all_time['delta']=='0 days 00:00:00']"
   ]
  },
  {
   "cell_type": "code",
   "execution_count": 56,
   "metadata": {},
   "outputs": [
    {
     "data": {
      "text/html": [
       "<div>\n",
       "<style scoped>\n",
       "    .dataframe tbody tr th:only-of-type {\n",
       "        vertical-align: middle;\n",
       "    }\n",
       "\n",
       "    .dataframe tbody tr th {\n",
       "        vertical-align: top;\n",
       "    }\n",
       "\n",
       "    .dataframe thead th {\n",
       "        text-align: right;\n",
       "    }\n",
       "</style>\n",
       "<table border=\"1\" class=\"dataframe\">\n",
       "  <thead>\n",
       "    <tr style=\"text-align: right;\">\n",
       "      <th></th>\n",
       "      <th>index</th>\n",
       "      <th>user</th>\n",
       "      <th>first_time</th>\n",
       "      <th>last_time</th>\n",
       "      <th>delta</th>\n",
       "    </tr>\n",
       "  </thead>\n",
       "  <tbody>\n",
       "    <tr>\n",
       "      <td>0</td>\n",
       "      <td>0</td>\n",
       "      <td>0001b1d5-b74a-4cbf-aeb0-7df5947bf349</td>\n",
       "      <td>2019-10-07 13:39:45.989359</td>\n",
       "      <td>2019-10-22 11:30:52.807203</td>\n",
       "      <td>14 days 21:51:06.817844</td>\n",
       "    </tr>\n",
       "    <tr>\n",
       "      <td>1</td>\n",
       "      <td>1</td>\n",
       "      <td>00157779-810c-4498-9e05-a1e9e3cedf93</td>\n",
       "      <td>2019-10-19 21:34:33.849769</td>\n",
       "      <td>2019-11-03 17:12:09.708771</td>\n",
       "      <td>14 days 19:37:35.859002</td>\n",
       "    </tr>\n",
       "    <tr>\n",
       "      <td>2</td>\n",
       "      <td>2</td>\n",
       "      <td>00463033-5717-4bf1-91b4-09183923b9df</td>\n",
       "      <td>2019-11-01 13:54:35.385028</td>\n",
       "      <td>2019-11-01 14:19:17.860053</td>\n",
       "      <td>0 days 00:24:42.475025</td>\n",
       "    </tr>\n",
       "    <tr>\n",
       "      <td>3</td>\n",
       "      <td>3</td>\n",
       "      <td>004690c3-5a84-4bb7-a8af-e0c8f8fca64e</td>\n",
       "      <td>2019-10-18 22:14:05.555052</td>\n",
       "      <td>2019-10-31 21:42:15.606558</td>\n",
       "      <td>12 days 23:28:10.051506</td>\n",
       "    </tr>\n",
       "    <tr>\n",
       "      <td>4</td>\n",
       "      <td>4</td>\n",
       "      <td>00551e79-152e-4441-9cf7-565d7eb04090</td>\n",
       "      <td>2019-10-25 16:44:41.263364</td>\n",
       "      <td>2019-10-29 02:17:12.342406</td>\n",
       "      <td>3 days 09:32:31.079042</td>\n",
       "    </tr>\n",
       "    <tr>\n",
       "      <td>...</td>\n",
       "      <td>...</td>\n",
       "      <td>...</td>\n",
       "      <td>...</td>\n",
       "      <td>...</td>\n",
       "      <td>...</td>\n",
       "    </tr>\n",
       "    <tr>\n",
       "      <td>4223</td>\n",
       "      <td>4288</td>\n",
       "      <td>ffab8d8a-30bb-424a-a3ab-0b63ebbf7b07</td>\n",
       "      <td>2019-10-13 16:11:27.414960</td>\n",
       "      <td>2019-10-26 19:53:51.993545</td>\n",
       "      <td>13 days 03:42:24.578585</td>\n",
       "    </tr>\n",
       "    <tr>\n",
       "      <td>4224</td>\n",
       "      <td>4289</td>\n",
       "      <td>ffc01466-fdb1-4460-ae94-e800f52eb136</td>\n",
       "      <td>2019-10-07 20:32:49.997044</td>\n",
       "      <td>2019-10-07 20:33:42.135500</td>\n",
       "      <td>0 days 00:00:52.138456</td>\n",
       "    </tr>\n",
       "    <tr>\n",
       "      <td>4225</td>\n",
       "      <td>4290</td>\n",
       "      <td>ffcf50d9-293c-4254-8243-4890b030b238</td>\n",
       "      <td>2019-10-23 11:51:35.199237</td>\n",
       "      <td>2019-10-23 11:52:55.577369</td>\n",
       "      <td>0 days 00:01:20.378132</td>\n",
       "    </tr>\n",
       "    <tr>\n",
       "      <td>4226</td>\n",
       "      <td>4291</td>\n",
       "      <td>ffe68f10-e48e-470e-be9b-eeb93128ff1a</td>\n",
       "      <td>2019-10-21 16:39:33.867145</td>\n",
       "      <td>2019-10-28 07:17:52.646652</td>\n",
       "      <td>6 days 14:38:18.779507</td>\n",
       "    </tr>\n",
       "    <tr>\n",
       "      <td>4227</td>\n",
       "      <td>4292</td>\n",
       "      <td>fffb9e79-b927-4dbb-9b48-7fd09b23a62b</td>\n",
       "      <td>2019-10-12 00:57:21.241896</td>\n",
       "      <td>2019-11-03 16:08:25.388712</td>\n",
       "      <td>22 days 15:11:04.146816</td>\n",
       "    </tr>\n",
       "  </tbody>\n",
       "</table>\n",
       "<p>4228 rows × 5 columns</p>\n",
       "</div>"
      ],
      "text/plain": [
       "      index                                  user                 first_time  \\\n",
       "0         0  0001b1d5-b74a-4cbf-aeb0-7df5947bf349 2019-10-07 13:39:45.989359   \n",
       "1         1  00157779-810c-4498-9e05-a1e9e3cedf93 2019-10-19 21:34:33.849769   \n",
       "2         2  00463033-5717-4bf1-91b4-09183923b9df 2019-11-01 13:54:35.385028   \n",
       "3         3  004690c3-5a84-4bb7-a8af-e0c8f8fca64e 2019-10-18 22:14:05.555052   \n",
       "4         4  00551e79-152e-4441-9cf7-565d7eb04090 2019-10-25 16:44:41.263364   \n",
       "...     ...                                   ...                        ...   \n",
       "4223   4288  ffab8d8a-30bb-424a-a3ab-0b63ebbf7b07 2019-10-13 16:11:27.414960   \n",
       "4224   4289  ffc01466-fdb1-4460-ae94-e800f52eb136 2019-10-07 20:32:49.997044   \n",
       "4225   4290  ffcf50d9-293c-4254-8243-4890b030b238 2019-10-23 11:51:35.199237   \n",
       "4226   4291  ffe68f10-e48e-470e-be9b-eeb93128ff1a 2019-10-21 16:39:33.867145   \n",
       "4227   4292  fffb9e79-b927-4dbb-9b48-7fd09b23a62b 2019-10-12 00:57:21.241896   \n",
       "\n",
       "                      last_time                   delta  \n",
       "0    2019-10-22 11:30:52.807203 14 days 21:51:06.817844  \n",
       "1    2019-11-03 17:12:09.708771 14 days 19:37:35.859002  \n",
       "2    2019-11-01 14:19:17.860053  0 days 00:24:42.475025  \n",
       "3    2019-10-31 21:42:15.606558 12 days 23:28:10.051506  \n",
       "4    2019-10-29 02:17:12.342406  3 days 09:32:31.079042  \n",
       "...                         ...                     ...  \n",
       "4223 2019-10-26 19:53:51.993545 13 days 03:42:24.578585  \n",
       "4224 2019-10-07 20:33:42.135500  0 days 00:00:52.138456  \n",
       "4225 2019-10-23 11:52:55.577369  0 days 00:01:20.378132  \n",
       "4226 2019-10-28 07:17:52.646652  6 days 14:38:18.779507  \n",
       "4227 2019-11-03 16:08:25.388712 22 days 15:11:04.146816  \n",
       "\n",
       "[4228 rows x 5 columns]"
      ]
     },
     "execution_count": 56,
     "metadata": {},
     "output_type": "execute_result"
    }
   ],
   "source": [
    "all_time = all_time.drop(all_time[all_time['delta']=='0 days 00:00:00'].index).reset_index()\n",
    "all_time"
   ]
  },
  {
   "cell_type": "markdown",
   "metadata": {},
   "source": [
    "***Всего таких пользователей оказалось 65, около 1,5% - несущественно, поэтому можно удалить.***"
   ]
  },
  {
   "cell_type": "code",
   "execution_count": 57,
   "metadata": {},
   "outputs": [
    {
     "data": {
      "text/plain": [
       "count                       4228\n",
       "mean      2 days 16:12:38.870466\n",
       "std       5 days 05:21:27.976225\n",
       "min       0 days 00:00:00.012021\n",
       "25%       0 days 00:10:21.716728\n",
       "50%       0 days 00:45:21.317160\n",
       "75%       2 days 20:06:29.954367\n",
       "max      26 days 20:45:24.186129\n",
       "Name: delta, dtype: object"
      ]
     },
     "execution_count": 57,
     "metadata": {},
     "output_type": "execute_result"
    }
   ],
   "source": [
    "all_time['delta'].describe()"
   ]
  },
  {
   "cell_type": "code",
   "execution_count": 58,
   "metadata": {},
   "outputs": [
    {
     "name": "stdout",
     "output_type": "stream",
     "text": [
      "5-й процентиль = 2.2 минут\n",
      "10-й процентиль = 4.3 минут\n",
      "15-й процентиль = 6.0 минут\n",
      "20-й процентиль = 8.1 минут\n",
      "25-й процентиль = 10.4 минут\n",
      "30-й процентиль = 13.5 минут\n",
      "35-й процентиль = 17.8 минут\n",
      "40-й процентиль = 23.0 минут\n",
      "45-й процентиль = 31.1 минут\n",
      "50-й процентиль = 45.4 минут\n",
      "55-й процентиль = 75.5 минут\n",
      "60-й процентиль = 213.2 минут\n",
      "65-й процентиль = 1001.1 минут\n",
      "70-й процентиль = 1836.1 минут\n",
      "75-й процентиль = 4086.5 минут\n",
      "80-й процентиль = 6431.6 минут\n",
      "85-й процентиль = 10065.8 минут\n",
      "90-й процентиль = 14286.3 минут\n",
      "95-й процентиль = 21907.8 минут\n"
     ]
    }
   ],
   "source": [
    "for perc in range(5,100,5):\n",
    "    print(f\"{perc}-й процентиль = {round(np.percentile(all_time['delta'].dt.total_seconds()/60 , perc),1)} минут\")"
   ]
  },
  {
   "cell_type": "markdown",
   "metadata": {},
   "source": [
    "***В общем цыфры немного больше (на 10-20%), чем \"delta_time\" (contacts_show), а распределения очень схожи.***"
   ]
  },
  {
   "cell_type": "markdown",
   "metadata": {},
   "source": [
    "### 3.4 Проанализируйте связь Целевого события — просмотра контактов — и других действий пользователей. <a id=\"shag3.4\"></a>  \n",
    "[К содержанию](#soder) "
   ]
  },
  {
   "cell_type": "markdown",
   "metadata": {},
   "source": [
    "**Выведем кол-во всех событий в первоначальных данных**"
   ]
  },
  {
   "cell_type": "code",
   "execution_count": 59,
   "metadata": {
    "scrolled": false
   },
   "outputs": [
    {
     "data": {
      "text/plain": [
       "tips_show        40055\n",
       "photos_show      10012\n",
       "advert_open       6164\n",
       "contacts_show     4529\n",
       "map               3881\n",
       "search_1          3506\n",
       "favorites_add     1417\n",
       "search_5          1049\n",
       "tips_click         814\n",
       "search_4           701\n",
       "contacts_call      541\n",
       "search_3           522\n",
       "search_6           460\n",
       "search_2           324\n",
       "search_7           222\n",
       "Name: event, dtype: int64"
      ]
     },
     "execution_count": 59,
     "metadata": {},
     "output_type": "execute_result"
    }
   ],
   "source": [
    "df['event'].value_counts()"
   ]
  },
  {
   "cell_type": "markdown",
   "metadata": {},
   "source": [
    "**Напомним, что у нас в target['user'] собраны уникальные пользователи совершившие \"contacts_show\" (и дельта между ним и предыдущим событием неравна 0)**\n",
    "\n",
    "**Напишем функцию которая поможет создать новый датафрейм с колонками : пользователь / событие перед целевым / время (в принципе поля время и пользователь необязательны, но вдруг понадобятся.). Событие перед целевым - не может быть целевым (\"contacts_show\", в таблице попадаются случаи когда идут 2 целевых подряд, поэтому мы берем первое) и не \"contacts_call\"(так как воронка идет : событие -> \"contacts_show\" -> \"contacts_call)**"
   ]
  },
  {
   "cell_type": "code",
   "execution_count": 60,
   "metadata": {
    "scrolled": false
   },
   "outputs": [
    {
     "data": {
      "text/html": [
       "<div>\n",
       "<style scoped>\n",
       "    .dataframe tbody tr th:only-of-type {\n",
       "        vertical-align: middle;\n",
       "    }\n",
       "\n",
       "    .dataframe tbody tr th {\n",
       "        vertical-align: top;\n",
       "    }\n",
       "\n",
       "    .dataframe thead th {\n",
       "        text-align: right;\n",
       "    }\n",
       "</style>\n",
       "<table border=\"1\" class=\"dataframe\">\n",
       "  <thead>\n",
       "    <tr style=\"text-align: right;\">\n",
       "      <th></th>\n",
       "      <th>event</th>\n",
       "      <th>time</th>\n",
       "      <th>time_cont_show</th>\n",
       "      <th>user</th>\n",
       "    </tr>\n",
       "  </thead>\n",
       "  <tbody>\n",
       "    <tr>\n",
       "      <td>2</td>\n",
       "      <td>tips_show</td>\n",
       "      <td>2019-10-17 20:50:51.857740</td>\n",
       "      <td>2019-10-17 20:51:49.855384</td>\n",
       "      <td>3eb739de-4feb-4621-b086-61df4fe355cc</td>\n",
       "    </tr>\n",
       "    <tr>\n",
       "      <td>2</td>\n",
       "      <td>tips_show</td>\n",
       "      <td>2019-10-23 22:09:24.266826</td>\n",
       "      <td>2019-10-23 22:12:14.900617</td>\n",
       "      <td>85f816a1-7d05-4a03-b237-5bb2262e79e4</td>\n",
       "    </tr>\n",
       "    <tr>\n",
       "      <td>67</td>\n",
       "      <td>tips_show</td>\n",
       "      <td>2019-10-23 11:09:09.224587</td>\n",
       "      <td>2019-10-23 11:09:58.331963</td>\n",
       "      <td>e0d5e097-f7c3-4a93-8488-e5b6f1a61d15</td>\n",
       "    </tr>\n",
       "    <tr>\n",
       "      <td>41</td>\n",
       "      <td>search_1</td>\n",
       "      <td>2019-10-23 21:20:59.568121</td>\n",
       "      <td>2019-10-23 21:21:54.172740</td>\n",
       "      <td>70b57b3c-01b5-4635-b0c5-ed14b94e1359</td>\n",
       "    </tr>\n",
       "    <tr>\n",
       "      <td>253</td>\n",
       "      <td>tips_show</td>\n",
       "      <td>2019-10-30 17:02:11.837625</td>\n",
       "      <td>2019-10-30 17:02:35.419128</td>\n",
       "      <td>320cab3c-e823-4dff-8c01-c4253764640a</td>\n",
       "    </tr>\n",
       "  </tbody>\n",
       "</table>\n",
       "</div>"
      ],
      "text/plain": [
       "         event                       time             time_cont_show  \\\n",
       "2    tips_show 2019-10-17 20:50:51.857740 2019-10-17 20:51:49.855384   \n",
       "2    tips_show 2019-10-23 22:09:24.266826 2019-10-23 22:12:14.900617   \n",
       "67   tips_show 2019-10-23 11:09:09.224587 2019-10-23 11:09:58.331963   \n",
       "41    search_1 2019-10-23 21:20:59.568121 2019-10-23 21:21:54.172740   \n",
       "253  tips_show 2019-10-30 17:02:11.837625 2019-10-30 17:02:35.419128   \n",
       "\n",
       "                                     user  \n",
       "2    3eb739de-4feb-4621-b086-61df4fe355cc  \n",
       "2    85f816a1-7d05-4a03-b237-5bb2262e79e4  \n",
       "67   e0d5e097-f7c3-4a93-8488-e5b6f1a61d15  \n",
       "41   70b57b3c-01b5-4635-b0c5-ed14b94e1359  \n",
       "253  320cab3c-e823-4dff-8c01-c4253764640a  "
      ]
     },
     "execution_count": 60,
     "metadata": {},
     "output_type": "execute_result"
    }
   ],
   "source": [
    "def events_before(id):\n",
    "    \n",
    "    one_user = df[df['user']==id].sort_values(by='time').reset_index() # Таблица со всей инфой по одному пользователю\n",
    "#     print(one_user.index)\n",
    "\n",
    "    global prev_cs\n",
    "    event = ''\n",
    "    prev_index = 0\n",
    "    \n",
    "    for index in one_user.index:\n",
    "#         print(one_user.loc[index])\n",
    "        if (one_user.loc[index,'event']=='contacts_show' and event!='' and event!='contacts_call' and one_user.loc[prev_index,'event']!='contacts_show'):\n",
    "            one_user['time_cont_show'] = one_user.loc[index,'time']\n",
    "            prev_cs = prev_cs.append(one_user.loc[prev_index,['user', 'time', 'event', 'time_cont_show']]) #, ignore_index=True)\n",
    "#             print(one_user.loc[prev_index,['user', 'time', 'event']])\n",
    "#             print(one_user.loc[index,['user', 'time', 'event']])\n",
    "#             print()\n",
    "#             input()\n",
    "        event = one_user.loc[index,'event']\n",
    "        prev_index = index\n",
    "    \n",
    "prev_cs = pd.DataFrame()\n",
    "\n",
    "target['user'].apply(events_before)\n",
    "\n",
    "prev_cs.sample(5)"
   ]
  },
  {
   "cell_type": "markdown",
   "metadata": {},
   "source": [
    "### а) Подсчитаем сколько в среднем времени проходит между Целевым и предыдущим событием (для каждого события)"
   ]
  },
  {
   "cell_type": "markdown",
   "metadata": {},
   "source": [
    "**Создадим еще 2 столбца: \"delta_time\" - время между событием и ЦС, \"delta_time_sec\" - тоже но в секундах.**"
   ]
  },
  {
   "cell_type": "code",
   "execution_count": 61,
   "metadata": {
    "scrolled": true
   },
   "outputs": [
    {
     "data": {
      "text/html": [
       "<div>\n",
       "<style scoped>\n",
       "    .dataframe tbody tr th:only-of-type {\n",
       "        vertical-align: middle;\n",
       "    }\n",
       "\n",
       "    .dataframe tbody tr th {\n",
       "        vertical-align: top;\n",
       "    }\n",
       "\n",
       "    .dataframe thead th {\n",
       "        text-align: right;\n",
       "    }\n",
       "</style>\n",
       "<table border=\"1\" class=\"dataframe\">\n",
       "  <thead>\n",
       "    <tr style=\"text-align: right;\">\n",
       "      <th></th>\n",
       "      <th>event</th>\n",
       "      <th>time</th>\n",
       "      <th>time_cont_show</th>\n",
       "      <th>user</th>\n",
       "      <th>delta_time</th>\n",
       "      <th>delta_time_sec</th>\n",
       "    </tr>\n",
       "  </thead>\n",
       "  <tbody>\n",
       "    <tr>\n",
       "      <td>11</td>\n",
       "      <td>tips_show</td>\n",
       "      <td>2019-10-10 15:52:40.258653</td>\n",
       "      <td>2019-10-10 15:55:50.986650</td>\n",
       "      <td>5eff5262-fa62-4703-ba8d-f0bbad2d1ac0</td>\n",
       "      <td>00:03:10.727997</td>\n",
       "      <td>190.727997</td>\n",
       "    </tr>\n",
       "    <tr>\n",
       "      <td>35</td>\n",
       "      <td>favorites_add</td>\n",
       "      <td>2019-10-27 10:25:28.898509</td>\n",
       "      <td>2019-10-27 10:25:32.324341</td>\n",
       "      <td>2552d969-dbd4-4fcb-aad2-5b2fcff28d61</td>\n",
       "      <td>00:00:03.425832</td>\n",
       "      <td>3.425832</td>\n",
       "    </tr>\n",
       "    <tr>\n",
       "      <td>19</td>\n",
       "      <td>advert_open</td>\n",
       "      <td>2019-10-28 11:16:49.293545</td>\n",
       "      <td>2019-10-28 11:17:32.520511</td>\n",
       "      <td>d85c1286-d3c8-4755-88fe-30e0bd2edfb3</td>\n",
       "      <td>00:00:43.226966</td>\n",
       "      <td>43.226966</td>\n",
       "    </tr>\n",
       "    <tr>\n",
       "      <td>94</td>\n",
       "      <td>tips_show</td>\n",
       "      <td>2019-10-18 16:37:09.955259</td>\n",
       "      <td>2019-10-18 16:37:24.906110</td>\n",
       "      <td>320cab3c-e823-4dff-8c01-c4253764640a</td>\n",
       "      <td>00:00:14.950851</td>\n",
       "      <td>14.950851</td>\n",
       "    </tr>\n",
       "  </tbody>\n",
       "</table>\n",
       "</div>"
      ],
      "text/plain": [
       "            event                       time             time_cont_show  \\\n",
       "11      tips_show 2019-10-10 15:52:40.258653 2019-10-10 15:55:50.986650   \n",
       "35  favorites_add 2019-10-27 10:25:28.898509 2019-10-27 10:25:32.324341   \n",
       "19    advert_open 2019-10-28 11:16:49.293545 2019-10-28 11:17:32.520511   \n",
       "94      tips_show 2019-10-18 16:37:09.955259 2019-10-18 16:37:24.906110   \n",
       "\n",
       "                                    user      delta_time  delta_time_sec  \n",
       "11  5eff5262-fa62-4703-ba8d-f0bbad2d1ac0 00:03:10.727997      190.727997  \n",
       "35  2552d969-dbd4-4fcb-aad2-5b2fcff28d61 00:00:03.425832        3.425832  \n",
       "19  d85c1286-d3c8-4755-88fe-30e0bd2edfb3 00:00:43.226966       43.226966  \n",
       "94  320cab3c-e823-4dff-8c01-c4253764640a 00:00:14.950851       14.950851  "
      ]
     },
     "metadata": {},
     "output_type": "display_data"
    }
   ],
   "source": [
    "prev_cs['delta_time'] = prev_cs['time_cont_show'] - prev_cs['time']\n",
    "prev_cs['delta_time_sec'] = prev_cs['delta_time'].dt.total_seconds()\n",
    "display(prev_cs.sample(4))"
   ]
  },
  {
   "cell_type": "code",
   "execution_count": 62,
   "metadata": {},
   "outputs": [
    {
     "data": {
      "image/png": "[encoded data removed]",
      "text/plain": [
       "<Figure size 1080x144 with 1 Axes>"
      ]
     },
     "metadata": {
      "needs_background": "light"
     },
     "output_type": "display_data"
    },
    {
     "data": {
      "image/png": "[encoded data removed]",
      "text/plain": [
       "<Figure size 144x576 with 1 Axes>"
      ]
     },
     "metadata": {
      "needs_background": "light"
     },
     "output_type": "display_data"
    }
   ],
   "source": [
    "prev_cs['delta_time_sec'].hist(bins=50, figsize=(15,2));\n",
    "plt.show()\n",
    "plt.figure(figsize=(2,8))\n",
    "plt.ylim(0,1000)\n",
    "plt.boxplot(prev_cs['delta_time_sec']);"
   ]
  },
  {
   "cell_type": "code",
   "execution_count": 63,
   "metadata": {
    "scrolled": false
   },
   "outputs": [
    {
     "data": {
      "text/plain": [
       "count                       2444\n",
       "mean      0 days 03:15:29.083861\n",
       "std       1 days 00:03:01.252687\n",
       "min       0 days 00:00:00.000239\n",
       "25%       0 days 00:00:29.050707\n",
       "50%       0 days 00:01:12.990634\n",
       "75%       0 days 00:03:17.849745\n",
       "max      22 days 03:44:27.356116\n",
       "Name: delta_time, dtype: object"
      ]
     },
     "metadata": {},
     "output_type": "display_data"
    },
    {
     "data": {
      "text/html": [
       "<div>\n",
       "<style scoped>\n",
       "    .dataframe tbody tr th:only-of-type {\n",
       "        vertical-align: middle;\n",
       "    }\n",
       "\n",
       "    .dataframe tbody tr th {\n",
       "        vertical-align: top;\n",
       "    }\n",
       "\n",
       "    .dataframe thead th {\n",
       "        text-align: right;\n",
       "    }\n",
       "</style>\n",
       "<table border=\"1\" class=\"dataframe\">\n",
       "  <thead>\n",
       "    <tr style=\"text-align: right;\">\n",
       "      <th></th>\n",
       "      <th>mean</th>\n",
       "      <th>median</th>\n",
       "    </tr>\n",
       "    <tr>\n",
       "      <th>event</th>\n",
       "      <th></th>\n",
       "      <th></th>\n",
       "    </tr>\n",
       "  </thead>\n",
       "  <tbody>\n",
       "    <tr>\n",
       "      <td>advert_open</td>\n",
       "      <td>6924.363878</td>\n",
       "      <td>40.361076</td>\n",
       "    </tr>\n",
       "    <tr>\n",
       "      <td>favorites_add</td>\n",
       "      <td>58462.936032</td>\n",
       "      <td>62.222825</td>\n",
       "    </tr>\n",
       "    <tr>\n",
       "      <td>map</td>\n",
       "      <td>3373.719550</td>\n",
       "      <td>57.853637</td>\n",
       "    </tr>\n",
       "    <tr>\n",
       "      <td>photos_show</td>\n",
       "      <td>37514.491977</td>\n",
       "      <td>120.941028</td>\n",
       "    </tr>\n",
       "    <tr>\n",
       "      <td>search_1</td>\n",
       "      <td>25221.545315</td>\n",
       "      <td>145.884688</td>\n",
       "    </tr>\n",
       "    <tr>\n",
       "      <td>search_5</td>\n",
       "      <td>26243.375468</td>\n",
       "      <td>75.167651</td>\n",
       "    </tr>\n",
       "    <tr>\n",
       "      <td>tips_click</td>\n",
       "      <td>95842.064564</td>\n",
       "      <td>312.440181</td>\n",
       "    </tr>\n",
       "    <tr>\n",
       "      <td>tips_show</td>\n",
       "      <td>3806.568925</td>\n",
       "      <td>65.134888</td>\n",
       "    </tr>\n",
       "  </tbody>\n",
       "</table>\n",
       "</div>"
      ],
      "text/plain": [
       "                       mean      median\n",
       "event                                  \n",
       "advert_open     6924.363878   40.361076\n",
       "favorites_add  58462.936032   62.222825\n",
       "map             3373.719550   57.853637\n",
       "photos_show    37514.491977  120.941028\n",
       "search_1       25221.545315  145.884688\n",
       "search_5       26243.375468   75.167651\n",
       "tips_click     95842.064564  312.440181\n",
       "tips_show       3806.568925   65.134888"
      ]
     },
     "metadata": {},
     "output_type": "display_data"
    }
   ],
   "source": [
    "display(prev_cs['delta_time'].describe())\n",
    "# display(prev_cs['delta_time_sec'].describe())\n",
    "display(prev_cs.groupby('event')['delta_time_sec'].agg(['mean','median']))"
   ]
  },
  {
   "cell_type": "markdown",
   "metadata": {},
   "source": [
    "***По графикам и таблицам видно, что присутствуют сильные выбросы, поэтому среднее сильно выше медианы и рационально использовать в таком случае медиану.***"
   ]
  },
  {
   "cell_type": "code",
   "execution_count": 64,
   "metadata": {},
   "outputs": [
    {
     "name": "stdout",
     "output_type": "stream",
     "text": [
      "Сколько времени (в секундах) проходит между ЦС и предыдущим \n",
      "\n",
      "event\n",
      "advert_open       40.0\n",
      "map               58.0\n",
      "favorites_add     62.0\n",
      "tips_show         65.0\n",
      "search_5          75.0\n",
      "photos_show      121.0\n",
      "search_1         146.0\n",
      "tips_click       312.0\n",
      "Name: delta_time_sec, dtype: float64\n"
     ]
    }
   ],
   "source": [
    "print('Сколько времени (в секундах) проходит между ЦС и предыдущим \\n')\n",
    "print(prev_cs.groupby('event')['delta_time_sec'].median().sort_values().round())"
   ]
  },
  {
   "cell_type": "markdown",
   "metadata": {},
   "source": [
    "***Вывод: Если усреднить, то между ЦС и предыдущим проходит от 0,5 до 3,5 минут. Сымым \"быстрым\" событием, в плане конверсии в ЦС, является \"advert_open\" - 40 секунд, а сымым медленным \"tips_click\" - 312 секунд.***"
   ]
  },
  {
   "cell_type": "markdown",
   "metadata": {},
   "source": [
    "### б) Подсчитаем Чистые Конверсии событий в Целевое\n",
    "\n",
    "**Чистая конверсия** - *считается по воронке, когда произошло событие(не ЦС и не звонок), а следующим за ним было обязательно ЦС*"
   ]
  },
  {
   "cell_type": "markdown",
   "metadata": {},
   "source": [
    "* **Посмотрим распределение на гистограмме**"
   ]
  },
  {
   "cell_type": "code",
   "execution_count": 65,
   "metadata": {},
   "outputs": [
    {
     "data": {
      "text/html": [
       "<div>\n",
       "<style scoped>\n",
       "    .dataframe tbody tr th:only-of-type {\n",
       "        vertical-align: middle;\n",
       "    }\n",
       "\n",
       "    .dataframe tbody tr th {\n",
       "        vertical-align: top;\n",
       "    }\n",
       "\n",
       "    .dataframe thead th {\n",
       "        text-align: right;\n",
       "    }\n",
       "</style>\n",
       "<table border=\"1\" class=\"dataframe\">\n",
       "  <thead>\n",
       "    <tr style=\"text-align: right;\">\n",
       "      <th></th>\n",
       "      <th>event</th>\n",
       "      <th>n_cont_show</th>\n",
       "    </tr>\n",
       "  </thead>\n",
       "  <tbody>\n",
       "    <tr>\n",
       "      <td>0</td>\n",
       "      <td>tips_show</td>\n",
       "      <td>1705</td>\n",
       "    </tr>\n",
       "    <tr>\n",
       "      <td>1</td>\n",
       "      <td>photos_show</td>\n",
       "      <td>351</td>\n",
       "    </tr>\n",
       "    <tr>\n",
       "      <td>2</td>\n",
       "      <td>search_1</td>\n",
       "      <td>185</td>\n",
       "    </tr>\n",
       "    <tr>\n",
       "      <td>3</td>\n",
       "      <td>advert_open</td>\n",
       "      <td>69</td>\n",
       "    </tr>\n",
       "    <tr>\n",
       "      <td>4</td>\n",
       "      <td>map</td>\n",
       "      <td>58</td>\n",
       "    </tr>\n",
       "    <tr>\n",
       "      <td>5</td>\n",
       "      <td>favorites_add</td>\n",
       "      <td>39</td>\n",
       "    </tr>\n",
       "    <tr>\n",
       "      <td>6</td>\n",
       "      <td>search_5</td>\n",
       "      <td>31</td>\n",
       "    </tr>\n",
       "    <tr>\n",
       "      <td>7</td>\n",
       "      <td>tips_click</td>\n",
       "      <td>6</td>\n",
       "    </tr>\n",
       "  </tbody>\n",
       "</table>\n",
       "</div>"
      ],
      "text/plain": [
       "           event  n_cont_show\n",
       "0      tips_show         1705\n",
       "1    photos_show          351\n",
       "2       search_1          185\n",
       "3    advert_open           69\n",
       "4            map           58\n",
       "5  favorites_add           39\n",
       "6       search_5           31\n",
       "7     tips_click            6"
      ]
     },
     "execution_count": 65,
     "metadata": {},
     "output_type": "execute_result"
    }
   ],
   "source": [
    "converse = prev_cs['event'].value_counts().reset_index()\n",
    "converse.columns = ['event', 'n_cont_show']\n",
    "converse"
   ]
  },
  {
   "cell_type": "markdown",
   "metadata": {},
   "source": [
    "**Теперь составим таблицу - событие / кол-во событий**"
   ]
  },
  {
   "cell_type": "code",
   "execution_count": 66,
   "metadata": {},
   "outputs": [
    {
     "data": {
      "text/html": [
       "<div>\n",
       "<style scoped>\n",
       "    .dataframe tbody tr th:only-of-type {\n",
       "        vertical-align: middle;\n",
       "    }\n",
       "\n",
       "    .dataframe tbody tr th {\n",
       "        vertical-align: top;\n",
       "    }\n",
       "\n",
       "    .dataframe thead th {\n",
       "        text-align: right;\n",
       "    }\n",
       "</style>\n",
       "<table border=\"1\" class=\"dataframe\">\n",
       "  <thead>\n",
       "    <tr style=\"text-align: right;\">\n",
       "      <th></th>\n",
       "      <th>event</th>\n",
       "      <th>n_all</th>\n",
       "    </tr>\n",
       "  </thead>\n",
       "  <tbody>\n",
       "    <tr>\n",
       "      <td>0</td>\n",
       "      <td>tips_show</td>\n",
       "      <td>40055</td>\n",
       "    </tr>\n",
       "    <tr>\n",
       "      <td>1</td>\n",
       "      <td>photos_show</td>\n",
       "      <td>10012</td>\n",
       "    </tr>\n",
       "    <tr>\n",
       "      <td>2</td>\n",
       "      <td>advert_open</td>\n",
       "      <td>6164</td>\n",
       "    </tr>\n",
       "    <tr>\n",
       "      <td>3</td>\n",
       "      <td>contacts_show</td>\n",
       "      <td>4529</td>\n",
       "    </tr>\n",
       "    <tr>\n",
       "      <td>4</td>\n",
       "      <td>map</td>\n",
       "      <td>3881</td>\n",
       "    </tr>\n",
       "    <tr>\n",
       "      <td>5</td>\n",
       "      <td>search_1</td>\n",
       "      <td>3506</td>\n",
       "    </tr>\n",
       "    <tr>\n",
       "      <td>6</td>\n",
       "      <td>favorites_add</td>\n",
       "      <td>1417</td>\n",
       "    </tr>\n",
       "    <tr>\n",
       "      <td>7</td>\n",
       "      <td>search_5</td>\n",
       "      <td>1049</td>\n",
       "    </tr>\n",
       "    <tr>\n",
       "      <td>8</td>\n",
       "      <td>tips_click</td>\n",
       "      <td>814</td>\n",
       "    </tr>\n",
       "    <tr>\n",
       "      <td>9</td>\n",
       "      <td>search_4</td>\n",
       "      <td>701</td>\n",
       "    </tr>\n",
       "    <tr>\n",
       "      <td>10</td>\n",
       "      <td>contacts_call</td>\n",
       "      <td>541</td>\n",
       "    </tr>\n",
       "    <tr>\n",
       "      <td>11</td>\n",
       "      <td>search_3</td>\n",
       "      <td>522</td>\n",
       "    </tr>\n",
       "    <tr>\n",
       "      <td>12</td>\n",
       "      <td>search_6</td>\n",
       "      <td>460</td>\n",
       "    </tr>\n",
       "    <tr>\n",
       "      <td>13</td>\n",
       "      <td>search_2</td>\n",
       "      <td>324</td>\n",
       "    </tr>\n",
       "    <tr>\n",
       "      <td>14</td>\n",
       "      <td>search_7</td>\n",
       "      <td>222</td>\n",
       "    </tr>\n",
       "  </tbody>\n",
       "</table>\n",
       "</div>"
      ],
      "text/plain": [
       "            event  n_all\n",
       "0       tips_show  40055\n",
       "1     photos_show  10012\n",
       "2     advert_open   6164\n",
       "3   contacts_show   4529\n",
       "4             map   3881\n",
       "5        search_1   3506\n",
       "6   favorites_add   1417\n",
       "7        search_5   1049\n",
       "8      tips_click    814\n",
       "9        search_4    701\n",
       "10  contacts_call    541\n",
       "11       search_3    522\n",
       "12       search_6    460\n",
       "13       search_2    324\n",
       "14       search_7    222"
      ]
     },
     "execution_count": 66,
     "metadata": {},
     "output_type": "execute_result"
    }
   ],
   "source": [
    "all_events = df['event'].value_counts().reset_index()\n",
    "all_events.columns = ['event', 'n_all']\n",
    "all_events"
   ]
  },
  {
   "cell_type": "code",
   "execution_count": 67,
   "metadata": {},
   "outputs": [
    {
     "data": {
      "text/html": [
       "<div>\n",
       "<style scoped>\n",
       "    .dataframe tbody tr th:only-of-type {\n",
       "        vertical-align: middle;\n",
       "    }\n",
       "\n",
       "    .dataframe tbody tr th {\n",
       "        vertical-align: top;\n",
       "    }\n",
       "\n",
       "    .dataframe thead th {\n",
       "        text-align: right;\n",
       "    }\n",
       "</style>\n",
       "<table border=\"1\" class=\"dataframe\">\n",
       "  <thead>\n",
       "    <tr style=\"text-align: right;\">\n",
       "      <th></th>\n",
       "      <th>event</th>\n",
       "      <th>n_cont_show</th>\n",
       "      <th>n_all</th>\n",
       "      <th>converse_percent</th>\n",
       "    </tr>\n",
       "  </thead>\n",
       "  <tbody>\n",
       "    <tr>\n",
       "      <td>0</td>\n",
       "      <td>tips_show</td>\n",
       "      <td>1705</td>\n",
       "      <td>40055</td>\n",
       "      <td>4.26</td>\n",
       "    </tr>\n",
       "    <tr>\n",
       "      <td>1</td>\n",
       "      <td>photos_show</td>\n",
       "      <td>351</td>\n",
       "      <td>10012</td>\n",
       "      <td>3.51</td>\n",
       "    </tr>\n",
       "    <tr>\n",
       "      <td>2</td>\n",
       "      <td>search_1</td>\n",
       "      <td>185</td>\n",
       "      <td>3506</td>\n",
       "      <td>5.28</td>\n",
       "    </tr>\n",
       "    <tr>\n",
       "      <td>3</td>\n",
       "      <td>advert_open</td>\n",
       "      <td>69</td>\n",
       "      <td>6164</td>\n",
       "      <td>1.12</td>\n",
       "    </tr>\n",
       "    <tr>\n",
       "      <td>4</td>\n",
       "      <td>map</td>\n",
       "      <td>58</td>\n",
       "      <td>3881</td>\n",
       "      <td>1.49</td>\n",
       "    </tr>\n",
       "    <tr>\n",
       "      <td>5</td>\n",
       "      <td>favorites_add</td>\n",
       "      <td>39</td>\n",
       "      <td>1417</td>\n",
       "      <td>2.75</td>\n",
       "    </tr>\n",
       "    <tr>\n",
       "      <td>6</td>\n",
       "      <td>search_5</td>\n",
       "      <td>31</td>\n",
       "      <td>1049</td>\n",
       "      <td>2.96</td>\n",
       "    </tr>\n",
       "    <tr>\n",
       "      <td>7</td>\n",
       "      <td>tips_click</td>\n",
       "      <td>6</td>\n",
       "      <td>814</td>\n",
       "      <td>0.74</td>\n",
       "    </tr>\n",
       "  </tbody>\n",
       "</table>\n",
       "</div>"
      ],
      "text/plain": [
       "           event  n_cont_show  n_all  converse_percent\n",
       "0      tips_show         1705  40055              4.26\n",
       "1    photos_show          351  10012              3.51\n",
       "2       search_1          185   3506              5.28\n",
       "3    advert_open           69   6164              1.12\n",
       "4            map           58   3881              1.49\n",
       "5  favorites_add           39   1417              2.75\n",
       "6       search_5           31   1049              2.96\n",
       "7     tips_click            6    814              0.74"
      ]
     },
     "execution_count": 67,
     "metadata": {},
     "output_type": "execute_result"
    }
   ],
   "source": [
    "converse = converse.merge(all_events, on='event', how='left')\n",
    "# converse.columns = ['event', 'n_cont_show', 'n_all', 'converse']\n",
    "converse['converse_percent'] = round((converse['n_cont_show']/converse['n_all']*100), 2)\n",
    "converse"
   ]
  },
  {
   "cell_type": "markdown",
   "metadata": {},
   "source": [
    "**Теперь, для удобства, посмотрим отсортированую конверсию**"
   ]
  },
  {
   "cell_type": "code",
   "execution_count": 68,
   "metadata": {
    "scrolled": true
   },
   "outputs": [
    {
     "data": {
      "text/html": [
       "<div>\n",
       "<style scoped>\n",
       "    .dataframe tbody tr th:only-of-type {\n",
       "        vertical-align: middle;\n",
       "    }\n",
       "\n",
       "    .dataframe tbody tr th {\n",
       "        vertical-align: top;\n",
       "    }\n",
       "\n",
       "    .dataframe thead th {\n",
       "        text-align: right;\n",
       "    }\n",
       "</style>\n",
       "<table border=\"1\" class=\"dataframe\">\n",
       "  <thead>\n",
       "    <tr style=\"text-align: right;\">\n",
       "      <th></th>\n",
       "      <th>event</th>\n",
       "      <th>converse_percent</th>\n",
       "    </tr>\n",
       "  </thead>\n",
       "  <tbody>\n",
       "    <tr>\n",
       "      <td>2</td>\n",
       "      <td>search_1</td>\n",
       "      <td>5.28</td>\n",
       "    </tr>\n",
       "    <tr>\n",
       "      <td>0</td>\n",
       "      <td>tips_show</td>\n",
       "      <td>4.26</td>\n",
       "    </tr>\n",
       "    <tr>\n",
       "      <td>1</td>\n",
       "      <td>photos_show</td>\n",
       "      <td>3.51</td>\n",
       "    </tr>\n",
       "    <tr>\n",
       "      <td>6</td>\n",
       "      <td>search_5</td>\n",
       "      <td>2.96</td>\n",
       "    </tr>\n",
       "    <tr>\n",
       "      <td>5</td>\n",
       "      <td>favorites_add</td>\n",
       "      <td>2.75</td>\n",
       "    </tr>\n",
       "    <tr>\n",
       "      <td>4</td>\n",
       "      <td>map</td>\n",
       "      <td>1.49</td>\n",
       "    </tr>\n",
       "    <tr>\n",
       "      <td>3</td>\n",
       "      <td>advert_open</td>\n",
       "      <td>1.12</td>\n",
       "    </tr>\n",
       "    <tr>\n",
       "      <td>7</td>\n",
       "      <td>tips_click</td>\n",
       "      <td>0.74</td>\n",
       "    </tr>\n",
       "  </tbody>\n",
       "</table>\n",
       "</div>"
      ],
      "text/plain": [
       "           event  converse_percent\n",
       "2       search_1              5.28\n",
       "0      tips_show              4.26\n",
       "1    photos_show              3.51\n",
       "6       search_5              2.96\n",
       "5  favorites_add              2.75\n",
       "4            map              1.49\n",
       "3    advert_open              1.12\n",
       "7     tips_click              0.74"
      ]
     },
     "execution_count": 68,
     "metadata": {},
     "output_type": "execute_result"
    }
   ],
   "source": [
    "converse_sorted = converse[['event', 'converse_percent']].sort_values(by='converse_percent', ascending=False)\n",
    "converse_sorted"
   ]
  },
  {
   "cell_type": "markdown",
   "metadata": {},
   "source": [
    "**Теперь отразим всё на графиках**"
   ]
  },
  {
   "cell_type": "code",
   "execution_count": 69,
   "metadata": {
    "scrolled": false
   },
   "outputs": [
    {
     "data": {
      "image/png": "[encoded data removed]",
      "text/plain": [
       "<Figure size 720x288 with 1 Axes>"
      ]
     },
     "metadata": {
      "needs_background": "light"
     },
     "output_type": "display_data"
    },
    {
     "data": {
      "image/png": "[encoded data removed]",
      "text/plain": [
       "<Figure size 720x216 with 1 Axes>"
      ]
     },
     "metadata": {
      "needs_background": "light"
     },
     "output_type": "display_data"
    }
   ],
   "source": [
    "plt.figure(figsize=(10,4))\n",
    "sns.barplot(converse['event'], converse['n_cont_show'])\n",
    "plt.title('КОЛ-ВО событий после которых было Целевое событие')\n",
    "plt.xlabel('События')\n",
    "plt.ylabel('КОЛ-ВО');\n",
    "plt.show()\n",
    "\n",
    "plt.figure(figsize=(10,3))\n",
    "sns.barplot(converse_sorted['event'], converse_sorted['converse_percent'])\n",
    "plt.title('КОНВЕРСИЯ событий после которых было Целевое событие')\n",
    "plt.xlabel('События')\n",
    "plt.ylabel('ЧИСТАЯ КОНВЕРСИЯ, %');"
   ]
  },
  {
   "cell_type": "markdown",
   "metadata": {},
   "source": [
    "***ВЫВОД:***  \n",
    "\n",
    "**Абсолютные значения:**  \n",
    "* Событие, которое \"принесло\" больше всего Целевых событий - это \"tips_show\", оно лидирует с большим отрывом от всех остальных (минимум в 4,5 раза) - 1705(всего 40055) событий;  \n",
    "* второе \"photos_show\" - 351(всего 10012);  \n",
    "* третье \"search_1\" - 185(всего  3506);  \n",
    "* остальные значительно меньше\n",
    "\n",
    "**Конверсия: а здесь ситуация отличается от абсолютных значений, - тройка та же, но позиции другие:**  \n",
    "* На первом месте - \"search_1\" - 5,28%  \n",
    "* На втором - \"tips_show\" - 4,26%\n",
    "* На третьем = \"photos_show\" - 3,51%\n",
    "* \"search_5\" и \"favorites_add\" - около 3%\n",
    "* остальные от 0,75% до 1,5%  - тоже неплохой результат  \n",
    "* *(Кстати надо упомянуть, что общая конверсия была 6,5%, получается каждое событие дает меньший результат)*  \n",
    "\n",
    "**В общем все три события-лидера хороши (search_1, tips_show, photos_show), надо и дальше поддерживать и улучшать их. Можно порекомендовать еще поэксперементировать с событиями \"search_5\" и \"favorites_add\" - возможно они могут дать более лучший результат.**\n",
    "\n",
    "**В ходе анализа было выявлено, что присутствуют бесполезные события, которые не \"приносят\" конверсии это - search_2, search_3, search_4, search_6, search_7; также нато отметить, что и кол-во этих событий мало от 200 до 700. Похоже они мало эффективны как для пользователя так и для магазина. Поэтому можно порекомендовать убрать их, чтобы не мешали, и пользователь на них не отвлекался, а пользовался search_1 (и др).**\n"
   ]
  },
  {
   "cell_type": "markdown",
   "metadata": {},
   "source": [
    "### 3.5 Поведение людей, кто совершали ЦС и кто нет <a id=\"shag3.5\"></a>  \n",
    "[К содержанию](#soder)  \n",
    "\n",
    "Сравним, есть ли разница в поведении у людей, которые совершали ЦС (и звонок) и кто нет."
   ]
  },
  {
   "cell_type": "markdown",
   "metadata": {},
   "source": [
    "**Проверим есть ли такие пользователи которые совершили звонок (contacts_call) без \"contacts_show\". По условию задания такого быть не должно.**"
   ]
  },
  {
   "cell_type": "code",
   "execution_count": 70,
   "metadata": {},
   "outputs": [
    {
     "name": "stdout",
     "output_type": "stream",
     "text": [
      "Кол-во пользователей совершавших ЦС = 981\n",
      "Кол-во всех пользователей = 4293\n",
      "Кол-во пользователей не совершавших ЦС = 3312\n"
     ]
    }
   ],
   "source": [
    "con_show_users = df.query('event==\"contacts_show\"')['user'].unique().tolist()\n",
    "print(\"Кол-во пользователей совершавших ЦС =\", len(con_show_users))\n",
    "\n",
    "all_users = df['user'].unique()\n",
    "print(\"Кол-во всех пользователей =\", len(all_users))\n",
    "\n",
    "no_con_show_users = list( set(all_users) - set(con_show_users) )\n",
    "print(\"Кол-во пользователей не совершавших ЦС =\", len(no_con_show_users))\n"
   ]
  },
  {
   "cell_type": "markdown",
   "metadata": {},
   "source": [
    "**Теперь проверим есть ли среди пользователей, не совершавших ЦС, те кто Позвонил (contacts_call)**"
   ]
  },
  {
   "cell_type": "code",
   "execution_count": 71,
   "metadata": {},
   "outputs": [
    {
     "data": {
      "text/html": [
       "<div>\n",
       "<style scoped>\n",
       "    .dataframe tbody tr th:only-of-type {\n",
       "        vertical-align: middle;\n",
       "    }\n",
       "\n",
       "    .dataframe tbody tr th {\n",
       "        vertical-align: top;\n",
       "    }\n",
       "\n",
       "    .dataframe thead th {\n",
       "        text-align: right;\n",
       "    }\n",
       "</style>\n",
       "<table border=\"1\" class=\"dataframe\">\n",
       "  <thead>\n",
       "    <tr style=\"text-align: right;\">\n",
       "      <th></th>\n",
       "      <th>time</th>\n",
       "      <th>event</th>\n",
       "      <th>user</th>\n",
       "      <th>source</th>\n",
       "      <th>week</th>\n",
       "      <th>day</th>\n",
       "    </tr>\n",
       "  </thead>\n",
       "  <tbody>\n",
       "  </tbody>\n",
       "</table>\n",
       "</div>"
      ],
      "text/plain": [
       "Empty DataFrame\n",
       "Columns: [time, event, user, source, week, day]\n",
       "Index: []"
      ]
     },
     "execution_count": 71,
     "metadata": {},
     "output_type": "execute_result"
    }
   ],
   "source": [
    "df.query('user==@no_con_show_users and event==\"contacts_call\"')"
   ]
  },
  {
   "cell_type": "markdown",
   "metadata": {},
   "source": [
    "***Все в порядке таких таких пользователей нет.***"
   ]
  },
  {
   "cell_type": "markdown",
   "metadata": {},
   "source": [
    "**Создадим 2 таблицы - пользователи и их действия, одна для целевых, другая для остальных. И сравним кол-во (относительное) действий которые они совершали на PIE-chart.**"
   ]
  },
  {
   "cell_type": "code",
   "execution_count": 72,
   "metadata": {
    "scrolled": false
   },
   "outputs": [
    {
     "data": {
      "text/plain": [
       "tips_show        27287\n",
       "photos_show       6184\n",
       "advert_open       4575\n",
       "map               2780\n",
       "search_1          2165\n",
       "favorites_add      993\n",
       "search_5           800\n",
       "search_4           552\n",
       "tips_click         481\n",
       "search_6           386\n",
       "search_3           378\n",
       "search_2           228\n",
       "search_7           191\n",
       "Name: event, dtype: int64"
      ]
     },
     "execution_count": 72,
     "metadata": {},
     "output_type": "execute_result"
    }
   ],
   "source": [
    "no_con_show = df.query('user==@no_con_show_users')['event'].value_counts()\n",
    "no_con_show"
   ]
  },
  {
   "cell_type": "markdown",
   "metadata": {},
   "source": [
    "**Сделаем тоже для тех, кто совершал ЦС. А сами ЦС и Звонки удалим**"
   ]
  },
  {
   "cell_type": "code",
   "execution_count": 73,
   "metadata": {
    "scrolled": true
   },
   "outputs": [
    {
     "data": {
      "text/plain": [
       "tips_show        12768\n",
       "photos_show       3828\n",
       "advert_open       1589\n",
       "search_1          1341\n",
       "map               1101\n",
       "favorites_add      424\n",
       "tips_click         333\n",
       "search_5           249\n",
       "search_4           149\n",
       "search_3           144\n",
       "search_2            96\n",
       "search_6            74\n",
       "search_7            31\n",
       "Name: event, dtype: int64"
      ]
     },
     "execution_count": 73,
     "metadata": {},
     "output_type": "execute_result"
    }
   ],
   "source": [
    "con_show = df.query('user==@con_show_users')['event'].value_counts()\n",
    "con_show = con_show.drop(['contacts_call','contacts_show'])\n",
    "con_show"
   ]
  },
  {
   "cell_type": "code",
   "execution_count": 98,
   "metadata": {},
   "outputs": [
    {
     "data": {
      "image/png": "[encoded data removed]",
      "text/plain": [
       "<Figure size 720x720 with 1 Axes>"
      ]
     },
     "metadata": {},
     "output_type": "display_data"
    },
    {
     "data": {
      "image/png": "[encoded data removed]",
      "text/plain": [
       "<Figure size 720x720 with 1 Axes>"
      ]
     },
     "metadata": {},
     "output_type": "display_data"
    }
   ],
   "source": [
    "# plt.subplot(1, 2, 1)\n",
    "plt.figure(figsize=(10,10))\n",
    "plt.pie(no_con_show.values, labels=no_con_show.index, autopct='%1.1f%%')\n",
    "plt.title('Поведение тех, кто не совершал ЦС');\n",
    "plt.show();\n",
    "# plt.subplot(1, 2, 2)\n",
    "# plt.tight_layout()\n",
    "plt.figure(figsize=(10,10))\n",
    "plt.pie(con_show.values, labels=con_show.index, autopct='%1.1f%%')\n",
    "plt.title('Поведение тех, кто совершал ЦС');\n",
    "\n",
    "\n",
    "# fig = px.pie(no_con_show, values=no_con_show.values, names=no_con_show.index, title='Поведение тех, кто не совершал ЦС')\n",
    "# fig.show()\n",
    "# fig = px.pie(con_show, values=con_show.values, names=con_show.index, title='Поведение тех, кто совершал ЦС')\n",
    "# fig.show()"
   ]
  },
  {
   "cell_type": "markdown",
   "metadata": {},
   "source": [
    "***Вывод: Среди 2 групп - кто совершал ЦС и кто нет, есть некоторые отличия в долях по группам:***  \n",
    "\n",
    "**Совершившие ЦС:**  \n",
    "* больше любят `photos_show` - 17,3% против 14,6% во второй группе  \n",
    "* но меньше любят `advert_open` - 7,18% против 9,73% во второй  \n",
    "* больше любят `search_1` - 6,06% против 4,61% во второй  \n",
    "* но меньше любят `map` - 4,98% против 5,91% во второй  \n",
    "\n",
    "(в остальных событиях отличия мало существенны)"
   ]
  },
  {
   "cell_type": "markdown",
   "metadata": {},
   "source": [
    "### 3.6 Анализ/сравнение пары событий: Целевое событие и Совершение звонка  <a id=\"shag3.6\"></a>  \n",
    "[К содержанию](#soder) "
   ]
  },
  {
   "cell_type": "code",
   "execution_count": 75,
   "metadata": {
    "scrolled": true
   },
   "outputs": [
    {
     "name": "stdout",
     "output_type": "stream",
     "text": [
      "Всего пользователей - 4293\n",
      "Кол-во пользователей, Посмотрели контакт (ЦС) - 981\n",
      "Доля пользователей совершивших ЦС - 22.85% \n"
     ]
    }
   ],
   "source": [
    "print('Всего пользователей - 4293')\n",
    "print(\"Кол-во пользователей, Посмотрели контакт (ЦС) -\", len(con_show_users))\n",
    "print(f'Доля пользователей совершивших ЦС - {(981/4293):.2%} ')"
   ]
  },
  {
   "cell_type": "markdown",
   "metadata": {},
   "source": [
    "**Поскольку пользователи сначала совершают ЦС, а потом звонок, то выделим еще тех, кто совершил ЦС, но не звонок в отдельный список - `no_call_users`, а в `call_users` - кто звонил)**"
   ]
  },
  {
   "cell_type": "code",
   "execution_count": 76,
   "metadata": {
    "scrolled": false
   },
   "outputs": [
    {
     "name": "stdout",
     "output_type": "stream",
     "text": [
      "Кол-во пользователей, которые звонили - 213\n",
      "Их Доля в совершивших ЦС - 21.71% \n",
      "Их Доля во всех пльзователях - 4.96% \n",
      "\n",
      "Кол-во пользователей, кто Посмотрели контакт (ЦС), но не звонили - 768\n",
      "Их Доля в совершивших ЦС - 78.29% \n",
      "Их Доля во всех пльзователях - 17.89% \n"
     ]
    }
   ],
   "source": [
    "call_users = df.query('event ==\"contacts_call\"')['user'].unique().tolist()\n",
    "print(\"Кол-во пользователей, которые звонили -\", len(call_users))\n",
    "print(f'Их Доля в совершивших ЦС - {(213/981):.2%} ')\n",
    "print(f'Их Доля во всех пльзователях - {(213/4293):.2%} ')\n",
    "print()\n",
    "no_call_users = list(set(con_show_users) - set(call_users))\n",
    "print(\"Кол-во пользователей, кто Посмотрели контакт (ЦС), но не звонили -\", len(no_call_users))\n",
    "print(f'Их Доля в совершивших ЦС - {(768/981):.2%} ')\n",
    "print(f'Их Доля во всех пльзователях - {(768/4293):.2%} ')"
   ]
  },
  {
   "cell_type": "markdown",
   "metadata": {},
   "source": [
    "***(Всё сходится : 768+213=981)***\n",
    "\n",
    "**Теперь посмотрим какие действий совершают эти 2 группы пользователей (`call_users` и `no_call_users`)**"
   ]
  },
  {
   "cell_type": "code",
   "execution_count": 77,
   "metadata": {},
   "outputs": [
    {
     "data": {
      "text/plain": [
       "photos_show      1626\n",
       "contacts_show     967\n",
       "search_1          674\n",
       "contacts_call     541\n",
       "favorites_add     143\n",
       "advert_open       121\n",
       "tips_show           1\n",
       "Name: event, dtype: int64"
      ]
     },
     "execution_count": 77,
     "metadata": {},
     "output_type": "execute_result"
    }
   ],
   "source": [
    "calling = df.query('user==@call_users')['event'].value_counts()\n",
    "# con_show = con_show.drop(['contacts_call','contacts_show'])\n",
    "calling"
   ]
  },
  {
   "cell_type": "code",
   "execution_count": 78,
   "metadata": {},
   "outputs": [
    {
     "data": {
      "text/plain": [
       "tips_show        12767\n",
       "contacts_show     3562\n",
       "photos_show       2202\n",
       "advert_open       1468\n",
       "map               1101\n",
       "search_1           667\n",
       "tips_click         333\n",
       "favorites_add      281\n",
       "search_5           249\n",
       "search_4           149\n",
       "search_3           144\n",
       "search_2            96\n",
       "search_6            74\n",
       "search_7            31\n",
       "Name: event, dtype: int64"
      ]
     },
     "execution_count": 78,
     "metadata": {},
     "output_type": "execute_result"
    }
   ],
   "source": [
    "not_calling = df.query('user==@no_call_users')['event'].value_counts()\n",
    "# con_show = con_show.drop(['contacts_call','contacts_show'])\n",
    "not_calling"
   ]
  },
  {
   "cell_type": "code",
   "execution_count": 79,
   "metadata": {},
   "outputs": [
    {
     "name": "stdout",
     "output_type": "stream",
     "text": [
      "Кол-во событиий совершенное теми кто Звонил и теми кто только совершил ЦС\n",
      "\n",
      "            event  not_calling  calling\n",
      "0       tips_show        12767      1.0\n",
      "1   contacts_show         3562    967.0\n",
      "2     photos_show         2202   1626.0\n",
      "3     advert_open         1468    121.0\n",
      "4             map         1101      0.0\n",
      "5        search_1          667    674.0\n",
      "6      tips_click          333      0.0\n",
      "7   favorites_add          281    143.0\n",
      "8        search_5          249      0.0\n",
      "9        search_4          149      0.0\n",
      "10       search_3          144      0.0\n",
      "11       search_2           96      0.0\n",
      "12       search_6           74      0.0\n",
      "13       search_7           31      0.0\n"
     ]
    }
   ],
   "source": [
    "contact_show = not_calling.reset_index().merge(calling.reset_index(), on='index', how='left')\n",
    "contact_show.columns = ['event', 'not_calling', 'calling']\n",
    "contact_show = contact_show.fillna(0)\n",
    "print('Кол-во событиий совершенное теми кто Звонил и теми кто только совершил ЦС')\n",
    "print()\n",
    "print(contact_show)"
   ]
  },
  {
   "cell_type": "markdown",
   "metadata": {},
   "source": [
    "***Вывод: Доля - 78.29% совершивших только ЦС (не звонивших) значительно больше, чем доля совершивших ЦС тех кто звонил - 21.71%. Поэтому можно выделить существнные отличия между этими группами:***  \n",
    "\n",
    "**Те кто звонил (по относительным значениям и с учётом того, что их в 4 раза меньше) :**\n",
    "* совершают много `photos_show` и `search_1`, и еще немало `favorites_add`  \n",
    "* значительно меньше `advert_open`  \n",
    "* Остальные действия не совершают(contacts_show - не учитываем, tips_show=1 - это все равно что 0)!  "
   ]
  },
  {
   "cell_type": "markdown",
   "metadata": {},
   "source": [
    "## Шаг 4. Проверка статистических гипотез <a id=\"shag4\"></a>  \n",
    "[К содержанию](#soder)"
   ]
  },
  {
   "cell_type": "markdown",
   "metadata": {},
   "source": [
    "### 4.1 Различается ли конверсия в просмотры контактов `tips_show`+`tips_click` и `tips_show`<a id=\"shag4.1\"></a>  \n",
    "[К содержанию](#soder)\n",
    "\n",
    "* Одни пользователи совершают действия tips_show и tips_click, другие — только tips_show. Проверьте гипотезу: конверсия в просмотры контактов различается у этих двух групп."
   ]
  },
  {
   "cell_type": "markdown",
   "metadata": {},
   "source": [
    "**Выделим всех пользователей, кто совершил \"tips_show\", а затем разделим их на 2 группы - кто совершал \"tips_click\" и кто нет.**"
   ]
  },
  {
   "cell_type": "code",
   "execution_count": 80,
   "metadata": {
    "scrolled": true
   },
   "outputs": [
    {
     "name": "stdout",
     "output_type": "stream",
     "text": [
      "Кол-во пользователей все \"tips_show\" = 2801\n",
      "Кол-во пользователей \"tips_show\"+\"tips_click\" = 297\n",
      "Кол-во пользователей только \"tips_show\" = 2504\n"
     ]
    }
   ],
   "source": [
    "tips_show_users = df.query('event ==\"tips_show\"')['user'].unique().tolist()\n",
    "print('Кол-во пользователей все \"tips_show\" =', len(tips_show_users))\n",
    "\n",
    "tips_show_click_users = df.query('event ==\"tips_click\" and user==@tips_show_users')['user'].unique().tolist()\n",
    "print('Кол-во пользователей \"tips_show\"+\"tips_click\" =', len(tips_show_click_users))\n",
    "\n",
    "only_tips_show_users = list(set(tips_show_users) - set(tips_show_click_users))\n",
    "print('Кол-во пользователей только \"tips_show\" =', len(only_tips_show_users))"
   ]
  },
  {
   "cell_type": "markdown",
   "metadata": {},
   "source": [
    "**Теперь подсчитаем конверсию в \"contacts_show\" всех действий каждой группы**"
   ]
  },
  {
   "cell_type": "code",
   "execution_count": 81,
   "metadata": {},
   "outputs": [
    {
     "data": {
      "text/html": [
       "<div>\n",
       "<style scoped>\n",
       "    .dataframe tbody tr th:only-of-type {\n",
       "        vertical-align: middle;\n",
       "    }\n",
       "\n",
       "    .dataframe tbody tr th {\n",
       "        vertical-align: top;\n",
       "    }\n",
       "\n",
       "    .dataframe thead th {\n",
       "        text-align: right;\n",
       "    }\n",
       "</style>\n",
       "<table border=\"1\" class=\"dataframe\">\n",
       "  <thead>\n",
       "    <tr style=\"text-align: right;\">\n",
       "      <th></th>\n",
       "      <th>user</th>\n",
       "      <th>event</th>\n",
       "    </tr>\n",
       "  </thead>\n",
       "  <tbody>\n",
       "    <tr>\n",
       "      <td>51653</td>\n",
       "      <td>6b1c96da-ab05-4140-880b-c5a5410fd4c2</td>\n",
       "      <td>tips_show</td>\n",
       "    </tr>\n",
       "    <tr>\n",
       "      <td>26580</td>\n",
       "      <td>c390142d-654a-40bb-855b-2a4b3bd63040</td>\n",
       "      <td>advert_open</td>\n",
       "    </tr>\n",
       "    <tr>\n",
       "      <td>28722</td>\n",
       "      <td>c390142d-654a-40bb-855b-2a4b3bd63040</td>\n",
       "      <td>advert_open</td>\n",
       "    </tr>\n",
       "    <tr>\n",
       "      <td>62442</td>\n",
       "      <td>3f9a7a9b-b0ab-4713-8a89-a832c66645ef</td>\n",
       "      <td>tips_show</td>\n",
       "    </tr>\n",
       "  </tbody>\n",
       "</table>\n",
       "</div>"
      ],
      "text/plain": [
       "                                       user        event\n",
       "51653  6b1c96da-ab05-4140-880b-c5a5410fd4c2    tips_show\n",
       "26580  c390142d-654a-40bb-855b-2a4b3bd63040  advert_open\n",
       "28722  c390142d-654a-40bb-855b-2a4b3bd63040  advert_open\n",
       "62442  3f9a7a9b-b0ab-4713-8a89-a832c66645ef    tips_show"
      ]
     },
     "metadata": {},
     "output_type": "display_data"
    },
    {
     "name": "stdout",
     "output_type": "stream",
     "text": [
      "Кол-во всего событий у tips_show+click пользователей = 12262\n",
      "Кол-во ЦС у tips_show+click пользователей = 838\n",
      "Конверсия в ЦС tips_show+click пользователей = 6.83%\n"
     ]
    }
   ],
   "source": [
    "show_click_events = df.query('user==@tips_show_click_users')[['user', 'event']]\n",
    "display(show_click_events.sample(4))\n",
    "print('Кол-во всего событий у tips_show+click пользователей =', len(show_click_events))\n",
    "print('Кол-во ЦС у tips_show+click пользователей =', show_click_events[show_click_events['event']==\"contacts_show\"]['event'].count())\n",
    "show_click_convertion = 838 / 12262\n",
    "print(f'Конверсия в ЦС tips_show+click пользователей = {round(show_click_convertion*100, 2)}%')"
   ]
  },
  {
   "cell_type": "code",
   "execution_count": 82,
   "metadata": {
    "scrolled": false
   },
   "outputs": [
    {
     "name": "stdout",
     "output_type": "stream",
     "text": [
      "tips_show        8970\n",
      "contacts_show     838\n",
      "tips_click        701\n",
      "map               651\n",
      "advert_open       615\n",
      "favorites_add     155\n",
      "search_5           93\n",
      "search_4           84\n",
      "search_3           66\n",
      "search_6           35\n",
      "search_2           26\n",
      "photos_show        13\n",
      "search_7            8\n",
      "search_1            7\n",
      "Name: event, dtype: int64\n"
     ]
    }
   ],
   "source": [
    "print(show_click_events['event'].value_counts())"
   ]
  },
  {
   "cell_type": "code",
   "execution_count": 83,
   "metadata": {},
   "outputs": [
    {
     "data": {
      "text/html": [
       "<div>\n",
       "<style scoped>\n",
       "    .dataframe tbody tr th:only-of-type {\n",
       "        vertical-align: middle;\n",
       "    }\n",
       "\n",
       "    .dataframe tbody tr th {\n",
       "        vertical-align: top;\n",
       "    }\n",
       "\n",
       "    .dataframe thead th {\n",
       "        text-align: right;\n",
       "    }\n",
       "</style>\n",
       "<table border=\"1\" class=\"dataframe\">\n",
       "  <thead>\n",
       "    <tr style=\"text-align: right;\">\n",
       "      <th></th>\n",
       "      <th>user</th>\n",
       "      <th>event</th>\n",
       "    </tr>\n",
       "  </thead>\n",
       "  <tbody>\n",
       "    <tr>\n",
       "      <td>3989</td>\n",
       "      <td>9ce63488-758a-481a-bcb5-a02b467e1d84</td>\n",
       "      <td>map</td>\n",
       "    </tr>\n",
       "    <tr>\n",
       "      <td>42873</td>\n",
       "      <td>c76110a8-7cdd-4ce9-9c9b-c1966f06d0e1</td>\n",
       "      <td>search_5</td>\n",
       "    </tr>\n",
       "    <tr>\n",
       "      <td>55727</td>\n",
       "      <td>61e1e250-5c90-4d53-8406-e3815ab8b4d2</td>\n",
       "      <td>tips_show</td>\n",
       "    </tr>\n",
       "    <tr>\n",
       "      <td>37888</td>\n",
       "      <td>076f2de3-268b-4cf1-ade7-73d09752e3b3</td>\n",
       "      <td>tips_show</td>\n",
       "    </tr>\n",
       "  </tbody>\n",
       "</table>\n",
       "</div>"
      ],
      "text/plain": [
       "                                       user      event\n",
       "3989   9ce63488-758a-481a-bcb5-a02b467e1d84        map\n",
       "42873  c76110a8-7cdd-4ce9-9c9b-c1966f06d0e1   search_5\n",
       "55727  61e1e250-5c90-4d53-8406-e3815ab8b4d2  tips_show\n",
       "37888  076f2de3-268b-4cf1-ade7-73d09752e3b3  tips_show"
      ]
     },
     "metadata": {},
     "output_type": "display_data"
    },
    {
     "name": "stdout",
     "output_type": "stream",
     "text": [
      "Кол-во всего событий у только tips_show пользователей = 44065\n",
      "Кол-во ЦС у только tips_show пользователей = 1989\n",
      "Конверсия в ЦС у только tips_show пользователей = 4.51%\n"
     ]
    }
   ],
   "source": [
    "only_show_events = df.query('user==@only_tips_show_users')[['user', 'event']]\n",
    "display(only_show_events.sample(4))\n",
    "print('Кол-во всего событий у только tips_show пользователей =', len(only_show_events))\n",
    "print('Кол-во ЦС у только tips_show пользователей =', only_show_events[only_show_events['event']==\"contacts_show\"]['event'].count())\n",
    "only_show_convertion = 1989 / 44065\n",
    "print(f'Конверсия в ЦС у только tips_show пользователей = {round(only_show_convertion*100, 2)}%')"
   ]
  },
  {
   "cell_type": "code",
   "execution_count": 84,
   "metadata": {},
   "outputs": [
    {
     "name": "stdout",
     "output_type": "stream",
     "text": [
      "tips_show        31085\n",
      "advert_open       4456\n",
      "map               3044\n",
      "contacts_show     1989\n",
      "search_5           837\n",
      "search_4           583\n",
      "favorites_add      442\n",
      "search_3           427\n",
      "search_6           395\n",
      "photos_show        338\n",
      "search_2           249\n",
      "search_7           165\n",
      "search_1            54\n",
      "contacts_call        1\n",
      "Name: event, dtype: int64\n"
     ]
    }
   ],
   "source": [
    "print(only_show_events['event'].value_counts())"
   ]
  },
  {
   "cell_type": "markdown",
   "metadata": {},
   "source": [
    "### Проверка гипотезы"
   ]
  },
  {
   "cell_type": "markdown",
   "metadata": {},
   "source": [
    "**Для проверки гипотезы нам подходит метод - проверка гипотезы о равенстве долей**\n",
    "\n",
    "* Соберем данные для теста:  \n",
    "\n",
    "    Кол-во всего событий у tips_show+click пользователей = 12262  \n",
    "    Кол-во ЦС у tips_show+click пользователей = 838  \n",
    "\n",
    "    Кол-во всего событий у только tips_show пользователей = 44065  \n",
    "    Кол-во ЦС у только tips_show пользователей = 1989  \n",
    "    \n",
    "\n",
    "* Теперь подставим в тест и сравним доли клиентов, совершивших ЦС (Нулевая гипотеза - между долями значимая разница отсутствует. Алтернативная - разница есть; критический уровень статистической значимости возьмем стандартный равный 5%, так как высокая точность нам не нужна)"
   ]
  },
  {
   "cell_type": "markdown",
   "metadata": {},
   "source": [
    "**Напишем функцию `stat_test(successes, trials, alpha)`, которая проводит тестирование на равенство долей, гле**  \n",
    "   * successes - кол-во успешных попыток [группа1, группа2]  \n",
    "   * trials - всего попыток [группа1, группа2]   \n",
    "   * alpha - критический уровень статистической значимости"
   ]
  },
  {
   "cell_type": "code",
   "execution_count": 85,
   "metadata": {},
   "outputs": [
    {
     "name": "stdout",
     "output_type": "stream",
     "text": [
      "p-значение:  0.0\n",
      "Отвергаем нулевую гипотезу: между долями есть значимая разница\n"
     ]
    }
   ],
   "source": [
    "def stat_test(successes, trials, alpha):  \n",
    "\n",
    "    # alpha = .05 # критический уровень статистической значимости\n",
    "\n",
    "    # successes = np.array([838, 1989])\n",
    "    # trials = np.array([12262, 44065])\n",
    "\n",
    "    alpha = alpha\n",
    "    successes = successes\n",
    "    trials = trials\n",
    "\n",
    "    # пропорция успехов в первой группе:\n",
    "    p1 = successes[0]/trials[0]\n",
    "\n",
    "    # пропорция успехов во второй группе:\n",
    "    p2 = successes[1]/trials[1]\n",
    "\n",
    "    # пропорция успехов в комбинированном датасете:\n",
    "    p_combined = (successes[0] + successes[1]) / (trials[0] + trials[1])\n",
    "\n",
    "    # разница пропорций в датасетах\n",
    "    difference = p1 - p2\n",
    "\n",
    "\n",
    "    # считаем статистику в ст.отклонениях стандартного нормального распределения\n",
    "    z_value = difference / mth.sqrt(p_combined * (1 - p_combined) * (1/trials[0] + 1/trials[1]))\n",
    "\n",
    "    # задаем стандартное нормальное распределение (среднее 0, ст.отклонение 1)\n",
    "    distr = st.norm(0, 1) \n",
    "\n",
    "\n",
    "    # считаем статистику в ст.отклонениях стандартного нормального распределения\n",
    "    z_value = difference / mth.sqrt(\n",
    "        p_combined * (1 - p_combined) * (1 / trials[0] + 1 / trials[1])\n",
    "    )\n",
    "\n",
    "    # задаем стандартное нормальное распределение (среднее 0, ст.отклонение 1)\n",
    "    distr = st.norm(0, 1)\n",
    "\n",
    "    p_value = (1 - distr.cdf(abs(z_value))) * 2\n",
    "\n",
    "    print('p-значение: ', p_value)\n",
    "\n",
    "    if p_value < alpha:\n",
    "        print('Отвергаем нулевую гипотезу: между долями есть значимая разница')\n",
    "    else:\n",
    "        print(\n",
    "            'Не получилось отвергнуть нулевую гипотезу, нет оснований считать доли разными'\n",
    "        )\n",
    "\n",
    "    \n",
    "alpha = .05\n",
    "successes = [838, 1989]\n",
    "trials = [12262, 44065]\n",
    "\n",
    "stat_test(successes, trials, alpha)    "
   ]
  },
  {
   "cell_type": "markdown",
   "metadata": {},
   "source": [
    "***ВЫВОД: Конверсия в просмотры контактов у двух групп пользователей (в первой совершают действия tips_show и tips_click, во второй — только tips_show) - различается!***"
   ]
  },
  {
   "cell_type": "markdown",
   "metadata": {},
   "source": [
    "### 4.2 Своя гипотеза  <a id=\"shag4.2\"></a>  \n",
    "[К содержанию](#soder)\n",
    "\n",
    "* Сформулируйте собственную статистическую гипотезу. Дополните её нулевой и альтернативной гипотезами. Проверьте гипотезу с помощью статистического теста.  \n",
    "---\n",
    "\n",
    "* **Гипотеза - Пользователи совершают действия \"favorites_add\" и \"search_5\". Проверьте гипотезу: Чистая Конверсия в просмотры контактов различается у этих двух событий.**"
   ]
  },
  {
   "cell_type": "markdown",
   "metadata": {},
   "source": [
    "**Возьмём из пункта 3.4 б)  - Таблицу событий и их Чистой Конверсии в ЦС**"
   ]
  },
  {
   "cell_type": "code",
   "execution_count": 86,
   "metadata": {
    "scrolled": true
   },
   "outputs": [
    {
     "name": "stdout",
     "output_type": "stream",
     "text": [
      "p-значение:  0.6826361102775438\n",
      "Не получилось отвергнуть нулевую гипотезу, нет оснований считать доли разными\n"
     ]
    }
   ],
   "source": [
    "alpha = .05\n",
    "successes = [185, 52]\n",
    "trials = [3506, 1049]\n",
    "\n",
    "stat_test(successes, trials, alpha)    "
   ]
  },
  {
   "cell_type": "code",
   "execution_count": 87,
   "metadata": {
    "scrolled": true
   },
   "outputs": [
    {
     "data": {
      "text/html": [
       "<div>\n",
       "<style scoped>\n",
       "    .dataframe tbody tr th:only-of-type {\n",
       "        vertical-align: middle;\n",
       "    }\n",
       "\n",
       "    .dataframe tbody tr th {\n",
       "        vertical-align: top;\n",
       "    }\n",
       "\n",
       "    .dataframe thead th {\n",
       "        text-align: right;\n",
       "    }\n",
       "</style>\n",
       "<table border=\"1\" class=\"dataframe\">\n",
       "  <thead>\n",
       "    <tr style=\"text-align: right;\">\n",
       "      <th></th>\n",
       "      <th>event</th>\n",
       "      <th>n_cont_show</th>\n",
       "      <th>n_all</th>\n",
       "      <th>converse_percent</th>\n",
       "    </tr>\n",
       "  </thead>\n",
       "  <tbody>\n",
       "    <tr>\n",
       "      <td>0</td>\n",
       "      <td>tips_show</td>\n",
       "      <td>1705</td>\n",
       "      <td>40055</td>\n",
       "      <td>4.26</td>\n",
       "    </tr>\n",
       "    <tr>\n",
       "      <td>1</td>\n",
       "      <td>photos_show</td>\n",
       "      <td>351</td>\n",
       "      <td>10012</td>\n",
       "      <td>3.51</td>\n",
       "    </tr>\n",
       "    <tr>\n",
       "      <td>2</td>\n",
       "      <td>search_1</td>\n",
       "      <td>185</td>\n",
       "      <td>3506</td>\n",
       "      <td>5.28</td>\n",
       "    </tr>\n",
       "    <tr>\n",
       "      <td>3</td>\n",
       "      <td>advert_open</td>\n",
       "      <td>69</td>\n",
       "      <td>6164</td>\n",
       "      <td>1.12</td>\n",
       "    </tr>\n",
       "    <tr>\n",
       "      <td>4</td>\n",
       "      <td>map</td>\n",
       "      <td>58</td>\n",
       "      <td>3881</td>\n",
       "      <td>1.49</td>\n",
       "    </tr>\n",
       "    <tr>\n",
       "      <td>5</td>\n",
       "      <td>favorites_add</td>\n",
       "      <td>39</td>\n",
       "      <td>1417</td>\n",
       "      <td>2.75</td>\n",
       "    </tr>\n",
       "    <tr>\n",
       "      <td>6</td>\n",
       "      <td>search_5</td>\n",
       "      <td>31</td>\n",
       "      <td>1049</td>\n",
       "      <td>2.96</td>\n",
       "    </tr>\n",
       "    <tr>\n",
       "      <td>7</td>\n",
       "      <td>tips_click</td>\n",
       "      <td>6</td>\n",
       "      <td>814</td>\n",
       "      <td>0.74</td>\n",
       "    </tr>\n",
       "  </tbody>\n",
       "</table>\n",
       "</div>"
      ],
      "text/plain": [
       "           event  n_cont_show  n_all  converse_percent\n",
       "0      tips_show         1705  40055              4.26\n",
       "1    photos_show          351  10012              3.51\n",
       "2       search_1          185   3506              5.28\n",
       "3    advert_open           69   6164              1.12\n",
       "4            map           58   3881              1.49\n",
       "5  favorites_add           39   1417              2.75\n",
       "6       search_5           31   1049              2.96\n",
       "7     tips_click            6    814              0.74"
      ]
     },
     "execution_count": 87,
     "metadata": {},
     "output_type": "execute_result"
    }
   ],
   "source": [
    "converse"
   ]
  },
  {
   "cell_type": "markdown",
   "metadata": {},
   "source": [
    "**Для проверки гипотезы нам подходит метод - проверка гипотезы о равенстве долей**\n",
    "\n",
    "* Соберем данные для теста:  \n",
    "\n",
    "    Кол-во всего событий у \"favorites_add\" пользователей = 1417  \n",
    "    Кол-во ЦС у \"favorites_add\" пользователей = 39  \n",
    "\n",
    "    Кол-во всего событий у только \"search_5\" пользователей = 1049  \n",
    "    Кол-во ЦС у только \"search_5\" пользователей = 31  \n",
    "    \n",
    "\n",
    "* Теперь подставим в тест и сравним доли клиентов, совершивших ЦС (Нулевая гипотеза - между долями значимая разница отсутствует. Алтернативная - разница есть; критический уровень статистической значимости возьмем стандартный равный 5%, так как высокая точность нам не нужна)"
   ]
  },
  {
   "cell_type": "code",
   "execution_count": 88,
   "metadata": {},
   "outputs": [
    {
     "name": "stdout",
     "output_type": "stream",
     "text": [
      "p-значение:  0.7642079659118592\n",
      "Не получилось отвергнуть нулевую гипотезу, нет оснований считать доли разными\n"
     ]
    }
   ],
   "source": [
    "alpha = .05\n",
    "successes = [39, 31]\n",
    "trials = [1417, 1049]\n",
    "\n",
    "stat_test(successes, trials, alpha)    "
   ]
  },
  {
   "cell_type": "markdown",
   "metadata": {},
   "source": [
    "***ВЫВОД: Чистая Конверсия в ЦС у пользователей (тех кто совершают действия \"favorites_add\" , и тех кто — \"search_5\") - не имеет статистических различий!***"
   ]
  },
  {
   "cell_type": "markdown",
   "metadata": {},
   "source": [
    "## Выводы и рекомендации. Презентация <a id=\"shag5\"></a>  \n",
    "[К содержанию](#soder)"
   ]
  },
  {
   "cell_type": "markdown",
   "metadata": {},
   "source": [
    "  * Мы располагаем данными с 7 октября (00:00) по 3 ноября (23:58) 2019 года. Период времени почти 28 дней  \n",
    "  * Кол-во пользователей = 4293  \n",
    "  * Кол-во событий = 74197  \n",
    "  * Кол-во событий которое совершает один пользователь за день - 17  \n",
    "  * В среднем каждый пользователь совершил 1-4 ЦС (из 981 пользователя, кто вообще совершал ЦС) за весь период  \n",
    "  * Самые частые события - tips_show (40000) и photos_show(10000).  \n",
    "  * Самые редкие - search_7, search_2, search_6, search_3 (200-500)  \n",
    "  * Время с первого события до Целелого было бы рационально определять диапазоном от 5 минут до суток (1400 минут), как ориентир брать 170 минут.  \n",
    "  * между ЦС и предыдущим проходит от 0,5 до 3,5 минут. Сымым \"быстрым\" событием, в плане конверсии в ЦС, является \"advert_open\" - 40 секунд, а сымым медленным \"tips_click\" - 312 секунд.    \n",
    "---  \n",
    "***Целевое событие (contacts_show) по условию, было добавлено недавно. После его добовления до звонка стало доходить всего 12% пользователей ! Падение звонков больше чем в 8 раз - это просто катастрофа!***  \n",
    "*!! Рекомендация: Нужно срочно убрать Целевое событие (contacts_show), и вернуть как было до этого. Затем проанализировать почему так произошло. Возможно разработать/внедрить другой аналог Captcha для защиты пользователей.*  \n",
    "\n",
    "**Целевое событие и Совершение звонка!**  \n",
    "Доля - 78.29% совершивших только ЦС (не звонивших) значительно больше, чем доля совершивших ЦС тех кто звонил - 21.71%. Поэтому можно выделить существнные отличия между этими группами:  \n",
    "Те кто звонил (по относительным значениям и с учётом того, что их в 4 раза меньше):  \n",
    "  * совершают много photos_show и search_1, и еще немало favorites_add и значительно меньше advert_open  \n",
    "  * остальные действия не совершают(contacts_show - не учитываем, tips_show=1 - все равно что 0)!  \n",
    "\n",
    "---  \n",
    "***Лидеры Чистой Конверсии в ЦС - search_1, tips_show, photos_show.***  \n",
    "*!!Рекомендация: надо и дальше поддерживать и улучшать события-лидеры. Можно порекомендовать еще поэкспериментировать с событиями \"search_5\" и \"favorites_add\" - возможно они могут дать более лучший результат.*  \n",
    "\n",
    "***В ходе анализа было выявлено, что присутствуют бесполезные события, которые не \"приносят\" конверсии это - search_2, search_3, search_4, search_6, search_7; также надо отметить, что и кол-во этих событий мало от 200 до 700.***  \n",
    "*!!Рекомендация: убрать их, чтобы не мешали, и пользователь на них не отвлекался, а пользовался search_1 (и др).*   \n",
    "\n",
    "---\n",
    "\n",
    "\n"
   ]
  },
  {
   "cell_type": "markdown",
   "metadata": {},
   "source": [
    "## [**Cсылка на презентацию - https://disk.yandex.ru/i/k7bNCx5vSXvZ-A**](https://disk.yandex.ru/i/k7bNCx5vSXvZ-A)  \n",
    "\n",
    "## [**Или тут - https://drive.google.com/file/d/1yUqUa3UtszCnVFHebMXOE-BQNPgZHt9v/view?usp=sharing**](https://drive.google.com/file/d/1yUqUa3UtszCnVFHebMXOE-BQNPgZHt9v/view?usp=sharing)"
   ]
  },
  {
   "cell_type": "markdown",
   "metadata": {},
   "source": [
    "## **В КАЧЕСТВЕ ДОПОЛНИТЕЛЬНОГО ЗАДАНИЯ ВЫБРАН - ДАШБОРД**"
   ]
  },
  {
   "cell_type": "markdown",
   "metadata": {},
   "source": [
    "## Tableau DashBoard <a id=\"shag6\"></a>  \n",
    "[К содержанию](#soder)"
   ]
  },
  {
   "cell_type": "markdown",
   "metadata": {},
   "source": [
    "**Создадим и запишем файл с данными для ДашБорда**"
   ]
  },
  {
   "cell_type": "code",
   "execution_count": 89,
   "metadata": {
    "scrolled": false
   },
   "outputs": [
    {
     "data": {
      "text/html": [
       "<div>\n",
       "<style scoped>\n",
       "    .dataframe tbody tr th:only-of-type {\n",
       "        vertical-align: middle;\n",
       "    }\n",
       "\n",
       "    .dataframe tbody tr th {\n",
       "        vertical-align: top;\n",
       "    }\n",
       "\n",
       "    .dataframe thead th {\n",
       "        text-align: right;\n",
       "    }\n",
       "</style>\n",
       "<table border=\"1\" class=\"dataframe\">\n",
       "  <thead>\n",
       "    <tr style=\"text-align: right;\">\n",
       "      <th></th>\n",
       "      <th>time</th>\n",
       "      <th>event</th>\n",
       "      <th>user</th>\n",
       "      <th>source</th>\n",
       "      <th>week</th>\n",
       "      <th>day</th>\n",
       "    </tr>\n",
       "  </thead>\n",
       "  <tbody>\n",
       "    <tr>\n",
       "      <td>0</td>\n",
       "      <td>2019-10-07 00:00:00.431357</td>\n",
       "      <td>advert_open</td>\n",
       "      <td>020292ab-89bc-4156-9acf-68bc2783f894</td>\n",
       "      <td>other</td>\n",
       "      <td>41</td>\n",
       "      <td>2019-10-07</td>\n",
       "    </tr>\n",
       "    <tr>\n",
       "      <td>1</td>\n",
       "      <td>2019-10-07 00:00:01.236320</td>\n",
       "      <td>tips_show</td>\n",
       "      <td>020292ab-89bc-4156-9acf-68bc2783f894</td>\n",
       "      <td>other</td>\n",
       "      <td>41</td>\n",
       "      <td>2019-10-07</td>\n",
       "    </tr>\n",
       "    <tr>\n",
       "      <td>2</td>\n",
       "      <td>2019-10-07 00:00:02.245341</td>\n",
       "      <td>tips_show</td>\n",
       "      <td>cf7eda61-9349-469f-ac27-e5b6f5ec475c</td>\n",
       "      <td>yandex</td>\n",
       "      <td>41</td>\n",
       "      <td>2019-10-07</td>\n",
       "    </tr>\n",
       "    <tr>\n",
       "      <td>3</td>\n",
       "      <td>2019-10-07 00:00:07.039334</td>\n",
       "      <td>tips_show</td>\n",
       "      <td>020292ab-89bc-4156-9acf-68bc2783f894</td>\n",
       "      <td>other</td>\n",
       "      <td>41</td>\n",
       "      <td>2019-10-07</td>\n",
       "    </tr>\n",
       "    <tr>\n",
       "      <td>4</td>\n",
       "      <td>2019-10-07 00:00:56.319813</td>\n",
       "      <td>advert_open</td>\n",
       "      <td>cf7eda61-9349-469f-ac27-e5b6f5ec475c</td>\n",
       "      <td>yandex</td>\n",
       "      <td>41</td>\n",
       "      <td>2019-10-07</td>\n",
       "    </tr>\n",
       "    <tr>\n",
       "      <td>...</td>\n",
       "      <td>...</td>\n",
       "      <td>...</td>\n",
       "      <td>...</td>\n",
       "      <td>...</td>\n",
       "      <td>...</td>\n",
       "      <td>...</td>\n",
       "    </tr>\n",
       "    <tr>\n",
       "      <td>74192</td>\n",
       "      <td>2019-11-03 23:53:29.534986</td>\n",
       "      <td>tips_show</td>\n",
       "      <td>28fccdf4-7b9e-42f5-bc73-439a265f20e9</td>\n",
       "      <td>google</td>\n",
       "      <td>44</td>\n",
       "      <td>2019-11-03</td>\n",
       "    </tr>\n",
       "    <tr>\n",
       "      <td>74193</td>\n",
       "      <td>2019-11-03 23:54:00.407086</td>\n",
       "      <td>tips_show</td>\n",
       "      <td>28fccdf4-7b9e-42f5-bc73-439a265f20e9</td>\n",
       "      <td>google</td>\n",
       "      <td>44</td>\n",
       "      <td>2019-11-03</td>\n",
       "    </tr>\n",
       "    <tr>\n",
       "      <td>74194</td>\n",
       "      <td>2019-11-03 23:56:57.041825</td>\n",
       "      <td>search_1</td>\n",
       "      <td>20850c8f-4135-4059-b13b-198d3ac59902</td>\n",
       "      <td>google</td>\n",
       "      <td>44</td>\n",
       "      <td>2019-11-03</td>\n",
       "    </tr>\n",
       "    <tr>\n",
       "      <td>74195</td>\n",
       "      <td>2019-11-03 23:57:06.232189</td>\n",
       "      <td>tips_show</td>\n",
       "      <td>28fccdf4-7b9e-42f5-bc73-439a265f20e9</td>\n",
       "      <td>google</td>\n",
       "      <td>44</td>\n",
       "      <td>2019-11-03</td>\n",
       "    </tr>\n",
       "    <tr>\n",
       "      <td>74196</td>\n",
       "      <td>2019-11-03 23:58:12.532487</td>\n",
       "      <td>tips_show</td>\n",
       "      <td>28fccdf4-7b9e-42f5-bc73-439a265f20e9</td>\n",
       "      <td>google</td>\n",
       "      <td>44</td>\n",
       "      <td>2019-11-03</td>\n",
       "    </tr>\n",
       "  </tbody>\n",
       "</table>\n",
       "<p>74197 rows × 6 columns</p>\n",
       "</div>"
      ],
      "text/plain": [
       "                            time        event  \\\n",
       "0     2019-10-07 00:00:00.431357  advert_open   \n",
       "1     2019-10-07 00:00:01.236320    tips_show   \n",
       "2     2019-10-07 00:00:02.245341    tips_show   \n",
       "3     2019-10-07 00:00:07.039334    tips_show   \n",
       "4     2019-10-07 00:00:56.319813  advert_open   \n",
       "...                          ...          ...   \n",
       "74192 2019-11-03 23:53:29.534986    tips_show   \n",
       "74193 2019-11-03 23:54:00.407086    tips_show   \n",
       "74194 2019-11-03 23:56:57.041825     search_1   \n",
       "74195 2019-11-03 23:57:06.232189    tips_show   \n",
       "74196 2019-11-03 23:58:12.532487    tips_show   \n",
       "\n",
       "                                       user  source  week         day  \n",
       "0      020292ab-89bc-4156-9acf-68bc2783f894   other    41  2019-10-07  \n",
       "1      020292ab-89bc-4156-9acf-68bc2783f894   other    41  2019-10-07  \n",
       "2      cf7eda61-9349-469f-ac27-e5b6f5ec475c  yandex    41  2019-10-07  \n",
       "3      020292ab-89bc-4156-9acf-68bc2783f894   other    41  2019-10-07  \n",
       "4      cf7eda61-9349-469f-ac27-e5b6f5ec475c  yandex    41  2019-10-07  \n",
       "...                                     ...     ...   ...         ...  \n",
       "74192  28fccdf4-7b9e-42f5-bc73-439a265f20e9  google    44  2019-11-03  \n",
       "74193  28fccdf4-7b9e-42f5-bc73-439a265f20e9  google    44  2019-11-03  \n",
       "74194  20850c8f-4135-4059-b13b-198d3ac59902  google    44  2019-11-03  \n",
       "74195  28fccdf4-7b9e-42f5-bc73-439a265f20e9  google    44  2019-11-03  \n",
       "74196  28fccdf4-7b9e-42f5-bc73-439a265f20e9  google    44  2019-11-03  \n",
       "\n",
       "[74197 rows x 6 columns]"
      ]
     },
     "execution_count": 89,
     "metadata": {},
     "output_type": "execute_result"
    }
   ],
   "source": [
    "df"
   ]
  },
  {
   "cell_type": "code",
   "execution_count": 90,
   "metadata": {},
   "outputs": [],
   "source": [
    "df[['time', 'event', 'user', 'source']].to_csv('12_final_tableau.csv', index = False)"
   ]
  },
  {
   "cell_type": "markdown",
   "metadata": {},
   "source": [
    "**Проверим импортировались ли данные в файл**"
   ]
  },
  {
   "cell_type": "code",
   "execution_count": 91,
   "metadata": {},
   "outputs": [
    {
     "data": {
      "text/html": [
       "<div>\n",
       "<style scoped>\n",
       "    .dataframe tbody tr th:only-of-type {\n",
       "        vertical-align: middle;\n",
       "    }\n",
       "\n",
       "    .dataframe tbody tr th {\n",
       "        vertical-align: top;\n",
       "    }\n",
       "\n",
       "    .dataframe thead th {\n",
       "        text-align: right;\n",
       "    }\n",
       "</style>\n",
       "<table border=\"1\" class=\"dataframe\">\n",
       "  <thead>\n",
       "    <tr style=\"text-align: right;\">\n",
       "      <th></th>\n",
       "      <th>time</th>\n",
       "      <th>event</th>\n",
       "      <th>user</th>\n",
       "      <th>source</th>\n",
       "    </tr>\n",
       "  </thead>\n",
       "  <tbody>\n",
       "    <tr>\n",
       "      <td>0</td>\n",
       "      <td>2019-10-07 00:00:00.431357</td>\n",
       "      <td>advert_open</td>\n",
       "      <td>020292ab-89bc-4156-9acf-68bc2783f894</td>\n",
       "      <td>other</td>\n",
       "    </tr>\n",
       "    <tr>\n",
       "      <td>1</td>\n",
       "      <td>2019-10-07 00:00:01.236320</td>\n",
       "      <td>tips_show</td>\n",
       "      <td>020292ab-89bc-4156-9acf-68bc2783f894</td>\n",
       "      <td>other</td>\n",
       "    </tr>\n",
       "    <tr>\n",
       "      <td>2</td>\n",
       "      <td>2019-10-07 00:00:02.245341</td>\n",
       "      <td>tips_show</td>\n",
       "      <td>cf7eda61-9349-469f-ac27-e5b6f5ec475c</td>\n",
       "      <td>yandex</td>\n",
       "    </tr>\n",
       "    <tr>\n",
       "      <td>3</td>\n",
       "      <td>2019-10-07 00:00:07.039334</td>\n",
       "      <td>tips_show</td>\n",
       "      <td>020292ab-89bc-4156-9acf-68bc2783f894</td>\n",
       "      <td>other</td>\n",
       "    </tr>\n",
       "    <tr>\n",
       "      <td>4</td>\n",
       "      <td>2019-10-07 00:00:56.319813</td>\n",
       "      <td>advert_open</td>\n",
       "      <td>cf7eda61-9349-469f-ac27-e5b6f5ec475c</td>\n",
       "      <td>yandex</td>\n",
       "    </tr>\n",
       "    <tr>\n",
       "      <td>...</td>\n",
       "      <td>...</td>\n",
       "      <td>...</td>\n",
       "      <td>...</td>\n",
       "      <td>...</td>\n",
       "    </tr>\n",
       "    <tr>\n",
       "      <td>74192</td>\n",
       "      <td>2019-11-03 23:53:29.534986</td>\n",
       "      <td>tips_show</td>\n",
       "      <td>28fccdf4-7b9e-42f5-bc73-439a265f20e9</td>\n",
       "      <td>google</td>\n",
       "    </tr>\n",
       "    <tr>\n",
       "      <td>74193</td>\n",
       "      <td>2019-11-03 23:54:00.407086</td>\n",
       "      <td>tips_show</td>\n",
       "      <td>28fccdf4-7b9e-42f5-bc73-439a265f20e9</td>\n",
       "      <td>google</td>\n",
       "    </tr>\n",
       "    <tr>\n",
       "      <td>74194</td>\n",
       "      <td>2019-11-03 23:56:57.041825</td>\n",
       "      <td>search_1</td>\n",
       "      <td>20850c8f-4135-4059-b13b-198d3ac59902</td>\n",
       "      <td>google</td>\n",
       "    </tr>\n",
       "    <tr>\n",
       "      <td>74195</td>\n",
       "      <td>2019-11-03 23:57:06.232189</td>\n",
       "      <td>tips_show</td>\n",
       "      <td>28fccdf4-7b9e-42f5-bc73-439a265f20e9</td>\n",
       "      <td>google</td>\n",
       "    </tr>\n",
       "    <tr>\n",
       "      <td>74196</td>\n",
       "      <td>2019-11-03 23:58:12.532487</td>\n",
       "      <td>tips_show</td>\n",
       "      <td>28fccdf4-7b9e-42f5-bc73-439a265f20e9</td>\n",
       "      <td>google</td>\n",
       "    </tr>\n",
       "  </tbody>\n",
       "</table>\n",
       "<p>74197 rows × 4 columns</p>\n",
       "</div>"
      ],
      "text/plain": [
       "                             time        event  \\\n",
       "0      2019-10-07 00:00:00.431357  advert_open   \n",
       "1      2019-10-07 00:00:01.236320    tips_show   \n",
       "2      2019-10-07 00:00:02.245341    tips_show   \n",
       "3      2019-10-07 00:00:07.039334    tips_show   \n",
       "4      2019-10-07 00:00:56.319813  advert_open   \n",
       "...                           ...          ...   \n",
       "74192  2019-11-03 23:53:29.534986    tips_show   \n",
       "74193  2019-11-03 23:54:00.407086    tips_show   \n",
       "74194  2019-11-03 23:56:57.041825     search_1   \n",
       "74195  2019-11-03 23:57:06.232189    tips_show   \n",
       "74196  2019-11-03 23:58:12.532487    tips_show   \n",
       "\n",
       "                                       user  source  \n",
       "0      020292ab-89bc-4156-9acf-68bc2783f894   other  \n",
       "1      020292ab-89bc-4156-9acf-68bc2783f894   other  \n",
       "2      cf7eda61-9349-469f-ac27-e5b6f5ec475c  yandex  \n",
       "3      020292ab-89bc-4156-9acf-68bc2783f894   other  \n",
       "4      cf7eda61-9349-469f-ac27-e5b6f5ec475c  yandex  \n",
       "...                                     ...     ...  \n",
       "74192  28fccdf4-7b9e-42f5-bc73-439a265f20e9  google  \n",
       "74193  28fccdf4-7b9e-42f5-bc73-439a265f20e9  google  \n",
       "74194  20850c8f-4135-4059-b13b-198d3ac59902  google  \n",
       "74195  28fccdf4-7b9e-42f5-bc73-439a265f20e9  google  \n",
       "74196  28fccdf4-7b9e-42f5-bc73-439a265f20e9  google  \n",
       "\n",
       "[74197 rows x 4 columns]"
      ]
     },
     "execution_count": 91,
     "metadata": {},
     "output_type": "execute_result"
    }
   ],
   "source": [
    "pd.read_csv('12_final_tableau.csv')"
   ]
  },
  {
   "cell_type": "markdown",
   "metadata": {},
   "source": [
    "***Всё в порядке можно делать ДашБорд***"
   ]
  },
  {
   "cell_type": "markdown",
   "metadata": {},
   "source": [
    "## [**Cсылка на ДашБорд - https://public.tableau.com/profile/vitaliy.tolmakov#!/vizhome/12_Final_Tolmakov_Vitaliy_DashBoard/sheet3?publish=yes**](https://public.tableau.com/profile/vitaliy.tolmakov#!/vizhome/12_Final_Tolmakov_Vitaliy_DashBoard/sheet3?publish=yes) "
   ]
  }
 ],
 "metadata": {
  "kernelspec": {
   "display_name": "Python 3",
   "language": "python",
   "name": "python3"
  },
  "language_info": {
   "codemirror_mode": {
    "name": "ipython",
    "version": 3
   },
   "file_extension": ".py",
   "mimetype": "text/x-python",
   "name": "python",
   "nbconvert_exporter": "python",
   "pygments_lexer": "ipython3",
   "version": "3.7.8"
  },
  "toc": {
   "base_numbering": 1,
   "nav_menu": {},
   "number_sections": false,
   "sideBar": true,
   "skip_h1_title": true,
   "title_cell": "Table of Contents",
   "title_sidebar": "Contents",
   "toc_cell": false,
   "toc_position": {
    "height": "calc(100% - 180px)",
    "left": "10px",
    "top": "150px",
    "width": "240.797px"
   },
   "toc_section_display": true,
   "toc_window_display": true
  }
 },
 "nbformat": 4,
 "nbformat_minor": 2
}
