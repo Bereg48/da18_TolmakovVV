{
 "cells": [
  {
   "cell_type": "markdown",
   "metadata": {},
   "source": [
    "# Определение перспективного тарифа для телеком компании  \n",
    "\n",
    "**Описание проекта**  \n",
    "\n",
    "Вы аналитик компании «Мегалайн» — федерального оператора сотовой связи. Клиентам предлагают два тарифных плана: «Смарт» и «Ультра». Чтобы скорректировать рекламный бюджет, коммерческий департамент хочет понять, какой тариф приносит больше денег.\n",
    "Вам предстоит сделать предварительный анализ тарифов на небольшой выборке клиентов. В вашем распоряжении данные 500 пользователей «Мегалайна»: кто они, откуда, каким тарифом пользуются, сколько звонков и сообщений каждый отправил за 2018 год. Нужно проанализировать поведение клиентов и сделать вывод — какой тариф лучше.  \n",
    "\n",
    "**Описание тарифов:**  \n",
    "\n",
    "*Тариф «Смарт»*  \n",
    "Ежемесячная плата: 550 рублей  \n",
    "Включено 500 минут разговора, 50 сообщений и 15 Гб интернет-трафика  \n",
    "Стоимость услуг сверх тарифного пакета:  \n",
    "минута разговора: 3 рубля  \n",
    "сообщение: 3 рубля  \n",
    "1 Гб интернет-трафика: 200 рублей  \n",
    "\n",
    "*Тариф «Ультра»*    \n",
    "Ежемесячная плата: 1950 рублей  \n",
    "Включено 3000 минут разговора, 1000 сообщений и 30 Гб интернет-трафика  \n",
    "Стоимость услуг сверх тарифного пакета:  \n",
    "минута разговора: 1 рубль  \n",
    "сообщение: 1 рубль  \n",
    "1 Гб интернет-трафика: 150 рублей  \n",
    "Обратите внимание: «Мегалайн» всегда округляет вверх значения минут и мегабайтов. Если пользователь проговорил всего 1 секунду, в тарифе засчитывается целая минута.  \n",
    "\n",
    "**Инструкция по выполнению проекта:**  \n",
    "\n",
    "### Шаг 1. Откройте файл с данными и изучите общую информацию\n",
    "Путь к файлам: \n",
    "/datasets/calls.csv. Скачать датасет  \n",
    "/datasets/internet.csv. Скачать датасет  \n",
    "/datasets/messages.csv. Скачать датасет  \n",
    "/datasets/tariffs.csv. Скачать датасет  \n",
    "/datasets/users.csv. Скачать датасет  \n",
    "\n",
    "### Шаг 2. Подготовьте данные  \n",
    "  * Приведите данные к нужным типам;  \n",
    "  * Найдите и исправьте ошибки в данных.  \n",
    "  * Поясните, какие ошибки вы нашли и как их исправили. Обратите внимание, что длительность многих звонков — 0.0 минут. Это могут быть пропущенные звонки. Обрабатывать ли эти нулевые значения, решать вам — оцените, как их отсутствие повлияет на результаты анализа.  \n",
    "  * Посчитайте для каждого пользователя:  \n",
    "  * количество сделанных звонков и израсходованных минут разговора по месяцам;  \n",
    "  * количество отправленных сообщений по месяцам;  \n",
    "  * объем израсходованного интернет-трафика по месяцам;  \n",
    "  * помесячную выручку с каждого пользователя (вычтите бесплатный лимит из суммарного количества звонков, сообщений и интернет-трафика; остаток умножьте на значение из тарифного плана; прибавьте абонентскую плату, соответствующую тарифному плану).  \n",
    "  \n",
    "### Шаг 3. Проанализируйте данные   \n",
    "  * Опишите поведение клиентов оператора, исходя из выборки.  \n",
    "  * Сколько минут разговора, сколько сообщений и какой объём интернет-трафика требуется пользователям каждого тарифа в месяц?  \n",
    "  * Посчитайте среднее количество, дисперсию и стандартное отклонение.   \n",
    "  * Постройте гистограммы. Опишите распределения.  \n",
    "  \n",
    "### Шаг 4. Проверьте гипотезы  \n",
    "  * средняя выручка пользователей тарифов «Ультра» и «Смарт» различается;  \n",
    "  * средняя выручка пользователей из Москвы отличается от выручки пользователей из других регионов;  \n",
    "  * Пороговое значение alpha задайте самостоятельно.  \n",
    "  \n",
    "Поясните:  \n",
    "  * как вы формулировали нулевую и альтернативную гипотезы;   \n",
    "  * какой критерий использовали для проверки гипотез и почему.   \n",
    "  \n",
    "### Шаг 5. Напишите общий вывод   \n",
    "\n",
    "**Описание данных**  \n",
    "\n",
    "*Таблица users (информация о пользователях):*  \n",
    "user_id — уникальный идентификатор пользователя  \n",
    "first_name — имя пользователя  \n",
    "last_name — фамилия пользователя  \n",
    "age — возраст пользователя (годы)  \n",
    "reg_date — дата подключения тарифа (день, месяц, год)  \n",
    "churn_date — дата прекращения пользования тарифом (если значение пропущено, то тариф ещё действовал на момент выгрузки данных)  \n",
    "city — город проживания пользователя  \n",
    "tariff — название тарифного плана  \n",
    "\n",
    "*Таблица calls (информация о звонках):*  \n",
    "id — уникальный номер звонка  \n",
    "call_date — дата звонка  \n",
    "duration — длительность звонка в минутах  \n",
    "user_id — идентификатор пользователя, сделавшего звонок  \n",
    "\n",
    "*Таблица messages (информация о сообщениях):*  \n",
    "id — уникальный номер сообщения  \n",
    "message_date — дата сообщения  \n",
    "user_id — идентификатор пользователя, отправившего сообщение  \n",
    "\n",
    "*Таблица internet (информация об интернет-сессиях):*  \n",
    "id — уникальный номер сессии  \n",
    "mb_used — объём потраченного за сессию интернет-трафика (в мегабайтах)  \n",
    "session_date — дата интернет-сессии  \n",
    "user_id — идентификатор пользователя  \n",
    "\n",
    "*Таблица tariffs (информация о тарифах):*  \n",
    "tariff_name — название тарифа  \n",
    "rub_monthly_fee — ежемесячная абонентская плата в рублях  \n",
    "minutes_included — количество минут разговора в месяц, включённых в абонентскую плату  \n",
    "messages_included — количество сообщений в месяц, включённых в абонентскую плату  \n",
    "mb_per_month_included — объём интернет-трафика, включённого в абонентскую плату (в мегабайтах)  \n",
    "rub_per_minute — стоимость минуты разговора сверх тарифного пакета (например, если в тарифе 100 минут разговора в месяц, то со 101 минуты будет взиматься плата)  \n",
    "rub_per_message — стоимость отправки сообщения сверх тарифного пакета  \n",
    "rub_per_gb — стоимость дополнительного гигабайта интернет-трафика сверх тарифного пакета (1 гигабайт = 1024 мегабайта)   \n"
   ]
  },
  {
   "cell_type": "markdown",
   "metadata": {},
   "source": [
    "**======================================================================**\n",
    "\n",
    "# СОДЕРЖАНИЕ <a id=\"soder\"></a>\n",
    "\n",
    "[Шаг 1. Откройте файлы с данными и изучите общую информацию.](#shag1)  \n",
    "\n",
    "[Шаг 2. Предобработка данных](#shag2)  \n",
    "  [2.1 Таблица `users`](#tabl1)  \n",
    "  [2.1.1 Столбец `user_id` - имя пользователя](#users1)  \n",
    "  [2.1.2 Столбец `age` - возраст](#users2)  \n",
    "  [2.1.3 Столбец `churn_date` - дата прекращения пользования тарифом](#users3)  \n",
    "  [2.1.4 Столбец `city` - город проживания пользователя](#users4)  \n",
    "  [2.1.5 Столбец `first_name` - имя пользователя](#users5)  \n",
    "  [2.1.6 Столбец `last_name` - имя пользователя](#users6)  \n",
    "  [2.1.7 Столбец `reg_date` - дата подключения тарифа (день, месяц, год)](#users7)  \n",
    "  [2.1.8 Столбец `tariff` - название тарифного плана](#users8)  \n",
    "  [2.2 Таблица `calls`](#tabl2)  \n",
    "  [2.2.1 Столбец `id` -уникальный номер звонка](#calls1)  \n",
    "  [2.2.2 Столбец `call_date` - дата звонка](#calls2)  \n",
    "  [2.2.3 Столбец `duration` - длительность звонка в минутах](#calls3)  \n",
    "  [2.2.4 Столбец `user_id ` - идентификатор пользователя, сделавшего звонок](#calls4)  \n",
    "  [2.3 Таблица `messages`](#tabl3)  \n",
    "  [2.3.1 Столбец `id` -уникальный номер сообщения](#messages1)  \n",
    "  [2.3.2 Столбец `message_date` - дата сообщения](#messages2)  \n",
    "  [2.3.3 Столбец `user_id` - идентификатор пользователя, отправившего сообщение](#messages3)  \n",
    "  [2.4 Таблица `internet`](#tabl4)  \n",
    "  [2.4.1 Столбец `id` -уникальный номер сообщения](#internet1)  \n",
    "  [2.4.2 Столбец `mb_used` - объём потраченного за сессию интернет-трафика (в мегабайтах)](#internet2)  \n",
    "  [2.4.3 Столбец `session_date` - дата интернет-сессии](#internet3)   \n",
    "  [2.4.4 Столбец `user_id` - идентификатор пользователя](#internet4)   \n",
    "  [2.5 Таблица `tariffs`](#tabl5)  \n",
    "  [2.6 Разбор дня 1 января в таблице `messages`](#1jan)  \n",
    "  [2.7 Вывод по предобработке](#tab_fin)\n",
    "  \n",
    "[Шаг 3. Расчет показателей для каждого абонента (пользователя)](#raschet)  \n",
    "  [3.1 Таблицы `calls`, `messages`, `internet`](#3tabl)  \n",
    "  [3.2 Таблица `abonents`](#abon)  \n",
    "  [3.3 Столбец `income`](#income)  \n",
    "    \n",
    "    \n",
    "\n",
    "[Шаг 4. Анализ данных](#shag4)   \n",
    "  [4.1 Расчет помесячного расхода минут разговора, сообщений и какой объём интернет-трафика для каждого тарифа](#analys1)  \n",
    "  [4.2 Расчитаем общие показатели всех клиентов по месяцам по обоим тарифам](#analys1a)  \n",
    "  [4.3 Расчитаем средние(медианные) показатели клиента по месяцам по обоим тарифам](#analys1b)  \n",
    "  [4.4 Распределение абонентов по кол-ву использованых услуг, гистограммы](#raspr)  \n",
    "  [4.5 Среднее количество, дисперсия и стандартное отклонение](#analys2)  \n",
    "  [Вывод](#analys_vivod)  \n",
    "\n",
    "[Шаг 5. Проверка гипотез](#shag5)  \n",
    "  [5.1 Гипотеза №1: средняя выручка пользователей тарифов «Ультра» и «Смарт» различается](#hipot1)  \n",
    "  [5.2 Гипотеза №2: средняя выручка пользователей из Москвы отличается от выручки пользователей из других регионов](#hipot2)  \n",
    "\n",
    "[Шаг 6. Общий вывод](#main_result)  \n",
    "\n",
    "**======================================================================**"
   ]
  },
  {
   "cell_type": "markdown",
   "metadata": {},
   "source": [
    "# Шаг 1. Откройте файлы с данными и изучите общую информацию. <a id=\"shag1\"></a>  \n",
    "[К содержанию](#soder)"
   ]
  },
  {
   "cell_type": "code",
   "execution_count": 1,
   "metadata": {},
   "outputs": [],
   "source": [
    "from pymystem3 import Mystem\n",
    "m = Mystem()\n",
    "\n",
    "import numpy as np\n",
    "import pandas as pd\n",
    "import matplotlib.pyplot as plt\n",
    "from IPython.display import display"
   ]
  },
  {
   "cell_type": "code",
   "execution_count": 2,
   "metadata": {
    "scrolled": false
   },
   "outputs": [
    {
     "name": "stdout",
     "output_type": "stream",
     "text": [
      "======= < DATASET > ===================================\n",
      "\n",
      "<class 'pandas.core.frame.DataFrame'>\n",
      "RangeIndex: 500 entries, 0 to 499\n",
      "Data columns (total 8 columns):\n",
      "user_id       500 non-null int64\n",
      "age           500 non-null int64\n",
      "churn_date    38 non-null object\n",
      "city          500 non-null object\n",
      "first_name    500 non-null object\n",
      "last_name     500 non-null object\n",
      "reg_date      500 non-null object\n",
      "tariff        500 non-null object\n",
      "dtypes: int64(2), object(6)\n",
      "memory usage: 31.4+ KB\n",
      "None\n"
     ]
    },
    {
     "data": {
      "text/html": [
       "<div>\n",
       "<style scoped>\n",
       "    .dataframe tbody tr th:only-of-type {\n",
       "        vertical-align: middle;\n",
       "    }\n",
       "\n",
       "    .dataframe tbody tr th {\n",
       "        vertical-align: top;\n",
       "    }\n",
       "\n",
       "    .dataframe thead th {\n",
       "        text-align: right;\n",
       "    }\n",
       "</style>\n",
       "<table border=\"1\" class=\"dataframe\">\n",
       "  <thead>\n",
       "    <tr style=\"text-align: right;\">\n",
       "      <th></th>\n",
       "      <th>user_id</th>\n",
       "      <th>age</th>\n",
       "      <th>churn_date</th>\n",
       "      <th>city</th>\n",
       "      <th>first_name</th>\n",
       "      <th>last_name</th>\n",
       "      <th>reg_date</th>\n",
       "      <th>tariff</th>\n",
       "    </tr>\n",
       "  </thead>\n",
       "  <tbody>\n",
       "    <tr>\n",
       "      <td>0</td>\n",
       "      <td>1000</td>\n",
       "      <td>52</td>\n",
       "      <td>NaN</td>\n",
       "      <td>Краснодар</td>\n",
       "      <td>Рафаил</td>\n",
       "      <td>Верещагин</td>\n",
       "      <td>2018-05-25</td>\n",
       "      <td>ultra</td>\n",
       "    </tr>\n",
       "    <tr>\n",
       "      <td>1</td>\n",
       "      <td>1001</td>\n",
       "      <td>41</td>\n",
       "      <td>NaN</td>\n",
       "      <td>Москва</td>\n",
       "      <td>Иван</td>\n",
       "      <td>Ежов</td>\n",
       "      <td>2018-11-01</td>\n",
       "      <td>smart</td>\n",
       "    </tr>\n",
       "    <tr>\n",
       "      <td>2</td>\n",
       "      <td>1002</td>\n",
       "      <td>59</td>\n",
       "      <td>NaN</td>\n",
       "      <td>Стерлитамак</td>\n",
       "      <td>Евгений</td>\n",
       "      <td>Абрамович</td>\n",
       "      <td>2018-06-17</td>\n",
       "      <td>smart</td>\n",
       "    </tr>\n",
       "    <tr>\n",
       "      <td>3</td>\n",
       "      <td>1003</td>\n",
       "      <td>23</td>\n",
       "      <td>NaN</td>\n",
       "      <td>Москва</td>\n",
       "      <td>Белла</td>\n",
       "      <td>Белякова</td>\n",
       "      <td>2018-08-17</td>\n",
       "      <td>ultra</td>\n",
       "    </tr>\n",
       "    <tr>\n",
       "      <td>4</td>\n",
       "      <td>1004</td>\n",
       "      <td>68</td>\n",
       "      <td>NaN</td>\n",
       "      <td>Новокузнецк</td>\n",
       "      <td>Татьяна</td>\n",
       "      <td>Авдеенко</td>\n",
       "      <td>2018-05-14</td>\n",
       "      <td>ultra</td>\n",
       "    </tr>\n",
       "  </tbody>\n",
       "</table>\n",
       "</div>"
      ],
      "text/plain": [
       "   user_id  age churn_date         city first_name  last_name    reg_date  \\\n",
       "0     1000   52        NaN    Краснодар     Рафаил  Верещагин  2018-05-25   \n",
       "1     1001   41        NaN       Москва       Иван       Ежов  2018-11-01   \n",
       "2     1002   59        NaN  Стерлитамак    Евгений  Абрамович  2018-06-17   \n",
       "3     1003   23        NaN       Москва      Белла   Белякова  2018-08-17   \n",
       "4     1004   68        NaN  Новокузнецк    Татьяна   Авдеенко  2018-05-14   \n",
       "\n",
       "  tariff  \n",
       "0  ultra  \n",
       "1  smart  \n",
       "2  smart  \n",
       "3  ultra  \n",
       "4  ultra  "
      ]
     },
     "metadata": {},
     "output_type": "display_data"
    },
    {
     "name": "stdout",
     "output_type": "stream",
     "text": [
      "\n",
      "======= < DATASET > ===================================\n",
      "\n",
      "<class 'pandas.core.frame.DataFrame'>\n",
      "RangeIndex: 202607 entries, 0 to 202606\n",
      "Data columns (total 4 columns):\n",
      "id           202607 non-null object\n",
      "call_date    202607 non-null object\n",
      "duration     202607 non-null float64\n",
      "user_id      202607 non-null int64\n",
      "dtypes: float64(1), int64(1), object(2)\n",
      "memory usage: 6.2+ MB\n",
      "None\n"
     ]
    },
    {
     "data": {
      "text/html": [
       "<div>\n",
       "<style scoped>\n",
       "    .dataframe tbody tr th:only-of-type {\n",
       "        vertical-align: middle;\n",
       "    }\n",
       "\n",
       "    .dataframe tbody tr th {\n",
       "        vertical-align: top;\n",
       "    }\n",
       "\n",
       "    .dataframe thead th {\n",
       "        text-align: right;\n",
       "    }\n",
       "</style>\n",
       "<table border=\"1\" class=\"dataframe\">\n",
       "  <thead>\n",
       "    <tr style=\"text-align: right;\">\n",
       "      <th></th>\n",
       "      <th>id</th>\n",
       "      <th>call_date</th>\n",
       "      <th>duration</th>\n",
       "      <th>user_id</th>\n",
       "    </tr>\n",
       "  </thead>\n",
       "  <tbody>\n",
       "    <tr>\n",
       "      <td>0</td>\n",
       "      <td>1000_0</td>\n",
       "      <td>2018-07-25</td>\n",
       "      <td>0.00</td>\n",
       "      <td>1000</td>\n",
       "    </tr>\n",
       "    <tr>\n",
       "      <td>1</td>\n",
       "      <td>1000_1</td>\n",
       "      <td>2018-08-17</td>\n",
       "      <td>0.00</td>\n",
       "      <td>1000</td>\n",
       "    </tr>\n",
       "    <tr>\n",
       "      <td>2</td>\n",
       "      <td>1000_2</td>\n",
       "      <td>2018-06-11</td>\n",
       "      <td>2.85</td>\n",
       "      <td>1000</td>\n",
       "    </tr>\n",
       "    <tr>\n",
       "      <td>3</td>\n",
       "      <td>1000_3</td>\n",
       "      <td>2018-09-21</td>\n",
       "      <td>13.80</td>\n",
       "      <td>1000</td>\n",
       "    </tr>\n",
       "    <tr>\n",
       "      <td>4</td>\n",
       "      <td>1000_4</td>\n",
       "      <td>2018-12-15</td>\n",
       "      <td>5.18</td>\n",
       "      <td>1000</td>\n",
       "    </tr>\n",
       "  </tbody>\n",
       "</table>\n",
       "</div>"
      ],
      "text/plain": [
       "       id   call_date  duration  user_id\n",
       "0  1000_0  2018-07-25      0.00     1000\n",
       "1  1000_1  2018-08-17      0.00     1000\n",
       "2  1000_2  2018-06-11      2.85     1000\n",
       "3  1000_3  2018-09-21     13.80     1000\n",
       "4  1000_4  2018-12-15      5.18     1000"
      ]
     },
     "metadata": {},
     "output_type": "display_data"
    },
    {
     "name": "stdout",
     "output_type": "stream",
     "text": [
      "\n",
      "======= < DATASET > ===================================\n",
      "\n",
      "<class 'pandas.core.frame.DataFrame'>\n",
      "RangeIndex: 123036 entries, 0 to 123035\n",
      "Data columns (total 3 columns):\n",
      "id              123036 non-null object\n",
      "message_date    123036 non-null object\n",
      "user_id         123036 non-null int64\n",
      "dtypes: int64(1), object(2)\n",
      "memory usage: 2.8+ MB\n",
      "None\n"
     ]
    },
    {
     "data": {
      "text/html": [
       "<div>\n",
       "<style scoped>\n",
       "    .dataframe tbody tr th:only-of-type {\n",
       "        vertical-align: middle;\n",
       "    }\n",
       "\n",
       "    .dataframe tbody tr th {\n",
       "        vertical-align: top;\n",
       "    }\n",
       "\n",
       "    .dataframe thead th {\n",
       "        text-align: right;\n",
       "    }\n",
       "</style>\n",
       "<table border=\"1\" class=\"dataframe\">\n",
       "  <thead>\n",
       "    <tr style=\"text-align: right;\">\n",
       "      <th></th>\n",
       "      <th>id</th>\n",
       "      <th>message_date</th>\n",
       "      <th>user_id</th>\n",
       "    </tr>\n",
       "  </thead>\n",
       "  <tbody>\n",
       "    <tr>\n",
       "      <td>0</td>\n",
       "      <td>1000_0</td>\n",
       "      <td>2018-06-27</td>\n",
       "      <td>1000</td>\n",
       "    </tr>\n",
       "    <tr>\n",
       "      <td>1</td>\n",
       "      <td>1000_1</td>\n",
       "      <td>2018-10-08</td>\n",
       "      <td>1000</td>\n",
       "    </tr>\n",
       "    <tr>\n",
       "      <td>2</td>\n",
       "      <td>1000_2</td>\n",
       "      <td>2018-08-04</td>\n",
       "      <td>1000</td>\n",
       "    </tr>\n",
       "    <tr>\n",
       "      <td>3</td>\n",
       "      <td>1000_3</td>\n",
       "      <td>2018-06-16</td>\n",
       "      <td>1000</td>\n",
       "    </tr>\n",
       "    <tr>\n",
       "      <td>4</td>\n",
       "      <td>1000_4</td>\n",
       "      <td>2018-12-05</td>\n",
       "      <td>1000</td>\n",
       "    </tr>\n",
       "  </tbody>\n",
       "</table>\n",
       "</div>"
      ],
      "text/plain": [
       "       id message_date  user_id\n",
       "0  1000_0   2018-06-27     1000\n",
       "1  1000_1   2018-10-08     1000\n",
       "2  1000_2   2018-08-04     1000\n",
       "3  1000_3   2018-06-16     1000\n",
       "4  1000_4   2018-12-05     1000"
      ]
     },
     "metadata": {},
     "output_type": "display_data"
    },
    {
     "name": "stdout",
     "output_type": "stream",
     "text": [
      "\n",
      "======= < DATASET > ===================================\n",
      "\n",
      "<class 'pandas.core.frame.DataFrame'>\n",
      "RangeIndex: 149396 entries, 0 to 149395\n",
      "Data columns (total 5 columns):\n",
      "Unnamed: 0      149396 non-null int64\n",
      "id              149396 non-null object\n",
      "mb_used         149396 non-null float64\n",
      "session_date    149396 non-null object\n",
      "user_id         149396 non-null int64\n",
      "dtypes: float64(1), int64(2), object(2)\n",
      "memory usage: 5.7+ MB\n",
      "None\n"
     ]
    },
    {
     "data": {
      "text/html": [
       "<div>\n",
       "<style scoped>\n",
       "    .dataframe tbody tr th:only-of-type {\n",
       "        vertical-align: middle;\n",
       "    }\n",
       "\n",
       "    .dataframe tbody tr th {\n",
       "        vertical-align: top;\n",
       "    }\n",
       "\n",
       "    .dataframe thead th {\n",
       "        text-align: right;\n",
       "    }\n",
       "</style>\n",
       "<table border=\"1\" class=\"dataframe\">\n",
       "  <thead>\n",
       "    <tr style=\"text-align: right;\">\n",
       "      <th></th>\n",
       "      <th>Unnamed: 0</th>\n",
       "      <th>id</th>\n",
       "      <th>mb_used</th>\n",
       "      <th>session_date</th>\n",
       "      <th>user_id</th>\n",
       "    </tr>\n",
       "  </thead>\n",
       "  <tbody>\n",
       "    <tr>\n",
       "      <td>0</td>\n",
       "      <td>0</td>\n",
       "      <td>1000_0</td>\n",
       "      <td>112.95</td>\n",
       "      <td>2018-11-25</td>\n",
       "      <td>1000</td>\n",
       "    </tr>\n",
       "    <tr>\n",
       "      <td>1</td>\n",
       "      <td>1</td>\n",
       "      <td>1000_1</td>\n",
       "      <td>1052.81</td>\n",
       "      <td>2018-09-07</td>\n",
       "      <td>1000</td>\n",
       "    </tr>\n",
       "    <tr>\n",
       "      <td>2</td>\n",
       "      <td>2</td>\n",
       "      <td>1000_2</td>\n",
       "      <td>1197.26</td>\n",
       "      <td>2018-06-25</td>\n",
       "      <td>1000</td>\n",
       "    </tr>\n",
       "    <tr>\n",
       "      <td>3</td>\n",
       "      <td>3</td>\n",
       "      <td>1000_3</td>\n",
       "      <td>550.27</td>\n",
       "      <td>2018-08-22</td>\n",
       "      <td>1000</td>\n",
       "    </tr>\n",
       "    <tr>\n",
       "      <td>4</td>\n",
       "      <td>4</td>\n",
       "      <td>1000_4</td>\n",
       "      <td>302.56</td>\n",
       "      <td>2018-09-24</td>\n",
       "      <td>1000</td>\n",
       "    </tr>\n",
       "  </tbody>\n",
       "</table>\n",
       "</div>"
      ],
      "text/plain": [
       "   Unnamed: 0      id  mb_used session_date  user_id\n",
       "0           0  1000_0   112.95   2018-11-25     1000\n",
       "1           1  1000_1  1052.81   2018-09-07     1000\n",
       "2           2  1000_2  1197.26   2018-06-25     1000\n",
       "3           3  1000_3   550.27   2018-08-22     1000\n",
       "4           4  1000_4   302.56   2018-09-24     1000"
      ]
     },
     "metadata": {},
     "output_type": "display_data"
    },
    {
     "name": "stdout",
     "output_type": "stream",
     "text": [
      "\n",
      "======= < DATASET > ===================================\n",
      "\n",
      "<class 'pandas.core.frame.DataFrame'>\n",
      "RangeIndex: 2 entries, 0 to 1\n",
      "Data columns (total 8 columns):\n",
      "messages_included        2 non-null int64\n",
      "mb_per_month_included    2 non-null int64\n",
      "minutes_included         2 non-null int64\n",
      "rub_monthly_fee          2 non-null int64\n",
      "rub_per_gb               2 non-null int64\n",
      "rub_per_message          2 non-null int64\n",
      "rub_per_minute           2 non-null int64\n",
      "tariff_name              2 non-null object\n",
      "dtypes: int64(7), object(1)\n",
      "memory usage: 256.0+ bytes\n",
      "None\n"
     ]
    },
    {
     "data": {
      "text/html": [
       "<div>\n",
       "<style scoped>\n",
       "    .dataframe tbody tr th:only-of-type {\n",
       "        vertical-align: middle;\n",
       "    }\n",
       "\n",
       "    .dataframe tbody tr th {\n",
       "        vertical-align: top;\n",
       "    }\n",
       "\n",
       "    .dataframe thead th {\n",
       "        text-align: right;\n",
       "    }\n",
       "</style>\n",
       "<table border=\"1\" class=\"dataframe\">\n",
       "  <thead>\n",
       "    <tr style=\"text-align: right;\">\n",
       "      <th></th>\n",
       "      <th>messages_included</th>\n",
       "      <th>mb_per_month_included</th>\n",
       "      <th>minutes_included</th>\n",
       "      <th>rub_monthly_fee</th>\n",
       "      <th>rub_per_gb</th>\n",
       "      <th>rub_per_message</th>\n",
       "      <th>rub_per_minute</th>\n",
       "      <th>tariff_name</th>\n",
       "    </tr>\n",
       "  </thead>\n",
       "  <tbody>\n",
       "    <tr>\n",
       "      <td>0</td>\n",
       "      <td>50</td>\n",
       "      <td>15360</td>\n",
       "      <td>500</td>\n",
       "      <td>550</td>\n",
       "      <td>200</td>\n",
       "      <td>3</td>\n",
       "      <td>3</td>\n",
       "      <td>smart</td>\n",
       "    </tr>\n",
       "    <tr>\n",
       "      <td>1</td>\n",
       "      <td>1000</td>\n",
       "      <td>30720</td>\n",
       "      <td>3000</td>\n",
       "      <td>1950</td>\n",
       "      <td>150</td>\n",
       "      <td>1</td>\n",
       "      <td>1</td>\n",
       "      <td>ultra</td>\n",
       "    </tr>\n",
       "  </tbody>\n",
       "</table>\n",
       "</div>"
      ],
      "text/plain": [
       "   messages_included  mb_per_month_included  minutes_included  \\\n",
       "0                 50                  15360               500   \n",
       "1               1000                  30720              3000   \n",
       "\n",
       "   rub_monthly_fee  rub_per_gb  rub_per_message  rub_per_minute tariff_name  \n",
       "0              550         200                3               3       smart  \n",
       "1             1950         150                1               1       ultra  "
      ]
     },
     "metadata": {},
     "output_type": "display_data"
    },
    {
     "name": "stdout",
     "output_type": "stream",
     "text": [
      "\n"
     ]
    }
   ],
   "source": [
    "calls = pd.read_csv(\"/datasets/calls.csv\", sep=\",\")\n",
    "internet = pd.read_csv(\"/datasets/internet.csv\", sep=\",\")\n",
    "messages = pd.read_csv(\"/datasets/messages.csv\", sep=\",\")\n",
    "tariffs = pd.read_csv(\"/datasets/tariffs.csv\", sep=\",\")\n",
    "users = pd.read_csv(\"/datasets/users.csv\", sep=\",\")\n",
    "\n",
    "def dataset_info(name_dataset): # Для первичного ознакомления с ДатаСетом\n",
    "    print(name_dataset.info())\n",
    "    display(name_dataset.head())\n",
    "    \n",
    "for ds in [users, calls, messages, internet, tariffs]:\n",
    "    print('======= < DATASET > ===================================')\n",
    "    print()\n",
    "    dataset_info(ds)\n",
    "    print()"
   ]
  },
  {
   "cell_type": "markdown",
   "metadata": {},
   "source": [
    "**ВЫВОД: Почти все столбцы заполнены. Только 1 столбец - `churn_date` в таблице `users` мало значений, из задания нам сказано: `churn_date` - дата прекращения пользования тарифом (если значение пропущено, то тариф ещё действовал на момент выгрузки данных), - так, что здесь тоже скорее всего всё  в порядке. Надо будет поменять типы на DataTime, где присутствуют даты, и некоторуе числовые данные поменять на int. Проанализируем таблицы поочереди на корректность самих данных, замену типа, дубликаты. Начнем с `users`** "
   ]
  },
  {
   "cell_type": "markdown",
   "metadata": {},
   "source": [
    "# Шаг 2. Предобработка данных<a id=\"shag2\"></a>  \n",
    "[К содержанию](#soder)"
   ]
  },
  {
   "cell_type": "markdown",
   "metadata": {},
   "source": [
    "## 2.1 Таблица `users`<a id=\"tabl1\"></a>  \n",
    "[К содержанию](#soder)"
   ]
  },
  {
   "cell_type": "code",
   "execution_count": 3,
   "metadata": {
    "scrolled": false
   },
   "outputs": [
    {
     "name": "stdout",
     "output_type": "stream",
     "text": [
      "<class 'pandas.core.frame.DataFrame'>\n",
      "RangeIndex: 500 entries, 0 to 499\n",
      "Data columns (total 8 columns):\n",
      "user_id       500 non-null int64\n",
      "age           500 non-null int64\n",
      "churn_date    38 non-null object\n",
      "city          500 non-null object\n",
      "first_name    500 non-null object\n",
      "last_name     500 non-null object\n",
      "reg_date      500 non-null object\n",
      "tariff        500 non-null object\n",
      "dtypes: int64(2), object(6)\n",
      "memory usage: 31.4+ KB\n"
     ]
    },
    {
     "data": {
      "text/plain": [
       "None"
      ]
     },
     "metadata": {},
     "output_type": "display_data"
    },
    {
     "data": {
      "text/html": [
       "<div>\n",
       "<style scoped>\n",
       "    .dataframe tbody tr th:only-of-type {\n",
       "        vertical-align: middle;\n",
       "    }\n",
       "\n",
       "    .dataframe tbody tr th {\n",
       "        vertical-align: top;\n",
       "    }\n",
       "\n",
       "    .dataframe thead th {\n",
       "        text-align: right;\n",
       "    }\n",
       "</style>\n",
       "<table border=\"1\" class=\"dataframe\">\n",
       "  <thead>\n",
       "    <tr style=\"text-align: right;\">\n",
       "      <th></th>\n",
       "      <th>user_id</th>\n",
       "      <th>age</th>\n",
       "      <th>churn_date</th>\n",
       "      <th>city</th>\n",
       "      <th>first_name</th>\n",
       "      <th>last_name</th>\n",
       "      <th>reg_date</th>\n",
       "      <th>tariff</th>\n",
       "    </tr>\n",
       "  </thead>\n",
       "  <tbody>\n",
       "    <tr>\n",
       "      <td>0</td>\n",
       "      <td>1000</td>\n",
       "      <td>52</td>\n",
       "      <td>NaN</td>\n",
       "      <td>Краснодар</td>\n",
       "      <td>Рафаил</td>\n",
       "      <td>Верещагин</td>\n",
       "      <td>2018-05-25</td>\n",
       "      <td>ultra</td>\n",
       "    </tr>\n",
       "    <tr>\n",
       "      <td>1</td>\n",
       "      <td>1001</td>\n",
       "      <td>41</td>\n",
       "      <td>NaN</td>\n",
       "      <td>Москва</td>\n",
       "      <td>Иван</td>\n",
       "      <td>Ежов</td>\n",
       "      <td>2018-11-01</td>\n",
       "      <td>smart</td>\n",
       "    </tr>\n",
       "    <tr>\n",
       "      <td>2</td>\n",
       "      <td>1002</td>\n",
       "      <td>59</td>\n",
       "      <td>NaN</td>\n",
       "      <td>Стерлитамак</td>\n",
       "      <td>Евгений</td>\n",
       "      <td>Абрамович</td>\n",
       "      <td>2018-06-17</td>\n",
       "      <td>smart</td>\n",
       "    </tr>\n",
       "    <tr>\n",
       "      <td>3</td>\n",
       "      <td>1003</td>\n",
       "      <td>23</td>\n",
       "      <td>NaN</td>\n",
       "      <td>Москва</td>\n",
       "      <td>Белла</td>\n",
       "      <td>Белякова</td>\n",
       "      <td>2018-08-17</td>\n",
       "      <td>ultra</td>\n",
       "    </tr>\n",
       "    <tr>\n",
       "      <td>4</td>\n",
       "      <td>1004</td>\n",
       "      <td>68</td>\n",
       "      <td>NaN</td>\n",
       "      <td>Новокузнецк</td>\n",
       "      <td>Татьяна</td>\n",
       "      <td>Авдеенко</td>\n",
       "      <td>2018-05-14</td>\n",
       "      <td>ultra</td>\n",
       "    </tr>\n",
       "    <tr>\n",
       "      <td>...</td>\n",
       "      <td>...</td>\n",
       "      <td>...</td>\n",
       "      <td>...</td>\n",
       "      <td>...</td>\n",
       "      <td>...</td>\n",
       "      <td>...</td>\n",
       "      <td>...</td>\n",
       "      <td>...</td>\n",
       "    </tr>\n",
       "    <tr>\n",
       "      <td>495</td>\n",
       "      <td>1495</td>\n",
       "      <td>65</td>\n",
       "      <td>NaN</td>\n",
       "      <td>Иркутск</td>\n",
       "      <td>Авксентий</td>\n",
       "      <td>Фокин</td>\n",
       "      <td>2018-08-28</td>\n",
       "      <td>ultra</td>\n",
       "    </tr>\n",
       "    <tr>\n",
       "      <td>496</td>\n",
       "      <td>1496</td>\n",
       "      <td>36</td>\n",
       "      <td>NaN</td>\n",
       "      <td>Вологда</td>\n",
       "      <td>Трифон</td>\n",
       "      <td>Блохин</td>\n",
       "      <td>2018-01-27</td>\n",
       "      <td>smart</td>\n",
       "    </tr>\n",
       "    <tr>\n",
       "      <td>497</td>\n",
       "      <td>1497</td>\n",
       "      <td>32</td>\n",
       "      <td>NaN</td>\n",
       "      <td>Челябинск</td>\n",
       "      <td>Каролина</td>\n",
       "      <td>Агеева</td>\n",
       "      <td>2018-10-09</td>\n",
       "      <td>smart</td>\n",
       "    </tr>\n",
       "    <tr>\n",
       "      <td>498</td>\n",
       "      <td>1498</td>\n",
       "      <td>68</td>\n",
       "      <td>2018-10-25</td>\n",
       "      <td>Владикавказ</td>\n",
       "      <td>Всеволод</td>\n",
       "      <td>Акимчин</td>\n",
       "      <td>2018-07-19</td>\n",
       "      <td>smart</td>\n",
       "    </tr>\n",
       "    <tr>\n",
       "      <td>499</td>\n",
       "      <td>1499</td>\n",
       "      <td>35</td>\n",
       "      <td>NaN</td>\n",
       "      <td>Пермь</td>\n",
       "      <td>Гектор</td>\n",
       "      <td>Корнилов</td>\n",
       "      <td>2018-09-27</td>\n",
       "      <td>smart</td>\n",
       "    </tr>\n",
       "  </tbody>\n",
       "</table>\n",
       "<p>500 rows × 8 columns</p>\n",
       "</div>"
      ],
      "text/plain": [
       "     user_id  age  churn_date         city first_name  last_name    reg_date  \\\n",
       "0       1000   52         NaN    Краснодар     Рафаил  Верещагин  2018-05-25   \n",
       "1       1001   41         NaN       Москва       Иван       Ежов  2018-11-01   \n",
       "2       1002   59         NaN  Стерлитамак    Евгений  Абрамович  2018-06-17   \n",
       "3       1003   23         NaN       Москва      Белла   Белякова  2018-08-17   \n",
       "4       1004   68         NaN  Новокузнецк    Татьяна   Авдеенко  2018-05-14   \n",
       "..       ...  ...         ...          ...        ...        ...         ...   \n",
       "495     1495   65         NaN      Иркутск  Авксентий      Фокин  2018-08-28   \n",
       "496     1496   36         NaN      Вологда     Трифон     Блохин  2018-01-27   \n",
       "497     1497   32         NaN    Челябинск   Каролина     Агеева  2018-10-09   \n",
       "498     1498   68  2018-10-25  Владикавказ   Всеволод    Акимчин  2018-07-19   \n",
       "499     1499   35         NaN        Пермь     Гектор   Корнилов  2018-09-27   \n",
       "\n",
       "    tariff  \n",
       "0    ultra  \n",
       "1    smart  \n",
       "2    smart  \n",
       "3    ultra  \n",
       "4    ultra  \n",
       "..     ...  \n",
       "495  ultra  \n",
       "496  smart  \n",
       "497  smart  \n",
       "498  smart  \n",
       "499  smart  \n",
       "\n",
       "[500 rows x 8 columns]"
      ]
     },
     "metadata": {},
     "output_type": "display_data"
    }
   ],
   "source": [
    "display(users.info())\n",
    "display(users)"
   ]
  },
  {
   "cell_type": "markdown",
   "metadata": {},
   "source": [
    "### 2.1.1 Столбец `user_id` - уникальный идентификатор пользователя<a id=\"users1\"></a>  \n",
    "[К содержанию](#soder)"
   ]
  },
  {
   "cell_type": "markdown",
   "metadata": {},
   "source": [
    "***В этом столбце важно проверить, чтобы не было дубликатов, так как `user_id` - уникальный ключ, а также посмотрим разброс значений (все ли четырехзначные - однотипные)***  \n",
    "\n",
    "**Напишем функцию `id_reseach` для проверки столбца с id абонента, так как такой столбец встретится еще не раз.**"
   ]
  },
  {
   "cell_type": "code",
   "execution_count": 4,
   "metadata": {},
   "outputs": [],
   "source": [
    "def id_reseach(id_column): \n",
    "    print(id_column.value_counts())\n",
    "    print()\n",
    "    print(id_column.describe())\n",
    "    print()\n",
    "    print('Уникальных значений =',len(id_column.unique()))"
   ]
  },
  {
   "cell_type": "code",
   "execution_count": 5,
   "metadata": {
    "scrolled": false
   },
   "outputs": [
    {
     "name": "stdout",
     "output_type": "stream",
     "text": [
      "1023    1\n",
      "1194    1\n",
      "1181    1\n",
      "1182    1\n",
      "1183    1\n",
      "       ..\n",
      "1362    1\n",
      "1363    1\n",
      "1364    1\n",
      "1365    1\n",
      "1024    1\n",
      "Name: user_id, Length: 500, dtype: int64\n",
      "\n",
      "count     500.000000\n",
      "mean     1249.500000\n",
      "std       144.481833\n",
      "min      1000.000000\n",
      "25%      1124.750000\n",
      "50%      1249.500000\n",
      "75%      1374.250000\n",
      "max      1499.000000\n",
      "Name: user_id, dtype: float64\n",
      "\n",
      "Уникальных значений = 500\n"
     ]
    }
   ],
   "source": [
    "id_reseach(users['user_id'])"
   ]
  },
  {
   "cell_type": "markdown",
   "metadata": {},
   "source": [
    "***Вывод: Столбец корректен - все значения идут по порядку от 1000 до 1499 - 500 уникальных значений***"
   ]
  },
  {
   "cell_type": "markdown",
   "metadata": {},
   "source": [
    "### 2.1.2 Столбец `age` - возраст<a id=\"users2\"></a>  \n",
    "[К содержанию](#soder)"
   ]
  },
  {
   "cell_type": "code",
   "execution_count": 6,
   "metadata": {},
   "outputs": [
    {
     "data": {
      "text/plain": [
       "count    500.00000\n",
       "mean      46.58800\n",
       "std       16.66763\n",
       "min       18.00000\n",
       "25%       32.00000\n",
       "50%       46.00000\n",
       "75%       62.00000\n",
       "max       75.00000\n",
       "Name: age, dtype: float64"
      ]
     },
     "execution_count": 6,
     "metadata": {},
     "output_type": "execute_result"
    }
   ],
   "source": [
    "users['age'].describe()"
   ]
  },
  {
   "cell_type": "markdown",
   "metadata": {},
   "source": [
    "**Вывод: Столбец вполне корректен**"
   ]
  },
  {
   "cell_type": "markdown",
   "metadata": {},
   "source": [
    "### 2.1.3 Столбец `churn_date` - дата прекращения пользования тарифом  \n",
    "(если значение пропущено, то тариф ещё действовал на момент выгрузки данных)<a id=\"users3\"></a>  \n",
    "[К содержанию](#soder)"
   ]
  },
  {
   "cell_type": "code",
   "execution_count": 7,
   "metadata": {},
   "outputs": [
    {
     "data": {
      "text/plain": [
       "0             NaN\n",
       "1             NaN\n",
       "2             NaN\n",
       "3             NaN\n",
       "4             NaN\n",
       "          ...    \n",
       "495           NaN\n",
       "496           NaN\n",
       "497           NaN\n",
       "498    2018-10-25\n",
       "499           NaN\n",
       "Name: churn_date, Length: 500, dtype: object"
      ]
     },
     "metadata": {},
     "output_type": "display_data"
    },
    {
     "data": {
      "text/html": [
       "<div>\n",
       "<style scoped>\n",
       "    .dataframe tbody tr th:only-of-type {\n",
       "        vertical-align: middle;\n",
       "    }\n",
       "\n",
       "    .dataframe tbody tr th {\n",
       "        vertical-align: top;\n",
       "    }\n",
       "\n",
       "    .dataframe thead th {\n",
       "        text-align: right;\n",
       "    }\n",
       "</style>\n",
       "<table border=\"1\" class=\"dataframe\">\n",
       "  <thead>\n",
       "    <tr style=\"text-align: right;\">\n",
       "      <th></th>\n",
       "      <th>user_id</th>\n",
       "      <th>age</th>\n",
       "      <th>churn_date</th>\n",
       "      <th>city</th>\n",
       "      <th>first_name</th>\n",
       "      <th>last_name</th>\n",
       "      <th>reg_date</th>\n",
       "      <th>tariff</th>\n",
       "    </tr>\n",
       "  </thead>\n",
       "  <tbody>\n",
       "    <tr>\n",
       "      <td>19</td>\n",
       "      <td>1019</td>\n",
       "      <td>63</td>\n",
       "      <td>2018-10-05</td>\n",
       "      <td>Томск</td>\n",
       "      <td>Игнатий</td>\n",
       "      <td>Круглов</td>\n",
       "      <td>2018-05-16</td>\n",
       "      <td>ultra</td>\n",
       "    </tr>\n",
       "    <tr>\n",
       "      <td>20</td>\n",
       "      <td>1020</td>\n",
       "      <td>59</td>\n",
       "      <td>2018-12-18</td>\n",
       "      <td>Чита</td>\n",
       "      <td>Тала</td>\n",
       "      <td>Костина</td>\n",
       "      <td>2018-10-22</td>\n",
       "      <td>smart</td>\n",
       "    </tr>\n",
       "    <tr>\n",
       "      <td>34</td>\n",
       "      <td>1034</td>\n",
       "      <td>66</td>\n",
       "      <td>2018-11-21</td>\n",
       "      <td>Вологда</td>\n",
       "      <td>Святослав</td>\n",
       "      <td>Бондарев</td>\n",
       "      <td>2018-08-26</td>\n",
       "      <td>smart</td>\n",
       "    </tr>\n",
       "    <tr>\n",
       "      <td>50</td>\n",
       "      <td>1050</td>\n",
       "      <td>44</td>\n",
       "      <td>2018-10-03</td>\n",
       "      <td>Тюмень</td>\n",
       "      <td>Рузана</td>\n",
       "      <td>Аничкина</td>\n",
       "      <td>2018-06-16</td>\n",
       "      <td>ultra</td>\n",
       "    </tr>\n",
       "    <tr>\n",
       "      <td>51</td>\n",
       "      <td>1051</td>\n",
       "      <td>37</td>\n",
       "      <td>2018-10-14</td>\n",
       "      <td>Москва</td>\n",
       "      <td>Кристина</td>\n",
       "      <td>Сомова</td>\n",
       "      <td>2018-05-28</td>\n",
       "      <td>smart</td>\n",
       "    </tr>\n",
       "    <tr>\n",
       "      <td>56</td>\n",
       "      <td>1056</td>\n",
       "      <td>73</td>\n",
       "      <td>2018-10-14</td>\n",
       "      <td>Иркутск</td>\n",
       "      <td>Радислав</td>\n",
       "      <td>Артемьев</td>\n",
       "      <td>2018-04-13</td>\n",
       "      <td>smart</td>\n",
       "    </tr>\n",
       "    <tr>\n",
       "      <td>62</td>\n",
       "      <td>1062</td>\n",
       "      <td>24</td>\n",
       "      <td>2018-12-09</td>\n",
       "      <td>Москва</td>\n",
       "      <td>Александр</td>\n",
       "      <td>Коршунов</td>\n",
       "      <td>2018-11-16</td>\n",
       "      <td>smart</td>\n",
       "    </tr>\n",
       "    <tr>\n",
       "      <td>63</td>\n",
       "      <td>1063</td>\n",
       "      <td>45</td>\n",
       "      <td>2018-12-11</td>\n",
       "      <td>Тула</td>\n",
       "      <td>Таира</td>\n",
       "      <td>Климова</td>\n",
       "      <td>2018-04-12</td>\n",
       "      <td>ultra</td>\n",
       "    </tr>\n",
       "    <tr>\n",
       "      <td>64</td>\n",
       "      <td>1064</td>\n",
       "      <td>55</td>\n",
       "      <td>2018-12-26</td>\n",
       "      <td>Якутск</td>\n",
       "      <td>Динара</td>\n",
       "      <td>Алфеева</td>\n",
       "      <td>2018-03-17</td>\n",
       "      <td>smart</td>\n",
       "    </tr>\n",
       "    <tr>\n",
       "      <td>65</td>\n",
       "      <td>1065</td>\n",
       "      <td>53</td>\n",
       "      <td>2018-12-09</td>\n",
       "      <td>Москва</td>\n",
       "      <td>Роза</td>\n",
       "      <td>Игнатова</td>\n",
       "      <td>2018-03-08</td>\n",
       "      <td>smart</td>\n",
       "    </tr>\n",
       "  </tbody>\n",
       "</table>\n",
       "</div>"
      ],
      "text/plain": [
       "    user_id  age  churn_date     city first_name last_name    reg_date tariff\n",
       "19     1019   63  2018-10-05    Томск    Игнатий   Круглов  2018-05-16  ultra\n",
       "20     1020   59  2018-12-18     Чита       Тала   Костина  2018-10-22  smart\n",
       "34     1034   66  2018-11-21  Вологда  Святослав  Бондарев  2018-08-26  smart\n",
       "50     1050   44  2018-10-03   Тюмень     Рузана  Аничкина  2018-06-16  ultra\n",
       "51     1051   37  2018-10-14   Москва   Кристина    Сомова  2018-05-28  smart\n",
       "56     1056   73  2018-10-14  Иркутск   Радислав  Артемьев  2018-04-13  smart\n",
       "62     1062   24  2018-12-09   Москва  Александр  Коршунов  2018-11-16  smart\n",
       "63     1063   45  2018-12-11     Тула      Таира   Климова  2018-04-12  ultra\n",
       "64     1064   55  2018-12-26   Якутск     Динара   Алфеева  2018-03-17  smart\n",
       "65     1065   53  2018-12-09   Москва       Роза  Игнатова  2018-03-08  smart"
      ]
     },
     "metadata": {},
     "output_type": "display_data"
    },
    {
     "name": "stdout",
     "output_type": "stream",
     "text": [
      "count             38\n",
      "unique            33\n",
      "top       2018-10-03\n",
      "freq               2\n",
      "Name: churn_date, dtype: object\n"
     ]
    }
   ],
   "source": [
    "display(users['churn_date'])\n",
    "display(users.query('churn_date.isna() == False').head(10))\n",
    "print(users['churn_date'].describe())"
   ]
  },
  {
   "cell_type": "markdown",
   "metadata": {},
   "source": [
    "***С данными вроде всё в порядке, только поменяем тип на datetime64 (по условию определено, что отсутствующие значения имеют свою значимость)***"
   ]
  },
  {
   "cell_type": "code",
   "execution_count": 8,
   "metadata": {},
   "outputs": [],
   "source": [
    "users['churn_date'] = pd.to_datetime(users['churn_date'])\n"
   ]
  },
  {
   "cell_type": "code",
   "execution_count": 9,
   "metadata": {},
   "outputs": [
    {
     "data": {
      "text/plain": [
       "0            NaT\n",
       "1            NaT\n",
       "2            NaT\n",
       "3            NaT\n",
       "4            NaT\n",
       "         ...    \n",
       "495          NaT\n",
       "496          NaT\n",
       "497          NaT\n",
       "498   2018-10-25\n",
       "499          NaT\n",
       "Name: churn_date, Length: 500, dtype: datetime64[ns]"
      ]
     },
     "metadata": {},
     "output_type": "display_data"
    },
    {
     "data": {
      "text/html": [
       "<div>\n",
       "<style scoped>\n",
       "    .dataframe tbody tr th:only-of-type {\n",
       "        vertical-align: middle;\n",
       "    }\n",
       "\n",
       "    .dataframe tbody tr th {\n",
       "        vertical-align: top;\n",
       "    }\n",
       "\n",
       "    .dataframe thead th {\n",
       "        text-align: right;\n",
       "    }\n",
       "</style>\n",
       "<table border=\"1\" class=\"dataframe\">\n",
       "  <thead>\n",
       "    <tr style=\"text-align: right;\">\n",
       "      <th></th>\n",
       "      <th>user_id</th>\n",
       "      <th>age</th>\n",
       "      <th>churn_date</th>\n",
       "      <th>city</th>\n",
       "      <th>first_name</th>\n",
       "      <th>last_name</th>\n",
       "      <th>reg_date</th>\n",
       "      <th>tariff</th>\n",
       "    </tr>\n",
       "  </thead>\n",
       "  <tbody>\n",
       "    <tr>\n",
       "      <td>19</td>\n",
       "      <td>1019</td>\n",
       "      <td>63</td>\n",
       "      <td>2018-10-05</td>\n",
       "      <td>Томск</td>\n",
       "      <td>Игнатий</td>\n",
       "      <td>Круглов</td>\n",
       "      <td>2018-05-16</td>\n",
       "      <td>ultra</td>\n",
       "    </tr>\n",
       "    <tr>\n",
       "      <td>20</td>\n",
       "      <td>1020</td>\n",
       "      <td>59</td>\n",
       "      <td>2018-12-18</td>\n",
       "      <td>Чита</td>\n",
       "      <td>Тала</td>\n",
       "      <td>Костина</td>\n",
       "      <td>2018-10-22</td>\n",
       "      <td>smart</td>\n",
       "    </tr>\n",
       "    <tr>\n",
       "      <td>34</td>\n",
       "      <td>1034</td>\n",
       "      <td>66</td>\n",
       "      <td>2018-11-21</td>\n",
       "      <td>Вологда</td>\n",
       "      <td>Святослав</td>\n",
       "      <td>Бондарев</td>\n",
       "      <td>2018-08-26</td>\n",
       "      <td>smart</td>\n",
       "    </tr>\n",
       "    <tr>\n",
       "      <td>50</td>\n",
       "      <td>1050</td>\n",
       "      <td>44</td>\n",
       "      <td>2018-10-03</td>\n",
       "      <td>Тюмень</td>\n",
       "      <td>Рузана</td>\n",
       "      <td>Аничкина</td>\n",
       "      <td>2018-06-16</td>\n",
       "      <td>ultra</td>\n",
       "    </tr>\n",
       "    <tr>\n",
       "      <td>51</td>\n",
       "      <td>1051</td>\n",
       "      <td>37</td>\n",
       "      <td>2018-10-14</td>\n",
       "      <td>Москва</td>\n",
       "      <td>Кристина</td>\n",
       "      <td>Сомова</td>\n",
       "      <td>2018-05-28</td>\n",
       "      <td>smart</td>\n",
       "    </tr>\n",
       "    <tr>\n",
       "      <td>56</td>\n",
       "      <td>1056</td>\n",
       "      <td>73</td>\n",
       "      <td>2018-10-14</td>\n",
       "      <td>Иркутск</td>\n",
       "      <td>Радислав</td>\n",
       "      <td>Артемьев</td>\n",
       "      <td>2018-04-13</td>\n",
       "      <td>smart</td>\n",
       "    </tr>\n",
       "    <tr>\n",
       "      <td>62</td>\n",
       "      <td>1062</td>\n",
       "      <td>24</td>\n",
       "      <td>2018-12-09</td>\n",
       "      <td>Москва</td>\n",
       "      <td>Александр</td>\n",
       "      <td>Коршунов</td>\n",
       "      <td>2018-11-16</td>\n",
       "      <td>smart</td>\n",
       "    </tr>\n",
       "    <tr>\n",
       "      <td>63</td>\n",
       "      <td>1063</td>\n",
       "      <td>45</td>\n",
       "      <td>2018-12-11</td>\n",
       "      <td>Тула</td>\n",
       "      <td>Таира</td>\n",
       "      <td>Климова</td>\n",
       "      <td>2018-04-12</td>\n",
       "      <td>ultra</td>\n",
       "    </tr>\n",
       "    <tr>\n",
       "      <td>64</td>\n",
       "      <td>1064</td>\n",
       "      <td>55</td>\n",
       "      <td>2018-12-26</td>\n",
       "      <td>Якутск</td>\n",
       "      <td>Динара</td>\n",
       "      <td>Алфеева</td>\n",
       "      <td>2018-03-17</td>\n",
       "      <td>smart</td>\n",
       "    </tr>\n",
       "    <tr>\n",
       "      <td>65</td>\n",
       "      <td>1065</td>\n",
       "      <td>53</td>\n",
       "      <td>2018-12-09</td>\n",
       "      <td>Москва</td>\n",
       "      <td>Роза</td>\n",
       "      <td>Игнатова</td>\n",
       "      <td>2018-03-08</td>\n",
       "      <td>smart</td>\n",
       "    </tr>\n",
       "  </tbody>\n",
       "</table>\n",
       "</div>"
      ],
      "text/plain": [
       "    user_id  age churn_date     city first_name last_name    reg_date tariff\n",
       "19     1019   63 2018-10-05    Томск    Игнатий   Круглов  2018-05-16  ultra\n",
       "20     1020   59 2018-12-18     Чита       Тала   Костина  2018-10-22  smart\n",
       "34     1034   66 2018-11-21  Вологда  Святослав  Бондарев  2018-08-26  smart\n",
       "50     1050   44 2018-10-03   Тюмень     Рузана  Аничкина  2018-06-16  ultra\n",
       "51     1051   37 2018-10-14   Москва   Кристина    Сомова  2018-05-28  smart\n",
       "56     1056   73 2018-10-14  Иркутск   Радислав  Артемьев  2018-04-13  smart\n",
       "62     1062   24 2018-12-09   Москва  Александр  Коршунов  2018-11-16  smart\n",
       "63     1063   45 2018-12-11     Тула      Таира   Климова  2018-04-12  ultra\n",
       "64     1064   55 2018-12-26   Якутск     Динара   Алфеева  2018-03-17  smart\n",
       "65     1065   53 2018-12-09   Москва       Роза  Игнатова  2018-03-08  smart"
      ]
     },
     "metadata": {},
     "output_type": "display_data"
    },
    {
     "name": "stdout",
     "output_type": "stream",
     "text": [
      "count                      38\n",
      "unique                     33\n",
      "top       2018-10-03 00:00:00\n",
      "freq                        2\n",
      "first     2018-08-17 00:00:00\n",
      "last      2018-12-30 00:00:00\n",
      "Name: churn_date, dtype: object\n"
     ]
    }
   ],
   "source": [
    "display(users['churn_date'])\n",
    "display(users.query('churn_date.isna() == False').head(10))\n",
    "print(users['churn_date'].describe())"
   ]
  },
  {
   "cell_type": "markdown",
   "metadata": {},
   "source": [
    "**ВЫВОД: Всё готово.**"
   ]
  },
  {
   "cell_type": "markdown",
   "metadata": {},
   "source": [
    "### 2.1.4 Столбец `city` - город проживания пользователя<a id=\"users4\"></a>  \n",
    "[К содержанию](#soder)"
   ]
  },
  {
   "cell_type": "code",
   "execution_count": 10,
   "metadata": {},
   "outputs": [
    {
     "data": {
      "text/plain": [
       "0        Краснодар\n",
       "1           Москва\n",
       "2      Стерлитамак\n",
       "3           Москва\n",
       "4      Новокузнецк\n",
       "          ...     \n",
       "495        Иркутск\n",
       "496        Вологда\n",
       "497      Челябинск\n",
       "498    Владикавказ\n",
       "499          Пермь\n",
       "Name: city, Length: 500, dtype: object"
      ]
     },
     "metadata": {},
     "output_type": "display_data"
    },
    {
     "name": "stdout",
     "output_type": "stream",
     "text": [
      "count        500\n",
      "unique        76\n",
      "top       Москва\n",
      "freq          99\n",
      "Name: city, dtype: object\n"
     ]
    }
   ],
   "source": [
    "display(users['city'])\n",
    "print(users['city'].describe())"
   ]
  },
  {
   "cell_type": "markdown",
   "metadata": {},
   "source": [
    "***Создадим новый ДатаФрейм со столбцами `original` - оригиналы имен, `lemm` - лемматизированные строки. Лемматизируем строки и посмотрим будут ли они равны оригиналам и их количеству***\n",
    "\n",
    "***Проверим нет ли дубликатов - одних и тех же городов но записанных по разному (например отличаются высотой букв)***"
   ]
  },
  {
   "cell_type": "code",
   "execution_count": 11,
   "metadata": {},
   "outputs": [
    {
     "name": "stdout",
     "output_type": "stream",
     "text": [
      "Кол-во уникальных Оригинальных городов = 76\n"
     ]
    },
    {
     "data": {
      "text/html": [
       "<div>\n",
       "<style scoped>\n",
       "    .dataframe tbody tr th:only-of-type {\n",
       "        vertical-align: middle;\n",
       "    }\n",
       "\n",
       "    .dataframe tbody tr th {\n",
       "        vertical-align: top;\n",
       "    }\n",
       "\n",
       "    .dataframe thead th {\n",
       "        text-align: right;\n",
       "    }\n",
       "</style>\n",
       "<table border=\"1\" class=\"dataframe\">\n",
       "  <thead>\n",
       "    <tr style=\"text-align: right;\">\n",
       "      <th></th>\n",
       "      <th>original</th>\n",
       "      <th>lemm</th>\n",
       "    </tr>\n",
       "  </thead>\n",
       "  <tbody>\n",
       "    <tr>\n",
       "      <td>0</td>\n",
       "      <td>Архангельск</td>\n",
       "      <td>NaN</td>\n",
       "    </tr>\n",
       "    <tr>\n",
       "      <td>1</td>\n",
       "      <td>Астрахань</td>\n",
       "      <td>NaN</td>\n",
       "    </tr>\n",
       "    <tr>\n",
       "      <td>2</td>\n",
       "      <td>Балашиха</td>\n",
       "      <td>NaN</td>\n",
       "    </tr>\n",
       "    <tr>\n",
       "      <td>3</td>\n",
       "      <td>Барнаул</td>\n",
       "      <td>NaN</td>\n",
       "    </tr>\n",
       "    <tr>\n",
       "      <td>4</td>\n",
       "      <td>Белгород</td>\n",
       "      <td>NaN</td>\n",
       "    </tr>\n",
       "    <tr>\n",
       "      <td>...</td>\n",
       "      <td>...</td>\n",
       "      <td>...</td>\n",
       "    </tr>\n",
       "    <tr>\n",
       "      <td>71</td>\n",
       "      <td>Челябинск</td>\n",
       "      <td>NaN</td>\n",
       "    </tr>\n",
       "    <tr>\n",
       "      <td>72</td>\n",
       "      <td>Череповец</td>\n",
       "      <td>NaN</td>\n",
       "    </tr>\n",
       "    <tr>\n",
       "      <td>73</td>\n",
       "      <td>Чита</td>\n",
       "      <td>NaN</td>\n",
       "    </tr>\n",
       "    <tr>\n",
       "      <td>74</td>\n",
       "      <td>Якутск</td>\n",
       "      <td>NaN</td>\n",
       "    </tr>\n",
       "    <tr>\n",
       "      <td>75</td>\n",
       "      <td>Ярославль</td>\n",
       "      <td>NaN</td>\n",
       "    </tr>\n",
       "  </tbody>\n",
       "</table>\n",
       "<p>76 rows × 2 columns</p>\n",
       "</div>"
      ],
      "text/plain": [
       "       original lemm\n",
       "0   Архангельск  NaN\n",
       "1     Астрахань  NaN\n",
       "2      Балашиха  NaN\n",
       "3       Барнаул  NaN\n",
       "4      Белгород  NaN\n",
       "..          ...  ...\n",
       "71    Челябинск  NaN\n",
       "72    Череповец  NaN\n",
       "73         Чита  NaN\n",
       "74       Якутск  NaN\n",
       "75    Ярославль  NaN\n",
       "\n",
       "[76 rows x 2 columns]"
      ]
     },
     "metadata": {},
     "output_type": "display_data"
    }
   ],
   "source": [
    "cities = pd.DataFrame(columns = ['original', 'lemm'])\n",
    "cities['original'] = users['city'].sort_values().unique()\n",
    "print('Кол-во уникальных Оригинальных городов =',len(cities['original']))\n",
    "display(cities)"
   ]
  },
  {
   "cell_type": "markdown",
   "metadata": {},
   "source": [
    "**Теперь лематизируем города и сравним их количество (76) с количеством оригиналов**"
   ]
  },
  {
   "cell_type": "code",
   "execution_count": 12,
   "metadata": {},
   "outputs": [],
   "source": [
    "# Функция получает строку - лемматизирует её, затем собирает и возвращает результат\n",
    "def lemm_list(st):\n",
    "    w = m.lemmatize(st)\n",
    "    w.pop()\n",
    "    return ''.join(w)"
   ]
  },
  {
   "cell_type": "code",
   "execution_count": 13,
   "metadata": {},
   "outputs": [],
   "source": [
    "cities['lemm'] = cities['original'].apply(lemm_list)"
   ]
  },
  {
   "cell_type": "code",
   "execution_count": 14,
   "metadata": {},
   "outputs": [
    {
     "data": {
      "text/html": [
       "<div>\n",
       "<style scoped>\n",
       "    .dataframe tbody tr th:only-of-type {\n",
       "        vertical-align: middle;\n",
       "    }\n",
       "\n",
       "    .dataframe tbody tr th {\n",
       "        vertical-align: top;\n",
       "    }\n",
       "\n",
       "    .dataframe thead th {\n",
       "        text-align: right;\n",
       "    }\n",
       "</style>\n",
       "<table border=\"1\" class=\"dataframe\">\n",
       "  <thead>\n",
       "    <tr style=\"text-align: right;\">\n",
       "      <th></th>\n",
       "      <th>original</th>\n",
       "      <th>lemm</th>\n",
       "    </tr>\n",
       "  </thead>\n",
       "  <tbody>\n",
       "    <tr>\n",
       "      <td>0</td>\n",
       "      <td>Архангельск</td>\n",
       "      <td>архангельск</td>\n",
       "    </tr>\n",
       "    <tr>\n",
       "      <td>1</td>\n",
       "      <td>Астрахань</td>\n",
       "      <td>астрахань</td>\n",
       "    </tr>\n",
       "    <tr>\n",
       "      <td>2</td>\n",
       "      <td>Балашиха</td>\n",
       "      <td>балашиха</td>\n",
       "    </tr>\n",
       "    <tr>\n",
       "      <td>3</td>\n",
       "      <td>Барнаул</td>\n",
       "      <td>барнаул</td>\n",
       "    </tr>\n",
       "    <tr>\n",
       "      <td>4</td>\n",
       "      <td>Белгород</td>\n",
       "      <td>белгород</td>\n",
       "    </tr>\n",
       "    <tr>\n",
       "      <td>...</td>\n",
       "      <td>...</td>\n",
       "      <td>...</td>\n",
       "    </tr>\n",
       "    <tr>\n",
       "      <td>71</td>\n",
       "      <td>Челябинск</td>\n",
       "      <td>челябинск</td>\n",
       "    </tr>\n",
       "    <tr>\n",
       "      <td>72</td>\n",
       "      <td>Череповец</td>\n",
       "      <td>череповец</td>\n",
       "    </tr>\n",
       "    <tr>\n",
       "      <td>73</td>\n",
       "      <td>Чита</td>\n",
       "      <td>чита</td>\n",
       "    </tr>\n",
       "    <tr>\n",
       "      <td>74</td>\n",
       "      <td>Якутск</td>\n",
       "      <td>якутск</td>\n",
       "    </tr>\n",
       "    <tr>\n",
       "      <td>75</td>\n",
       "      <td>Ярославль</td>\n",
       "      <td>ярославль</td>\n",
       "    </tr>\n",
       "  </tbody>\n",
       "</table>\n",
       "<p>76 rows × 2 columns</p>\n",
       "</div>"
      ],
      "text/plain": [
       "       original         lemm\n",
       "0   Архангельск  архангельск\n",
       "1     Астрахань    астрахань\n",
       "2      Балашиха     балашиха\n",
       "3       Барнаул      барнаул\n",
       "4      Белгород     белгород\n",
       "..          ...          ...\n",
       "71    Челябинск    челябинск\n",
       "72    Череповец    череповец\n",
       "73         Чита         чита\n",
       "74       Якутск       якутск\n",
       "75    Ярославль    ярославль\n",
       "\n",
       "[76 rows x 2 columns]"
      ]
     },
     "metadata": {},
     "output_type": "display_data"
    }
   ],
   "source": [
    "display(cities)"
   ]
  },
  {
   "cell_type": "markdown",
   "metadata": {},
   "source": [
    "**ВЫВОД: Количество совпадает. Значит дубиликатов нет. Столбец корректен.**"
   ]
  },
  {
   "cell_type": "markdown",
   "metadata": {},
   "source": [
    "### 2.1.5 Столбец `first_name` - имя пользователя<a id=\"users5\"></a>  \n",
    "[К содержанию](#soder)"
   ]
  },
  {
   "cell_type": "markdown",
   "metadata": {},
   "source": [
    "**Проверим этот столбец по аналогии с `city`**"
   ]
  },
  {
   "cell_type": "code",
   "execution_count": 15,
   "metadata": {},
   "outputs": [
    {
     "name": "stdout",
     "output_type": "stream",
     "text": [
      "Уникальные Оригинальные имена\n",
      "0      Авксентий\n",
      "1          Агата\n",
      "2         Агафья\n",
      "3        Агнесса\n",
      "4           Адам\n",
      "         ...    \n",
      "241         Юлия\n",
      "242          Юна\n",
      "243         Юрий\n",
      "244         Яков\n",
      "245          Яна\n",
      "Name: original, Length: 246, dtype: object\n"
     ]
    }
   ],
   "source": [
    "names = pd.DataFrame(columns = ['original', 'lemm'])\n",
    "names['original'] = users['first_name'].sort_values().unique()\n",
    "print('Уникальные Оригинальные имена')\n",
    "print(names['original'])"
   ]
  },
  {
   "cell_type": "code",
   "execution_count": 16,
   "metadata": {},
   "outputs": [
    {
     "data": {
      "text/html": [
       "<div>\n",
       "<style scoped>\n",
       "    .dataframe tbody tr th:only-of-type {\n",
       "        vertical-align: middle;\n",
       "    }\n",
       "\n",
       "    .dataframe tbody tr th {\n",
       "        vertical-align: top;\n",
       "    }\n",
       "\n",
       "    .dataframe thead th {\n",
       "        text-align: right;\n",
       "    }\n",
       "</style>\n",
       "<table border=\"1\" class=\"dataframe\">\n",
       "  <thead>\n",
       "    <tr style=\"text-align: right;\">\n",
       "      <th></th>\n",
       "      <th>original</th>\n",
       "      <th>lemm</th>\n",
       "    </tr>\n",
       "  </thead>\n",
       "  <tbody>\n",
       "    <tr>\n",
       "      <td>0</td>\n",
       "      <td>Авксентий</td>\n",
       "      <td>авксентий</td>\n",
       "    </tr>\n",
       "    <tr>\n",
       "      <td>1</td>\n",
       "      <td>Агата</td>\n",
       "      <td>агата</td>\n",
       "    </tr>\n",
       "    <tr>\n",
       "      <td>2</td>\n",
       "      <td>Агафья</td>\n",
       "      <td>агафья</td>\n",
       "    </tr>\n",
       "    <tr>\n",
       "      <td>3</td>\n",
       "      <td>Агнесса</td>\n",
       "      <td>агнесса</td>\n",
       "    </tr>\n",
       "    <tr>\n",
       "      <td>4</td>\n",
       "      <td>Адам</td>\n",
       "      <td>адам</td>\n",
       "    </tr>\n",
       "    <tr>\n",
       "      <td>...</td>\n",
       "      <td>...</td>\n",
       "      <td>...</td>\n",
       "    </tr>\n",
       "    <tr>\n",
       "      <td>241</td>\n",
       "      <td>Юлия</td>\n",
       "      <td>юлия</td>\n",
       "    </tr>\n",
       "    <tr>\n",
       "      <td>242</td>\n",
       "      <td>Юна</td>\n",
       "      <td>юный</td>\n",
       "    </tr>\n",
       "    <tr>\n",
       "      <td>243</td>\n",
       "      <td>Юрий</td>\n",
       "      <td>юрий</td>\n",
       "    </tr>\n",
       "    <tr>\n",
       "      <td>244</td>\n",
       "      <td>Яков</td>\n",
       "      <td>яков</td>\n",
       "    </tr>\n",
       "    <tr>\n",
       "      <td>245</td>\n",
       "      <td>Яна</td>\n",
       "      <td>яна</td>\n",
       "    </tr>\n",
       "  </tbody>\n",
       "</table>\n",
       "<p>246 rows × 2 columns</p>\n",
       "</div>"
      ],
      "text/plain": [
       "      original       lemm\n",
       "0    Авксентий  авксентий\n",
       "1        Агата      агата\n",
       "2       Агафья     агафья\n",
       "3      Агнесса    агнесса\n",
       "4         Адам       адам\n",
       "..         ...        ...\n",
       "241       Юлия       юлия\n",
       "242        Юна       юный\n",
       "243       Юрий       юрий\n",
       "244       Яков       яков\n",
       "245        Яна        яна\n",
       "\n",
       "[246 rows x 2 columns]"
      ]
     },
     "metadata": {},
     "output_type": "display_data"
    },
    {
     "name": "stdout",
     "output_type": "stream",
     "text": [
      "владислав    2\n",
      "руслан       2\n",
      "ириней       1\n",
      "таисия       1\n",
      "мариетта     1\n",
      "            ..\n",
      "семен        1\n",
      "виктория     1\n",
      "мстислав     1\n",
      "валерий      1\n",
      "радомир      1\n",
      "Name: lemm, Length: 244, dtype: int64\n"
     ]
    }
   ],
   "source": [
    "names['lemm'] = names['original'].apply(lemm_list)\n",
    "display(names)\n",
    "print(names['lemm'].value_counts())"
   ]
  },
  {
   "cell_type": "code",
   "execution_count": 17,
   "metadata": {},
   "outputs": [
    {
     "name": "stdout",
     "output_type": "stream",
     "text": [
      "       original       lemm\n",
      "56    Владислав  владислав\n",
      "57   Владислава  владислав\n",
      "197      Руслан     руслан\n",
      "198     Руслана     руслан\n"
     ]
    }
   ],
   "source": [
    "print(names.query('lemm == \"владислав\" or lemm == \"руслан\"'))"
   ]
  },
  {
   "cell_type": "markdown",
   "metadata": {},
   "source": [
    "***Есть повторы. Посмотрим, что это за строки в `users`*** "
   ]
  },
  {
   "cell_type": "code",
   "execution_count": 18,
   "metadata": {},
   "outputs": [
    {
     "data": {
      "text/html": [
       "<div>\n",
       "<style scoped>\n",
       "    .dataframe tbody tr th:only-of-type {\n",
       "        vertical-align: middle;\n",
       "    }\n",
       "\n",
       "    .dataframe tbody tr th {\n",
       "        vertical-align: top;\n",
       "    }\n",
       "\n",
       "    .dataframe thead th {\n",
       "        text-align: right;\n",
       "    }\n",
       "</style>\n",
       "<table border=\"1\" class=\"dataframe\">\n",
       "  <thead>\n",
       "    <tr style=\"text-align: right;\">\n",
       "      <th></th>\n",
       "      <th>user_id</th>\n",
       "      <th>age</th>\n",
       "      <th>churn_date</th>\n",
       "      <th>city</th>\n",
       "      <th>first_name</th>\n",
       "      <th>last_name</th>\n",
       "      <th>reg_date</th>\n",
       "      <th>tariff</th>\n",
       "    </tr>\n",
       "  </thead>\n",
       "  <tbody>\n",
       "    <tr>\n",
       "      <td>27</td>\n",
       "      <td>1027</td>\n",
       "      <td>62</td>\n",
       "      <td>NaT</td>\n",
       "      <td>Петрозаводск</td>\n",
       "      <td>Владислав</td>\n",
       "      <td>Авдеев</td>\n",
       "      <td>2018-04-10</td>\n",
       "      <td>smart</td>\n",
       "    </tr>\n",
       "    <tr>\n",
       "      <td>146</td>\n",
       "      <td>1146</td>\n",
       "      <td>72</td>\n",
       "      <td>NaT</td>\n",
       "      <td>Санкт-Петербург</td>\n",
       "      <td>Владислав</td>\n",
       "      <td>Никонов</td>\n",
       "      <td>2018-05-25</td>\n",
       "      <td>smart</td>\n",
       "    </tr>\n",
       "    <tr>\n",
       "      <td>302</td>\n",
       "      <td>1302</td>\n",
       "      <td>43</td>\n",
       "      <td>NaT</td>\n",
       "      <td>Уфа</td>\n",
       "      <td>Владислав</td>\n",
       "      <td>Абаимов</td>\n",
       "      <td>2018-01-23</td>\n",
       "      <td>smart</td>\n",
       "    </tr>\n",
       "    <tr>\n",
       "      <td>100</td>\n",
       "      <td>1100</td>\n",
       "      <td>58</td>\n",
       "      <td>NaT</td>\n",
       "      <td>Санкт-Петербург</td>\n",
       "      <td>Руслан</td>\n",
       "      <td>Красильников</td>\n",
       "      <td>2018-07-02</td>\n",
       "      <td>smart</td>\n",
       "    </tr>\n",
       "    <tr>\n",
       "      <td>107</td>\n",
       "      <td>1107</td>\n",
       "      <td>45</td>\n",
       "      <td>NaT</td>\n",
       "      <td>Орёл</td>\n",
       "      <td>Руслан</td>\n",
       "      <td>Воронин</td>\n",
       "      <td>2018-07-20</td>\n",
       "      <td>smart</td>\n",
       "    </tr>\n",
       "    <tr>\n",
       "      <td>212</td>\n",
       "      <td>1212</td>\n",
       "      <td>21</td>\n",
       "      <td>NaT</td>\n",
       "      <td>Саранск</td>\n",
       "      <td>Руслан</td>\n",
       "      <td>Пономарев</td>\n",
       "      <td>2018-11-09</td>\n",
       "      <td>smart</td>\n",
       "    </tr>\n",
       "    <tr>\n",
       "      <td>215</td>\n",
       "      <td>1215</td>\n",
       "      <td>55</td>\n",
       "      <td>NaT</td>\n",
       "      <td>Рязань</td>\n",
       "      <td>Руслан</td>\n",
       "      <td>Алиев</td>\n",
       "      <td>2018-08-12</td>\n",
       "      <td>smart</td>\n",
       "    </tr>\n",
       "  </tbody>\n",
       "</table>\n",
       "</div>"
      ],
      "text/plain": [
       "     user_id  age churn_date             city first_name     last_name  \\\n",
       "27      1027   62        NaT     Петрозаводск  Владислав        Авдеев   \n",
       "146     1146   72        NaT  Санкт-Петербург  Владислав       Никонов   \n",
       "302     1302   43        NaT              Уфа  Владислав       Абаимов   \n",
       "100     1100   58        NaT  Санкт-Петербург     Руслан  Красильников   \n",
       "107     1107   45        NaT             Орёл     Руслан       Воронин   \n",
       "212     1212   21        NaT          Саранск     Руслан     Пономарев   \n",
       "215     1215   55        NaT           Рязань     Руслан         Алиев   \n",
       "\n",
       "       reg_date tariff  \n",
       "27   2018-04-10  smart  \n",
       "146  2018-05-25  smart  \n",
       "302  2018-01-23  smart  \n",
       "100  2018-07-02  smart  \n",
       "107  2018-07-20  smart  \n",
       "212  2018-11-09  smart  \n",
       "215  2018-08-12  smart  "
      ]
     },
     "execution_count": 18,
     "metadata": {},
     "output_type": "execute_result"
    }
   ],
   "source": [
    "users.query(' \"Владислав\" in first_name or \"Руслан\" in first_name ').sort_values('first_name')"
   ]
  },
  {
   "cell_type": "markdown",
   "metadata": {},
   "source": [
    "Все фамилии и другое разные - это разные люди.\n",
    "\n",
    "**Вывод: Столбец в полном порядке.**"
   ]
  },
  {
   "cell_type": "markdown",
   "metadata": {},
   "source": [
    "### 2.1.6 Столбец `last_name` - имя пользователя<a id=\"users6\"></a>  \n",
    "[К содержанию](#soder)"
   ]
  },
  {
   "cell_type": "markdown",
   "metadata": {},
   "source": [
    "**Используем наработки из предыдущих двух столбцов, только объединим имя фамилию в одну строку (и почему я сразу этого не сделал?)**"
   ]
  },
  {
   "cell_type": "code",
   "execution_count": 19,
   "metadata": {},
   "outputs": [
    {
     "name": "stdout",
     "output_type": "stream",
     "text": [
      "Уникальные Оригинальные имена + фамилии\n"
     ]
    },
    {
     "data": {
      "text/plain": [
       "0       Верещагин Рафаил\n",
       "1              Ежов Иван\n",
       "2      Абрамович Евгений\n",
       "3         Белякова Белла\n",
       "4       Авдеенко Татьяна\n",
       "             ...        \n",
       "495      Фокин Авксентий\n",
       "496        Блохин Трифон\n",
       "497      Агеева Каролина\n",
       "498     Акимчин Всеволод\n",
       "499      Корнилов Гектор\n",
       "Name: original, Length: 500, dtype: object"
      ]
     },
     "metadata": {},
     "output_type": "display_data"
    }
   ],
   "source": [
    "fullname = pd.DataFrame(columns = ['original', 'lemm'])\n",
    "fullname['original'] = users['last_name'] + \" \" + users['first_name']\n",
    "print('Уникальные Оригинальные имена + фамилии')\n",
    "display(fullname['original'])"
   ]
  },
  {
   "cell_type": "code",
   "execution_count": 20,
   "metadata": {},
   "outputs": [
    {
     "data": {
      "text/html": [
       "<div>\n",
       "<style scoped>\n",
       "    .dataframe tbody tr th:only-of-type {\n",
       "        vertical-align: middle;\n",
       "    }\n",
       "\n",
       "    .dataframe tbody tr th {\n",
       "        vertical-align: top;\n",
       "    }\n",
       "\n",
       "    .dataframe thead th {\n",
       "        text-align: right;\n",
       "    }\n",
       "</style>\n",
       "<table border=\"1\" class=\"dataframe\">\n",
       "  <thead>\n",
       "    <tr style=\"text-align: right;\">\n",
       "      <th></th>\n",
       "      <th>original</th>\n",
       "      <th>lemm</th>\n",
       "    </tr>\n",
       "  </thead>\n",
       "  <tbody>\n",
       "    <tr>\n",
       "      <td>0</td>\n",
       "      <td>Верещагин Рафаил</td>\n",
       "      <td>верещагин рафаил</td>\n",
       "    </tr>\n",
       "    <tr>\n",
       "      <td>1</td>\n",
       "      <td>Ежов Иван</td>\n",
       "      <td>ежов иван</td>\n",
       "    </tr>\n",
       "    <tr>\n",
       "      <td>2</td>\n",
       "      <td>Абрамович Евгений</td>\n",
       "      <td>абрамович евгений</td>\n",
       "    </tr>\n",
       "    <tr>\n",
       "      <td>3</td>\n",
       "      <td>Белякова Белла</td>\n",
       "      <td>беляков белла</td>\n",
       "    </tr>\n",
       "    <tr>\n",
       "      <td>4</td>\n",
       "      <td>Авдеенко Татьяна</td>\n",
       "      <td>авдеенко татьяна</td>\n",
       "    </tr>\n",
       "    <tr>\n",
       "      <td>...</td>\n",
       "      <td>...</td>\n",
       "      <td>...</td>\n",
       "    </tr>\n",
       "    <tr>\n",
       "      <td>495</td>\n",
       "      <td>Фокин Авксентий</td>\n",
       "      <td>фокин авксентий</td>\n",
       "    </tr>\n",
       "    <tr>\n",
       "      <td>496</td>\n",
       "      <td>Блохин Трифон</td>\n",
       "      <td>блохин трифон</td>\n",
       "    </tr>\n",
       "    <tr>\n",
       "      <td>497</td>\n",
       "      <td>Агеева Каролина</td>\n",
       "      <td>агеева каролина</td>\n",
       "    </tr>\n",
       "    <tr>\n",
       "      <td>498</td>\n",
       "      <td>Акимчин Всеволод</td>\n",
       "      <td>акимчин всеволод</td>\n",
       "    </tr>\n",
       "    <tr>\n",
       "      <td>499</td>\n",
       "      <td>Корнилов Гектор</td>\n",
       "      <td>корнилов гектор</td>\n",
       "    </tr>\n",
       "  </tbody>\n",
       "</table>\n",
       "<p>500 rows × 2 columns</p>\n",
       "</div>"
      ],
      "text/plain": [
       "              original               lemm\n",
       "0     Верещагин Рафаил   верещагин рафаил\n",
       "1            Ежов Иван          ежов иван\n",
       "2    Абрамович Евгений  абрамович евгений\n",
       "3       Белякова Белла      беляков белла\n",
       "4     Авдеенко Татьяна   авдеенко татьяна\n",
       "..                 ...                ...\n",
       "495    Фокин Авксентий    фокин авксентий\n",
       "496      Блохин Трифон      блохин трифон\n",
       "497    Агеева Каролина    агеева каролина\n",
       "498   Акимчин Всеволод   акимчин всеволод\n",
       "499    Корнилов Гектор    корнилов гектор\n",
       "\n",
       "[500 rows x 2 columns]"
      ]
     },
     "metadata": {},
     "output_type": "display_data"
    },
    {
     "name": "stdout",
     "output_type": "stream",
     "text": [
      "беляев валерий         1\n",
      "чижов аурелий          1\n",
      "толкачев рашид         1\n",
      "красильников руслан    1\n",
      "кравцов михаил         1\n",
      "                      ..\n",
      "богданов арина         1\n",
      "капустин ренальд       1\n",
      "емельянов гелена       1\n",
      "ерофеева лейла         1\n",
      "андропов ренат         1\n",
      "Name: lemm, Length: 500, dtype: int64\n"
     ]
    }
   ],
   "source": [
    "fullname['lemm'] = fullname['original'].apply(lemm_list)\n",
    "display(fullname)\n",
    "print(fullname['lemm'].value_counts())"
   ]
  },
  {
   "cell_type": "markdown",
   "metadata": {},
   "source": [
    "**ВЫВОД: Все сочетания имя+фамилия уникальны. Столбец корректен**"
   ]
  },
  {
   "cell_type": "markdown",
   "metadata": {},
   "source": [
    "### 2.1.7 Столбец `reg_date` - дата подключения тарифа (день, месяц, год)<a id=\"users7\"></a>  \n",
    "[К содержанию](#soder)"
   ]
  },
  {
   "cell_type": "code",
   "execution_count": 21,
   "metadata": {},
   "outputs": [
    {
     "data": {
      "text/plain": [
       "124    2018-09-24\n",
       "146    2018-05-25\n",
       "73     2018-10-04\n",
       "313    2018-10-24\n",
       "Name: reg_date, dtype: object"
      ]
     },
     "metadata": {},
     "output_type": "display_data"
    },
    {
     "data": {
      "text/html": [
       "<div>\n",
       "<style scoped>\n",
       "    .dataframe tbody tr th:only-of-type {\n",
       "        vertical-align: middle;\n",
       "    }\n",
       "\n",
       "    .dataframe tbody tr th {\n",
       "        vertical-align: top;\n",
       "    }\n",
       "\n",
       "    .dataframe thead th {\n",
       "        text-align: right;\n",
       "    }\n",
       "</style>\n",
       "<table border=\"1\" class=\"dataframe\">\n",
       "  <thead>\n",
       "    <tr style=\"text-align: right;\">\n",
       "      <th></th>\n",
       "      <th>user_id</th>\n",
       "      <th>age</th>\n",
       "      <th>churn_date</th>\n",
       "      <th>city</th>\n",
       "      <th>first_name</th>\n",
       "      <th>last_name</th>\n",
       "      <th>reg_date</th>\n",
       "      <th>tariff</th>\n",
       "    </tr>\n",
       "  </thead>\n",
       "  <tbody>\n",
       "    <tr>\n",
       "      <td>0</td>\n",
       "      <td>1000</td>\n",
       "      <td>52</td>\n",
       "      <td>NaT</td>\n",
       "      <td>Краснодар</td>\n",
       "      <td>Рафаил</td>\n",
       "      <td>Верещагин</td>\n",
       "      <td>2018-05-25</td>\n",
       "      <td>ultra</td>\n",
       "    </tr>\n",
       "    <tr>\n",
       "      <td>1</td>\n",
       "      <td>1001</td>\n",
       "      <td>41</td>\n",
       "      <td>NaT</td>\n",
       "      <td>Москва</td>\n",
       "      <td>Иван</td>\n",
       "      <td>Ежов</td>\n",
       "      <td>2018-11-01</td>\n",
       "      <td>smart</td>\n",
       "    </tr>\n",
       "    <tr>\n",
       "      <td>2</td>\n",
       "      <td>1002</td>\n",
       "      <td>59</td>\n",
       "      <td>NaT</td>\n",
       "      <td>Стерлитамак</td>\n",
       "      <td>Евгений</td>\n",
       "      <td>Абрамович</td>\n",
       "      <td>2018-06-17</td>\n",
       "      <td>smart</td>\n",
       "    </tr>\n",
       "    <tr>\n",
       "      <td>3</td>\n",
       "      <td>1003</td>\n",
       "      <td>23</td>\n",
       "      <td>NaT</td>\n",
       "      <td>Москва</td>\n",
       "      <td>Белла</td>\n",
       "      <td>Белякова</td>\n",
       "      <td>2018-08-17</td>\n",
       "      <td>ultra</td>\n",
       "    </tr>\n",
       "  </tbody>\n",
       "</table>\n",
       "</div>"
      ],
      "text/plain": [
       "   user_id  age churn_date         city first_name  last_name    reg_date  \\\n",
       "0     1000   52        NaT    Краснодар     Рафаил  Верещагин  2018-05-25   \n",
       "1     1001   41        NaT       Москва       Иван       Ежов  2018-11-01   \n",
       "2     1002   59        NaT  Стерлитамак    Евгений  Абрамович  2018-06-17   \n",
       "3     1003   23        NaT       Москва      Белла   Белякова  2018-08-17   \n",
       "\n",
       "  tariff  \n",
       "0  ultra  \n",
       "1  smart  \n",
       "2  smart  \n",
       "3  ultra  "
      ]
     },
     "metadata": {},
     "output_type": "display_data"
    },
    {
     "name": "stdout",
     "output_type": "stream",
     "text": [
      "count            500\n",
      "unique           270\n",
      "top       2018-05-28\n",
      "freq               8\n",
      "Name: reg_date, dtype: object\n"
     ]
    }
   ],
   "source": [
    "display(users['reg_date'].sample(4))\n",
    "display(users.head(4))\n",
    "print(users['reg_date'].describe())"
   ]
  },
  {
   "cell_type": "markdown",
   "metadata": {},
   "source": [
    "***С данными вроде всё в порядке, только поменяем тип на datetime64 (по условию определено, что отсутствующие значения имеют свою значимость)***"
   ]
  },
  {
   "cell_type": "code",
   "execution_count": 22,
   "metadata": {},
   "outputs": [],
   "source": [
    "users['reg_date'] = pd.to_datetime(users['reg_date'])"
   ]
  },
  {
   "cell_type": "code",
   "execution_count": 23,
   "metadata": {},
   "outputs": [
    {
     "data": {
      "text/plain": [
       "167   2018-09-29\n",
       "216   2018-11-23\n",
       "476   2018-04-30\n",
       "84    2018-12-13\n",
       "Name: reg_date, dtype: datetime64[ns]"
      ]
     },
     "metadata": {},
     "output_type": "display_data"
    },
    {
     "data": {
      "text/html": [
       "<div>\n",
       "<style scoped>\n",
       "    .dataframe tbody tr th:only-of-type {\n",
       "        vertical-align: middle;\n",
       "    }\n",
       "\n",
       "    .dataframe tbody tr th {\n",
       "        vertical-align: top;\n",
       "    }\n",
       "\n",
       "    .dataframe thead th {\n",
       "        text-align: right;\n",
       "    }\n",
       "</style>\n",
       "<table border=\"1\" class=\"dataframe\">\n",
       "  <thead>\n",
       "    <tr style=\"text-align: right;\">\n",
       "      <th></th>\n",
       "      <th>user_id</th>\n",
       "      <th>age</th>\n",
       "      <th>churn_date</th>\n",
       "      <th>city</th>\n",
       "      <th>first_name</th>\n",
       "      <th>last_name</th>\n",
       "      <th>reg_date</th>\n",
       "      <th>tariff</th>\n",
       "    </tr>\n",
       "  </thead>\n",
       "  <tbody>\n",
       "    <tr>\n",
       "      <td>0</td>\n",
       "      <td>1000</td>\n",
       "      <td>52</td>\n",
       "      <td>NaT</td>\n",
       "      <td>Краснодар</td>\n",
       "      <td>Рафаил</td>\n",
       "      <td>Верещагин</td>\n",
       "      <td>2018-05-25</td>\n",
       "      <td>ultra</td>\n",
       "    </tr>\n",
       "    <tr>\n",
       "      <td>1</td>\n",
       "      <td>1001</td>\n",
       "      <td>41</td>\n",
       "      <td>NaT</td>\n",
       "      <td>Москва</td>\n",
       "      <td>Иван</td>\n",
       "      <td>Ежов</td>\n",
       "      <td>2018-11-01</td>\n",
       "      <td>smart</td>\n",
       "    </tr>\n",
       "    <tr>\n",
       "      <td>2</td>\n",
       "      <td>1002</td>\n",
       "      <td>59</td>\n",
       "      <td>NaT</td>\n",
       "      <td>Стерлитамак</td>\n",
       "      <td>Евгений</td>\n",
       "      <td>Абрамович</td>\n",
       "      <td>2018-06-17</td>\n",
       "      <td>smart</td>\n",
       "    </tr>\n",
       "    <tr>\n",
       "      <td>3</td>\n",
       "      <td>1003</td>\n",
       "      <td>23</td>\n",
       "      <td>NaT</td>\n",
       "      <td>Москва</td>\n",
       "      <td>Белла</td>\n",
       "      <td>Белякова</td>\n",
       "      <td>2018-08-17</td>\n",
       "      <td>ultra</td>\n",
       "    </tr>\n",
       "  </tbody>\n",
       "</table>\n",
       "</div>"
      ],
      "text/plain": [
       "   user_id  age churn_date         city first_name  last_name   reg_date  \\\n",
       "0     1000   52        NaT    Краснодар     Рафаил  Верещагин 2018-05-25   \n",
       "1     1001   41        NaT       Москва       Иван       Ежов 2018-11-01   \n",
       "2     1002   59        NaT  Стерлитамак    Евгений  Абрамович 2018-06-17   \n",
       "3     1003   23        NaT       Москва      Белла   Белякова 2018-08-17   \n",
       "\n",
       "  tariff  \n",
       "0  ultra  \n",
       "1  smart  \n",
       "2  smart  \n",
       "3  ultra  "
      ]
     },
     "metadata": {},
     "output_type": "display_data"
    },
    {
     "name": "stdout",
     "output_type": "stream",
     "text": [
      "count                     500\n",
      "unique                    270\n",
      "top       2018-05-28 00:00:00\n",
      "freq                        8\n",
      "first     2018-01-01 00:00:00\n",
      "last      2018-12-31 00:00:00\n",
      "Name: reg_date, dtype: object\n"
     ]
    }
   ],
   "source": [
    "display(users['reg_date'].sample(4))\n",
    "display(users.head(4))\n",
    "print(users['reg_date'].describe())"
   ]
  },
  {
   "cell_type": "markdown",
   "metadata": {},
   "source": [
    "**ВЫВОД: Тип поменяли остальное в порядке. Столбец готов.**"
   ]
  },
  {
   "cell_type": "markdown",
   "metadata": {},
   "source": [
    "### 2.1.8 Столбец `tariff` - название тарифного плана<a id=\"users8\"></a>  \n",
    "[К содержанию](#soder)  \n",
    "\n",
    "***Здесь проверим значение. Должно быть 2 тарифа.***"
   ]
  },
  {
   "cell_type": "code",
   "execution_count": 24,
   "metadata": {},
   "outputs": [
    {
     "data": {
      "text/plain": [
       "smart    351\n",
       "ultra    149\n",
       "Name: tariff, dtype: int64"
      ]
     },
     "execution_count": 24,
     "metadata": {},
     "output_type": "execute_result"
    }
   ],
   "source": [
    "users['tariff'].value_counts()"
   ]
  },
  {
   "cell_type": "markdown",
   "metadata": {},
   "source": [
    "**ВЫВОД: Итого 500 записей. Столбец корректен.** "
   ]
  },
  {
   "cell_type": "code",
   "execution_count": 25,
   "metadata": {
    "scrolled": true
   },
   "outputs": [
    {
     "name": "stdout",
     "output_type": "stream",
     "text": [
      "<class 'pandas.core.frame.DataFrame'>\n",
      "RangeIndex: 500 entries, 0 to 499\n",
      "Data columns (total 8 columns):\n",
      "user_id       500 non-null int64\n",
      "age           500 non-null int64\n",
      "churn_date    38 non-null datetime64[ns]\n",
      "city          500 non-null object\n",
      "first_name    500 non-null object\n",
      "last_name     500 non-null object\n",
      "reg_date      500 non-null datetime64[ns]\n",
      "tariff        500 non-null object\n",
      "dtypes: datetime64[ns](2), int64(2), object(4)\n",
      "memory usage: 31.4+ KB\n"
     ]
    }
   ],
   "source": [
    "# Проверим всю таблицу напоследок\n",
    "users.info()"
   ]
  },
  {
   "cell_type": "markdown",
   "metadata": {},
   "source": [
    "### 2.1.9 Проверим на всякий случай наличие дубликатов, исключая столбец `user_id`"
   ]
  },
  {
   "cell_type": "code",
   "execution_count": 26,
   "metadata": {
    "scrolled": true
   },
   "outputs": [
    {
     "name": "stdout",
     "output_type": "stream",
     "text": [
      "Кол-во дубликатов = 0\n"
     ]
    }
   ],
   "source": [
    "print('Кол-во дубликатов =', users.loc[:,['age', 'churn_date', 'city', 'first_name', \\\n",
    "                                          'last_name', 'reg_date', 'tariff']].duplicated().sum())\n"
   ]
  },
  {
   "cell_type": "markdown",
   "metadata": {},
   "source": [
    "### ВЫВОД: Таблица `users` готова"
   ]
  },
  {
   "cell_type": "markdown",
   "metadata": {},
   "source": [
    "## 2.2 Таблица `calls`<a id=\"tabl2\"></a>  \n",
    "[К содержанию](#soder)"
   ]
  },
  {
   "cell_type": "code",
   "execution_count": 27,
   "metadata": {},
   "outputs": [
    {
     "name": "stdout",
     "output_type": "stream",
     "text": [
      "<class 'pandas.core.frame.DataFrame'>\n",
      "RangeIndex: 202607 entries, 0 to 202606\n",
      "Data columns (total 4 columns):\n",
      "id           202607 non-null object\n",
      "call_date    202607 non-null object\n",
      "duration     202607 non-null float64\n",
      "user_id      202607 non-null int64\n",
      "dtypes: float64(1), int64(1), object(2)\n",
      "memory usage: 6.2+ MB\n"
     ]
    },
    {
     "data": {
      "text/plain": [
       "None"
      ]
     },
     "metadata": {},
     "output_type": "display_data"
    },
    {
     "data": {
      "text/html": [
       "<div>\n",
       "<style scoped>\n",
       "    .dataframe tbody tr th:only-of-type {\n",
       "        vertical-align: middle;\n",
       "    }\n",
       "\n",
       "    .dataframe tbody tr th {\n",
       "        vertical-align: top;\n",
       "    }\n",
       "\n",
       "    .dataframe thead th {\n",
       "        text-align: right;\n",
       "    }\n",
       "</style>\n",
       "<table border=\"1\" class=\"dataframe\">\n",
       "  <thead>\n",
       "    <tr style=\"text-align: right;\">\n",
       "      <th></th>\n",
       "      <th>id</th>\n",
       "      <th>call_date</th>\n",
       "      <th>duration</th>\n",
       "      <th>user_id</th>\n",
       "    </tr>\n",
       "  </thead>\n",
       "  <tbody>\n",
       "    <tr>\n",
       "      <td>0</td>\n",
       "      <td>1000_0</td>\n",
       "      <td>2018-07-25</td>\n",
       "      <td>0.00</td>\n",
       "      <td>1000</td>\n",
       "    </tr>\n",
       "    <tr>\n",
       "      <td>1</td>\n",
       "      <td>1000_1</td>\n",
       "      <td>2018-08-17</td>\n",
       "      <td>0.00</td>\n",
       "      <td>1000</td>\n",
       "    </tr>\n",
       "    <tr>\n",
       "      <td>2</td>\n",
       "      <td>1000_2</td>\n",
       "      <td>2018-06-11</td>\n",
       "      <td>2.85</td>\n",
       "      <td>1000</td>\n",
       "    </tr>\n",
       "    <tr>\n",
       "      <td>3</td>\n",
       "      <td>1000_3</td>\n",
       "      <td>2018-09-21</td>\n",
       "      <td>13.80</td>\n",
       "      <td>1000</td>\n",
       "    </tr>\n",
       "    <tr>\n",
       "      <td>4</td>\n",
       "      <td>1000_4</td>\n",
       "      <td>2018-12-15</td>\n",
       "      <td>5.18</td>\n",
       "      <td>1000</td>\n",
       "    </tr>\n",
       "    <tr>\n",
       "      <td>...</td>\n",
       "      <td>...</td>\n",
       "      <td>...</td>\n",
       "      <td>...</td>\n",
       "      <td>...</td>\n",
       "    </tr>\n",
       "    <tr>\n",
       "      <td>202602</td>\n",
       "      <td>1499_215</td>\n",
       "      <td>2018-12-26</td>\n",
       "      <td>0.76</td>\n",
       "      <td>1499</td>\n",
       "    </tr>\n",
       "    <tr>\n",
       "      <td>202603</td>\n",
       "      <td>1499_216</td>\n",
       "      <td>2018-10-18</td>\n",
       "      <td>18.83</td>\n",
       "      <td>1499</td>\n",
       "    </tr>\n",
       "    <tr>\n",
       "      <td>202604</td>\n",
       "      <td>1499_217</td>\n",
       "      <td>2018-11-10</td>\n",
       "      <td>10.81</td>\n",
       "      <td>1499</td>\n",
       "    </tr>\n",
       "    <tr>\n",
       "      <td>202605</td>\n",
       "      <td>1499_218</td>\n",
       "      <td>2018-10-06</td>\n",
       "      <td>4.27</td>\n",
       "      <td>1499</td>\n",
       "    </tr>\n",
       "    <tr>\n",
       "      <td>202606</td>\n",
       "      <td>1499_219</td>\n",
       "      <td>2018-12-14</td>\n",
       "      <td>19.62</td>\n",
       "      <td>1499</td>\n",
       "    </tr>\n",
       "  </tbody>\n",
       "</table>\n",
       "<p>202607 rows × 4 columns</p>\n",
       "</div>"
      ],
      "text/plain": [
       "              id   call_date  duration  user_id\n",
       "0         1000_0  2018-07-25      0.00     1000\n",
       "1         1000_1  2018-08-17      0.00     1000\n",
       "2         1000_2  2018-06-11      2.85     1000\n",
       "3         1000_3  2018-09-21     13.80     1000\n",
       "4         1000_4  2018-12-15      5.18     1000\n",
       "...          ...         ...       ...      ...\n",
       "202602  1499_215  2018-12-26      0.76     1499\n",
       "202603  1499_216  2018-10-18     18.83     1499\n",
       "202604  1499_217  2018-11-10     10.81     1499\n",
       "202605  1499_218  2018-10-06      4.27     1499\n",
       "202606  1499_219  2018-12-14     19.62     1499\n",
       "\n",
       "[202607 rows x 4 columns]"
      ]
     },
     "metadata": {},
     "output_type": "display_data"
    }
   ],
   "source": [
    "display(calls.info())\n",
    "display(calls)"
   ]
  },
  {
   "cell_type": "markdown",
   "metadata": {},
   "source": [
    "### 2.2.1 Столбец `id` -уникальный номер звонка<a id=\"calls1\"></a>  \n",
    "[К содержанию](#soder)\n",
    "\n",
    "***Проверим уникальность записей***"
   ]
  },
  {
   "cell_type": "code",
   "execution_count": 28,
   "metadata": {
    "scrolled": false
   },
   "outputs": [
    {
     "name": "stdout",
     "output_type": "stream",
     "text": [
      "0           1000_0\n",
      "1           1000_1\n",
      "2           1000_2\n",
      "3           1000_3\n",
      "4           1000_4\n",
      "            ...   \n",
      "202602    1499_215\n",
      "202603    1499_216\n",
      "202604    1499_217\n",
      "202605    1499_218\n",
      "202606    1499_219\n",
      "Name: id, Length: 202607, dtype: object\n",
      "1126_456    1\n",
      "1303_13     1\n",
      "1417_51     1\n",
      "1364_482    1\n",
      "1380_543    1\n",
      "           ..\n",
      "1017_165    1\n",
      "1157_156    1\n",
      "1113_570    1\n",
      "1211_284    1\n",
      "1484_228    1\n",
      "Name: id, Length: 202607, dtype: int64\n"
     ]
    }
   ],
   "source": [
    "print(calls['id'])\n",
    "print(calls['id'].value_counts())"
   ]
  },
  {
   "cell_type": "markdown",
   "metadata": {},
   "source": [
    "***Все идентификаторы уникальны и в одном экземпляре, что как раз актуально***"
   ]
  },
  {
   "cell_type": "markdown",
   "metadata": {},
   "source": [
    "### 2.2.2 Столбец `call_date` - дата звонка<a id=\"calls2\"></a>  \n",
    "[К содержанию](#soder)\n",
    "\n",
    "***Поменяем тип, и проверим данные***"
   ]
  },
  {
   "cell_type": "code",
   "execution_count": 29,
   "metadata": {},
   "outputs": [
    {
     "data": {
      "text/plain": [
       "0         2018-07-25\n",
       "1         2018-08-17\n",
       "2         2018-06-11\n",
       "3         2018-09-21\n",
       "4         2018-12-15\n",
       "             ...    \n",
       "202602    2018-12-26\n",
       "202603    2018-10-18\n",
       "202604    2018-11-10\n",
       "202605    2018-10-06\n",
       "202606    2018-12-14\n",
       "Name: call_date, Length: 202607, dtype: object"
      ]
     },
     "metadata": {},
     "output_type": "display_data"
    },
    {
     "data": {
      "text/plain": [
       "183060    2018-12-01\n",
       "160755    2018-08-08\n",
       "35953     2018-04-16\n",
       "122159    2018-11-03\n",
       "Name: call_date, dtype: object"
      ]
     },
     "metadata": {},
     "output_type": "display_data"
    }
   ],
   "source": [
    "display(calls['call_date'])\n",
    "display(calls['call_date'].sample(4))"
   ]
  },
  {
   "cell_type": "code",
   "execution_count": 30,
   "metadata": {},
   "outputs": [
    {
     "data": {
      "text/html": [
       "<div>\n",
       "<style scoped>\n",
       "    .dataframe tbody tr th:only-of-type {\n",
       "        vertical-align: middle;\n",
       "    }\n",
       "\n",
       "    .dataframe tbody tr th {\n",
       "        vertical-align: top;\n",
       "    }\n",
       "\n",
       "    .dataframe thead th {\n",
       "        text-align: right;\n",
       "    }\n",
       "</style>\n",
       "<table border=\"1\" class=\"dataframe\">\n",
       "  <thead>\n",
       "    <tr style=\"text-align: right;\">\n",
       "      <th></th>\n",
       "      <th>id</th>\n",
       "      <th>call_date</th>\n",
       "      <th>duration</th>\n",
       "      <th>user_id</th>\n",
       "    </tr>\n",
       "  </thead>\n",
       "  <tbody>\n",
       "    <tr>\n",
       "      <td>0</td>\n",
       "      <td>1000_0</td>\n",
       "      <td>2018-07-25</td>\n",
       "      <td>0.00</td>\n",
       "      <td>1000</td>\n",
       "    </tr>\n",
       "    <tr>\n",
       "      <td>1</td>\n",
       "      <td>1000_1</td>\n",
       "      <td>2018-08-17</td>\n",
       "      <td>0.00</td>\n",
       "      <td>1000</td>\n",
       "    </tr>\n",
       "    <tr>\n",
       "      <td>2</td>\n",
       "      <td>1000_2</td>\n",
       "      <td>2018-06-11</td>\n",
       "      <td>2.85</td>\n",
       "      <td>1000</td>\n",
       "    </tr>\n",
       "    <tr>\n",
       "      <td>3</td>\n",
       "      <td>1000_3</td>\n",
       "      <td>2018-09-21</td>\n",
       "      <td>13.80</td>\n",
       "      <td>1000</td>\n",
       "    </tr>\n",
       "    <tr>\n",
       "      <td>4</td>\n",
       "      <td>1000_4</td>\n",
       "      <td>2018-12-15</td>\n",
       "      <td>5.18</td>\n",
       "      <td>1000</td>\n",
       "    </tr>\n",
       "    <tr>\n",
       "      <td>...</td>\n",
       "      <td>...</td>\n",
       "      <td>...</td>\n",
       "      <td>...</td>\n",
       "      <td>...</td>\n",
       "    </tr>\n",
       "    <tr>\n",
       "      <td>202602</td>\n",
       "      <td>1499_215</td>\n",
       "      <td>2018-12-26</td>\n",
       "      <td>0.76</td>\n",
       "      <td>1499</td>\n",
       "    </tr>\n",
       "    <tr>\n",
       "      <td>202603</td>\n",
       "      <td>1499_216</td>\n",
       "      <td>2018-10-18</td>\n",
       "      <td>18.83</td>\n",
       "      <td>1499</td>\n",
       "    </tr>\n",
       "    <tr>\n",
       "      <td>202604</td>\n",
       "      <td>1499_217</td>\n",
       "      <td>2018-11-10</td>\n",
       "      <td>10.81</td>\n",
       "      <td>1499</td>\n",
       "    </tr>\n",
       "    <tr>\n",
       "      <td>202605</td>\n",
       "      <td>1499_218</td>\n",
       "      <td>2018-10-06</td>\n",
       "      <td>4.27</td>\n",
       "      <td>1499</td>\n",
       "    </tr>\n",
       "    <tr>\n",
       "      <td>202606</td>\n",
       "      <td>1499_219</td>\n",
       "      <td>2018-12-14</td>\n",
       "      <td>19.62</td>\n",
       "      <td>1499</td>\n",
       "    </tr>\n",
       "  </tbody>\n",
       "</table>\n",
       "<p>202607 rows × 4 columns</p>\n",
       "</div>"
      ],
      "text/plain": [
       "              id   call_date  duration  user_id\n",
       "0         1000_0  2018-07-25      0.00     1000\n",
       "1         1000_1  2018-08-17      0.00     1000\n",
       "2         1000_2  2018-06-11      2.85     1000\n",
       "3         1000_3  2018-09-21     13.80     1000\n",
       "4         1000_4  2018-12-15      5.18     1000\n",
       "...          ...         ...       ...      ...\n",
       "202602  1499_215  2018-12-26      0.76     1499\n",
       "202603  1499_216  2018-10-18     18.83     1499\n",
       "202604  1499_217  2018-11-10     10.81     1499\n",
       "202605  1499_218  2018-10-06      4.27     1499\n",
       "202606  1499_219  2018-12-14     19.62     1499\n",
       "\n",
       "[202607 rows x 4 columns]"
      ]
     },
     "metadata": {},
     "output_type": "display_data"
    },
    {
     "name": "stdout",
     "output_type": "stream",
     "text": [
      "count         202607\n",
      "unique           365\n",
      "top       2018-12-31\n",
      "freq            1435\n",
      "Name: call_date, dtype: object\n"
     ]
    }
   ],
   "source": [
    "display(calls)\n",
    "print(calls['call_date'].describe())"
   ]
  },
  {
   "cell_type": "markdown",
   "metadata": {},
   "source": [
    "***С данными всё в порядке, только поменяем тип на datetime64***"
   ]
  },
  {
   "cell_type": "code",
   "execution_count": 31,
   "metadata": {},
   "outputs": [],
   "source": [
    "calls['call_date'] = pd.to_datetime(calls['call_date'])"
   ]
  },
  {
   "cell_type": "code",
   "execution_count": 32,
   "metadata": {},
   "outputs": [
    {
     "data": {
      "text/plain": [
       "186162   2018-11-10\n",
       "158236   2018-12-13\n",
       "3715     2018-12-14\n",
       "153990   2018-12-28\n",
       "Name: call_date, dtype: datetime64[ns]"
      ]
     },
     "metadata": {},
     "output_type": "display_data"
    },
    {
     "data": {
      "text/html": [
       "<div>\n",
       "<style scoped>\n",
       "    .dataframe tbody tr th:only-of-type {\n",
       "        vertical-align: middle;\n",
       "    }\n",
       "\n",
       "    .dataframe tbody tr th {\n",
       "        vertical-align: top;\n",
       "    }\n",
       "\n",
       "    .dataframe thead th {\n",
       "        text-align: right;\n",
       "    }\n",
       "</style>\n",
       "<table border=\"1\" class=\"dataframe\">\n",
       "  <thead>\n",
       "    <tr style=\"text-align: right;\">\n",
       "      <th></th>\n",
       "      <th>id</th>\n",
       "      <th>call_date</th>\n",
       "      <th>duration</th>\n",
       "      <th>user_id</th>\n",
       "    </tr>\n",
       "  </thead>\n",
       "  <tbody>\n",
       "    <tr>\n",
       "      <td>0</td>\n",
       "      <td>1000_0</td>\n",
       "      <td>2018-07-25</td>\n",
       "      <td>0.00</td>\n",
       "      <td>1000</td>\n",
       "    </tr>\n",
       "    <tr>\n",
       "      <td>1</td>\n",
       "      <td>1000_1</td>\n",
       "      <td>2018-08-17</td>\n",
       "      <td>0.00</td>\n",
       "      <td>1000</td>\n",
       "    </tr>\n",
       "    <tr>\n",
       "      <td>2</td>\n",
       "      <td>1000_2</td>\n",
       "      <td>2018-06-11</td>\n",
       "      <td>2.85</td>\n",
       "      <td>1000</td>\n",
       "    </tr>\n",
       "    <tr>\n",
       "      <td>3</td>\n",
       "      <td>1000_3</td>\n",
       "      <td>2018-09-21</td>\n",
       "      <td>13.80</td>\n",
       "      <td>1000</td>\n",
       "    </tr>\n",
       "  </tbody>\n",
       "</table>\n",
       "</div>"
      ],
      "text/plain": [
       "       id  call_date  duration  user_id\n",
       "0  1000_0 2018-07-25      0.00     1000\n",
       "1  1000_1 2018-08-17      0.00     1000\n",
       "2  1000_2 2018-06-11      2.85     1000\n",
       "3  1000_3 2018-09-21     13.80     1000"
      ]
     },
     "metadata": {},
     "output_type": "display_data"
    },
    {
     "name": "stdout",
     "output_type": "stream",
     "text": [
      "count                  202607\n",
      "unique                    365\n",
      "top       2018-12-31 00:00:00\n",
      "freq                     1435\n",
      "first     2018-01-01 00:00:00\n",
      "last      2018-12-31 00:00:00\n",
      "Name: call_date, dtype: object\n"
     ]
    }
   ],
   "source": [
    "display(calls['call_date'].sample(4))\n",
    "display(calls.head(4))\n",
    "print(calls['call_date'].describe())"
   ]
  },
  {
   "cell_type": "markdown",
   "metadata": {},
   "source": [
    "**ВЫВОД: Тип поменяли остальное в порядке(365 дат = кол-ву дней в году). Столбец готов.**"
   ]
  },
  {
   "cell_type": "markdown",
   "metadata": {},
   "source": [
    "### 2.2.3 Столбец `duration` - длительность звонка в минутах<a id=\"calls3\"></a>  \n",
    "[К содержанию](#soder)"
   ]
  },
  {
   "cell_type": "code",
   "execution_count": 33,
   "metadata": {},
   "outputs": [
    {
     "data": {
      "text/plain": [
       "0          0.00\n",
       "1          0.00\n",
       "2          2.85\n",
       "3         13.80\n",
       "4          5.18\n",
       "          ...  \n",
       "202602     0.76\n",
       "202603    18.83\n",
       "202604    10.81\n",
       "202605     4.27\n",
       "202606    19.62\n",
       "Name: duration, Length: 202607, dtype: float64"
      ]
     },
     "metadata": {},
     "output_type": "display_data"
    },
    {
     "data": {
      "text/plain": [
       "count    202607.000000\n",
       "mean          6.755887\n",
       "std           5.843365\n",
       "min           0.000000\n",
       "25%           1.300000\n",
       "50%           6.000000\n",
       "75%          10.700000\n",
       "max          38.000000\n",
       "Name: duration, dtype: float64"
      ]
     },
     "metadata": {},
     "output_type": "display_data"
    }
   ],
   "source": [
    "display(calls['duration'])\n",
    "display(calls['duration'].describe())"
   ]
  },
  {
   "cell_type": "markdown",
   "metadata": {},
   "source": [
    "***Выбросов нет. Вполне правдоподобно - длительность от 0 до 38 минут (0 минут - это скорее всего те, кто звонил и не дозвонился - неотвеченный вызов).***\n",
    "\n",
    "*В условии задачи сказано : «Мегалайн» всегда округляет вверх значения минут и мегабайтов. Если пользователь проговорил всего 1 секунду, в тарифе засчитывается целая минута.*  \n",
    "\n",
    "***Поэтому округлим в большую сторону все значения столбца и поменяем тип на int.***"
   ]
  },
  {
   "cell_type": "code",
   "execution_count": 34,
   "metadata": {},
   "outputs": [
    {
     "data": {
      "text/plain": [
       "0          0\n",
       "1          0\n",
       "2          3\n",
       "3         14\n",
       "4          6\n",
       "          ..\n",
       "202602     1\n",
       "202603    19\n",
       "202604    11\n",
       "202605     5\n",
       "202606    20\n",
       "Name: duration, Length: 202607, dtype: int64"
      ]
     },
     "metadata": {},
     "output_type": "display_data"
    }
   ],
   "source": [
    "def round_up(fl): # Функция округления вверх. Принимает число, возвращает оклугленное вверх\n",
    "    if int(fl)==fl:\n",
    "        return fl\n",
    "    else:\n",
    "        return int(fl)+1\n",
    "\n",
    "calls['duration'] = calls['duration'].apply(round_up).astype(int)\n",
    "display(calls['duration'])"
   ]
  },
  {
   "cell_type": "markdown",
   "metadata": {},
   "source": [
    "**ВЫВОД: Сравнив с первоначальными значениями видно, что все получилось. Столбец готов.**"
   ]
  },
  {
   "cell_type": "markdown",
   "metadata": {},
   "source": [
    "### 2.2.4 Столбец `user_id ` - идентификатор пользователя, сделавшего звонок<a id=\"calls4\"></a>  \n",
    "[К содержанию](#soder)"
   ]
  },
  {
   "cell_type": "markdown",
   "metadata": {},
   "source": [
    "***В этом столбце важно проверить, чтобы не было дубликатов, так как `user_id` - уникальный ключ, а также посмотрим разброс значений (все ли четырехзначные - однотипные)***"
   ]
  },
  {
   "cell_type": "code",
   "execution_count": 35,
   "metadata": {},
   "outputs": [
    {
     "name": "stdout",
     "output_type": "stream",
     "text": [
      "1377    1760\n",
      "1168    1692\n",
      "1375    1560\n",
      "1453    1440\n",
      "1196    1240\n",
      "        ... \n",
      "1397      33\n",
      "1442      28\n",
      "1373      24\n",
      "1016      20\n",
      "1257      14\n",
      "Name: user_id, Length: 492, dtype: int64\n",
      "\n",
      "count    202607.000000\n",
      "mean       1253.940619\n",
      "std         144.722751\n",
      "min        1000.000000\n",
      "25%        1126.000000\n",
      "50%        1260.000000\n",
      "75%        1379.000000\n",
      "max        1499.000000\n",
      "Name: user_id, dtype: float64\n",
      "\n",
      "Уникальных значений = 492\n"
     ]
    }
   ],
   "source": [
    "id_reseach(calls['user_id']) # Функция была описана выще"
   ]
  },
  {
   "cell_type": "markdown",
   "metadata": {},
   "source": [
    "***Похоже что 8 абонентов  за год не разговаривали по телефону. Это вполне возможно. Это могут быть, скажем на пример, - GPS трекеры или 4G-модемы ... , где важен интернет, а не разговорчики***\n",
    "\n",
    "***Проверим напоследок количество уникальных значений, чтобы не изменилось (если изменится, значит было какое-то число с остатком)***"
   ]
  },
  {
   "cell_type": "code",
   "execution_count": 36,
   "metadata": {},
   "outputs": [
    {
     "name": "stdout",
     "output_type": "stream",
     "text": [
      "Уникальных значений = 492\n"
     ]
    }
   ],
   "source": [
    "calls['user_id'] = calls['user_id'].astype(int)\n",
    "print('Уникальных значений =',len(calls['user_id'].unique()))"
   ]
  },
  {
   "cell_type": "markdown",
   "metadata": {},
   "source": [
    "***На всякий случай вычислим id этих абонентов и запишем в список `not_calling_id`***"
   ]
  },
  {
   "cell_type": "code",
   "execution_count": 37,
   "metadata": {},
   "outputs": [
    {
     "name": "stdout",
     "output_type": "stream",
     "text": [
      "[1091, 1106, 1128, 1231, 1328, 1371, 1473, 1489]\n"
     ]
    }
   ],
   "source": [
    "not_calling_id = []\n",
    "for i in users['user_id']:\n",
    "    if i not in calls['user_id'].unique(): \n",
    "        not_calling_id.append(i) \n",
    "print(not_calling_id)"
   ]
  },
  {
   "cell_type": "markdown",
   "metadata": {},
   "source": [
    "#### ***Вывод: Столбец корректен***"
   ]
  },
  {
   "cell_type": "code",
   "execution_count": 38,
   "metadata": {
    "scrolled": false
   },
   "outputs": [
    {
     "name": "stdout",
     "output_type": "stream",
     "text": [
      "<class 'pandas.core.frame.DataFrame'>\n",
      "RangeIndex: 202607 entries, 0 to 202606\n",
      "Data columns (total 4 columns):\n",
      "id           202607 non-null object\n",
      "call_date    202607 non-null datetime64[ns]\n",
      "duration     202607 non-null int64\n",
      "user_id      202607 non-null int64\n",
      "dtypes: datetime64[ns](1), int64(2), object(1)\n",
      "memory usage: 6.2+ MB\n"
     ]
    }
   ],
   "source": [
    "# Проверим всю таблицу напоследок\n",
    "calls.info()"
   ]
  },
  {
   "cell_type": "markdown",
   "metadata": {},
   "source": [
    "### 2.2.5 Дубликаты  \n",
    "\n",
    "***Поскольку все идентификаторы сообщений присутствуют и они уникальны, дубликатов быть не должно***"
   ]
  },
  {
   "cell_type": "markdown",
   "metadata": {},
   "source": [
    "### ВЫВОД: В таблице `calls` приведена в соостветствие дата и скоректированы (округлены) данные в столбце `duration`. Также замечено, что присутствуют не звонившие абоненты, - их `user_id` записан в список `not_calling_id`. В остальном всё в порядке. Таблица готова"
   ]
  },
  {
   "cell_type": "markdown",
   "metadata": {},
   "source": [
    "## 2.3 Таблица `messages` <a id=\"tabl3\"></a>  \n",
    "[К содержанию](#soder)\n",
    "\n",
    "***Выведем таблицу на экран***"
   ]
  },
  {
   "cell_type": "code",
   "execution_count": 39,
   "metadata": {},
   "outputs": [
    {
     "name": "stdout",
     "output_type": "stream",
     "text": [
      "<class 'pandas.core.frame.DataFrame'>\n",
      "RangeIndex: 123036 entries, 0 to 123035\n",
      "Data columns (total 3 columns):\n",
      "id              123036 non-null object\n",
      "message_date    123036 non-null object\n",
      "user_id         123036 non-null int64\n",
      "dtypes: int64(1), object(2)\n",
      "memory usage: 2.8+ MB\n"
     ]
    },
    {
     "data": {
      "text/plain": [
       "None"
      ]
     },
     "metadata": {},
     "output_type": "display_data"
    },
    {
     "data": {
      "text/html": [
       "<div>\n",
       "<style scoped>\n",
       "    .dataframe tbody tr th:only-of-type {\n",
       "        vertical-align: middle;\n",
       "    }\n",
       "\n",
       "    .dataframe tbody tr th {\n",
       "        vertical-align: top;\n",
       "    }\n",
       "\n",
       "    .dataframe thead th {\n",
       "        text-align: right;\n",
       "    }\n",
       "</style>\n",
       "<table border=\"1\" class=\"dataframe\">\n",
       "  <thead>\n",
       "    <tr style=\"text-align: right;\">\n",
       "      <th></th>\n",
       "      <th>id</th>\n",
       "      <th>message_date</th>\n",
       "      <th>user_id</th>\n",
       "    </tr>\n",
       "  </thead>\n",
       "  <tbody>\n",
       "    <tr>\n",
       "      <td>0</td>\n",
       "      <td>1000_0</td>\n",
       "      <td>2018-06-27</td>\n",
       "      <td>1000</td>\n",
       "    </tr>\n",
       "    <tr>\n",
       "      <td>1</td>\n",
       "      <td>1000_1</td>\n",
       "      <td>2018-10-08</td>\n",
       "      <td>1000</td>\n",
       "    </tr>\n",
       "    <tr>\n",
       "      <td>2</td>\n",
       "      <td>1000_2</td>\n",
       "      <td>2018-08-04</td>\n",
       "      <td>1000</td>\n",
       "    </tr>\n",
       "    <tr>\n",
       "      <td>3</td>\n",
       "      <td>1000_3</td>\n",
       "      <td>2018-06-16</td>\n",
       "      <td>1000</td>\n",
       "    </tr>\n",
       "    <tr>\n",
       "      <td>4</td>\n",
       "      <td>1000_4</td>\n",
       "      <td>2018-12-05</td>\n",
       "      <td>1000</td>\n",
       "    </tr>\n",
       "    <tr>\n",
       "      <td>...</td>\n",
       "      <td>...</td>\n",
       "      <td>...</td>\n",
       "      <td>...</td>\n",
       "    </tr>\n",
       "    <tr>\n",
       "      <td>123031</td>\n",
       "      <td>1499_179</td>\n",
       "      <td>2018-12-12</td>\n",
       "      <td>1499</td>\n",
       "    </tr>\n",
       "    <tr>\n",
       "      <td>123032</td>\n",
       "      <td>1499_180</td>\n",
       "      <td>2018-09-28</td>\n",
       "      <td>1499</td>\n",
       "    </tr>\n",
       "    <tr>\n",
       "      <td>123033</td>\n",
       "      <td>1499_181</td>\n",
       "      <td>2018-09-27</td>\n",
       "      <td>1499</td>\n",
       "    </tr>\n",
       "    <tr>\n",
       "      <td>123034</td>\n",
       "      <td>1499_182</td>\n",
       "      <td>2018-11-15</td>\n",
       "      <td>1499</td>\n",
       "    </tr>\n",
       "    <tr>\n",
       "      <td>123035</td>\n",
       "      <td>1499_183</td>\n",
       "      <td>2018-11-16</td>\n",
       "      <td>1499</td>\n",
       "    </tr>\n",
       "  </tbody>\n",
       "</table>\n",
       "<p>123036 rows × 3 columns</p>\n",
       "</div>"
      ],
      "text/plain": [
       "              id message_date  user_id\n",
       "0         1000_0   2018-06-27     1000\n",
       "1         1000_1   2018-10-08     1000\n",
       "2         1000_2   2018-08-04     1000\n",
       "3         1000_3   2018-06-16     1000\n",
       "4         1000_4   2018-12-05     1000\n",
       "...          ...          ...      ...\n",
       "123031  1499_179   2018-12-12     1499\n",
       "123032  1499_180   2018-09-28     1499\n",
       "123033  1499_181   2018-09-27     1499\n",
       "123034  1499_182   2018-11-15     1499\n",
       "123035  1499_183   2018-11-16     1499\n",
       "\n",
       "[123036 rows x 3 columns]"
      ]
     },
     "metadata": {},
     "output_type": "display_data"
    }
   ],
   "source": [
    "display(messages.info())\n",
    "display(messages)"
   ]
  },
  {
   "cell_type": "markdown",
   "metadata": {},
   "source": [
    "### 2.3.1 Столбец `id` - уникальный номер сообщения <a id=\"messages1\"></a>  \n",
    "[К содержанию](#soder)\n",
    "\n",
    "***Проверим уникальность записей***"
   ]
  },
  {
   "cell_type": "code",
   "execution_count": 40,
   "metadata": {
    "scrolled": false
   },
   "outputs": [
    {
     "name": "stdout",
     "output_type": "stream",
     "text": [
      "0           1000_0\n",
      "1           1000_1\n",
      "2           1000_2\n",
      "3           1000_3\n",
      "4           1000_4\n",
      "            ...   \n",
      "123031    1499_179\n",
      "123032    1499_180\n",
      "123033    1499_181\n",
      "123034    1499_182\n",
      "123035    1499_183\n",
      "Name: id, Length: 123036, dtype: object\n",
      "1379_71     1\n",
      "1385_869    1\n",
      "1348_35     1\n",
      "1438_85     1\n",
      "1110_170    1\n",
      "           ..\n",
      "1308_306    1\n",
      "1004_427    1\n",
      "1080_42     1\n",
      "1089_925    1\n",
      "1246_13     1\n",
      "Name: id, Length: 123036, dtype: int64\n"
     ]
    }
   ],
   "source": [
    "print(messages['id'])\n",
    "print(messages['id'].value_counts())"
   ]
  },
  {
   "cell_type": "markdown",
   "metadata": {},
   "source": [
    "***Все идентификаторы уникальны и в одном экземпляре, что как раз актуально***"
   ]
  },
  {
   "cell_type": "markdown",
   "metadata": {},
   "source": [
    "### 2.3.2 Столбец `message_date` - дата сообщения <a id=\"messages2\"></a>  \n",
    "[К содержанию](#soder)"
   ]
  },
  {
   "cell_type": "code",
   "execution_count": 41,
   "metadata": {},
   "outputs": [
    {
     "data": {
      "text/plain": [
       "0         2018-06-27\n",
       "1         2018-10-08\n",
       "2         2018-08-04\n",
       "3         2018-06-16\n",
       "4         2018-12-05\n",
       "             ...    \n",
       "123031    2018-12-12\n",
       "123032    2018-09-28\n",
       "123033    2018-09-27\n",
       "123034    2018-11-15\n",
       "123035    2018-11-16\n",
       "Name: message_date, Length: 123036, dtype: object"
      ]
     },
     "execution_count": 41,
     "metadata": {},
     "output_type": "execute_result"
    }
   ],
   "source": [
    "messages['message_date']"
   ]
  },
  {
   "cell_type": "code",
   "execution_count": 42,
   "metadata": {},
   "outputs": [
    {
     "data": {
      "text/plain": [
       "8002     2018-08-21\n",
       "42675    2018-08-31\n",
       "64959    2018-08-24\n",
       "71728    2018-09-05\n",
       "Name: message_date, dtype: object"
      ]
     },
     "metadata": {},
     "output_type": "display_data"
    },
    {
     "name": "stdout",
     "output_type": "stream",
     "text": [
      "count         123036\n",
      "unique           364\n",
      "top       2018-12-31\n",
      "freq             859\n",
      "Name: message_date, dtype: object\n"
     ]
    }
   ],
   "source": [
    "display(messages['message_date'].sample(4))\n",
    "print(messages['message_date'].describe())"
   ]
  },
  {
   "cell_type": "markdown",
   "metadata": {},
   "source": [
    "***Похоже отсутствует 1 день (364 из 365). Поменяем тип на datetime64.***"
   ]
  },
  {
   "cell_type": "code",
   "execution_count": 43,
   "metadata": {},
   "outputs": [],
   "source": [
    "messages['message_date'] = pd.to_datetime(messages['message_date'])"
   ]
  },
  {
   "cell_type": "code",
   "execution_count": 44,
   "metadata": {},
   "outputs": [
    {
     "data": {
      "text/plain": [
       "84293    2018-11-16\n",
       "79890    2018-11-29\n",
       "64442    2018-12-25\n",
       "104247   2018-09-05\n",
       "Name: message_date, dtype: datetime64[ns]"
      ]
     },
     "metadata": {},
     "output_type": "display_data"
    },
    {
     "data": {
      "text/html": [
       "<div>\n",
       "<style scoped>\n",
       "    .dataframe tbody tr th:only-of-type {\n",
       "        vertical-align: middle;\n",
       "    }\n",
       "\n",
       "    .dataframe tbody tr th {\n",
       "        vertical-align: top;\n",
       "    }\n",
       "\n",
       "    .dataframe thead th {\n",
       "        text-align: right;\n",
       "    }\n",
       "</style>\n",
       "<table border=\"1\" class=\"dataframe\">\n",
       "  <thead>\n",
       "    <tr style=\"text-align: right;\">\n",
       "      <th></th>\n",
       "      <th>id</th>\n",
       "      <th>message_date</th>\n",
       "      <th>user_id</th>\n",
       "    </tr>\n",
       "  </thead>\n",
       "  <tbody>\n",
       "    <tr>\n",
       "      <td>0</td>\n",
       "      <td>1000_0</td>\n",
       "      <td>2018-06-27</td>\n",
       "      <td>1000</td>\n",
       "    </tr>\n",
       "    <tr>\n",
       "      <td>1</td>\n",
       "      <td>1000_1</td>\n",
       "      <td>2018-10-08</td>\n",
       "      <td>1000</td>\n",
       "    </tr>\n",
       "    <tr>\n",
       "      <td>2</td>\n",
       "      <td>1000_2</td>\n",
       "      <td>2018-08-04</td>\n",
       "      <td>1000</td>\n",
       "    </tr>\n",
       "    <tr>\n",
       "      <td>3</td>\n",
       "      <td>1000_3</td>\n",
       "      <td>2018-06-16</td>\n",
       "      <td>1000</td>\n",
       "    </tr>\n",
       "  </tbody>\n",
       "</table>\n",
       "</div>"
      ],
      "text/plain": [
       "       id message_date  user_id\n",
       "0  1000_0   2018-06-27     1000\n",
       "1  1000_1   2018-10-08     1000\n",
       "2  1000_2   2018-08-04     1000\n",
       "3  1000_3   2018-06-16     1000"
      ]
     },
     "metadata": {},
     "output_type": "display_data"
    },
    {
     "name": "stdout",
     "output_type": "stream",
     "text": [
      "count                  123036\n",
      "unique                    364\n",
      "top       2018-12-31 00:00:00\n",
      "freq                      859\n",
      "first     2018-01-02 00:00:00\n",
      "last      2018-12-31 00:00:00\n",
      "Name: message_date, dtype: object\n"
     ]
    }
   ],
   "source": [
    "display(messages['message_date'].sample(4))\n",
    "display(messages.head(4))\n",
    "print(messages['message_date'].describe())"
   ]
  },
  {
   "cell_type": "markdown",
   "metadata": {},
   "source": [
    "**Вывод: В данных отсутствуют данные за 1 января 2018 ! Но возможно это и к лучшему так как 1 января - праздник, и в этот день вполне могут быть сильные отклонения от нормы по сообщениям (а также звонкам) так как все поздравляют друг друга... Возможно этот день следует исключить из анализа.**"
   ]
  },
  {
   "cell_type": "markdown",
   "metadata": {},
   "source": [
    "### 2.3.3 Столбец `user_id` - идентификатор пользователя, отправившего сообщение <a id=\"messages3\"></a>  \n",
    "[К содержанию](#soder)\n",
    "\n",
    "***Проверим данные***"
   ]
  },
  {
   "cell_type": "code",
   "execution_count": 45,
   "metadata": {},
   "outputs": [
    {
     "name": "stdout",
     "output_type": "stream",
     "text": [
      "1277    1463\n",
      "1089    1408\n",
      "1231    1384\n",
      "1385    1380\n",
      "1356    1224\n",
      "        ... \n",
      "1389       6\n",
      "1279       5\n",
      "1074       3\n",
      "1159       2\n",
      "1141       1\n",
      "Name: user_id, Length: 426, dtype: int64\n",
      "\n",
      "count    123036.000000\n",
      "mean       1256.989410\n",
      "std         143.523967\n",
      "min        1000.000000\n",
      "25%        1134.000000\n",
      "50%        1271.000000\n",
      "75%        1381.000000\n",
      "max        1499.000000\n",
      "Name: user_id, dtype: float64\n",
      "\n",
      "Уникальных значений = 426\n"
     ]
    }
   ],
   "source": [
    "id_reseach(messages['user_id'])"
   ]
  },
  {
   "cell_type": "markdown",
   "metadata": {},
   "source": [
    "***Распределение вполне плавное и в рамках 1000-1499. Есть абоненты которые рассылают аж свыше 1000 сообщений. Это скорее всего какие-то сервисы, интернет магазины (зарегистрированные на физлица). 74 абонента (500-426) не отправляли сообщения - вполне возможно, сейчас очень многие пользуются интернет-мессенджерами***\n",
    "\n",
    "***На всякий случай вычислим id этих абонентов и запишем в список `not_messaging_id`***"
   ]
  },
  {
   "cell_type": "code",
   "execution_count": 46,
   "metadata": {
    "scrolled": true
   },
   "outputs": [
    {
     "name": "stdout",
     "output_type": "stream",
     "text": [
      "[1001, 1006, 1010, 1017, 1024, 1040, 1049, 1053, 1063, 1078, 1085, 1095, 1101, 1107, 1114, 1116, 1117, 1118, 1120, 1128, 1129, 1132, 1143, 1152, 1153, 1157, 1162, 1175, 1177, 1179, 1185, 1195, 1201, 1204, 1208, 1210, 1220, 1224, 1225, 1228, 1240, 1242, 1248, 1254, 1255, 1260, 1290, 1291, 1292, 1297, 1301, 1305, 1306, 1322, 1334, 1339, 1360, 1363, 1367, 1370, 1371, 1376, 1388, 1397, 1428, 1429, 1435, 1442, 1456, 1462, 1466, 1469, 1479, 1494]\n"
     ]
    }
   ],
   "source": [
    "not_messaging_id = []\n",
    "for i in users['user_id']:\n",
    "    if i not in messages['user_id'].unique(): \n",
    "        not_messaging_id.append(i) \n",
    "print(not_messaging_id)"
   ]
  },
  {
   "cell_type": "markdown",
   "metadata": {},
   "source": [
    "#### ***Вывод: Столбец корректен***"
   ]
  },
  {
   "cell_type": "code",
   "execution_count": 47,
   "metadata": {
    "scrolled": false
   },
   "outputs": [
    {
     "name": "stdout",
     "output_type": "stream",
     "text": [
      "<class 'pandas.core.frame.DataFrame'>\n",
      "RangeIndex: 123036 entries, 0 to 123035\n",
      "Data columns (total 3 columns):\n",
      "id              123036 non-null object\n",
      "message_date    123036 non-null datetime64[ns]\n",
      "user_id         123036 non-null int64\n",
      "dtypes: datetime64[ns](1), int64(1), object(1)\n",
      "memory usage: 2.8+ MB\n"
     ]
    }
   ],
   "source": [
    "# Проверим всю таблицу напоследок\n",
    "messages.info()"
   ]
  },
  {
   "cell_type": "markdown",
   "metadata": {},
   "source": [
    "### 2.3.4 Дубликаты  \n",
    "\n",
    "***Поскольку все идентификаторы сообщений присутствуют и они уникальны, дубликатов быть не должно***"
   ]
  },
  {
   "cell_type": "markdown",
   "metadata": {},
   "source": [
    "### ВЫВОД: В таблице `messages` приведена в соостветствие дата. Также замечено, что присутствуют не писавшие СМС абоненты, - их `user_id` записан в список `not_messaging_id`. В остальном всё в порядке. Таблица готова"
   ]
  },
  {
   "cell_type": "markdown",
   "metadata": {},
   "source": [
    "## 2.4 Таблица `internet` <a id=\"tabl4\"></a>  \n",
    "[К содержанию](#soder)"
   ]
  },
  {
   "cell_type": "code",
   "execution_count": 48,
   "metadata": {
    "scrolled": false
   },
   "outputs": [
    {
     "name": "stdout",
     "output_type": "stream",
     "text": [
      "<class 'pandas.core.frame.DataFrame'>\n",
      "RangeIndex: 149396 entries, 0 to 149395\n",
      "Data columns (total 5 columns):\n",
      "Unnamed: 0      149396 non-null int64\n",
      "id              149396 non-null object\n",
      "mb_used         149396 non-null float64\n",
      "session_date    149396 non-null object\n",
      "user_id         149396 non-null int64\n",
      "dtypes: float64(1), int64(2), object(2)\n",
      "memory usage: 5.7+ MB\n"
     ]
    },
    {
     "data": {
      "text/plain": [
       "None"
      ]
     },
     "metadata": {},
     "output_type": "display_data"
    },
    {
     "data": {
      "text/html": [
       "<div>\n",
       "<style scoped>\n",
       "    .dataframe tbody tr th:only-of-type {\n",
       "        vertical-align: middle;\n",
       "    }\n",
       "\n",
       "    .dataframe tbody tr th {\n",
       "        vertical-align: top;\n",
       "    }\n",
       "\n",
       "    .dataframe thead th {\n",
       "        text-align: right;\n",
       "    }\n",
       "</style>\n",
       "<table border=\"1\" class=\"dataframe\">\n",
       "  <thead>\n",
       "    <tr style=\"text-align: right;\">\n",
       "      <th></th>\n",
       "      <th>Unnamed: 0</th>\n",
       "      <th>id</th>\n",
       "      <th>mb_used</th>\n",
       "      <th>session_date</th>\n",
       "      <th>user_id</th>\n",
       "    </tr>\n",
       "  </thead>\n",
       "  <tbody>\n",
       "    <tr>\n",
       "      <td>0</td>\n",
       "      <td>0</td>\n",
       "      <td>1000_0</td>\n",
       "      <td>112.95</td>\n",
       "      <td>2018-11-25</td>\n",
       "      <td>1000</td>\n",
       "    </tr>\n",
       "    <tr>\n",
       "      <td>1</td>\n",
       "      <td>1</td>\n",
       "      <td>1000_1</td>\n",
       "      <td>1052.81</td>\n",
       "      <td>2018-09-07</td>\n",
       "      <td>1000</td>\n",
       "    </tr>\n",
       "    <tr>\n",
       "      <td>2</td>\n",
       "      <td>2</td>\n",
       "      <td>1000_2</td>\n",
       "      <td>1197.26</td>\n",
       "      <td>2018-06-25</td>\n",
       "      <td>1000</td>\n",
       "    </tr>\n",
       "    <tr>\n",
       "      <td>3</td>\n",
       "      <td>3</td>\n",
       "      <td>1000_3</td>\n",
       "      <td>550.27</td>\n",
       "      <td>2018-08-22</td>\n",
       "      <td>1000</td>\n",
       "    </tr>\n",
       "    <tr>\n",
       "      <td>4</td>\n",
       "      <td>4</td>\n",
       "      <td>1000_4</td>\n",
       "      <td>302.56</td>\n",
       "      <td>2018-09-24</td>\n",
       "      <td>1000</td>\n",
       "    </tr>\n",
       "    <tr>\n",
       "      <td>...</td>\n",
       "      <td>...</td>\n",
       "      <td>...</td>\n",
       "      <td>...</td>\n",
       "      <td>...</td>\n",
       "      <td>...</td>\n",
       "    </tr>\n",
       "    <tr>\n",
       "      <td>149391</td>\n",
       "      <td>149391</td>\n",
       "      <td>1499_152</td>\n",
       "      <td>318.90</td>\n",
       "      <td>2018-10-03</td>\n",
       "      <td>1499</td>\n",
       "    </tr>\n",
       "    <tr>\n",
       "      <td>149392</td>\n",
       "      <td>149392</td>\n",
       "      <td>1499_153</td>\n",
       "      <td>490.13</td>\n",
       "      <td>2018-12-14</td>\n",
       "      <td>1499</td>\n",
       "    </tr>\n",
       "    <tr>\n",
       "      <td>149393</td>\n",
       "      <td>149393</td>\n",
       "      <td>1499_154</td>\n",
       "      <td>0.00</td>\n",
       "      <td>2018-10-27</td>\n",
       "      <td>1499</td>\n",
       "    </tr>\n",
       "    <tr>\n",
       "      <td>149394</td>\n",
       "      <td>149394</td>\n",
       "      <td>1499_155</td>\n",
       "      <td>1246.32</td>\n",
       "      <td>2018-11-26</td>\n",
       "      <td>1499</td>\n",
       "    </tr>\n",
       "    <tr>\n",
       "      <td>149395</td>\n",
       "      <td>149395</td>\n",
       "      <td>1499_156</td>\n",
       "      <td>544.37</td>\n",
       "      <td>2018-10-26</td>\n",
       "      <td>1499</td>\n",
       "    </tr>\n",
       "  </tbody>\n",
       "</table>\n",
       "<p>149396 rows × 5 columns</p>\n",
       "</div>"
      ],
      "text/plain": [
       "        Unnamed: 0        id  mb_used session_date  user_id\n",
       "0                0    1000_0   112.95   2018-11-25     1000\n",
       "1                1    1000_1  1052.81   2018-09-07     1000\n",
       "2                2    1000_2  1197.26   2018-06-25     1000\n",
       "3                3    1000_3   550.27   2018-08-22     1000\n",
       "4                4    1000_4   302.56   2018-09-24     1000\n",
       "...            ...       ...      ...          ...      ...\n",
       "149391      149391  1499_152   318.90   2018-10-03     1499\n",
       "149392      149392  1499_153   490.13   2018-12-14     1499\n",
       "149393      149393  1499_154     0.00   2018-10-27     1499\n",
       "149394      149394  1499_155  1246.32   2018-11-26     1499\n",
       "149395      149395  1499_156   544.37   2018-10-26     1499\n",
       "\n",
       "[149396 rows x 5 columns]"
      ]
     },
     "metadata": {},
     "output_type": "display_data"
    },
    {
     "name": "stdout",
     "output_type": "stream",
     "text": [
      "Index(['Unnamed: 0', 'id', 'mb_used', 'session_date', 'user_id'], dtype='object')\n"
     ]
    }
   ],
   "source": [
    "display(internet.info())\n",
    "display(internet)\n",
    "print(internet.columns)"
   ]
  },
  {
   "cell_type": "markdown",
   "metadata": {},
   "source": [
    "***По условию в таблице должно быть 4 столбца, а их 5. Присутствует столбец 'Unnamed: 0' данные в котором похожи на индексы. Удалим этот столбец.***\n"
   ]
  },
  {
   "cell_type": "code",
   "execution_count": 49,
   "metadata": {},
   "outputs": [],
   "source": [
    "internet.drop('Unnamed: 0', axis=1, inplace=True)"
   ]
  },
  {
   "cell_type": "code",
   "execution_count": 50,
   "metadata": {},
   "outputs": [
    {
     "data": {
      "text/html": [
       "<div>\n",
       "<style scoped>\n",
       "    .dataframe tbody tr th:only-of-type {\n",
       "        vertical-align: middle;\n",
       "    }\n",
       "\n",
       "    .dataframe tbody tr th {\n",
       "        vertical-align: top;\n",
       "    }\n",
       "\n",
       "    .dataframe thead th {\n",
       "        text-align: right;\n",
       "    }\n",
       "</style>\n",
       "<table border=\"1\" class=\"dataframe\">\n",
       "  <thead>\n",
       "    <tr style=\"text-align: right;\">\n",
       "      <th></th>\n",
       "      <th>id</th>\n",
       "      <th>mb_used</th>\n",
       "      <th>session_date</th>\n",
       "      <th>user_id</th>\n",
       "    </tr>\n",
       "  </thead>\n",
       "  <tbody>\n",
       "    <tr>\n",
       "      <td>0</td>\n",
       "      <td>1000_0</td>\n",
       "      <td>112.95</td>\n",
       "      <td>2018-11-25</td>\n",
       "      <td>1000</td>\n",
       "    </tr>\n",
       "    <tr>\n",
       "      <td>1</td>\n",
       "      <td>1000_1</td>\n",
       "      <td>1052.81</td>\n",
       "      <td>2018-09-07</td>\n",
       "      <td>1000</td>\n",
       "    </tr>\n",
       "    <tr>\n",
       "      <td>2</td>\n",
       "      <td>1000_2</td>\n",
       "      <td>1197.26</td>\n",
       "      <td>2018-06-25</td>\n",
       "      <td>1000</td>\n",
       "    </tr>\n",
       "    <tr>\n",
       "      <td>3</td>\n",
       "      <td>1000_3</td>\n",
       "      <td>550.27</td>\n",
       "      <td>2018-08-22</td>\n",
       "      <td>1000</td>\n",
       "    </tr>\n",
       "    <tr>\n",
       "      <td>4</td>\n",
       "      <td>1000_4</td>\n",
       "      <td>302.56</td>\n",
       "      <td>2018-09-24</td>\n",
       "      <td>1000</td>\n",
       "    </tr>\n",
       "    <tr>\n",
       "      <td>...</td>\n",
       "      <td>...</td>\n",
       "      <td>...</td>\n",
       "      <td>...</td>\n",
       "      <td>...</td>\n",
       "    </tr>\n",
       "    <tr>\n",
       "      <td>149391</td>\n",
       "      <td>1499_152</td>\n",
       "      <td>318.90</td>\n",
       "      <td>2018-10-03</td>\n",
       "      <td>1499</td>\n",
       "    </tr>\n",
       "    <tr>\n",
       "      <td>149392</td>\n",
       "      <td>1499_153</td>\n",
       "      <td>490.13</td>\n",
       "      <td>2018-12-14</td>\n",
       "      <td>1499</td>\n",
       "    </tr>\n",
       "    <tr>\n",
       "      <td>149393</td>\n",
       "      <td>1499_154</td>\n",
       "      <td>0.00</td>\n",
       "      <td>2018-10-27</td>\n",
       "      <td>1499</td>\n",
       "    </tr>\n",
       "    <tr>\n",
       "      <td>149394</td>\n",
       "      <td>1499_155</td>\n",
       "      <td>1246.32</td>\n",
       "      <td>2018-11-26</td>\n",
       "      <td>1499</td>\n",
       "    </tr>\n",
       "    <tr>\n",
       "      <td>149395</td>\n",
       "      <td>1499_156</td>\n",
       "      <td>544.37</td>\n",
       "      <td>2018-10-26</td>\n",
       "      <td>1499</td>\n",
       "    </tr>\n",
       "  </tbody>\n",
       "</table>\n",
       "<p>149396 rows × 4 columns</p>\n",
       "</div>"
      ],
      "text/plain": [
       "              id  mb_used session_date  user_id\n",
       "0         1000_0   112.95   2018-11-25     1000\n",
       "1         1000_1  1052.81   2018-09-07     1000\n",
       "2         1000_2  1197.26   2018-06-25     1000\n",
       "3         1000_3   550.27   2018-08-22     1000\n",
       "4         1000_4   302.56   2018-09-24     1000\n",
       "...          ...      ...          ...      ...\n",
       "149391  1499_152   318.90   2018-10-03     1499\n",
       "149392  1499_153   490.13   2018-12-14     1499\n",
       "149393  1499_154     0.00   2018-10-27     1499\n",
       "149394  1499_155  1246.32   2018-11-26     1499\n",
       "149395  1499_156   544.37   2018-10-26     1499\n",
       "\n",
       "[149396 rows x 4 columns]"
      ]
     },
     "metadata": {},
     "output_type": "display_data"
    }
   ],
   "source": [
    "display(internet)"
   ]
  },
  {
   "cell_type": "markdown",
   "metadata": {},
   "source": [
    "***Ненужный столбец удален. В столбцах `mb_used` - округлим вверх значения до целых (так как это задано условием) и поменяем тип на int, а в `session_date` поменяем тип на дату***"
   ]
  },
  {
   "cell_type": "markdown",
   "metadata": {},
   "source": [
    "### 2.4.1 Столбец `id` - уникальный номер сообщения <a id=\"internet1\"></a>  \n",
    "[К содержанию](#soder)\n",
    "\n",
    "***Проверим уникальность записей***"
   ]
  },
  {
   "cell_type": "code",
   "execution_count": 51,
   "metadata": {
    "scrolled": false
   },
   "outputs": [
    {
     "name": "stdout",
     "output_type": "stream",
     "text": [
      "0           1000_0\n",
      "1           1000_1\n",
      "2           1000_2\n",
      "3           1000_3\n",
      "4           1000_4\n",
      "            ...   \n",
      "149391    1499_152\n",
      "149392    1499_153\n",
      "149393    1499_154\n",
      "149394    1499_155\n",
      "149395    1499_156\n",
      "Name: id, Length: 149396, dtype: object\n",
      "1379_71     1\n",
      "1320_148    1\n",
      "1391_95     1\n",
      "1172_501    1\n",
      "1293_57     1\n",
      "           ..\n",
      "1045_188    1\n",
      "1409_223    1\n",
      "1325_83     1\n",
      "1161_107    1\n",
      "1291_143    1\n",
      "Name: id, Length: 149396, dtype: int64\n"
     ]
    }
   ],
   "source": [
    "print(internet['id'])\n",
    "print(internet['id'].value_counts())"
   ]
  },
  {
   "cell_type": "markdown",
   "metadata": {},
   "source": [
    "***Все идентификаторы уникальны и в одном экземпляре, что как раз актуально***"
   ]
  },
  {
   "cell_type": "markdown",
   "metadata": {
    "scrolled": true
   },
   "source": [
    "### 2.4.2 Столбец `mb_used` - объём потраченного за сессию интернет-трафика (в мегабайтах) <a id=\"internet2\"></a>  \n",
    "[К содержанию](#soder)"
   ]
  },
  {
   "cell_type": "code",
   "execution_count": 52,
   "metadata": {},
   "outputs": [
    {
     "data": {
      "text/plain": [
       "0          112.95\n",
       "1         1052.81\n",
       "2         1197.26\n",
       "3          550.27\n",
       "4          302.56\n",
       "           ...   \n",
       "149391     318.90\n",
       "149392     490.13\n",
       "149393       0.00\n",
       "149394    1246.32\n",
       "149395     544.37\n",
       "Name: mb_used, Length: 149396, dtype: float64"
      ]
     },
     "metadata": {},
     "output_type": "display_data"
    },
    {
     "data": {
      "text/plain": [
       "count    149396.000000\n",
       "mean        370.192426\n",
       "std         278.300951\n",
       "min           0.000000\n",
       "25%         138.187500\n",
       "50%         348.015000\n",
       "75%         559.552500\n",
       "max        1724.830000\n",
       "Name: mb_used, dtype: float64"
      ]
     },
     "metadata": {},
     "output_type": "display_data"
    }
   ],
   "source": [
    "display(internet['mb_used'])\n",
    "display(internet['mb_used'].describe())"
   ]
  },
  {
   "cell_type": "markdown",
   "metadata": {},
   "source": [
    "***Выбросов нет. Вполне правдоподобно - длительность от 0 до 1725 МБ (0 МБ - это похоже случаи когда соединение было установлено с интернетом, а потом сразу прервано).***\n",
    "\n",
    "*В условии задачи сказано : «Мегалайн» всегда округляет вверх значения минут и мегабайтов. Если пользователь проговорил всего 1 секунду, в тарифе засчитывается целая минута.*  \n",
    "\n",
    "***Поэтому округлим в большую сторону все значения столбца и поменяем тип на int.***"
   ]
  },
  {
   "cell_type": "code",
   "execution_count": 53,
   "metadata": {},
   "outputs": [
    {
     "data": {
      "text/plain": [
       "0          113\n",
       "1         1053\n",
       "2         1198\n",
       "3          551\n",
       "4          303\n",
       "          ... \n",
       "149391     319\n",
       "149392     491\n",
       "149393       0\n",
       "149394    1247\n",
       "149395     545\n",
       "Name: mb_used, Length: 149396, dtype: int64"
      ]
     },
     "metadata": {},
     "output_type": "display_data"
    }
   ],
   "source": [
    "# Воспользуемся прописаной ранее функцией округления вверх. round_up(fl) принимает число, возвращает оклугленное вверх\n",
    "internet['mb_used'] = internet['mb_used'].apply(round_up).astype(int)\n",
    "display(internet['mb_used'])\n"
   ]
  },
  {
   "cell_type": "markdown",
   "metadata": {},
   "source": [
    "**ВЫВОД: Сравнив с первоначальными значениями видно, что все получилось. Столбец готов.**"
   ]
  },
  {
   "cell_type": "markdown",
   "metadata": {},
   "source": [
    "### 2.4.3 Столбец `session_date` - дата интернет-сессии <a id=\"internet3\"></a>  \n",
    "[К содержанию](#soder)"
   ]
  },
  {
   "cell_type": "code",
   "execution_count": 54,
   "metadata": {},
   "outputs": [
    {
     "data": {
      "text/plain": [
       "0         2018-11-25\n",
       "1         2018-09-07\n",
       "2         2018-06-25\n",
       "3         2018-08-22\n",
       "4         2018-09-24\n",
       "             ...    \n",
       "149391    2018-10-03\n",
       "149392    2018-12-14\n",
       "149393    2018-10-27\n",
       "149394    2018-11-26\n",
       "149395    2018-10-26\n",
       "Name: session_date, Length: 149396, dtype: object"
      ]
     },
     "execution_count": 54,
     "metadata": {},
     "output_type": "execute_result"
    }
   ],
   "source": [
    "internet['session_date']"
   ]
  },
  {
   "cell_type": "code",
   "execution_count": 55,
   "metadata": {},
   "outputs": [
    {
     "data": {
      "text/plain": [
       "133198    2018-12-31\n",
       "50951     2018-06-10\n",
       "71144     2018-07-06\n",
       "40711     2018-12-12\n",
       "Name: session_date, dtype: object"
      ]
     },
     "metadata": {},
     "output_type": "display_data"
    },
    {
     "name": "stdout",
     "output_type": "stream",
     "text": [
      "count         149396\n",
      "unique           365\n",
      "top       2018-12-31\n",
      "freq            1057\n",
      "Name: session_date, dtype: object\n"
     ]
    }
   ],
   "source": [
    "display(internet['session_date'].sample(4))\n",
    "print(internet['session_date'].describe())"
   ]
  },
  {
   "cell_type": "markdown",
   "metadata": {},
   "source": [
    "***Поменяем тип***"
   ]
  },
  {
   "cell_type": "code",
   "execution_count": 56,
   "metadata": {
    "scrolled": true
   },
   "outputs": [],
   "source": [
    "internet['session_date'] = pd.to_datetime(internet['session_date'])"
   ]
  },
  {
   "cell_type": "code",
   "execution_count": 57,
   "metadata": {},
   "outputs": [
    {
     "data": {
      "text/plain": [
       "22264    2018-11-20\n",
       "37295    2018-10-09\n",
       "101682   2018-07-31\n",
       "25848    2018-04-10\n",
       "Name: session_date, dtype: datetime64[ns]"
      ]
     },
     "metadata": {},
     "output_type": "display_data"
    },
    {
     "data": {
      "text/html": [
       "<div>\n",
       "<style scoped>\n",
       "    .dataframe tbody tr th:only-of-type {\n",
       "        vertical-align: middle;\n",
       "    }\n",
       "\n",
       "    .dataframe tbody tr th {\n",
       "        vertical-align: top;\n",
       "    }\n",
       "\n",
       "    .dataframe thead th {\n",
       "        text-align: right;\n",
       "    }\n",
       "</style>\n",
       "<table border=\"1\" class=\"dataframe\">\n",
       "  <thead>\n",
       "    <tr style=\"text-align: right;\">\n",
       "      <th></th>\n",
       "      <th>id</th>\n",
       "      <th>mb_used</th>\n",
       "      <th>session_date</th>\n",
       "      <th>user_id</th>\n",
       "    </tr>\n",
       "  </thead>\n",
       "  <tbody>\n",
       "    <tr>\n",
       "      <td>0</td>\n",
       "      <td>1000_0</td>\n",
       "      <td>113</td>\n",
       "      <td>2018-11-25</td>\n",
       "      <td>1000</td>\n",
       "    </tr>\n",
       "    <tr>\n",
       "      <td>1</td>\n",
       "      <td>1000_1</td>\n",
       "      <td>1053</td>\n",
       "      <td>2018-09-07</td>\n",
       "      <td>1000</td>\n",
       "    </tr>\n",
       "    <tr>\n",
       "      <td>2</td>\n",
       "      <td>1000_2</td>\n",
       "      <td>1198</td>\n",
       "      <td>2018-06-25</td>\n",
       "      <td>1000</td>\n",
       "    </tr>\n",
       "    <tr>\n",
       "      <td>3</td>\n",
       "      <td>1000_3</td>\n",
       "      <td>551</td>\n",
       "      <td>2018-08-22</td>\n",
       "      <td>1000</td>\n",
       "    </tr>\n",
       "  </tbody>\n",
       "</table>\n",
       "</div>"
      ],
      "text/plain": [
       "       id  mb_used session_date  user_id\n",
       "0  1000_0      113   2018-11-25     1000\n",
       "1  1000_1     1053   2018-09-07     1000\n",
       "2  1000_2     1198   2018-06-25     1000\n",
       "3  1000_3      551   2018-08-22     1000"
      ]
     },
     "metadata": {},
     "output_type": "display_data"
    },
    {
     "name": "stdout",
     "output_type": "stream",
     "text": [
      "count                  149396\n",
      "unique                    365\n",
      "top       2018-12-31 00:00:00\n",
      "freq                     1057\n",
      "first     2018-01-01 00:00:00\n",
      "last      2018-12-31 00:00:00\n",
      "Name: session_date, dtype: object\n"
     ]
    }
   ],
   "source": [
    "display(internet['session_date'].sample(4))\n",
    "display(internet.head(4))\n",
    "print(internet['session_date'].describe())"
   ]
  },
  {
   "cell_type": "markdown",
   "metadata": {},
   "source": [
    "***Присутствуют данные за все 365 дней. Столбец скорректирован***"
   ]
  },
  {
   "cell_type": "markdown",
   "metadata": {},
   "source": [
    "### 2.4.4 Столбец `user_id` - идентификатор пользователя <a id=\"internet4\"></a>  \n",
    "[К содержанию](#soder)\n",
    "\n",
    "***Проверим данные***"
   ]
  },
  {
   "cell_type": "code",
   "execution_count": 58,
   "metadata": {},
   "outputs": [
    {
     "name": "stdout",
     "output_type": "stream",
     "text": [
      "1496    834\n",
      "1227    812\n",
      "1204    789\n",
      "1240    764\n",
      "1251    759\n",
      "       ... \n",
      "1151     35\n",
      "1467     27\n",
      "1343     26\n",
      "1192     22\n",
      "1399      8\n",
      "Name: user_id, Length: 497, dtype: int64\n",
      "\n",
      "count    149396.000000\n",
      "mean       1252.099842\n",
      "std         144.050823\n",
      "min        1000.000000\n",
      "25%        1130.000000\n",
      "50%        1251.000000\n",
      "75%        1380.000000\n",
      "max        1499.000000\n",
      "Name: user_id, dtype: float64\n",
      "\n",
      "Уникальных значений = 497\n"
     ]
    }
   ],
   "source": [
    "id_reseach(internet['user_id'])"
   ]
  },
  {
   "cell_type": "markdown",
   "metadata": {},
   "source": [
    "***Из 500 абонентов всего 3 не пользовалиcь интернетом (возможно это бабушки/дедушки...)***\n",
    "\n",
    "***На всякий случай вычислим id этих абонентов и запишем в список `not_interneting_id`***"
   ]
  },
  {
   "cell_type": "code",
   "execution_count": 59,
   "metadata": {
    "scrolled": true
   },
   "outputs": [
    {
     "name": "stdout",
     "output_type": "stream",
     "text": [
      "[1128, 1273, 1371]\n"
     ]
    }
   ],
   "source": [
    "not_interneting_id = []\n",
    "for i in users['user_id']:\n",
    "    if i not in internet['user_id'].unique(): \n",
    "        not_interneting_id.append(i) \n",
    "print(not_interneting_id)"
   ]
  },
  {
   "cell_type": "markdown",
   "metadata": {},
   "source": [
    "#### ***Вывод: Столбец корректен***"
   ]
  },
  {
   "cell_type": "code",
   "execution_count": 60,
   "metadata": {
    "scrolled": false
   },
   "outputs": [
    {
     "name": "stdout",
     "output_type": "stream",
     "text": [
      "<class 'pandas.core.frame.DataFrame'>\n",
      "RangeIndex: 149396 entries, 0 to 149395\n",
      "Data columns (total 4 columns):\n",
      "id              149396 non-null object\n",
      "mb_used         149396 non-null int64\n",
      "session_date    149396 non-null datetime64[ns]\n",
      "user_id         149396 non-null int64\n",
      "dtypes: datetime64[ns](1), int64(2), object(1)\n",
      "memory usage: 4.6+ MB\n"
     ]
    }
   ],
   "source": [
    "# Проверим всю таблицу напоследок\n",
    "internet.info()"
   ]
  },
  {
   "cell_type": "markdown",
   "metadata": {},
   "source": [
    "### 2.4.5 Дубликаты  \n",
    "\n",
    "***Поскольку все идентификаторы сообщений присутствуют и они уникальны, дубликатов быть не должно***"
   ]
  },
  {
   "cell_type": "markdown",
   "metadata": {},
   "source": [
    "### ВЫВОД: В таблице `internet` приведена в соостветствие дата и кол-во использованных абонентом МБ `mb_used` округлено до целого вверх. Также замечено, что присутствуют 3 абонента не пользовавшихся интернетом, - их `user_id` записан в список `not_interneting_id`. В остальном всё в порядке. Таблица готова"
   ]
  },
  {
   "cell_type": "markdown",
   "metadata": {},
   "source": [
    "## 2.5 Таблица `tariffs` <a id=\"tabl5\"></a>  \n",
    "[К содержанию](#soder)"
   ]
  },
  {
   "cell_type": "code",
   "execution_count": 61,
   "metadata": {
    "scrolled": true
   },
   "outputs": [
    {
     "name": "stdout",
     "output_type": "stream",
     "text": [
      "<class 'pandas.core.frame.DataFrame'>\n",
      "RangeIndex: 2 entries, 0 to 1\n",
      "Data columns (total 8 columns):\n",
      "messages_included        2 non-null int64\n",
      "mb_per_month_included    2 non-null int64\n",
      "minutes_included         2 non-null int64\n",
      "rub_monthly_fee          2 non-null int64\n",
      "rub_per_gb               2 non-null int64\n",
      "rub_per_message          2 non-null int64\n",
      "rub_per_minute           2 non-null int64\n",
      "tariff_name              2 non-null object\n",
      "dtypes: int64(7), object(1)\n",
      "memory usage: 256.0+ bytes\n"
     ]
    },
    {
     "data": {
      "text/plain": [
       "None"
      ]
     },
     "metadata": {},
     "output_type": "display_data"
    },
    {
     "data": {
      "text/html": [
       "<div>\n",
       "<style scoped>\n",
       "    .dataframe tbody tr th:only-of-type {\n",
       "        vertical-align: middle;\n",
       "    }\n",
       "\n",
       "    .dataframe tbody tr th {\n",
       "        vertical-align: top;\n",
       "    }\n",
       "\n",
       "    .dataframe thead th {\n",
       "        text-align: right;\n",
       "    }\n",
       "</style>\n",
       "<table border=\"1\" class=\"dataframe\">\n",
       "  <thead>\n",
       "    <tr style=\"text-align: right;\">\n",
       "      <th></th>\n",
       "      <th>messages_included</th>\n",
       "      <th>mb_per_month_included</th>\n",
       "      <th>minutes_included</th>\n",
       "      <th>rub_monthly_fee</th>\n",
       "      <th>rub_per_gb</th>\n",
       "      <th>rub_per_message</th>\n",
       "      <th>rub_per_minute</th>\n",
       "      <th>tariff_name</th>\n",
       "    </tr>\n",
       "  </thead>\n",
       "  <tbody>\n",
       "    <tr>\n",
       "      <td>0</td>\n",
       "      <td>50</td>\n",
       "      <td>15360</td>\n",
       "      <td>500</td>\n",
       "      <td>550</td>\n",
       "      <td>200</td>\n",
       "      <td>3</td>\n",
       "      <td>3</td>\n",
       "      <td>smart</td>\n",
       "    </tr>\n",
       "    <tr>\n",
       "      <td>1</td>\n",
       "      <td>1000</td>\n",
       "      <td>30720</td>\n",
       "      <td>3000</td>\n",
       "      <td>1950</td>\n",
       "      <td>150</td>\n",
       "      <td>1</td>\n",
       "      <td>1</td>\n",
       "      <td>ultra</td>\n",
       "    </tr>\n",
       "  </tbody>\n",
       "</table>\n",
       "</div>"
      ],
      "text/plain": [
       "   messages_included  mb_per_month_included  minutes_included  \\\n",
       "0                 50                  15360               500   \n",
       "1               1000                  30720              3000   \n",
       "\n",
       "   rub_monthly_fee  rub_per_gb  rub_per_message  rub_per_minute tariff_name  \n",
       "0              550         200                3               3       smart  \n",
       "1             1950         150                1               1       ultra  "
      ]
     },
     "metadata": {},
     "output_type": "display_data"
    }
   ],
   "source": [
    "display(tariffs.info())\n",
    "display(tariffs)"
   ]
  },
  {
   "cell_type": "markdown",
   "metadata": {},
   "source": [
    "**ВЫВОД: Отличная таблица - маленькая и корректная!**"
   ]
  },
  {
   "cell_type": "markdown",
   "metadata": {},
   "source": [
    "## 2.6 Разбор дня 1 января в таблице `messages` <a id=\"1jan\"></a>  \n",
    "[К содержанию](#soder)"
   ]
  },
  {
   "cell_type": "markdown",
   "metadata": {},
   "source": [
    "***Посмотрим сколько абонентов 1 января было (подключено)***"
   ]
  },
  {
   "cell_type": "code",
   "execution_count": 62,
   "metadata": {},
   "outputs": [
    {
     "data": {
      "text/html": [
       "<div>\n",
       "<style scoped>\n",
       "    .dataframe tbody tr th:only-of-type {\n",
       "        vertical-align: middle;\n",
       "    }\n",
       "\n",
       "    .dataframe tbody tr th {\n",
       "        vertical-align: top;\n",
       "    }\n",
       "\n",
       "    .dataframe thead th {\n",
       "        text-align: right;\n",
       "    }\n",
       "</style>\n",
       "<table border=\"1\" class=\"dataframe\">\n",
       "  <thead>\n",
       "    <tr style=\"text-align: right;\">\n",
       "      <th></th>\n",
       "      <th>user_id</th>\n",
       "      <th>age</th>\n",
       "      <th>churn_date</th>\n",
       "      <th>city</th>\n",
       "      <th>first_name</th>\n",
       "      <th>last_name</th>\n",
       "      <th>reg_date</th>\n",
       "      <th>tariff</th>\n",
       "    </tr>\n",
       "  </thead>\n",
       "  <tbody>\n",
       "    <tr>\n",
       "      <td>193</td>\n",
       "      <td>1193</td>\n",
       "      <td>55</td>\n",
       "      <td>NaT</td>\n",
       "      <td>Тамбов</td>\n",
       "      <td>Арсен</td>\n",
       "      <td>Безруков</td>\n",
       "      <td>2018-01-01</td>\n",
       "      <td>smart</td>\n",
       "    </tr>\n",
       "    <tr>\n",
       "      <td>453</td>\n",
       "      <td>1453</td>\n",
       "      <td>50</td>\n",
       "      <td>NaT</td>\n",
       "      <td>Москва</td>\n",
       "      <td>Кузьма</td>\n",
       "      <td>Акуленко</td>\n",
       "      <td>2018-01-01</td>\n",
       "      <td>ultra</td>\n",
       "    </tr>\n",
       "  </tbody>\n",
       "</table>\n",
       "</div>"
      ],
      "text/plain": [
       "     user_id  age churn_date    city first_name last_name   reg_date tariff\n",
       "193     1193   55        NaT  Тамбов      Арсен  Безруков 2018-01-01  smart\n",
       "453     1453   50        NaT  Москва     Кузьма  Акуленко 2018-01-01  ultra"
      ]
     },
     "execution_count": 62,
     "metadata": {},
     "output_type": "execute_result"
    }
   ],
   "source": [
    "users[users['reg_date']=='2018-01-01']"
   ]
  },
  {
   "cell_type": "markdown",
   "metadata": {},
   "source": [
    "***Посмотрим сколько абонентов 1 января звонили***"
   ]
  },
  {
   "cell_type": "code",
   "execution_count": 63,
   "metadata": {
    "scrolled": true
   },
   "outputs": [
    {
     "data": {
      "text/html": [
       "<div>\n",
       "<style scoped>\n",
       "    .dataframe tbody tr th:only-of-type {\n",
       "        vertical-align: middle;\n",
       "    }\n",
       "\n",
       "    .dataframe tbody tr th {\n",
       "        vertical-align: top;\n",
       "    }\n",
       "\n",
       "    .dataframe thead th {\n",
       "        text-align: right;\n",
       "    }\n",
       "</style>\n",
       "<table border=\"1\" class=\"dataframe\">\n",
       "  <thead>\n",
       "    <tr style=\"text-align: right;\">\n",
       "      <th></th>\n",
       "      <th>id</th>\n",
       "      <th>call_date</th>\n",
       "      <th>duration</th>\n",
       "      <th>user_id</th>\n",
       "    </tr>\n",
       "  </thead>\n",
       "  <tbody>\n",
       "    <tr>\n",
       "      <td>76907</td>\n",
       "      <td>1193_169</td>\n",
       "      <td>2018-01-01</td>\n",
       "      <td>14</td>\n",
       "      <td>1193</td>\n",
       "    </tr>\n",
       "    <tr>\n",
       "      <td>180968</td>\n",
       "      <td>1453_160</td>\n",
       "      <td>2018-01-01</td>\n",
       "      <td>0</td>\n",
       "      <td>1453</td>\n",
       "    </tr>\n",
       "    <tr>\n",
       "      <td>181106</td>\n",
       "      <td>1453_298</td>\n",
       "      <td>2018-01-01</td>\n",
       "      <td>16</td>\n",
       "      <td>1453</td>\n",
       "    </tr>\n",
       "    <tr>\n",
       "      <td>181239</td>\n",
       "      <td>1453_431</td>\n",
       "      <td>2018-01-01</td>\n",
       "      <td>20</td>\n",
       "      <td>1453</td>\n",
       "    </tr>\n",
       "    <tr>\n",
       "      <td>181903</td>\n",
       "      <td>1453_1095</td>\n",
       "      <td>2018-01-01</td>\n",
       "      <td>6</td>\n",
       "      <td>1453</td>\n",
       "    </tr>\n",
       "  </tbody>\n",
       "</table>\n",
       "</div>"
      ],
      "text/plain": [
       "               id  call_date  duration  user_id\n",
       "76907    1193_169 2018-01-01        14     1193\n",
       "180968   1453_160 2018-01-01         0     1453\n",
       "181106   1453_298 2018-01-01        16     1453\n",
       "181239   1453_431 2018-01-01        20     1453\n",
       "181903  1453_1095 2018-01-01         6     1453"
      ]
     },
     "execution_count": 63,
     "metadata": {},
     "output_type": "execute_result"
    }
   ],
   "source": [
    "calls[calls['call_date']=='2018-01-01'] #.groupby('user_id')['duration'].sum()"
   ]
  },
  {
   "cell_type": "markdown",
   "metadata": {},
   "source": [
    "***Посмотрим сколько у абонентов было интернет-сессий 1 января***"
   ]
  },
  {
   "cell_type": "code",
   "execution_count": 64,
   "metadata": {},
   "outputs": [
    {
     "data": {
      "text/html": [
       "<div>\n",
       "<style scoped>\n",
       "    .dataframe tbody tr th:only-of-type {\n",
       "        vertical-align: middle;\n",
       "    }\n",
       "\n",
       "    .dataframe tbody tr th {\n",
       "        vertical-align: top;\n",
       "    }\n",
       "\n",
       "    .dataframe thead th {\n",
       "        text-align: right;\n",
       "    }\n",
       "</style>\n",
       "<table border=\"1\" class=\"dataframe\">\n",
       "  <thead>\n",
       "    <tr style=\"text-align: right;\">\n",
       "      <th></th>\n",
       "      <th>id</th>\n",
       "      <th>mb_used</th>\n",
       "      <th>session_date</th>\n",
       "      <th>user_id</th>\n",
       "    </tr>\n",
       "  </thead>\n",
       "  <tbody>\n",
       "    <tr>\n",
       "      <td>57584</td>\n",
       "      <td>1193_123</td>\n",
       "      <td>0</td>\n",
       "      <td>2018-01-01</td>\n",
       "      <td>1193</td>\n",
       "    </tr>\n",
       "    <tr>\n",
       "      <td>135081</td>\n",
       "      <td>1453_302</td>\n",
       "      <td>795</td>\n",
       "      <td>2018-01-01</td>\n",
       "      <td>1453</td>\n",
       "    </tr>\n",
       "    <tr>\n",
       "      <td>135277</td>\n",
       "      <td>1453_498</td>\n",
       "      <td>210</td>\n",
       "      <td>2018-01-01</td>\n",
       "      <td>1453</td>\n",
       "    </tr>\n",
       "  </tbody>\n",
       "</table>\n",
       "</div>"
      ],
      "text/plain": [
       "              id  mb_used session_date  user_id\n",
       "57584   1193_123        0   2018-01-01     1193\n",
       "135081  1453_302      795   2018-01-01     1453\n",
       "135277  1453_498      210   2018-01-01     1453"
      ]
     },
     "execution_count": 64,
     "metadata": {},
     "output_type": "execute_result"
    }
   ],
   "source": [
    "internet[internet['session_date']=='2018-01-01']"
   ]
  },
  {
   "cell_type": "markdown",
   "metadata": {},
   "source": [
    "**ВЫВОД: Всего 1 января было 2 абонента, 5 звонков и 2 интернет сессии. Совсем не много. Поэтому вполне можно сделать вывод, что изначальные данные в таблице `messages` верны, то есть никто из двух абонентов не отправлял СМС.**"
   ]
  },
  {
   "cell_type": "markdown",
   "metadata": {},
   "source": [
    "## 2.7 Вывод по предобработке <a id=\"tab_fin\"></a>  \n",
    "[К содержанию](#soder)"
   ]
  },
  {
   "cell_type": "markdown",
   "metadata": {},
   "source": [
    "### ВЫВОД: По большей части данные изначально в хорошем состоянии. Изменены типы  в столбцах с датами на datetime64, и проверена корректность данных. Дубликатов не было. Таблицы корректны."
   ]
  },
  {
   "cell_type": "markdown",
   "metadata": {},
   "source": [
    "# Шаг 3. Расчет показателей для каждого абонента (пользователя) <a id=\"raschet\"></a>  \n",
    "[К содержанию](#soder)"
   ]
  },
  {
   "cell_type": "markdown",
   "metadata": {},
   "source": [
    "***Посчитаем для каждого пользователя:***  \n",
    "- количество сделанных звонков и израсходованных минут разговора по месяцам (столбцы `calls` и `min`);  \n",
    "- количество отправленных сообщений по месяцам (столбец `mes`);  \n",
    "- объем израсходованного интернет-трафика по месяцам (столбец `mb`);  \n",
    "- помесячную выручку с каждого пользователя (вычтите бесплатный лимит из суммарного количества звонков, сообщений и интернет-трафика; остаток умножьте на значение из тарифного плана; прибавьте абонентскую плату, соответствующую тарифному плану) (столбец `income`).  \n",
    "\n",
    "***И поместим всё в сводную таблицу `abonents`.***\n",
    "\n",
    "***Но предварительно добавим в 3 таблицы `calls`, `messages`, `internet` столбец `month`, где указан месяц (для группировки), затем создадим 3 таблицы `ab_calls`, `ab_messages`, `ab_internet` для слияния в общую таблицу `abonents`***"
   ]
  },
  {
   "cell_type": "markdown",
   "metadata": {},
   "source": [
    "## 3.1 Таблицы `calls`, `messages`, `internet` <a id=\"3tabl\"></a>  \n",
    "[К содержанию](#soder)"
   ]
  },
  {
   "cell_type": "code",
   "execution_count": 65,
   "metadata": {},
   "outputs": [
    {
     "data": {
      "text/html": [
       "<div>\n",
       "<style scoped>\n",
       "    .dataframe tbody tr th:only-of-type {\n",
       "        vertical-align: middle;\n",
       "    }\n",
       "\n",
       "    .dataframe tbody tr th {\n",
       "        vertical-align: top;\n",
       "    }\n",
       "\n",
       "    .dataframe thead th {\n",
       "        text-align: right;\n",
       "    }\n",
       "</style>\n",
       "<table border=\"1\" class=\"dataframe\">\n",
       "  <thead>\n",
       "    <tr style=\"text-align: right;\">\n",
       "      <th></th>\n",
       "      <th>id</th>\n",
       "      <th>call_date</th>\n",
       "      <th>duration</th>\n",
       "      <th>user_id</th>\n",
       "      <th>month</th>\n",
       "    </tr>\n",
       "  </thead>\n",
       "  <tbody>\n",
       "    <tr>\n",
       "      <td>21049</td>\n",
       "      <td>1055_542</td>\n",
       "      <td>2018-12-21</td>\n",
       "      <td>9</td>\n",
       "      <td>1055</td>\n",
       "      <td>12</td>\n",
       "    </tr>\n",
       "    <tr>\n",
       "      <td>49253</td>\n",
       "      <td>1123_272</td>\n",
       "      <td>2018-07-19</td>\n",
       "      <td>6</td>\n",
       "      <td>1123</td>\n",
       "      <td>7</td>\n",
       "    </tr>\n",
       "    <tr>\n",
       "      <td>50758</td>\n",
       "      <td>1126_321</td>\n",
       "      <td>2018-09-07</td>\n",
       "      <td>0</td>\n",
       "      <td>1126</td>\n",
       "      <td>9</td>\n",
       "    </tr>\n",
       "  </tbody>\n",
       "</table>\n",
       "</div>"
      ],
      "text/plain": [
       "             id  call_date  duration  user_id  month\n",
       "21049  1055_542 2018-12-21         9     1055     12\n",
       "49253  1123_272 2018-07-19         6     1123      7\n",
       "50758  1126_321 2018-09-07         0     1126      9"
      ]
     },
     "metadata": {},
     "output_type": "display_data"
    },
    {
     "data": {
      "text/html": [
       "<div>\n",
       "<style scoped>\n",
       "    .dataframe tbody tr th:only-of-type {\n",
       "        vertical-align: middle;\n",
       "    }\n",
       "\n",
       "    .dataframe tbody tr th {\n",
       "        vertical-align: top;\n",
       "    }\n",
       "\n",
       "    .dataframe thead th {\n",
       "        text-align: right;\n",
       "    }\n",
       "</style>\n",
       "<table border=\"1\" class=\"dataframe\">\n",
       "  <thead>\n",
       "    <tr style=\"text-align: right;\">\n",
       "      <th></th>\n",
       "      <th>id</th>\n",
       "      <th>message_date</th>\n",
       "      <th>user_id</th>\n",
       "      <th>month</th>\n",
       "    </tr>\n",
       "  </thead>\n",
       "  <tbody>\n",
       "    <tr>\n",
       "      <td>80569</td>\n",
       "      <td>1335_481</td>\n",
       "      <td>2018-11-20</td>\n",
       "      <td>1335</td>\n",
       "      <td>11</td>\n",
       "    </tr>\n",
       "    <tr>\n",
       "      <td>62364</td>\n",
       "      <td>1273_222</td>\n",
       "      <td>2018-07-01</td>\n",
       "      <td>1273</td>\n",
       "      <td>7</td>\n",
       "    </tr>\n",
       "    <tr>\n",
       "      <td>68204</td>\n",
       "      <td>1288_199</td>\n",
       "      <td>2018-10-24</td>\n",
       "      <td>1288</td>\n",
       "      <td>10</td>\n",
       "    </tr>\n",
       "  </tbody>\n",
       "</table>\n",
       "</div>"
      ],
      "text/plain": [
       "             id message_date  user_id  month\n",
       "80569  1335_481   2018-11-20     1335     11\n",
       "62364  1273_222   2018-07-01     1273      7\n",
       "68204  1288_199   2018-10-24     1288     10"
      ]
     },
     "metadata": {},
     "output_type": "display_data"
    },
    {
     "data": {
      "text/html": [
       "<div>\n",
       "<style scoped>\n",
       "    .dataframe tbody tr th:only-of-type {\n",
       "        vertical-align: middle;\n",
       "    }\n",
       "\n",
       "    .dataframe tbody tr th {\n",
       "        vertical-align: top;\n",
       "    }\n",
       "\n",
       "    .dataframe thead th {\n",
       "        text-align: right;\n",
       "    }\n",
       "</style>\n",
       "<table border=\"1\" class=\"dataframe\">\n",
       "  <thead>\n",
       "    <tr style=\"text-align: right;\">\n",
       "      <th></th>\n",
       "      <th>id</th>\n",
       "      <th>mb_used</th>\n",
       "      <th>session_date</th>\n",
       "      <th>user_id</th>\n",
       "      <th>month</th>\n",
       "    </tr>\n",
       "  </thead>\n",
       "  <tbody>\n",
       "    <tr>\n",
       "      <td>109094</td>\n",
       "      <td>1373_16</td>\n",
       "      <td>115</td>\n",
       "      <td>2018-03-23</td>\n",
       "      <td>1373</td>\n",
       "      <td>3</td>\n",
       "    </tr>\n",
       "    <tr>\n",
       "      <td>34081</td>\n",
       "      <td>1119_235</td>\n",
       "      <td>440</td>\n",
       "      <td>2018-05-04</td>\n",
       "      <td>1119</td>\n",
       "      <td>5</td>\n",
       "    </tr>\n",
       "    <tr>\n",
       "      <td>12432</td>\n",
       "      <td>1044_69</td>\n",
       "      <td>615</td>\n",
       "      <td>2018-12-22</td>\n",
       "      <td>1044</td>\n",
       "      <td>12</td>\n",
       "    </tr>\n",
       "  </tbody>\n",
       "</table>\n",
       "</div>"
      ],
      "text/plain": [
       "              id  mb_used session_date  user_id  month\n",
       "109094   1373_16      115   2018-03-23     1373      3\n",
       "34081   1119_235      440   2018-05-04     1119      5\n",
       "12432    1044_69      615   2018-12-22     1044     12"
      ]
     },
     "metadata": {},
     "output_type": "display_data"
    }
   ],
   "source": [
    "calls['month'] = pd.DatetimeIndex(calls['call_date']).month\n",
    "messages['month'] = pd.DatetimeIndex(messages['message_date']).month\n",
    "internet['month'] = pd.DatetimeIndex(internet['session_date']).month\n",
    "display(calls.sample(3), messages.sample(3), internet.sample(3))"
   ]
  },
  {
   "cell_type": "markdown",
   "metadata": {},
   "source": [
    "***Создадим 3 таблицы: `ab_calls`, `ab_messages`, `ab_internet`, сгруппированные по `user_id` и `month`, в которых будет записан результат выполнения первых трех заданий***"
   ]
  },
  {
   "cell_type": "code",
   "execution_count": 66,
   "metadata": {},
   "outputs": [
    {
     "data": {
      "text/html": [
       "<div>\n",
       "<style scoped>\n",
       "    .dataframe tbody tr th:only-of-type {\n",
       "        vertical-align: middle;\n",
       "    }\n",
       "\n",
       "    .dataframe tbody tr th {\n",
       "        vertical-align: top;\n",
       "    }\n",
       "\n",
       "    .dataframe thead th {\n",
       "        text-align: right;\n",
       "    }\n",
       "</style>\n",
       "<table border=\"1\" class=\"dataframe\">\n",
       "  <thead>\n",
       "    <tr style=\"text-align: right;\">\n",
       "      <th></th>\n",
       "      <th>user_id</th>\n",
       "      <th>month</th>\n",
       "      <th>calls</th>\n",
       "      <th>min</th>\n",
       "    </tr>\n",
       "  </thead>\n",
       "  <tbody>\n",
       "    <tr>\n",
       "      <td>0</td>\n",
       "      <td>1000</td>\n",
       "      <td>5</td>\n",
       "      <td>22</td>\n",
       "      <td>159</td>\n",
       "    </tr>\n",
       "    <tr>\n",
       "      <td>1</td>\n",
       "      <td>1000</td>\n",
       "      <td>6</td>\n",
       "      <td>43</td>\n",
       "      <td>172</td>\n",
       "    </tr>\n",
       "    <tr>\n",
       "      <td>2</td>\n",
       "      <td>1000</td>\n",
       "      <td>7</td>\n",
       "      <td>47</td>\n",
       "      <td>340</td>\n",
       "    </tr>\n",
       "    <tr>\n",
       "      <td>3</td>\n",
       "      <td>1000</td>\n",
       "      <td>8</td>\n",
       "      <td>52</td>\n",
       "      <td>408</td>\n",
       "    </tr>\n",
       "    <tr>\n",
       "      <td>4</td>\n",
       "      <td>1000</td>\n",
       "      <td>9</td>\n",
       "      <td>58</td>\n",
       "      <td>466</td>\n",
       "    </tr>\n",
       "    <tr>\n",
       "      <td>5</td>\n",
       "      <td>1000</td>\n",
       "      <td>10</td>\n",
       "      <td>57</td>\n",
       "      <td>350</td>\n",
       "    </tr>\n",
       "    <tr>\n",
       "      <td>6</td>\n",
       "      <td>1000</td>\n",
       "      <td>11</td>\n",
       "      <td>43</td>\n",
       "      <td>338</td>\n",
       "    </tr>\n",
       "    <tr>\n",
       "      <td>7</td>\n",
       "      <td>1000</td>\n",
       "      <td>12</td>\n",
       "      <td>46</td>\n",
       "      <td>333</td>\n",
       "    </tr>\n",
       "    <tr>\n",
       "      <td>8</td>\n",
       "      <td>1001</td>\n",
       "      <td>11</td>\n",
       "      <td>59</td>\n",
       "      <td>430</td>\n",
       "    </tr>\n",
       "    <tr>\n",
       "      <td>9</td>\n",
       "      <td>1001</td>\n",
       "      <td>12</td>\n",
       "      <td>63</td>\n",
       "      <td>414</td>\n",
       "    </tr>\n",
       "  </tbody>\n",
       "</table>\n",
       "</div>"
      ],
      "text/plain": [
       "   user_id  month  calls  min\n",
       "0     1000      5     22  159\n",
       "1     1000      6     43  172\n",
       "2     1000      7     47  340\n",
       "3     1000      8     52  408\n",
       "4     1000      9     58  466\n",
       "5     1000     10     57  350\n",
       "6     1000     11     43  338\n",
       "7     1000     12     46  333\n",
       "8     1001     11     59  430\n",
       "9     1001     12     63  414"
      ]
     },
     "metadata": {},
     "output_type": "display_data"
    },
    {
     "data": {
      "text/html": [
       "<div>\n",
       "<style scoped>\n",
       "    .dataframe tbody tr th:only-of-type {\n",
       "        vertical-align: middle;\n",
       "    }\n",
       "\n",
       "    .dataframe tbody tr th {\n",
       "        vertical-align: top;\n",
       "    }\n",
       "\n",
       "    .dataframe thead th {\n",
       "        text-align: right;\n",
       "    }\n",
       "</style>\n",
       "<table border=\"1\" class=\"dataframe\">\n",
       "  <thead>\n",
       "    <tr style=\"text-align: right;\">\n",
       "      <th></th>\n",
       "      <th>user_id</th>\n",
       "      <th>month</th>\n",
       "      <th>mes</th>\n",
       "    </tr>\n",
       "  </thead>\n",
       "  <tbody>\n",
       "    <tr>\n",
       "      <td>0</td>\n",
       "      <td>1000</td>\n",
       "      <td>5</td>\n",
       "      <td>22</td>\n",
       "    </tr>\n",
       "    <tr>\n",
       "      <td>1</td>\n",
       "      <td>1000</td>\n",
       "      <td>6</td>\n",
       "      <td>60</td>\n",
       "    </tr>\n",
       "    <tr>\n",
       "      <td>2</td>\n",
       "      <td>1000</td>\n",
       "      <td>7</td>\n",
       "      <td>75</td>\n",
       "    </tr>\n",
       "    <tr>\n",
       "      <td>3</td>\n",
       "      <td>1000</td>\n",
       "      <td>8</td>\n",
       "      <td>81</td>\n",
       "    </tr>\n",
       "    <tr>\n",
       "      <td>4</td>\n",
       "      <td>1000</td>\n",
       "      <td>9</td>\n",
       "      <td>57</td>\n",
       "    </tr>\n",
       "    <tr>\n",
       "      <td>5</td>\n",
       "      <td>1000</td>\n",
       "      <td>10</td>\n",
       "      <td>73</td>\n",
       "    </tr>\n",
       "    <tr>\n",
       "      <td>6</td>\n",
       "      <td>1000</td>\n",
       "      <td>11</td>\n",
       "      <td>58</td>\n",
       "    </tr>\n",
       "    <tr>\n",
       "      <td>7</td>\n",
       "      <td>1000</td>\n",
       "      <td>12</td>\n",
       "      <td>70</td>\n",
       "    </tr>\n",
       "    <tr>\n",
       "      <td>8</td>\n",
       "      <td>1002</td>\n",
       "      <td>6</td>\n",
       "      <td>4</td>\n",
       "    </tr>\n",
       "    <tr>\n",
       "      <td>9</td>\n",
       "      <td>1002</td>\n",
       "      <td>7</td>\n",
       "      <td>11</td>\n",
       "    </tr>\n",
       "  </tbody>\n",
       "</table>\n",
       "</div>"
      ],
      "text/plain": [
       "   user_id  month  mes\n",
       "0     1000      5   22\n",
       "1     1000      6   60\n",
       "2     1000      7   75\n",
       "3     1000      8   81\n",
       "4     1000      9   57\n",
       "5     1000     10   73\n",
       "6     1000     11   58\n",
       "7     1000     12   70\n",
       "8     1002      6    4\n",
       "9     1002      7   11"
      ]
     },
     "metadata": {},
     "output_type": "display_data"
    },
    {
     "data": {
      "text/html": [
       "<div>\n",
       "<style scoped>\n",
       "    .dataframe tbody tr th:only-of-type {\n",
       "        vertical-align: middle;\n",
       "    }\n",
       "\n",
       "    .dataframe tbody tr th {\n",
       "        vertical-align: top;\n",
       "    }\n",
       "\n",
       "    .dataframe thead th {\n",
       "        text-align: right;\n",
       "    }\n",
       "</style>\n",
       "<table border=\"1\" class=\"dataframe\">\n",
       "  <thead>\n",
       "    <tr style=\"text-align: right;\">\n",
       "      <th></th>\n",
       "      <th>user_id</th>\n",
       "      <th>month</th>\n",
       "      <th>mb</th>\n",
       "    </tr>\n",
       "  </thead>\n",
       "  <tbody>\n",
       "    <tr>\n",
       "      <td>0</td>\n",
       "      <td>1000</td>\n",
       "      <td>5</td>\n",
       "      <td>2256</td>\n",
       "    </tr>\n",
       "    <tr>\n",
       "      <td>1</td>\n",
       "      <td>1000</td>\n",
       "      <td>6</td>\n",
       "      <td>23257</td>\n",
       "    </tr>\n",
       "    <tr>\n",
       "      <td>2</td>\n",
       "      <td>1000</td>\n",
       "      <td>7</td>\n",
       "      <td>14016</td>\n",
       "    </tr>\n",
       "    <tr>\n",
       "      <td>3</td>\n",
       "      <td>1000</td>\n",
       "      <td>8</td>\n",
       "      <td>14070</td>\n",
       "    </tr>\n",
       "    <tr>\n",
       "      <td>4</td>\n",
       "      <td>1000</td>\n",
       "      <td>9</td>\n",
       "      <td>14581</td>\n",
       "    </tr>\n",
       "    <tr>\n",
       "      <td>5</td>\n",
       "      <td>1000</td>\n",
       "      <td>10</td>\n",
       "      <td>14717</td>\n",
       "    </tr>\n",
       "    <tr>\n",
       "      <td>6</td>\n",
       "      <td>1000</td>\n",
       "      <td>11</td>\n",
       "      <td>14768</td>\n",
       "    </tr>\n",
       "    <tr>\n",
       "      <td>7</td>\n",
       "      <td>1000</td>\n",
       "      <td>12</td>\n",
       "      <td>9827</td>\n",
       "    </tr>\n",
       "    <tr>\n",
       "      <td>8</td>\n",
       "      <td>1001</td>\n",
       "      <td>11</td>\n",
       "      <td>18452</td>\n",
       "    </tr>\n",
       "    <tr>\n",
       "      <td>9</td>\n",
       "      <td>1001</td>\n",
       "      <td>12</td>\n",
       "      <td>14053</td>\n",
       "    </tr>\n",
       "  </tbody>\n",
       "</table>\n",
       "</div>"
      ],
      "text/plain": [
       "   user_id  month     mb\n",
       "0     1000      5   2256\n",
       "1     1000      6  23257\n",
       "2     1000      7  14016\n",
       "3     1000      8  14070\n",
       "4     1000      9  14581\n",
       "5     1000     10  14717\n",
       "6     1000     11  14768\n",
       "7     1000     12   9827\n",
       "8     1001     11  18452\n",
       "9     1001     12  14053"
      ]
     },
     "metadata": {},
     "output_type": "display_data"
    }
   ],
   "source": [
    "abonent = pd.DataFrame()\n",
    "\n",
    "ab_calls = calls.groupby(['user_id', 'month'])['duration'].agg(['count','sum']).reset_index()\n",
    "ab_calls.columns = ['user_id', 'month', 'calls', 'min']\n",
    "\n",
    "ab_messages = messages.groupby(['user_id', 'month'])['id'].count().reset_index()\n",
    "ab_messages.columns = ['user_id', 'month', 'mes']\n",
    "\n",
    "ab_internet = internet.groupby(['user_id', 'month'])['mb_used'].sum().reset_index()\n",
    "ab_internet.columns = ['user_id', 'month', 'mb']\n",
    "\n",
    "display(ab_calls.head(10))\n",
    "display(ab_messages.head(10))\n",
    "display(ab_internet.head(10))"
   ]
  },
  {
   "cell_type": "markdown",
   "metadata": {},
   "source": [
    "***В предобработке было выявлены абоненты которые не звонили, не писали СМС, не пользовались интернетом***"
   ]
  },
  {
   "cell_type": "code",
   "execution_count": 67,
   "metadata": {},
   "outputs": [
    {
     "name": "stdout",
     "output_type": "stream",
     "text": [
      "Звонивших 492 / Писавших 426 / Интернетчиков 497\n"
     ]
    }
   ],
   "source": [
    "print('Звонивших', ab_calls['user_id'].nunique(),\n",
    "'/ Писавших', ab_messages['user_id'].nunique(),\n",
    "'/ Интернетчиков', ab_internet['user_id'].nunique())"
   ]
  },
  {
   "cell_type": "code",
   "execution_count": 68,
   "metadata": {},
   "outputs": [
    {
     "data": {
      "text/plain": [
       "[1091, 1106, 1128, 1231, 1328, 1371, 1473, 1489]"
      ]
     },
     "execution_count": 68,
     "metadata": {},
     "output_type": "execute_result"
    }
   ],
   "source": [
    "not_calling_id # не звонили"
   ]
  },
  {
   "cell_type": "code",
   "execution_count": 69,
   "metadata": {},
   "outputs": [
    {
     "data": {
      "text/plain": [
       "[1128, 1273, 1371]"
      ]
     },
     "execution_count": 69,
     "metadata": {},
     "output_type": "execute_result"
    }
   ],
   "source": [
    "not_interneting_id # не писали СМС"
   ]
  },
  {
   "cell_type": "code",
   "execution_count": 70,
   "metadata": {},
   "outputs": [
    {
     "name": "stdout",
     "output_type": "stream",
     "text": [
      "[1001, 1006, 1010, 1017, 1024, 1040, 1049, 1053, 1063, 1078, 1085, 1095, 1101, 1107, 1114, 1116, 1117, 1118, 1120, 1128, 1129, 1132, 1143, 1152, 1153, 1157, 1162, 1175, 1177, 1179, 1185, 1195, 1201, 1204, 1208, 1210, 1220, 1224, 1225, 1228, 1240, 1242, 1248, 1254, 1255, 1260, 1290, 1291, 1292, 1297, 1301, 1305, 1306, 1322, 1334, 1339, 1360, 1363, 1367, 1370, 1371, 1376, 1388, 1397, 1428, 1429, 1435, 1442, 1456, 1462, 1466, 1469, 1479, 1494]\n"
     ]
    }
   ],
   "source": [
    "print(not_messaging_id) # не пользовались интернетом"
   ]
  },
  {
   "cell_type": "markdown",
   "metadata": {},
   "source": [
    "***Невооруженным глазом можно заметить, что есть 2 абонента, которые одновременно не звонили, не писали СМС, не пользовались интернетом - их `user_id` 1128 и 1371***"
   ]
  },
  {
   "cell_type": "code",
   "execution_count": 71,
   "metadata": {
    "scrolled": true
   },
   "outputs": [
    {
     "data": {
      "text/html": [
       "<div>\n",
       "<style scoped>\n",
       "    .dataframe tbody tr th:only-of-type {\n",
       "        vertical-align: middle;\n",
       "    }\n",
       "\n",
       "    .dataframe tbody tr th {\n",
       "        vertical-align: top;\n",
       "    }\n",
       "\n",
       "    .dataframe thead th {\n",
       "        text-align: right;\n",
       "    }\n",
       "</style>\n",
       "<table border=\"1\" class=\"dataframe\">\n",
       "  <thead>\n",
       "    <tr style=\"text-align: right;\">\n",
       "      <th></th>\n",
       "      <th>user_id</th>\n",
       "      <th>age</th>\n",
       "      <th>churn_date</th>\n",
       "      <th>city</th>\n",
       "      <th>first_name</th>\n",
       "      <th>last_name</th>\n",
       "      <th>reg_date</th>\n",
       "      <th>tariff</th>\n",
       "    </tr>\n",
       "  </thead>\n",
       "  <tbody>\n",
       "    <tr>\n",
       "      <td>128</td>\n",
       "      <td>1128</td>\n",
       "      <td>51</td>\n",
       "      <td>2018-12-23</td>\n",
       "      <td>Волжский</td>\n",
       "      <td>Ксения</td>\n",
       "      <td>Агаева</td>\n",
       "      <td>2018-12-15</td>\n",
       "      <td>ultra</td>\n",
       "    </tr>\n",
       "  </tbody>\n",
       "</table>\n",
       "</div>"
      ],
      "text/plain": [
       "     user_id  age churn_date      city first_name last_name   reg_date tariff\n",
       "128     1128   51 2018-12-23  Волжский     Ксения    Агаева 2018-12-15  ultra"
      ]
     },
     "metadata": {},
     "output_type": "display_data"
    },
    {
     "data": {
      "text/html": [
       "<div>\n",
       "<style scoped>\n",
       "    .dataframe tbody tr th:only-of-type {\n",
       "        vertical-align: middle;\n",
       "    }\n",
       "\n",
       "    .dataframe tbody tr th {\n",
       "        vertical-align: top;\n",
       "    }\n",
       "\n",
       "    .dataframe thead th {\n",
       "        text-align: right;\n",
       "    }\n",
       "</style>\n",
       "<table border=\"1\" class=\"dataframe\">\n",
       "  <thead>\n",
       "    <tr style=\"text-align: right;\">\n",
       "      <th></th>\n",
       "      <th>user_id</th>\n",
       "      <th>age</th>\n",
       "      <th>churn_date</th>\n",
       "      <th>city</th>\n",
       "      <th>first_name</th>\n",
       "      <th>last_name</th>\n",
       "      <th>reg_date</th>\n",
       "      <th>tariff</th>\n",
       "    </tr>\n",
       "  </thead>\n",
       "  <tbody>\n",
       "    <tr>\n",
       "      <td>371</td>\n",
       "      <td>1371</td>\n",
       "      <td>50</td>\n",
       "      <td>2018-12-30</td>\n",
       "      <td>Омск</td>\n",
       "      <td>Ириней</td>\n",
       "      <td>Трофимов</td>\n",
       "      <td>2018-12-25</td>\n",
       "      <td>smart</td>\n",
       "    </tr>\n",
       "  </tbody>\n",
       "</table>\n",
       "</div>"
      ],
      "text/plain": [
       "     user_id  age churn_date  city first_name last_name   reg_date tariff\n",
       "371     1371   50 2018-12-30  Омск     Ириней  Трофимов 2018-12-25  smart"
      ]
     },
     "metadata": {},
     "output_type": "display_data"
    }
   ],
   "source": [
    "display(users.loc[users['user_id']==1128])\n",
    "display(users.loc[users['user_id']==1371])"
   ]
  },
  {
   "cell_type": "markdown",
   "metadata": {},
   "source": [
    "***Видно что эти абоненты подключились в конце года, и, похоже, не успели попользоваться телефоном, а может был куплен просто тариф (возможно вмете с телефоном - как подарок на Новый Год), но по какой-то причине через несколько дней прекращено использование тарифа.***"
   ]
  },
  {
   "cell_type": "markdown",
   "metadata": {},
   "source": [
    "## 3.2 Таблица `abonents` <a id=\"abon\"></a>  \n",
    "[К содержанию](#soder)\n",
    "\n",
    "***Тепрерь создадим из 3 таблиц `ab_calls`, `ab_messages`, `ab_internet` главную таблицу `abonents`***"
   ]
  },
  {
   "cell_type": "code",
   "execution_count": 72,
   "metadata": {},
   "outputs": [
    {
     "data": {
      "text/html": [
       "<div>\n",
       "<style scoped>\n",
       "    .dataframe tbody tr th:only-of-type {\n",
       "        vertical-align: middle;\n",
       "    }\n",
       "\n",
       "    .dataframe tbody tr th {\n",
       "        vertical-align: top;\n",
       "    }\n",
       "\n",
       "    .dataframe thead th {\n",
       "        text-align: right;\n",
       "    }\n",
       "</style>\n",
       "<table border=\"1\" class=\"dataframe\">\n",
       "  <thead>\n",
       "    <tr style=\"text-align: right;\">\n",
       "      <th></th>\n",
       "      <th>user_id</th>\n",
       "      <th>month</th>\n",
       "      <th>calls</th>\n",
       "      <th>min</th>\n",
       "      <th>mes</th>\n",
       "      <th>mb</th>\n",
       "      <th>city</th>\n",
       "      <th>tariff</th>\n",
       "    </tr>\n",
       "  </thead>\n",
       "  <tbody>\n",
       "    <tr>\n",
       "      <td>0</td>\n",
       "      <td>1000</td>\n",
       "      <td>5.0</td>\n",
       "      <td>22.0</td>\n",
       "      <td>159.0</td>\n",
       "      <td>22.0</td>\n",
       "      <td>2256.0</td>\n",
       "      <td>Краснодар</td>\n",
       "      <td>ultra</td>\n",
       "    </tr>\n",
       "    <tr>\n",
       "      <td>1</td>\n",
       "      <td>1000</td>\n",
       "      <td>6.0</td>\n",
       "      <td>43.0</td>\n",
       "      <td>172.0</td>\n",
       "      <td>60.0</td>\n",
       "      <td>23257.0</td>\n",
       "      <td>Краснодар</td>\n",
       "      <td>ultra</td>\n",
       "    </tr>\n",
       "    <tr>\n",
       "      <td>2</td>\n",
       "      <td>1000</td>\n",
       "      <td>7.0</td>\n",
       "      <td>47.0</td>\n",
       "      <td>340.0</td>\n",
       "      <td>75.0</td>\n",
       "      <td>14016.0</td>\n",
       "      <td>Краснодар</td>\n",
       "      <td>ultra</td>\n",
       "    </tr>\n",
       "    <tr>\n",
       "      <td>3</td>\n",
       "      <td>1000</td>\n",
       "      <td>8.0</td>\n",
       "      <td>52.0</td>\n",
       "      <td>408.0</td>\n",
       "      <td>81.0</td>\n",
       "      <td>14070.0</td>\n",
       "      <td>Краснодар</td>\n",
       "      <td>ultra</td>\n",
       "    </tr>\n",
       "    <tr>\n",
       "      <td>4</td>\n",
       "      <td>1000</td>\n",
       "      <td>9.0</td>\n",
       "      <td>58.0</td>\n",
       "      <td>466.0</td>\n",
       "      <td>57.0</td>\n",
       "      <td>14581.0</td>\n",
       "      <td>Краснодар</td>\n",
       "      <td>ultra</td>\n",
       "    </tr>\n",
       "    <tr>\n",
       "      <td>...</td>\n",
       "      <td>...</td>\n",
       "      <td>...</td>\n",
       "      <td>...</td>\n",
       "      <td>...</td>\n",
       "      <td>...</td>\n",
       "      <td>...</td>\n",
       "      <td>...</td>\n",
       "      <td>...</td>\n",
       "    </tr>\n",
       "    <tr>\n",
       "      <td>3211</td>\n",
       "      <td>1489</td>\n",
       "      <td>10.0</td>\n",
       "      <td>NaN</td>\n",
       "      <td>NaN</td>\n",
       "      <td>21.0</td>\n",
       "      <td>19588.0</td>\n",
       "      <td>Санкт-Петербург</td>\n",
       "      <td>smart</td>\n",
       "    </tr>\n",
       "    <tr>\n",
       "      <td>3212</td>\n",
       "      <td>1489</td>\n",
       "      <td>11.0</td>\n",
       "      <td>NaN</td>\n",
       "      <td>NaN</td>\n",
       "      <td>20.0</td>\n",
       "      <td>17516.0</td>\n",
       "      <td>Санкт-Петербург</td>\n",
       "      <td>smart</td>\n",
       "    </tr>\n",
       "    <tr>\n",
       "      <td>3213</td>\n",
       "      <td>1489</td>\n",
       "      <td>12.0</td>\n",
       "      <td>NaN</td>\n",
       "      <td>NaN</td>\n",
       "      <td>35.0</td>\n",
       "      <td>17341.0</td>\n",
       "      <td>Санкт-Петербург</td>\n",
       "      <td>smart</td>\n",
       "    </tr>\n",
       "    <tr>\n",
       "      <td>3214</td>\n",
       "      <td>1128</td>\n",
       "      <td>NaN</td>\n",
       "      <td>NaN</td>\n",
       "      <td>NaN</td>\n",
       "      <td>NaN</td>\n",
       "      <td>NaN</td>\n",
       "      <td>Волжский</td>\n",
       "      <td>ultra</td>\n",
       "    </tr>\n",
       "    <tr>\n",
       "      <td>3215</td>\n",
       "      <td>1371</td>\n",
       "      <td>NaN</td>\n",
       "      <td>NaN</td>\n",
       "      <td>NaN</td>\n",
       "      <td>NaN</td>\n",
       "      <td>NaN</td>\n",
       "      <td>Омск</td>\n",
       "      <td>smart</td>\n",
       "    </tr>\n",
       "  </tbody>\n",
       "</table>\n",
       "<p>3216 rows × 8 columns</p>\n",
       "</div>"
      ],
      "text/plain": [
       "      user_id  month  calls    min   mes       mb             city tariff\n",
       "0        1000    5.0   22.0  159.0  22.0   2256.0        Краснодар  ultra\n",
       "1        1000    6.0   43.0  172.0  60.0  23257.0        Краснодар  ultra\n",
       "2        1000    7.0   47.0  340.0  75.0  14016.0        Краснодар  ultra\n",
       "3        1000    8.0   52.0  408.0  81.0  14070.0        Краснодар  ultra\n",
       "4        1000    9.0   58.0  466.0  57.0  14581.0        Краснодар  ultra\n",
       "...       ...    ...    ...    ...   ...      ...              ...    ...\n",
       "3211     1489   10.0    NaN    NaN  21.0  19588.0  Санкт-Петербург  smart\n",
       "3212     1489   11.0    NaN    NaN  20.0  17516.0  Санкт-Петербург  smart\n",
       "3213     1489   12.0    NaN    NaN  35.0  17341.0  Санкт-Петербург  smart\n",
       "3214     1128    NaN    NaN    NaN   NaN      NaN         Волжский  ultra\n",
       "3215     1371    NaN    NaN    NaN   NaN      NaN             Омск  smart\n",
       "\n",
       "[3216 rows x 8 columns]"
      ]
     },
     "execution_count": 72,
     "metadata": {},
     "output_type": "execute_result"
    }
   ],
   "source": [
    "all_abonents = users.loc[:,['user_id', 'city', 'tariff']]\n",
    "\n",
    "# abonents = pd.merge(abonents, ab_calls, how='inner', on='user_id')\n",
    "abonents = pd.merge(ab_calls, ab_messages, how='outer', on=['user_id', 'month']) # , on=['user_id', 'month']   inner\n",
    "abonents = pd.merge(abonents, ab_internet, how='outer', on=['user_id', 'month']) # , on=['user_id', 'month']\n",
    "abonents = pd.merge(abonents, all_abonents, how='outer', on=['user_id'])\n",
    "abonents"
   ]
  },
  {
   "cell_type": "markdown",
   "metadata": {},
   "source": [
    "***Напишем функцию `ab_test` для проверки корректности слияния трех таблиц `ab_calls`, `ab_messages`, `ab_internet` в таблицу `abonents`. Функция принимает номер абонента - `user_id` (от 1000-1499) и распечатывает для сравнения \"в ручную\" данные по абоненту из таблицы `abonents` и из 3 таблиц `ab_calls`, `ab_messages`, `ab_internet`***"
   ]
  },
  {
   "cell_type": "code",
   "execution_count": 73,
   "metadata": {},
   "outputs": [
    {
     "name": "stdout",
     "output_type": "stream",
     "text": [
      "Объединенная таблица\n"
     ]
    },
    {
     "data": {
      "text/html": [
       "<div>\n",
       "<style scoped>\n",
       "    .dataframe tbody tr th:only-of-type {\n",
       "        vertical-align: middle;\n",
       "    }\n",
       "\n",
       "    .dataframe tbody tr th {\n",
       "        vertical-align: top;\n",
       "    }\n",
       "\n",
       "    .dataframe thead th {\n",
       "        text-align: right;\n",
       "    }\n",
       "</style>\n",
       "<table border=\"1\" class=\"dataframe\">\n",
       "  <thead>\n",
       "    <tr style=\"text-align: right;\">\n",
       "      <th></th>\n",
       "      <th>user_id</th>\n",
       "      <th>month</th>\n",
       "      <th>calls</th>\n",
       "      <th>min</th>\n",
       "      <th>mes</th>\n",
       "      <th>mb</th>\n",
       "      <th>city</th>\n",
       "      <th>tariff</th>\n",
       "    </tr>\n",
       "  </thead>\n",
       "  <tbody>\n",
       "    <tr>\n",
       "      <td>1398</td>\n",
       "      <td>1222</td>\n",
       "      <td>8.0</td>\n",
       "      <td>9.0</td>\n",
       "      <td>28.0</td>\n",
       "      <td>4.0</td>\n",
       "      <td>2292.0</td>\n",
       "      <td>Уфа</td>\n",
       "      <td>ultra</td>\n",
       "    </tr>\n",
       "    <tr>\n",
       "      <td>1399</td>\n",
       "      <td>1222</td>\n",
       "      <td>9.0</td>\n",
       "      <td>180.0</td>\n",
       "      <td>1261.0</td>\n",
       "      <td>109.0</td>\n",
       "      <td>19444.0</td>\n",
       "      <td>Уфа</td>\n",
       "      <td>ultra</td>\n",
       "    </tr>\n",
       "    <tr>\n",
       "      <td>1400</td>\n",
       "      <td>1222</td>\n",
       "      <td>10.0</td>\n",
       "      <td>196.0</td>\n",
       "      <td>1322.0</td>\n",
       "      <td>133.0</td>\n",
       "      <td>26952.0</td>\n",
       "      <td>Уфа</td>\n",
       "      <td>ultra</td>\n",
       "    </tr>\n",
       "    <tr>\n",
       "      <td>1401</td>\n",
       "      <td>1222</td>\n",
       "      <td>11.0</td>\n",
       "      <td>156.0</td>\n",
       "      <td>1027.0</td>\n",
       "      <td>114.0</td>\n",
       "      <td>21553.0</td>\n",
       "      <td>Уфа</td>\n",
       "      <td>ultra</td>\n",
       "    </tr>\n",
       "    <tr>\n",
       "      <td>1402</td>\n",
       "      <td>1222</td>\n",
       "      <td>12.0</td>\n",
       "      <td>184.0</td>\n",
       "      <td>1261.0</td>\n",
       "      <td>135.0</td>\n",
       "      <td>24774.0</td>\n",
       "      <td>Уфа</td>\n",
       "      <td>ultra</td>\n",
       "    </tr>\n",
       "  </tbody>\n",
       "</table>\n",
       "</div>"
      ],
      "text/plain": [
       "      user_id  month  calls     min    mes       mb city tariff\n",
       "1398     1222    8.0    9.0    28.0    4.0   2292.0  Уфа  ultra\n",
       "1399     1222    9.0  180.0  1261.0  109.0  19444.0  Уфа  ultra\n",
       "1400     1222   10.0  196.0  1322.0  133.0  26952.0  Уфа  ultra\n",
       "1401     1222   11.0  156.0  1027.0  114.0  21553.0  Уфа  ultra\n",
       "1402     1222   12.0  184.0  1261.0  135.0  24774.0  Уфа  ultra"
      ]
     },
     "metadata": {},
     "output_type": "display_data"
    },
    {
     "name": "stdout",
     "output_type": "stream",
     "text": [
      "\n",
      "3 таблицы : \n"
     ]
    },
    {
     "data": {
      "text/html": [
       "<div>\n",
       "<style scoped>\n",
       "    .dataframe tbody tr th:only-of-type {\n",
       "        vertical-align: middle;\n",
       "    }\n",
       "\n",
       "    .dataframe tbody tr th {\n",
       "        vertical-align: top;\n",
       "    }\n",
       "\n",
       "    .dataframe thead th {\n",
       "        text-align: right;\n",
       "    }\n",
       "</style>\n",
       "<table border=\"1\" class=\"dataframe\">\n",
       "  <thead>\n",
       "    <tr style=\"text-align: right;\">\n",
       "      <th></th>\n",
       "      <th>user_id</th>\n",
       "      <th>month</th>\n",
       "      <th>calls</th>\n",
       "      <th>min</th>\n",
       "    </tr>\n",
       "  </thead>\n",
       "  <tbody>\n",
       "    <tr>\n",
       "      <td>1398</td>\n",
       "      <td>1222</td>\n",
       "      <td>8</td>\n",
       "      <td>9</td>\n",
       "      <td>28</td>\n",
       "    </tr>\n",
       "    <tr>\n",
       "      <td>1399</td>\n",
       "      <td>1222</td>\n",
       "      <td>9</td>\n",
       "      <td>180</td>\n",
       "      <td>1261</td>\n",
       "    </tr>\n",
       "    <tr>\n",
       "      <td>1400</td>\n",
       "      <td>1222</td>\n",
       "      <td>10</td>\n",
       "      <td>196</td>\n",
       "      <td>1322</td>\n",
       "    </tr>\n",
       "    <tr>\n",
       "      <td>1401</td>\n",
       "      <td>1222</td>\n",
       "      <td>11</td>\n",
       "      <td>156</td>\n",
       "      <td>1027</td>\n",
       "    </tr>\n",
       "    <tr>\n",
       "      <td>1402</td>\n",
       "      <td>1222</td>\n",
       "      <td>12</td>\n",
       "      <td>184</td>\n",
       "      <td>1261</td>\n",
       "    </tr>\n",
       "  </tbody>\n",
       "</table>\n",
       "</div>"
      ],
      "text/plain": [
       "      user_id  month  calls   min\n",
       "1398     1222      8      9    28\n",
       "1399     1222      9    180  1261\n",
       "1400     1222     10    196  1322\n",
       "1401     1222     11    156  1027\n",
       "1402     1222     12    184  1261"
      ]
     },
     "metadata": {},
     "output_type": "display_data"
    },
    {
     "data": {
      "text/html": [
       "<div>\n",
       "<style scoped>\n",
       "    .dataframe tbody tr th:only-of-type {\n",
       "        vertical-align: middle;\n",
       "    }\n",
       "\n",
       "    .dataframe tbody tr th {\n",
       "        vertical-align: top;\n",
       "    }\n",
       "\n",
       "    .dataframe thead th {\n",
       "        text-align: right;\n",
       "    }\n",
       "</style>\n",
       "<table border=\"1\" class=\"dataframe\">\n",
       "  <thead>\n",
       "    <tr style=\"text-align: right;\">\n",
       "      <th></th>\n",
       "      <th>user_id</th>\n",
       "      <th>month</th>\n",
       "      <th>mes</th>\n",
       "    </tr>\n",
       "  </thead>\n",
       "  <tbody>\n",
       "    <tr>\n",
       "      <td>1163</td>\n",
       "      <td>1222</td>\n",
       "      <td>8</td>\n",
       "      <td>4</td>\n",
       "    </tr>\n",
       "    <tr>\n",
       "      <td>1164</td>\n",
       "      <td>1222</td>\n",
       "      <td>9</td>\n",
       "      <td>109</td>\n",
       "    </tr>\n",
       "    <tr>\n",
       "      <td>1165</td>\n",
       "      <td>1222</td>\n",
       "      <td>10</td>\n",
       "      <td>133</td>\n",
       "    </tr>\n",
       "    <tr>\n",
       "      <td>1166</td>\n",
       "      <td>1222</td>\n",
       "      <td>11</td>\n",
       "      <td>114</td>\n",
       "    </tr>\n",
       "    <tr>\n",
       "      <td>1167</td>\n",
       "      <td>1222</td>\n",
       "      <td>12</td>\n",
       "      <td>135</td>\n",
       "    </tr>\n",
       "  </tbody>\n",
       "</table>\n",
       "</div>"
      ],
      "text/plain": [
       "      user_id  month  mes\n",
       "1163     1222      8    4\n",
       "1164     1222      9  109\n",
       "1165     1222     10  133\n",
       "1166     1222     11  114\n",
       "1167     1222     12  135"
      ]
     },
     "metadata": {},
     "output_type": "display_data"
    },
    {
     "data": {
      "text/html": [
       "<div>\n",
       "<style scoped>\n",
       "    .dataframe tbody tr th:only-of-type {\n",
       "        vertical-align: middle;\n",
       "    }\n",
       "\n",
       "    .dataframe tbody tr th {\n",
       "        vertical-align: top;\n",
       "    }\n",
       "\n",
       "    .dataframe thead th {\n",
       "        text-align: right;\n",
       "    }\n",
       "</style>\n",
       "<table border=\"1\" class=\"dataframe\">\n",
       "  <thead>\n",
       "    <tr style=\"text-align: right;\">\n",
       "      <th></th>\n",
       "      <th>user_id</th>\n",
       "      <th>month</th>\n",
       "      <th>mb</th>\n",
       "    </tr>\n",
       "  </thead>\n",
       "  <tbody>\n",
       "    <tr>\n",
       "      <td>1415</td>\n",
       "      <td>1222</td>\n",
       "      <td>8</td>\n",
       "      <td>2292</td>\n",
       "    </tr>\n",
       "    <tr>\n",
       "      <td>1416</td>\n",
       "      <td>1222</td>\n",
       "      <td>9</td>\n",
       "      <td>19444</td>\n",
       "    </tr>\n",
       "    <tr>\n",
       "      <td>1417</td>\n",
       "      <td>1222</td>\n",
       "      <td>10</td>\n",
       "      <td>26952</td>\n",
       "    </tr>\n",
       "    <tr>\n",
       "      <td>1418</td>\n",
       "      <td>1222</td>\n",
       "      <td>11</td>\n",
       "      <td>21553</td>\n",
       "    </tr>\n",
       "    <tr>\n",
       "      <td>1419</td>\n",
       "      <td>1222</td>\n",
       "      <td>12</td>\n",
       "      <td>24774</td>\n",
       "    </tr>\n",
       "  </tbody>\n",
       "</table>\n",
       "</div>"
      ],
      "text/plain": [
       "      user_id  month     mb\n",
       "1415     1222      8   2292\n",
       "1416     1222      9  19444\n",
       "1417     1222     10  26952\n",
       "1418     1222     11  21553\n",
       "1419     1222     12  24774"
      ]
     },
     "metadata": {},
     "output_type": "display_data"
    }
   ],
   "source": [
    "def ab_test(us_id):\n",
    "    print(\"Объединенная таблица\")\n",
    "    display(abonents.loc[abonents['user_id']==us_id])\n",
    "    print()\n",
    "    print(\"3 таблицы : \")\n",
    "    display(ab_calls.loc[ab_calls['user_id']==us_id])\n",
    "    display(ab_messages.loc[ab_messages['user_id']==us_id])\n",
    "    display(ab_internet.loc[ab_internet['user_id']==us_id])\n",
    "    \n",
    "ab_test(1222)"
   ]
  },
  {
   "cell_type": "code",
   "execution_count": 74,
   "metadata": {},
   "outputs": [
    {
     "data": {
      "text/plain": [
       "500"
      ]
     },
     "execution_count": 74,
     "metadata": {},
     "output_type": "execute_result"
    }
   ],
   "source": [
    "# Проверим все ли абоненты на месте, должно быть 500\n",
    "abonents['user_id'].nunique()"
   ]
  },
  {
   "cell_type": "markdown",
   "metadata": {},
   "source": [
    "***Чтобы посчитать выручку `income` за месяц надо избавиться от пропусков NaN. Логично заполнить их нулями. Там где не было звонков - 0, минут - 0, не было СМС - 0, не было интернет-трафика - 0 МБ***\n",
    "\n",
    "***Посмотрим сколько у нас пропусков в таблице `abonents`***"
   ]
  },
  {
   "cell_type": "code",
   "execution_count": 75,
   "metadata": {},
   "outputs": [
    {
     "data": {
      "text/plain": [
       "user_id      0\n",
       "month        2\n",
       "calls       42\n",
       "min         42\n",
       "mes        499\n",
       "mb          13\n",
       "city         0\n",
       "tariff       0\n",
       "dtype: int64"
      ]
     },
     "execution_count": 75,
     "metadata": {},
     "output_type": "execute_result"
    }
   ],
   "source": [
    "abonents.isna().sum()"
   ]
  },
  {
   "cell_type": "code",
   "execution_count": 76,
   "metadata": {},
   "outputs": [
    {
     "data": {
      "text/html": [
       "<div>\n",
       "<style scoped>\n",
       "    .dataframe tbody tr th:only-of-type {\n",
       "        vertical-align: middle;\n",
       "    }\n",
       "\n",
       "    .dataframe tbody tr th {\n",
       "        vertical-align: top;\n",
       "    }\n",
       "\n",
       "    .dataframe thead th {\n",
       "        text-align: right;\n",
       "    }\n",
       "</style>\n",
       "<table border=\"1\" class=\"dataframe\">\n",
       "  <thead>\n",
       "    <tr style=\"text-align: right;\">\n",
       "      <th></th>\n",
       "      <th>user_id</th>\n",
       "      <th>month</th>\n",
       "      <th>calls</th>\n",
       "      <th>min</th>\n",
       "      <th>mes</th>\n",
       "      <th>mb</th>\n",
       "      <th>city</th>\n",
       "      <th>tariff</th>\n",
       "    </tr>\n",
       "  </thead>\n",
       "  <tbody>\n",
       "    <tr>\n",
       "      <td>3214</td>\n",
       "      <td>1128</td>\n",
       "      <td>NaN</td>\n",
       "      <td>NaN</td>\n",
       "      <td>NaN</td>\n",
       "      <td>NaN</td>\n",
       "      <td>NaN</td>\n",
       "      <td>Волжский</td>\n",
       "      <td>ultra</td>\n",
       "    </tr>\n",
       "    <tr>\n",
       "      <td>3215</td>\n",
       "      <td>1371</td>\n",
       "      <td>NaN</td>\n",
       "      <td>NaN</td>\n",
       "      <td>NaN</td>\n",
       "      <td>NaN</td>\n",
       "      <td>NaN</td>\n",
       "      <td>Омск</td>\n",
       "      <td>smart</td>\n",
       "    </tr>\n",
       "  </tbody>\n",
       "</table>\n",
       "</div>"
      ],
      "text/plain": [
       "      user_id  month  calls  min  mes  mb      city tariff\n",
       "3214     1128    NaN    NaN  NaN  NaN NaN  Волжский  ultra\n",
       "3215     1371    NaN    NaN  NaN  NaN NaN      Омск  smart"
      ]
     },
     "metadata": {},
     "output_type": "display_data"
    }
   ],
   "source": [
    "display(abonents[abonents['month'].isna()])"
   ]
  },
  {
   "cell_type": "markdown",
   "metadata": {},
   "source": [
    "***Оказывается есть пропуски в столбце `month`. Это 2 абонента подключенных в конце года (выше про них уже писал) - поэтому ставим в столбце с месяцем 12 (декабрь) и будем считать, что раз подключился, то выручка в декабре будет равна абон-плате (по формуле)***"
   ]
  },
  {
   "cell_type": "code",
   "execution_count": 77,
   "metadata": {},
   "outputs": [
    {
     "data": {
      "text/plain": [
       "user_id    0\n",
       "month      0\n",
       "calls      0\n",
       "min        0\n",
       "mes        0\n",
       "mb         0\n",
       "city       0\n",
       "tariff     0\n",
       "dtype: int64"
      ]
     },
     "execution_count": 77,
     "metadata": {},
     "output_type": "execute_result"
    }
   ],
   "source": [
    "abonents.loc[:,['calls', 'min', 'mes', 'mb']] = abonents.loc[:,['calls', 'min', 'mes', 'mb']].fillna(0)\n",
    "abonents.loc[:,['month']] = abonents.loc[:,['month']].fillna(12)\n",
    "abonents.isna().sum()"
   ]
  },
  {
   "cell_type": "markdown",
   "metadata": {},
   "source": [
    "## 3.3 Столбец `income` <a id=\"income\"></a>  \n",
    "[К содержанию](#soder)\n",
    "\n",
    "***Теперь пора добавить новый столбец выручка - `income` в таблицу `abonents`.\n",
    "Напишем функцию `income_month`, которая принимает строку, и возвращает значение выручки***\n",
    "\n",
    "(вычтите бесплатный лимит из суммарного количества звонков, сообщений и интернет-трафика; остаток умножьте на значение из тарифного плана; прибавьте абонентскую плату, соответствующую тарифному плану)"
   ]
  },
  {
   "cell_type": "code",
   "execution_count": 78,
   "metadata": {},
   "outputs": [
    {
     "data": {
      "text/html": [
       "<div>\n",
       "<style scoped>\n",
       "    .dataframe tbody tr th:only-of-type {\n",
       "        vertical-align: middle;\n",
       "    }\n",
       "\n",
       "    .dataframe tbody tr th {\n",
       "        vertical-align: top;\n",
       "    }\n",
       "\n",
       "    .dataframe thead th {\n",
       "        text-align: right;\n",
       "    }\n",
       "</style>\n",
       "<table border=\"1\" class=\"dataframe\">\n",
       "  <thead>\n",
       "    <tr style=\"text-align: right;\">\n",
       "      <th></th>\n",
       "      <th>user_id</th>\n",
       "      <th>month</th>\n",
       "      <th>calls</th>\n",
       "      <th>min</th>\n",
       "      <th>mes</th>\n",
       "      <th>mb</th>\n",
       "      <th>city</th>\n",
       "      <th>tariff</th>\n",
       "    </tr>\n",
       "  </thead>\n",
       "  <tbody>\n",
       "    <tr>\n",
       "      <td>2017</td>\n",
       "      <td>1322</td>\n",
       "      <td>10.0</td>\n",
       "      <td>88.0</td>\n",
       "      <td>583.0</td>\n",
       "      <td>0.0</td>\n",
       "      <td>13365.0</td>\n",
       "      <td>Балашиха</td>\n",
       "      <td>smart</td>\n",
       "    </tr>\n",
       "    <tr>\n",
       "      <td>1875</td>\n",
       "      <td>1299</td>\n",
       "      <td>8.0</td>\n",
       "      <td>67.0</td>\n",
       "      <td>494.0</td>\n",
       "      <td>36.0</td>\n",
       "      <td>14862.0</td>\n",
       "      <td>Уфа</td>\n",
       "      <td>smart</td>\n",
       "    </tr>\n",
       "    <tr>\n",
       "      <td>819</td>\n",
       "      <td>1130</td>\n",
       "      <td>12.0</td>\n",
       "      <td>90.0</td>\n",
       "      <td>580.0</td>\n",
       "      <td>55.0</td>\n",
       "      <td>18712.0</td>\n",
       "      <td>Тюмень</td>\n",
       "      <td>smart</td>\n",
       "    </tr>\n",
       "  </tbody>\n",
       "</table>\n",
       "</div>"
      ],
      "text/plain": [
       "      user_id  month  calls    min   mes       mb      city tariff\n",
       "2017     1322   10.0   88.0  583.0   0.0  13365.0  Балашиха  smart\n",
       "1875     1299    8.0   67.0  494.0  36.0  14862.0       Уфа  smart\n",
       "819      1130   12.0   90.0  580.0  55.0  18712.0    Тюмень  smart"
      ]
     },
     "execution_count": 78,
     "metadata": {},
     "output_type": "execute_result"
    }
   ],
   "source": [
    "abonents.sample(3)"
   ]
  },
  {
   "cell_type": "code",
   "execution_count": 79,
   "metadata": {},
   "outputs": [
    {
     "name": "stdout",
     "output_type": "stream",
     "text": [
      "1\n"
     ]
    }
   ],
   "source": [
    "print(tariffs.loc[1,'rub_per_message'])"
   ]
  },
  {
   "cell_type": "code",
   "execution_count": 80,
   "metadata": {
    "scrolled": true
   },
   "outputs": [
    {
     "data": {
      "text/html": [
       "<div>\n",
       "<style scoped>\n",
       "    .dataframe tbody tr th:only-of-type {\n",
       "        vertical-align: middle;\n",
       "    }\n",
       "\n",
       "    .dataframe tbody tr th {\n",
       "        vertical-align: top;\n",
       "    }\n",
       "\n",
       "    .dataframe thead th {\n",
       "        text-align: right;\n",
       "    }\n",
       "</style>\n",
       "<table border=\"1\" class=\"dataframe\">\n",
       "  <thead>\n",
       "    <tr style=\"text-align: right;\">\n",
       "      <th></th>\n",
       "      <th>messages_included</th>\n",
       "      <th>mb_per_month_included</th>\n",
       "      <th>minutes_included</th>\n",
       "      <th>rub_monthly_fee</th>\n",
       "      <th>rub_per_gb</th>\n",
       "      <th>rub_per_message</th>\n",
       "      <th>rub_per_minute</th>\n",
       "      <th>tariff_name</th>\n",
       "    </tr>\n",
       "  </thead>\n",
       "  <tbody>\n",
       "    <tr>\n",
       "      <td>0</td>\n",
       "      <td>50</td>\n",
       "      <td>15360</td>\n",
       "      <td>500</td>\n",
       "      <td>550</td>\n",
       "      <td>200</td>\n",
       "      <td>3</td>\n",
       "      <td>3</td>\n",
       "      <td>smart</td>\n",
       "    </tr>\n",
       "    <tr>\n",
       "      <td>1</td>\n",
       "      <td>1000</td>\n",
       "      <td>30720</td>\n",
       "      <td>3000</td>\n",
       "      <td>1950</td>\n",
       "      <td>150</td>\n",
       "      <td>1</td>\n",
       "      <td>1</td>\n",
       "      <td>ultra</td>\n",
       "    </tr>\n",
       "  </tbody>\n",
       "</table>\n",
       "</div>"
      ],
      "text/plain": [
       "   messages_included  mb_per_month_included  minutes_included  \\\n",
       "0                 50                  15360               500   \n",
       "1               1000                  30720              3000   \n",
       "\n",
       "   rub_monthly_fee  rub_per_gb  rub_per_message  rub_per_minute tariff_name  \n",
       "0              550         200                3               3       smart  \n",
       "1             1950         150                1               1       ultra  "
      ]
     },
     "execution_count": 80,
     "metadata": {},
     "output_type": "execute_result"
    }
   ],
   "source": [
    "tariffs"
   ]
  },
  {
   "cell_type": "code",
   "execution_count": 81,
   "metadata": {},
   "outputs": [],
   "source": [
    "def income_month(ab_month):\n",
    "        \n",
    "    if ab_month['tariff'] == 'smart':\n",
    "        \n",
    "        inc_calls = (ab_month['min'] - tariffs.loc[0,'minutes_included']) * tariffs.loc[0,'rub_per_minute']\n",
    "        if inc_calls < 0 :\n",
    "            inc_calls = 0\n",
    "        \n",
    "        inc_mess = (ab_month['mes'] - tariffs.loc[0,'messages_included']) * tariffs.loc[0,'rub_per_message']\n",
    "        if inc_mess < 0 :\n",
    "            inc_mess = 0\n",
    "        \n",
    "        # round_up(fl) - Функция округления вверх. Описывалась выше\n",
    "        inc_mb  = round_up((ab_month['mb'] - tariffs.loc[0,'mb_per_month_included'])/1024) * tariffs.loc[0,'rub_per_gb'] \n",
    "        if inc_mb < 0 :\n",
    "            inc_mb = 0\n",
    "             \n",
    "        inc = inc_calls + inc_mess + inc_mb + tariffs.loc[0,'rub_monthly_fee']\n",
    "        \n",
    "    elif ab_month['tariff'] == 'ultra':\n",
    "        \n",
    "        inc_calls = (ab_month['min'] - tariffs.loc[1,'minutes_included']) * tariffs.loc[1,'rub_per_minute']\n",
    "        if inc_calls < 0 :\n",
    "            inc_calls = 0\n",
    "        \n",
    "        inc_mess = (ab_month['mes'] - tariffs.loc[1,'messages_included']) * tariffs.loc[1,'rub_per_message']\n",
    "        if inc_mess < 0 :\n",
    "            inc_mess = 0\n",
    "        \n",
    "        inc_mb  = round_up((ab_month['mb'] - tariffs.loc[1,'mb_per_month_included'])/1024) * tariffs.loc[1,'rub_per_gb'] \n",
    "        if inc_mb < 0 :\n",
    "            inc_mb = 0\n",
    "             \n",
    "        inc = inc_calls + inc_mess + inc_mb + tariffs.loc[1,'rub_monthly_fee']\n",
    "        \n",
    "    else:\n",
    "        print('Неизвестный тариф :)) ')\n",
    "        \n",
    "#     display(ab_month) # Для поверки нескольких строк вручную\n",
    "#     print(inc_calls, inc_mess, inc_mb, inc) # Для поверки нескольких строк вручную\n",
    "#     input() # Для поверки нескольких строк вручную\n",
    "    \n",
    "    return inc\n",
    "\n",
    "abonents['income'] = abonents.apply(income_month, axis=1)"
   ]
  },
  {
   "cell_type": "code",
   "execution_count": 82,
   "metadata": {},
   "outputs": [
    {
     "data": {
      "text/html": [
       "<div>\n",
       "<style scoped>\n",
       "    .dataframe tbody tr th:only-of-type {\n",
       "        vertical-align: middle;\n",
       "    }\n",
       "\n",
       "    .dataframe tbody tr th {\n",
       "        vertical-align: top;\n",
       "    }\n",
       "\n",
       "    .dataframe thead th {\n",
       "        text-align: right;\n",
       "    }\n",
       "</style>\n",
       "<table border=\"1\" class=\"dataframe\">\n",
       "  <thead>\n",
       "    <tr style=\"text-align: right;\">\n",
       "      <th></th>\n",
       "      <th>user_id</th>\n",
       "      <th>month</th>\n",
       "      <th>calls</th>\n",
       "      <th>min</th>\n",
       "      <th>mes</th>\n",
       "      <th>mb</th>\n",
       "      <th>city</th>\n",
       "      <th>tariff</th>\n",
       "      <th>income</th>\n",
       "    </tr>\n",
       "  </thead>\n",
       "  <tbody>\n",
       "    <tr>\n",
       "      <td>0</td>\n",
       "      <td>1000</td>\n",
       "      <td>5.0</td>\n",
       "      <td>22.0</td>\n",
       "      <td>159.0</td>\n",
       "      <td>22.0</td>\n",
       "      <td>2256.0</td>\n",
       "      <td>Краснодар</td>\n",
       "      <td>ultra</td>\n",
       "      <td>1950.0</td>\n",
       "    </tr>\n",
       "    <tr>\n",
       "      <td>1</td>\n",
       "      <td>1000</td>\n",
       "      <td>6.0</td>\n",
       "      <td>43.0</td>\n",
       "      <td>172.0</td>\n",
       "      <td>60.0</td>\n",
       "      <td>23257.0</td>\n",
       "      <td>Краснодар</td>\n",
       "      <td>ultra</td>\n",
       "      <td>1950.0</td>\n",
       "    </tr>\n",
       "    <tr>\n",
       "      <td>2</td>\n",
       "      <td>1000</td>\n",
       "      <td>7.0</td>\n",
       "      <td>47.0</td>\n",
       "      <td>340.0</td>\n",
       "      <td>75.0</td>\n",
       "      <td>14016.0</td>\n",
       "      <td>Краснодар</td>\n",
       "      <td>ultra</td>\n",
       "      <td>1950.0</td>\n",
       "    </tr>\n",
       "    <tr>\n",
       "      <td>3</td>\n",
       "      <td>1000</td>\n",
       "      <td>8.0</td>\n",
       "      <td>52.0</td>\n",
       "      <td>408.0</td>\n",
       "      <td>81.0</td>\n",
       "      <td>14070.0</td>\n",
       "      <td>Краснодар</td>\n",
       "      <td>ultra</td>\n",
       "      <td>1950.0</td>\n",
       "    </tr>\n",
       "    <tr>\n",
       "      <td>4</td>\n",
       "      <td>1000</td>\n",
       "      <td>9.0</td>\n",
       "      <td>58.0</td>\n",
       "      <td>466.0</td>\n",
       "      <td>57.0</td>\n",
       "      <td>14581.0</td>\n",
       "      <td>Краснодар</td>\n",
       "      <td>ultra</td>\n",
       "      <td>1950.0</td>\n",
       "    </tr>\n",
       "    <tr>\n",
       "      <td>...</td>\n",
       "      <td>...</td>\n",
       "      <td>...</td>\n",
       "      <td>...</td>\n",
       "      <td>...</td>\n",
       "      <td>...</td>\n",
       "      <td>...</td>\n",
       "      <td>...</td>\n",
       "      <td>...</td>\n",
       "      <td>...</td>\n",
       "    </tr>\n",
       "    <tr>\n",
       "      <td>3211</td>\n",
       "      <td>1489</td>\n",
       "      <td>10.0</td>\n",
       "      <td>0.0</td>\n",
       "      <td>0.0</td>\n",
       "      <td>21.0</td>\n",
       "      <td>19588.0</td>\n",
       "      <td>Санкт-Петербург</td>\n",
       "      <td>smart</td>\n",
       "      <td>1550.0</td>\n",
       "    </tr>\n",
       "    <tr>\n",
       "      <td>3212</td>\n",
       "      <td>1489</td>\n",
       "      <td>11.0</td>\n",
       "      <td>0.0</td>\n",
       "      <td>0.0</td>\n",
       "      <td>20.0</td>\n",
       "      <td>17516.0</td>\n",
       "      <td>Санкт-Петербург</td>\n",
       "      <td>smart</td>\n",
       "      <td>1150.0</td>\n",
       "    </tr>\n",
       "    <tr>\n",
       "      <td>3213</td>\n",
       "      <td>1489</td>\n",
       "      <td>12.0</td>\n",
       "      <td>0.0</td>\n",
       "      <td>0.0</td>\n",
       "      <td>35.0</td>\n",
       "      <td>17341.0</td>\n",
       "      <td>Санкт-Петербург</td>\n",
       "      <td>smart</td>\n",
       "      <td>950.0</td>\n",
       "    </tr>\n",
       "    <tr>\n",
       "      <td>3214</td>\n",
       "      <td>1128</td>\n",
       "      <td>12.0</td>\n",
       "      <td>0.0</td>\n",
       "      <td>0.0</td>\n",
       "      <td>0.0</td>\n",
       "      <td>0.0</td>\n",
       "      <td>Волжский</td>\n",
       "      <td>ultra</td>\n",
       "      <td>1950.0</td>\n",
       "    </tr>\n",
       "    <tr>\n",
       "      <td>3215</td>\n",
       "      <td>1371</td>\n",
       "      <td>12.0</td>\n",
       "      <td>0.0</td>\n",
       "      <td>0.0</td>\n",
       "      <td>0.0</td>\n",
       "      <td>0.0</td>\n",
       "      <td>Омск</td>\n",
       "      <td>smart</td>\n",
       "      <td>550.0</td>\n",
       "    </tr>\n",
       "  </tbody>\n",
       "</table>\n",
       "<p>3216 rows × 9 columns</p>\n",
       "</div>"
      ],
      "text/plain": [
       "      user_id  month  calls    min   mes       mb             city tariff  \\\n",
       "0        1000    5.0   22.0  159.0  22.0   2256.0        Краснодар  ultra   \n",
       "1        1000    6.0   43.0  172.0  60.0  23257.0        Краснодар  ultra   \n",
       "2        1000    7.0   47.0  340.0  75.0  14016.0        Краснодар  ultra   \n",
       "3        1000    8.0   52.0  408.0  81.0  14070.0        Краснодар  ultra   \n",
       "4        1000    9.0   58.0  466.0  57.0  14581.0        Краснодар  ultra   \n",
       "...       ...    ...    ...    ...   ...      ...              ...    ...   \n",
       "3211     1489   10.0    0.0    0.0  21.0  19588.0  Санкт-Петербург  smart   \n",
       "3212     1489   11.0    0.0    0.0  20.0  17516.0  Санкт-Петербург  smart   \n",
       "3213     1489   12.0    0.0    0.0  35.0  17341.0  Санкт-Петербург  smart   \n",
       "3214     1128   12.0    0.0    0.0   0.0      0.0         Волжский  ultra   \n",
       "3215     1371   12.0    0.0    0.0   0.0      0.0             Омск  smart   \n",
       "\n",
       "      income  \n",
       "0     1950.0  \n",
       "1     1950.0  \n",
       "2     1950.0  \n",
       "3     1950.0  \n",
       "4     1950.0  \n",
       "...      ...  \n",
       "3211  1550.0  \n",
       "3212  1150.0  \n",
       "3213   950.0  \n",
       "3214  1950.0  \n",
       "3215   550.0  \n",
       "\n",
       "[3216 rows x 9 columns]"
      ]
     },
     "execution_count": 82,
     "metadata": {},
     "output_type": "execute_result"
    }
   ],
   "source": [
    "abonents"
   ]
  },
  {
   "cell_type": "markdown",
   "metadata": {},
   "source": [
    "***ВЫВОД: Создали новую таблицу `abonents` - в которую сгруппировали данные по каждому абоненту за каждый месяц пользования (попутно были созданы еще 3 вспомогательные таблицы). Заполнили образовавшиеся пропуски. Рассчитали для анализа  4 столбца:  `min` - минут/мес, `mes` - СМС/мес,\t`mb` - МБ/мес и `income` - выручка за месяц.  Таблица готова для анализа.***"
   ]
  },
  {
   "cell_type": "markdown",
   "metadata": {},
   "source": [
    "# Шаг 4. Анализ данных <a id=\"shag4\"></a>  \n",
    "[К содержанию](#soder)\n",
    "\n",
    "**ЗАДАНИЕ: Опишите поведение клиентов оператора, исходя из выборки. Сколько минут разговора, сколько сообщений и какой объём интернет-трафика требуется пользователям каждого тарифа в месяц? Посчитайте среднее количество, дисперсию и стандартное отклонение. Постройте гистограммы. Опишите распределения.**"
   ]
  },
  {
   "cell_type": "markdown",
   "metadata": {},
   "source": [
    "## 4.1 Расчет помесячного расхода минут разговора, сообщений и какой объём интернет-трафика для каждого тарифа <a id=\"analys1\"></a>  \n",
    "[К содержанию](#soder)"
   ]
  },
  {
   "cell_type": "code",
   "execution_count": 83,
   "metadata": {
    "scrolled": false
   },
   "outputs": [
    {
     "data": {
      "text/html": [
       "<div>\n",
       "<style scoped>\n",
       "    .dataframe tbody tr th:only-of-type {\n",
       "        vertical-align: middle;\n",
       "    }\n",
       "\n",
       "    .dataframe tbody tr th {\n",
       "        vertical-align: top;\n",
       "    }\n",
       "\n",
       "    .dataframe thead th {\n",
       "        text-align: right;\n",
       "    }\n",
       "</style>\n",
       "<table border=\"1\" class=\"dataframe\">\n",
       "  <thead>\n",
       "    <tr style=\"text-align: right;\">\n",
       "      <th></th>\n",
       "      <th>user_id</th>\n",
       "      <th>month</th>\n",
       "      <th>calls</th>\n",
       "      <th>min</th>\n",
       "      <th>mes</th>\n",
       "      <th>mb</th>\n",
       "      <th>city</th>\n",
       "      <th>tariff</th>\n",
       "      <th>income</th>\n",
       "    </tr>\n",
       "  </thead>\n",
       "  <tbody>\n",
       "    <tr>\n",
       "      <td>0</td>\n",
       "      <td>1000</td>\n",
       "      <td>5.0</td>\n",
       "      <td>22.0</td>\n",
       "      <td>159.0</td>\n",
       "      <td>22.0</td>\n",
       "      <td>2256.0</td>\n",
       "      <td>Краснодар</td>\n",
       "      <td>ultra</td>\n",
       "      <td>1950.0</td>\n",
       "    </tr>\n",
       "    <tr>\n",
       "      <td>1</td>\n",
       "      <td>1000</td>\n",
       "      <td>6.0</td>\n",
       "      <td>43.0</td>\n",
       "      <td>172.0</td>\n",
       "      <td>60.0</td>\n",
       "      <td>23257.0</td>\n",
       "      <td>Краснодар</td>\n",
       "      <td>ultra</td>\n",
       "      <td>1950.0</td>\n",
       "    </tr>\n",
       "    <tr>\n",
       "      <td>2</td>\n",
       "      <td>1000</td>\n",
       "      <td>7.0</td>\n",
       "      <td>47.0</td>\n",
       "      <td>340.0</td>\n",
       "      <td>75.0</td>\n",
       "      <td>14016.0</td>\n",
       "      <td>Краснодар</td>\n",
       "      <td>ultra</td>\n",
       "      <td>1950.0</td>\n",
       "    </tr>\n",
       "    <tr>\n",
       "      <td>3</td>\n",
       "      <td>1000</td>\n",
       "      <td>8.0</td>\n",
       "      <td>52.0</td>\n",
       "      <td>408.0</td>\n",
       "      <td>81.0</td>\n",
       "      <td>14070.0</td>\n",
       "      <td>Краснодар</td>\n",
       "      <td>ultra</td>\n",
       "      <td>1950.0</td>\n",
       "    </tr>\n",
       "    <tr>\n",
       "      <td>4</td>\n",
       "      <td>1000</td>\n",
       "      <td>9.0</td>\n",
       "      <td>58.0</td>\n",
       "      <td>466.0</td>\n",
       "      <td>57.0</td>\n",
       "      <td>14581.0</td>\n",
       "      <td>Краснодар</td>\n",
       "      <td>ultra</td>\n",
       "      <td>1950.0</td>\n",
       "    </tr>\n",
       "    <tr>\n",
       "      <td>...</td>\n",
       "      <td>...</td>\n",
       "      <td>...</td>\n",
       "      <td>...</td>\n",
       "      <td>...</td>\n",
       "      <td>...</td>\n",
       "      <td>...</td>\n",
       "      <td>...</td>\n",
       "      <td>...</td>\n",
       "      <td>...</td>\n",
       "    </tr>\n",
       "    <tr>\n",
       "      <td>3211</td>\n",
       "      <td>1489</td>\n",
       "      <td>10.0</td>\n",
       "      <td>0.0</td>\n",
       "      <td>0.0</td>\n",
       "      <td>21.0</td>\n",
       "      <td>19588.0</td>\n",
       "      <td>Санкт-Петербург</td>\n",
       "      <td>smart</td>\n",
       "      <td>1550.0</td>\n",
       "    </tr>\n",
       "    <tr>\n",
       "      <td>3212</td>\n",
       "      <td>1489</td>\n",
       "      <td>11.0</td>\n",
       "      <td>0.0</td>\n",
       "      <td>0.0</td>\n",
       "      <td>20.0</td>\n",
       "      <td>17516.0</td>\n",
       "      <td>Санкт-Петербург</td>\n",
       "      <td>smart</td>\n",
       "      <td>1150.0</td>\n",
       "    </tr>\n",
       "    <tr>\n",
       "      <td>3213</td>\n",
       "      <td>1489</td>\n",
       "      <td>12.0</td>\n",
       "      <td>0.0</td>\n",
       "      <td>0.0</td>\n",
       "      <td>35.0</td>\n",
       "      <td>17341.0</td>\n",
       "      <td>Санкт-Петербург</td>\n",
       "      <td>smart</td>\n",
       "      <td>950.0</td>\n",
       "    </tr>\n",
       "    <tr>\n",
       "      <td>3214</td>\n",
       "      <td>1128</td>\n",
       "      <td>12.0</td>\n",
       "      <td>0.0</td>\n",
       "      <td>0.0</td>\n",
       "      <td>0.0</td>\n",
       "      <td>0.0</td>\n",
       "      <td>Волжский</td>\n",
       "      <td>ultra</td>\n",
       "      <td>1950.0</td>\n",
       "    </tr>\n",
       "    <tr>\n",
       "      <td>3215</td>\n",
       "      <td>1371</td>\n",
       "      <td>12.0</td>\n",
       "      <td>0.0</td>\n",
       "      <td>0.0</td>\n",
       "      <td>0.0</td>\n",
       "      <td>0.0</td>\n",
       "      <td>Омск</td>\n",
       "      <td>smart</td>\n",
       "      <td>550.0</td>\n",
       "    </tr>\n",
       "  </tbody>\n",
       "</table>\n",
       "<p>3216 rows × 9 columns</p>\n",
       "</div>"
      ],
      "text/plain": [
       "      user_id  month  calls    min   mes       mb             city tariff  \\\n",
       "0        1000    5.0   22.0  159.0  22.0   2256.0        Краснодар  ultra   \n",
       "1        1000    6.0   43.0  172.0  60.0  23257.0        Краснодар  ultra   \n",
       "2        1000    7.0   47.0  340.0  75.0  14016.0        Краснодар  ultra   \n",
       "3        1000    8.0   52.0  408.0  81.0  14070.0        Краснодар  ultra   \n",
       "4        1000    9.0   58.0  466.0  57.0  14581.0        Краснодар  ultra   \n",
       "...       ...    ...    ...    ...   ...      ...              ...    ...   \n",
       "3211     1489   10.0    0.0    0.0  21.0  19588.0  Санкт-Петербург  smart   \n",
       "3212     1489   11.0    0.0    0.0  20.0  17516.0  Санкт-Петербург  smart   \n",
       "3213     1489   12.0    0.0    0.0  35.0  17341.0  Санкт-Петербург  smart   \n",
       "3214     1128   12.0    0.0    0.0   0.0      0.0         Волжский  ultra   \n",
       "3215     1371   12.0    0.0    0.0   0.0      0.0             Омск  smart   \n",
       "\n",
       "      income  \n",
       "0     1950.0  \n",
       "1     1950.0  \n",
       "2     1950.0  \n",
       "3     1950.0  \n",
       "4     1950.0  \n",
       "...      ...  \n",
       "3211  1550.0  \n",
       "3212  1150.0  \n",
       "3213   950.0  \n",
       "3214  1950.0  \n",
       "3215   550.0  \n",
       "\n",
       "[3216 rows x 9 columns]"
      ]
     },
     "execution_count": 83,
     "metadata": {},
     "output_type": "execute_result"
    }
   ],
   "source": [
    "abonents"
   ]
  },
  {
   "cell_type": "markdown",
   "metadata": {},
   "source": [
    "## 4.2 Расчитаем общие показатели всех клиентов по месяцам по обоим тарифам <a id=\"analys1a\"></a>  \n",
    "[К содержанию](#soder)"
   ]
  },
  {
   "cell_type": "code",
   "execution_count": 84,
   "metadata": {},
   "outputs": [
    {
     "data": {
      "text/html": [
       "<div>\n",
       "<style scoped>\n",
       "    .dataframe tbody tr th:only-of-type {\n",
       "        vertical-align: middle;\n",
       "    }\n",
       "\n",
       "    .dataframe tbody tr th {\n",
       "        vertical-align: top;\n",
       "    }\n",
       "\n",
       "    .dataframe thead th {\n",
       "        text-align: right;\n",
       "    }\n",
       "</style>\n",
       "<table border=\"1\" class=\"dataframe\">\n",
       "  <thead>\n",
       "    <tr style=\"text-align: right;\">\n",
       "      <th></th>\n",
       "      <th>tariff</th>\n",
       "      <th>month</th>\n",
       "      <th>min</th>\n",
       "      <th>mes</th>\n",
       "      <th>mb</th>\n",
       "      <th>income</th>\n",
       "    </tr>\n",
       "  </thead>\n",
       "  <tbody>\n",
       "    <tr>\n",
       "      <td>0</td>\n",
       "      <td>smart</td>\n",
       "      <td>1.0</td>\n",
       "      <td>6931.0</td>\n",
       "      <td>620.0</td>\n",
       "      <td>289831.0</td>\n",
       "      <td>24525.0</td>\n",
       "    </tr>\n",
       "    <tr>\n",
       "      <td>1</td>\n",
       "      <td>smart</td>\n",
       "      <td>2.0</td>\n",
       "      <td>17324.0</td>\n",
       "      <td>1397.0</td>\n",
       "      <td>673461.0</td>\n",
       "      <td>49001.0</td>\n",
       "    </tr>\n",
       "    <tr>\n",
       "      <td>2</td>\n",
       "      <td>smart</td>\n",
       "      <td>3.0</td>\n",
       "      <td>30034.0</td>\n",
       "      <td>2453.0</td>\n",
       "      <td>1164537.0</td>\n",
       "      <td>90476.0</td>\n",
       "    </tr>\n",
       "    <tr>\n",
       "      <td>3</td>\n",
       "      <td>smart</td>\n",
       "      <td>4.0</td>\n",
       "      <td>41119.0</td>\n",
       "      <td>3443.0</td>\n",
       "      <td>1509702.0</td>\n",
       "      <td>109866.0</td>\n",
       "    </tr>\n",
       "    <tr>\n",
       "      <td>4</td>\n",
       "      <td>smart</td>\n",
       "      <td>5.0</td>\n",
       "      <td>54618.0</td>\n",
       "      <td>4762.0</td>\n",
       "      <td>2231353.0</td>\n",
       "      <td>172049.0</td>\n",
       "    </tr>\n",
       "    <tr>\n",
       "      <td>5</td>\n",
       "      <td>smart</td>\n",
       "      <td>6.0</td>\n",
       "      <td>64885.0</td>\n",
       "      <td>5478.0</td>\n",
       "      <td>2593622.0</td>\n",
       "      <td>200259.0</td>\n",
       "    </tr>\n",
       "    <tr>\n",
       "      <td>6</td>\n",
       "      <td>smart</td>\n",
       "      <td>7.0</td>\n",
       "      <td>82079.0</td>\n",
       "      <td>6784.0</td>\n",
       "      <td>3168466.0</td>\n",
       "      <td>249614.0</td>\n",
       "    </tr>\n",
       "    <tr>\n",
       "      <td>7</td>\n",
       "      <td>smart</td>\n",
       "      <td>8.0</td>\n",
       "      <td>99045.0</td>\n",
       "      <td>7905.0</td>\n",
       "      <td>3908561.0</td>\n",
       "      <td>314940.0</td>\n",
       "    </tr>\n",
       "    <tr>\n",
       "      <td>8</td>\n",
       "      <td>smart</td>\n",
       "      <td>9.0</td>\n",
       "      <td>111439.0</td>\n",
       "      <td>8746.0</td>\n",
       "      <td>4244377.0</td>\n",
       "      <td>330386.0</td>\n",
       "    </tr>\n",
       "    <tr>\n",
       "      <td>9</td>\n",
       "      <td>smart</td>\n",
       "      <td>10.0</td>\n",
       "      <td>125284.0</td>\n",
       "      <td>9927.0</td>\n",
       "      <td>4932898.0</td>\n",
       "      <td>406067.0</td>\n",
       "    </tr>\n",
       "    <tr>\n",
       "      <td>10</td>\n",
       "      <td>smart</td>\n",
       "      <td>11.0</td>\n",
       "      <td>137544.0</td>\n",
       "      <td>10768.0</td>\n",
       "      <td>5345940.0</td>\n",
       "      <td>429803.0</td>\n",
       "    </tr>\n",
       "    <tr>\n",
       "      <td>11</td>\n",
       "      <td>smart</td>\n",
       "      <td>12.0</td>\n",
       "      <td>161275.0</td>\n",
       "      <td>12130.0</td>\n",
       "      <td>6112113.0</td>\n",
       "      <td>537515.0</td>\n",
       "    </tr>\n",
       "    <tr>\n",
       "      <td>12</td>\n",
       "      <td>ultra</td>\n",
       "      <td>1.0</td>\n",
       "      <td>3853.0</td>\n",
       "      <td>304.0</td>\n",
       "      <td>118382.0</td>\n",
       "      <td>17550.0</td>\n",
       "    </tr>\n",
       "    <tr>\n",
       "      <td>13</td>\n",
       "      <td>ultra</td>\n",
       "      <td>2.0</td>\n",
       "      <td>7131.0</td>\n",
       "      <td>527.0</td>\n",
       "      <td>282887.0</td>\n",
       "      <td>47400.0</td>\n",
       "    </tr>\n",
       "    <tr>\n",
       "      <td>14</td>\n",
       "      <td>ultra</td>\n",
       "      <td>3.0</td>\n",
       "      <td>18117.0</td>\n",
       "      <td>1195.0</td>\n",
       "      <td>649423.0</td>\n",
       "      <td>74550.0</td>\n",
       "    </tr>\n",
       "    <tr>\n",
       "      <td>15</td>\n",
       "      <td>ultra</td>\n",
       "      <td>4.0</td>\n",
       "      <td>25191.0</td>\n",
       "      <td>1736.0</td>\n",
       "      <td>926409.0</td>\n",
       "      <td>110400.0</td>\n",
       "    </tr>\n",
       "    <tr>\n",
       "      <td>16</td>\n",
       "      <td>ultra</td>\n",
       "      <td>5.0</td>\n",
       "      <td>34192.0</td>\n",
       "      <td>2536.0</td>\n",
       "      <td>1298540.0</td>\n",
       "      <td>138600.0</td>\n",
       "    </tr>\n",
       "    <tr>\n",
       "      <td>17</td>\n",
       "      <td>ultra</td>\n",
       "      <td>6.0</td>\n",
       "      <td>40295.0</td>\n",
       "      <td>3505.0</td>\n",
       "      <td>1591148.0</td>\n",
       "      <td>171450.0</td>\n",
       "    </tr>\n",
       "    <tr>\n",
       "      <td>18</td>\n",
       "      <td>ultra</td>\n",
       "      <td>7.0</td>\n",
       "      <td>49667.0</td>\n",
       "      <td>4536.0</td>\n",
       "      <td>1866833.0</td>\n",
       "      <td>193350.0</td>\n",
       "    </tr>\n",
       "    <tr>\n",
       "      <td>19</td>\n",
       "      <td>ultra</td>\n",
       "      <td>8.0</td>\n",
       "      <td>54653.0</td>\n",
       "      <td>5183.0</td>\n",
       "      <td>2096565.0</td>\n",
       "      <td>223350.0</td>\n",
       "    </tr>\n",
       "    <tr>\n",
       "      <td>20</td>\n",
       "      <td>ultra</td>\n",
       "      <td>9.0</td>\n",
       "      <td>62036.0</td>\n",
       "      <td>6013.0</td>\n",
       "      <td>2210554.0</td>\n",
       "      <td>232950.0</td>\n",
       "    </tr>\n",
       "    <tr>\n",
       "      <td>21</td>\n",
       "      <td>ultra</td>\n",
       "      <td>10.0</td>\n",
       "      <td>68644.0</td>\n",
       "      <td>7187.0</td>\n",
       "      <td>2467856.0</td>\n",
       "      <td>254700.0</td>\n",
       "    </tr>\n",
       "    <tr>\n",
       "      <td>22</td>\n",
       "      <td>ultra</td>\n",
       "      <td>11.0</td>\n",
       "      <td>72545.0</td>\n",
       "      <td>7476.0</td>\n",
       "      <td>2653912.0</td>\n",
       "      <td>280650.0</td>\n",
       "    </tr>\n",
       "    <tr>\n",
       "      <td>23</td>\n",
       "      <td>ultra</td>\n",
       "      <td>12.0</td>\n",
       "      <td>82400.0</td>\n",
       "      <td>8425.0</td>\n",
       "      <td>3032089.0</td>\n",
       "      <td>299700.0</td>\n",
       "    </tr>\n",
       "  </tbody>\n",
       "</table>\n",
       "</div>"
      ],
      "text/plain": [
       "   tariff  month       min      mes         mb    income\n",
       "0   smart    1.0    6931.0    620.0   289831.0   24525.0\n",
       "1   smart    2.0   17324.0   1397.0   673461.0   49001.0\n",
       "2   smart    3.0   30034.0   2453.0  1164537.0   90476.0\n",
       "3   smart    4.0   41119.0   3443.0  1509702.0  109866.0\n",
       "4   smart    5.0   54618.0   4762.0  2231353.0  172049.0\n",
       "5   smart    6.0   64885.0   5478.0  2593622.0  200259.0\n",
       "6   smart    7.0   82079.0   6784.0  3168466.0  249614.0\n",
       "7   smart    8.0   99045.0   7905.0  3908561.0  314940.0\n",
       "8   smart    9.0  111439.0   8746.0  4244377.0  330386.0\n",
       "9   smart   10.0  125284.0   9927.0  4932898.0  406067.0\n",
       "10  smart   11.0  137544.0  10768.0  5345940.0  429803.0\n",
       "11  smart   12.0  161275.0  12130.0  6112113.0  537515.0\n",
       "12  ultra    1.0    3853.0    304.0   118382.0   17550.0\n",
       "13  ultra    2.0    7131.0    527.0   282887.0   47400.0\n",
       "14  ultra    3.0   18117.0   1195.0   649423.0   74550.0\n",
       "15  ultra    4.0   25191.0   1736.0   926409.0  110400.0\n",
       "16  ultra    5.0   34192.0   2536.0  1298540.0  138600.0\n",
       "17  ultra    6.0   40295.0   3505.0  1591148.0  171450.0\n",
       "18  ultra    7.0   49667.0   4536.0  1866833.0  193350.0\n",
       "19  ultra    8.0   54653.0   5183.0  2096565.0  223350.0\n",
       "20  ultra    9.0   62036.0   6013.0  2210554.0  232950.0\n",
       "21  ultra   10.0   68644.0   7187.0  2467856.0  254700.0\n",
       "22  ultra   11.0   72545.0   7476.0  2653912.0  280650.0\n",
       "23  ultra   12.0   82400.0   8425.0  3032089.0  299700.0"
      ]
     },
     "execution_count": 84,
     "metadata": {},
     "output_type": "execute_result"
    }
   ],
   "source": [
    "all_clients_month = abonents.groupby(['tariff', 'month'])['min', 'mes', 'mb', 'income'].sum().reset_index()\n",
    "all_clients_month"
   ]
  },
  {
   "cell_type": "code",
   "execution_count": 85,
   "metadata": {},
   "outputs": [],
   "source": [
    "# для наглядности разобьем all_clients_month на 2 таблице по тарифу\n",
    "smart_all_clients_month = all_clients_month.query(' tariff==\"smart\" ')\n",
    "ultra_all_clients_month = all_clients_month.query(' tariff==\"ultra\" ').reset_index(drop=True)"
   ]
  },
  {
   "cell_type": "code",
   "execution_count": 86,
   "metadata": {},
   "outputs": [
    {
     "data": {
      "text/html": [
       "<div>\n",
       "<style scoped>\n",
       "    .dataframe tbody tr th:only-of-type {\n",
       "        vertical-align: middle;\n",
       "    }\n",
       "\n",
       "    .dataframe tbody tr th {\n",
       "        vertical-align: top;\n",
       "    }\n",
       "\n",
       "    .dataframe thead th {\n",
       "        text-align: right;\n",
       "    }\n",
       "</style>\n",
       "<table border=\"1\" class=\"dataframe\">\n",
       "  <thead>\n",
       "    <tr style=\"text-align: right;\">\n",
       "      <th></th>\n",
       "      <th>tariff</th>\n",
       "      <th>month</th>\n",
       "      <th>min</th>\n",
       "      <th>mes</th>\n",
       "      <th>mb</th>\n",
       "      <th>income</th>\n",
       "    </tr>\n",
       "  </thead>\n",
       "  <tbody>\n",
       "    <tr>\n",
       "      <td>0</td>\n",
       "      <td>smart</td>\n",
       "      <td>1.0</td>\n",
       "      <td>6931.0</td>\n",
       "      <td>620.0</td>\n",
       "      <td>289831.0</td>\n",
       "      <td>24525.0</td>\n",
       "    </tr>\n",
       "    <tr>\n",
       "      <td>1</td>\n",
       "      <td>smart</td>\n",
       "      <td>2.0</td>\n",
       "      <td>17324.0</td>\n",
       "      <td>1397.0</td>\n",
       "      <td>673461.0</td>\n",
       "      <td>49001.0</td>\n",
       "    </tr>\n",
       "    <tr>\n",
       "      <td>2</td>\n",
       "      <td>smart</td>\n",
       "      <td>3.0</td>\n",
       "      <td>30034.0</td>\n",
       "      <td>2453.0</td>\n",
       "      <td>1164537.0</td>\n",
       "      <td>90476.0</td>\n",
       "    </tr>\n",
       "    <tr>\n",
       "      <td>3</td>\n",
       "      <td>smart</td>\n",
       "      <td>4.0</td>\n",
       "      <td>41119.0</td>\n",
       "      <td>3443.0</td>\n",
       "      <td>1509702.0</td>\n",
       "      <td>109866.0</td>\n",
       "    </tr>\n",
       "    <tr>\n",
       "      <td>4</td>\n",
       "      <td>smart</td>\n",
       "      <td>5.0</td>\n",
       "      <td>54618.0</td>\n",
       "      <td>4762.0</td>\n",
       "      <td>2231353.0</td>\n",
       "      <td>172049.0</td>\n",
       "    </tr>\n",
       "    <tr>\n",
       "      <td>5</td>\n",
       "      <td>smart</td>\n",
       "      <td>6.0</td>\n",
       "      <td>64885.0</td>\n",
       "      <td>5478.0</td>\n",
       "      <td>2593622.0</td>\n",
       "      <td>200259.0</td>\n",
       "    </tr>\n",
       "    <tr>\n",
       "      <td>6</td>\n",
       "      <td>smart</td>\n",
       "      <td>7.0</td>\n",
       "      <td>82079.0</td>\n",
       "      <td>6784.0</td>\n",
       "      <td>3168466.0</td>\n",
       "      <td>249614.0</td>\n",
       "    </tr>\n",
       "    <tr>\n",
       "      <td>7</td>\n",
       "      <td>smart</td>\n",
       "      <td>8.0</td>\n",
       "      <td>99045.0</td>\n",
       "      <td>7905.0</td>\n",
       "      <td>3908561.0</td>\n",
       "      <td>314940.0</td>\n",
       "    </tr>\n",
       "    <tr>\n",
       "      <td>8</td>\n",
       "      <td>smart</td>\n",
       "      <td>9.0</td>\n",
       "      <td>111439.0</td>\n",
       "      <td>8746.0</td>\n",
       "      <td>4244377.0</td>\n",
       "      <td>330386.0</td>\n",
       "    </tr>\n",
       "    <tr>\n",
       "      <td>9</td>\n",
       "      <td>smart</td>\n",
       "      <td>10.0</td>\n",
       "      <td>125284.0</td>\n",
       "      <td>9927.0</td>\n",
       "      <td>4932898.0</td>\n",
       "      <td>406067.0</td>\n",
       "    </tr>\n",
       "    <tr>\n",
       "      <td>10</td>\n",
       "      <td>smart</td>\n",
       "      <td>11.0</td>\n",
       "      <td>137544.0</td>\n",
       "      <td>10768.0</td>\n",
       "      <td>5345940.0</td>\n",
       "      <td>429803.0</td>\n",
       "    </tr>\n",
       "    <tr>\n",
       "      <td>11</td>\n",
       "      <td>smart</td>\n",
       "      <td>12.0</td>\n",
       "      <td>161275.0</td>\n",
       "      <td>12130.0</td>\n",
       "      <td>6112113.0</td>\n",
       "      <td>537515.0</td>\n",
       "    </tr>\n",
       "  </tbody>\n",
       "</table>\n",
       "</div>"
      ],
      "text/plain": [
       "   tariff  month       min      mes         mb    income\n",
       "0   smart    1.0    6931.0    620.0   289831.0   24525.0\n",
       "1   smart    2.0   17324.0   1397.0   673461.0   49001.0\n",
       "2   smart    3.0   30034.0   2453.0  1164537.0   90476.0\n",
       "3   smart    4.0   41119.0   3443.0  1509702.0  109866.0\n",
       "4   smart    5.0   54618.0   4762.0  2231353.0  172049.0\n",
       "5   smart    6.0   64885.0   5478.0  2593622.0  200259.0\n",
       "6   smart    7.0   82079.0   6784.0  3168466.0  249614.0\n",
       "7   smart    8.0   99045.0   7905.0  3908561.0  314940.0\n",
       "8   smart    9.0  111439.0   8746.0  4244377.0  330386.0\n",
       "9   smart   10.0  125284.0   9927.0  4932898.0  406067.0\n",
       "10  smart   11.0  137544.0  10768.0  5345940.0  429803.0\n",
       "11  smart   12.0  161275.0  12130.0  6112113.0  537515.0"
      ]
     },
     "execution_count": 86,
     "metadata": {},
     "output_type": "execute_result"
    }
   ],
   "source": [
    "smart_all_clients_month"
   ]
  },
  {
   "cell_type": "code",
   "execution_count": 87,
   "metadata": {},
   "outputs": [
    {
     "data": {
      "text/html": [
       "<div>\n",
       "<style scoped>\n",
       "    .dataframe tbody tr th:only-of-type {\n",
       "        vertical-align: middle;\n",
       "    }\n",
       "\n",
       "    .dataframe tbody tr th {\n",
       "        vertical-align: top;\n",
       "    }\n",
       "\n",
       "    .dataframe thead th {\n",
       "        text-align: right;\n",
       "    }\n",
       "</style>\n",
       "<table border=\"1\" class=\"dataframe\">\n",
       "  <thead>\n",
       "    <tr style=\"text-align: right;\">\n",
       "      <th></th>\n",
       "      <th>tariff</th>\n",
       "      <th>month</th>\n",
       "      <th>min</th>\n",
       "      <th>mes</th>\n",
       "      <th>mb</th>\n",
       "      <th>income</th>\n",
       "    </tr>\n",
       "  </thead>\n",
       "  <tbody>\n",
       "    <tr>\n",
       "      <td>0</td>\n",
       "      <td>ultra</td>\n",
       "      <td>1.0</td>\n",
       "      <td>3853.0</td>\n",
       "      <td>304.0</td>\n",
       "      <td>118382.0</td>\n",
       "      <td>17550.0</td>\n",
       "    </tr>\n",
       "    <tr>\n",
       "      <td>1</td>\n",
       "      <td>ultra</td>\n",
       "      <td>2.0</td>\n",
       "      <td>7131.0</td>\n",
       "      <td>527.0</td>\n",
       "      <td>282887.0</td>\n",
       "      <td>47400.0</td>\n",
       "    </tr>\n",
       "    <tr>\n",
       "      <td>2</td>\n",
       "      <td>ultra</td>\n",
       "      <td>3.0</td>\n",
       "      <td>18117.0</td>\n",
       "      <td>1195.0</td>\n",
       "      <td>649423.0</td>\n",
       "      <td>74550.0</td>\n",
       "    </tr>\n",
       "    <tr>\n",
       "      <td>3</td>\n",
       "      <td>ultra</td>\n",
       "      <td>4.0</td>\n",
       "      <td>25191.0</td>\n",
       "      <td>1736.0</td>\n",
       "      <td>926409.0</td>\n",
       "      <td>110400.0</td>\n",
       "    </tr>\n",
       "    <tr>\n",
       "      <td>4</td>\n",
       "      <td>ultra</td>\n",
       "      <td>5.0</td>\n",
       "      <td>34192.0</td>\n",
       "      <td>2536.0</td>\n",
       "      <td>1298540.0</td>\n",
       "      <td>138600.0</td>\n",
       "    </tr>\n",
       "    <tr>\n",
       "      <td>5</td>\n",
       "      <td>ultra</td>\n",
       "      <td>6.0</td>\n",
       "      <td>40295.0</td>\n",
       "      <td>3505.0</td>\n",
       "      <td>1591148.0</td>\n",
       "      <td>171450.0</td>\n",
       "    </tr>\n",
       "    <tr>\n",
       "      <td>6</td>\n",
       "      <td>ultra</td>\n",
       "      <td>7.0</td>\n",
       "      <td>49667.0</td>\n",
       "      <td>4536.0</td>\n",
       "      <td>1866833.0</td>\n",
       "      <td>193350.0</td>\n",
       "    </tr>\n",
       "    <tr>\n",
       "      <td>7</td>\n",
       "      <td>ultra</td>\n",
       "      <td>8.0</td>\n",
       "      <td>54653.0</td>\n",
       "      <td>5183.0</td>\n",
       "      <td>2096565.0</td>\n",
       "      <td>223350.0</td>\n",
       "    </tr>\n",
       "    <tr>\n",
       "      <td>8</td>\n",
       "      <td>ultra</td>\n",
       "      <td>9.0</td>\n",
       "      <td>62036.0</td>\n",
       "      <td>6013.0</td>\n",
       "      <td>2210554.0</td>\n",
       "      <td>232950.0</td>\n",
       "    </tr>\n",
       "    <tr>\n",
       "      <td>9</td>\n",
       "      <td>ultra</td>\n",
       "      <td>10.0</td>\n",
       "      <td>68644.0</td>\n",
       "      <td>7187.0</td>\n",
       "      <td>2467856.0</td>\n",
       "      <td>254700.0</td>\n",
       "    </tr>\n",
       "    <tr>\n",
       "      <td>10</td>\n",
       "      <td>ultra</td>\n",
       "      <td>11.0</td>\n",
       "      <td>72545.0</td>\n",
       "      <td>7476.0</td>\n",
       "      <td>2653912.0</td>\n",
       "      <td>280650.0</td>\n",
       "    </tr>\n",
       "    <tr>\n",
       "      <td>11</td>\n",
       "      <td>ultra</td>\n",
       "      <td>12.0</td>\n",
       "      <td>82400.0</td>\n",
       "      <td>8425.0</td>\n",
       "      <td>3032089.0</td>\n",
       "      <td>299700.0</td>\n",
       "    </tr>\n",
       "  </tbody>\n",
       "</table>\n",
       "</div>"
      ],
      "text/plain": [
       "   tariff  month      min     mes         mb    income\n",
       "0   ultra    1.0   3853.0   304.0   118382.0   17550.0\n",
       "1   ultra    2.0   7131.0   527.0   282887.0   47400.0\n",
       "2   ultra    3.0  18117.0  1195.0   649423.0   74550.0\n",
       "3   ultra    4.0  25191.0  1736.0   926409.0  110400.0\n",
       "4   ultra    5.0  34192.0  2536.0  1298540.0  138600.0\n",
       "5   ultra    6.0  40295.0  3505.0  1591148.0  171450.0\n",
       "6   ultra    7.0  49667.0  4536.0  1866833.0  193350.0\n",
       "7   ultra    8.0  54653.0  5183.0  2096565.0  223350.0\n",
       "8   ultra    9.0  62036.0  6013.0  2210554.0  232950.0\n",
       "9   ultra   10.0  68644.0  7187.0  2467856.0  254700.0\n",
       "10  ultra   11.0  72545.0  7476.0  2653912.0  280650.0\n",
       "11  ultra   12.0  82400.0  8425.0  3032089.0  299700.0"
      ]
     },
     "execution_count": 87,
     "metadata": {},
     "output_type": "execute_result"
    }
   ],
   "source": [
    "ultra_all_clients_month"
   ]
  },
  {
   "cell_type": "code",
   "execution_count": 88,
   "metadata": {
    "scrolled": true
   },
   "outputs": [
    {
     "data": {
      "image/png": "[encoded data removed]",
      "text/plain": [
       "<Figure size 864x360 with 1 Axes>"
      ]
     },
     "metadata": {
      "needs_background": "light"
     },
     "output_type": "display_data"
    },
    {
     "data": {
      "image/png": "[encoded data removed]",
      "text/plain": [
       "<Figure size 864x360 with 1 Axes>"
      ]
     },
     "metadata": {
      "needs_background": "light"
     },
     "output_type": "display_data"
    },
    {
     "data": {
      "image/png": "[encoded data removed]",
      "text/plain": [
       "<Figure size 864x360 with 1 Axes>"
      ]
     },
     "metadata": {
      "needs_background": "light"
     },
     "output_type": "display_data"
    },
    {
     "data": {
      "image/png": "[encoded data removed]",
      "text/plain": [
       "<Figure size 864x360 with 1 Axes>"
      ]
     },
     "metadata": {
      "needs_background": "light"
     },
     "output_type": "display_data"
    }
   ],
   "source": [
    "for param in ['min', 'mes', 'mb','income']:\n",
    "    plt.figure(figsize=(12, 5))\n",
    "    plt.bar(smart_all_clients_month['month'], smart_all_clients_month[param], label='smart', color='g', alpha=0.5, width=0.5)\n",
    "    plt.bar(ultra_all_clients_month['month'], ultra_all_clients_month[param], label='ultra', color='b', alpha=0.5)\n",
    "\n",
    "    plt.xlabel('month')\n",
    "    plt.ylabel(param)\n",
    "    plt.grid()\n",
    "    plt.title(f'Кол-во {param} всех клиентов по месяцам для 2 тарифов')\n",
    "    plt.legend()\n",
    "    plt.show();\n"
   ]
  },
  {
   "cell_type": "markdown",
   "metadata": {},
   "source": [
    "*Таких видов графиков еще не видел, назову их \"трубы\" :) Интересно понравится народу?*\n",
    "\n",
    "***Посмотрим сколько абонентов у каждого тарифа***"
   ]
  },
  {
   "cell_type": "code",
   "execution_count": 89,
   "metadata": {},
   "outputs": [
    {
     "data": {
      "text/plain": [
       "smart    351\n",
       "ultra    149\n",
       "Name: tariff, dtype: int64"
      ]
     },
     "execution_count": 89,
     "metadata": {},
     "output_type": "execute_result"
    }
   ],
   "source": [
    "users.tariff.value_counts()"
   ]
  },
  {
   "cell_type": "markdown",
   "metadata": {},
   "source": [
    "**ВЫВОД: Из графиков видно, что общий расход минут,СМС, МБ всех абонентов тарифа 'smart' стабильно больше чем 'ultra' на 40-90%, но и абонентов у 'smart' в 2 с лишним раза больше, чем у 'ultra'. По выручке `income` надо отметить что : в первой половине года абоненты обоих тарифов приносят почти одинаковые суммы, а во второй - абоненты smart с каждым месяцем приносят выручки все больше и больше вплоть до декабря, где выручка уже почти в 2 раза больше, чем от тарифа ultra. По всем графикам видно, что гистограммы постоянно возрастают от меcяца к месяцу (и это делает анализ затруднительным) - это показывает новый приток абонентов каждый месяц. Поэтому логично будет посчитать усредненные показатели  расхода на одного абонента за каждый месяц и уже тогда сравнить тарифы.**\n",
    "\n",
    "Общие показатели по месяцу для всех клиентов сохранены в таблицах -`ultra_all_clients_month`-тариф Ультра и `smart_all_clients_month`-тариф Смарт"
   ]
  },
  {
   "cell_type": "markdown",
   "metadata": {},
   "source": [
    "## 4.3. Расчитаем средние(медианные) показатели клиента по месяцам по обоим тарифам <a id=\"analys1b\"></a>  \n",
    "[К содержанию](#soder)"
   ]
  },
  {
   "cell_type": "code",
   "execution_count": 90,
   "metadata": {},
   "outputs": [
    {
     "data": {
      "text/html": [
       "<div>\n",
       "<style scoped>\n",
       "    .dataframe tbody tr th:only-of-type {\n",
       "        vertical-align: middle;\n",
       "    }\n",
       "\n",
       "    .dataframe tbody tr th {\n",
       "        vertical-align: top;\n",
       "    }\n",
       "\n",
       "    .dataframe thead th {\n",
       "        text-align: right;\n",
       "    }\n",
       "</style>\n",
       "<table border=\"1\" class=\"dataframe\">\n",
       "  <thead>\n",
       "    <tr style=\"text-align: right;\">\n",
       "      <th></th>\n",
       "      <th>min</th>\n",
       "      <th>mes</th>\n",
       "      <th>mb</th>\n",
       "      <th>income</th>\n",
       "    </tr>\n",
       "  </thead>\n",
       "  <tbody>\n",
       "    <tr>\n",
       "      <td>count</td>\n",
       "      <td>3216.000000</td>\n",
       "      <td>3216.000000</td>\n",
       "      <td>3216.000000</td>\n",
       "      <td>3216.000000</td>\n",
       "    </tr>\n",
       "    <tr>\n",
       "      <td>mean</td>\n",
       "      <td>450.964241</td>\n",
       "      <td>38.257463</td>\n",
       "      <td>17216.871580</td>\n",
       "      <td>1542.024565</td>\n",
       "    </tr>\n",
       "    <tr>\n",
       "      <td>std</td>\n",
       "      <td>242.096312</td>\n",
       "      <td>36.149684</td>\n",
       "      <td>7588.071848</td>\n",
       "      <td>792.042574</td>\n",
       "    </tr>\n",
       "    <tr>\n",
       "      <td>min</td>\n",
       "      <td>0.000000</td>\n",
       "      <td>0.000000</td>\n",
       "      <td>0.000000</td>\n",
       "      <td>550.000000</td>\n",
       "    </tr>\n",
       "    <tr>\n",
       "      <td>25%</td>\n",
       "      <td>282.000000</td>\n",
       "      <td>9.000000</td>\n",
       "      <td>12496.250000</td>\n",
       "      <td>750.000000</td>\n",
       "    </tr>\n",
       "    <tr>\n",
       "      <td>50%</td>\n",
       "      <td>443.000000</td>\n",
       "      <td>30.000000</td>\n",
       "      <td>16962.000000</td>\n",
       "      <td>1669.500000</td>\n",
       "    </tr>\n",
       "    <tr>\n",
       "      <td>75%</td>\n",
       "      <td>589.000000</td>\n",
       "      <td>57.000000</td>\n",
       "      <td>21446.000000</td>\n",
       "      <td>1950.000000</td>\n",
       "    </tr>\n",
       "    <tr>\n",
       "      <td>max</td>\n",
       "      <td>1673.000000</td>\n",
       "      <td>224.000000</td>\n",
       "      <td>49789.000000</td>\n",
       "      <td>6770.000000</td>\n",
       "    </tr>\n",
       "  </tbody>\n",
       "</table>\n",
       "</div>"
      ],
      "text/plain": [
       "               min          mes            mb       income\n",
       "count  3216.000000  3216.000000   3216.000000  3216.000000\n",
       "mean    450.964241    38.257463  17216.871580  1542.024565\n",
       "std     242.096312    36.149684   7588.071848   792.042574\n",
       "min       0.000000     0.000000      0.000000   550.000000\n",
       "25%     282.000000     9.000000  12496.250000   750.000000\n",
       "50%     443.000000    30.000000  16962.000000  1669.500000\n",
       "75%     589.000000    57.000000  21446.000000  1950.000000\n",
       "max    1673.000000   224.000000  49789.000000  6770.000000"
      ]
     },
     "execution_count": 90,
     "metadata": {},
     "output_type": "execute_result"
    }
   ],
   "source": [
    "abonents[['min', 'mes', 'mb','income']].describe()"
   ]
  },
  {
   "cell_type": "code",
   "execution_count": 91,
   "metadata": {},
   "outputs": [
    {
     "data": {
      "image/png": "[encoded data removed]",
      "text/plain": [
       "<Figure size 1152x576 with 4 Axes>"
      ]
     },
     "metadata": {
      "needs_background": "light"
     },
     "output_type": "display_data"
    }
   ],
   "source": [
    "fig, (ax1, ax2, ax3, ax4) = plt.subplots(nrows=1, ncols=4, figsize=(16, 8))\n",
    "\n",
    "# # ВАРИАНТ №1\n",
    "# ax1.boxplot(abonents['min'])\n",
    "# ax1.grid()\n",
    "# ax1.set_title('Минуты-min')\n",
    "# ax2.boxplot(abonents['mes'])\n",
    "# ax2.grid()\n",
    "# ax2.set_title('СМС-mes')\n",
    "# ax3.boxplot(abonents['mb'])\n",
    "# ax3.grid()\n",
    "# ax3.set_title('Трафик-mb')\n",
    "# ax4.boxplot(abonents['income'])\n",
    "# ax4.grid()\n",
    "# ax4.set_title('Выручка-income')\n",
    "\n",
    "# ВАРИАНТ №2\n",
    "p = {ax1:'min', ax2:'mes', ax3:'mb', ax4:'income'}\n",
    "for ax in [ax1, ax2, ax3, ax4]:\n",
    "    ax.boxplot(abonents[p[ax]])\n",
    "    ax.grid()\n",
    "    ax.set_title(p[ax])\n",
    "\n",
    "fig.autofmt_xdate()"
   ]
  },
  {
   "cell_type": "markdown",
   "metadata": {},
   "source": [
    "***Сильных выбросов нет, вполне адекватные числа, поэтому для вычисления усредненных значений можно использовать и среднее и медиану. Выберем медиану.***"
   ]
  },
  {
   "cell_type": "markdown",
   "metadata": {},
   "source": [
    "***Сгруппируем и создадим новую таблицу `tar` - с общими данными по тарифам***"
   ]
  },
  {
   "cell_type": "code",
   "execution_count": 92,
   "metadata": {},
   "outputs": [
    {
     "data": {
      "text/html": [
       "<div>\n",
       "<style scoped>\n",
       "    .dataframe tbody tr th:only-of-type {\n",
       "        vertical-align: middle;\n",
       "    }\n",
       "\n",
       "    .dataframe tbody tr th {\n",
       "        vertical-align: top;\n",
       "    }\n",
       "\n",
       "    .dataframe thead th {\n",
       "        text-align: right;\n",
       "    }\n",
       "</style>\n",
       "<table border=\"1\" class=\"dataframe\">\n",
       "  <thead>\n",
       "    <tr style=\"text-align: right;\">\n",
       "      <th></th>\n",
       "      <th>tariff</th>\n",
       "      <th>month</th>\n",
       "      <th>min</th>\n",
       "      <th>mes</th>\n",
       "      <th>mb</th>\n",
       "      <th>income</th>\n",
       "    </tr>\n",
       "  </thead>\n",
       "  <tbody>\n",
       "    <tr>\n",
       "      <td>0</td>\n",
       "      <td>smart</td>\n",
       "      <td>1.0</td>\n",
       "      <td>203.852941</td>\n",
       "      <td>18.235294</td>\n",
       "      <td>8524.441176</td>\n",
       "      <td>721.323529</td>\n",
       "    </tr>\n",
       "    <tr>\n",
       "      <td>1</td>\n",
       "      <td>smart</td>\n",
       "      <td>2.0</td>\n",
       "      <td>298.689655</td>\n",
       "      <td>24.086207</td>\n",
       "      <td>11611.396552</td>\n",
       "      <td>844.844828</td>\n",
       "    </tr>\n",
       "    <tr>\n",
       "      <td>2</td>\n",
       "      <td>smart</td>\n",
       "      <td>3.0</td>\n",
       "      <td>390.051948</td>\n",
       "      <td>31.857143</td>\n",
       "      <td>15123.857143</td>\n",
       "      <td>1175.012987</td>\n",
       "    </tr>\n",
       "    <tr>\n",
       "      <td>3</td>\n",
       "      <td>smart</td>\n",
       "      <td>4.0</td>\n",
       "      <td>367.133929</td>\n",
       "      <td>30.741071</td>\n",
       "      <td>13479.482143</td>\n",
       "      <td>980.946429</td>\n",
       "    </tr>\n",
       "    <tr>\n",
       "      <td>4</td>\n",
       "      <td>smart</td>\n",
       "      <td>5.0</td>\n",
       "      <td>387.361702</td>\n",
       "      <td>33.773050</td>\n",
       "      <td>15825.198582</td>\n",
       "      <td>1220.205674</td>\n",
       "    </tr>\n",
       "    <tr>\n",
       "      <td>5</td>\n",
       "      <td>smart</td>\n",
       "      <td>6.0</td>\n",
       "      <td>395.640244</td>\n",
       "      <td>33.402439</td>\n",
       "      <td>15814.768293</td>\n",
       "      <td>1221.091463</td>\n",
       "    </tr>\n",
       "    <tr>\n",
       "      <td>6</td>\n",
       "      <td>smart</td>\n",
       "      <td>7.0</td>\n",
       "      <td>408.353234</td>\n",
       "      <td>33.751244</td>\n",
       "      <td>15763.512438</td>\n",
       "      <td>1241.860697</td>\n",
       "    </tr>\n",
       "    <tr>\n",
       "      <td>7</td>\n",
       "      <td>smart</td>\n",
       "      <td>8.0</td>\n",
       "      <td>421.468085</td>\n",
       "      <td>33.638298</td>\n",
       "      <td>16632.174468</td>\n",
       "      <td>1340.170213</td>\n",
       "    </tr>\n",
       "    <tr>\n",
       "      <td>8</td>\n",
       "      <td>smart</td>\n",
       "      <td>9.0</td>\n",
       "      <td>428.611538</td>\n",
       "      <td>33.638462</td>\n",
       "      <td>16324.526923</td>\n",
       "      <td>1270.715385</td>\n",
       "    </tr>\n",
       "    <tr>\n",
       "      <td>9</td>\n",
       "      <td>smart</td>\n",
       "      <td>10.0</td>\n",
       "      <td>426.136054</td>\n",
       "      <td>33.765306</td>\n",
       "      <td>16778.564626</td>\n",
       "      <td>1381.180272</td>\n",
       "    </tr>\n",
       "    <tr>\n",
       "      <td>10</td>\n",
       "      <td>smart</td>\n",
       "      <td>11.0</td>\n",
       "      <td>435.265823</td>\n",
       "      <td>34.075949</td>\n",
       "      <td>16917.531646</td>\n",
       "      <td>1360.136076</td>\n",
       "    </tr>\n",
       "    <tr>\n",
       "      <td>11</td>\n",
       "      <td>smart</td>\n",
       "      <td>12.0</td>\n",
       "      <td>477.144970</td>\n",
       "      <td>35.887574</td>\n",
       "      <td>18083.174556</td>\n",
       "      <td>1590.281065</td>\n",
       "    </tr>\n",
       "    <tr>\n",
       "      <td>12</td>\n",
       "      <td>ultra</td>\n",
       "      <td>1.0</td>\n",
       "      <td>428.111111</td>\n",
       "      <td>33.777778</td>\n",
       "      <td>13153.555556</td>\n",
       "      <td>1950.000000</td>\n",
       "    </tr>\n",
       "    <tr>\n",
       "      <td>13</td>\n",
       "      <td>ultra</td>\n",
       "      <td>2.0</td>\n",
       "      <td>297.125000</td>\n",
       "      <td>21.958333</td>\n",
       "      <td>11786.958333</td>\n",
       "      <td>1975.000000</td>\n",
       "    </tr>\n",
       "    <tr>\n",
       "      <td>14</td>\n",
       "      <td>ultra</td>\n",
       "      <td>3.0</td>\n",
       "      <td>489.648649</td>\n",
       "      <td>32.297297</td>\n",
       "      <td>17551.972973</td>\n",
       "      <td>2014.864865</td>\n",
       "    </tr>\n",
       "    <tr>\n",
       "      <td>15</td>\n",
       "      <td>ultra</td>\n",
       "      <td>4.0</td>\n",
       "      <td>458.018182</td>\n",
       "      <td>31.563636</td>\n",
       "      <td>16843.800000</td>\n",
       "      <td>2007.272727</td>\n",
       "    </tr>\n",
       "    <tr>\n",
       "      <td>16</td>\n",
       "      <td>ultra</td>\n",
       "      <td>5.0</td>\n",
       "      <td>510.328358</td>\n",
       "      <td>37.850746</td>\n",
       "      <td>19381.194030</td>\n",
       "      <td>2068.656716</td>\n",
       "    </tr>\n",
       "    <tr>\n",
       "      <td>17</td>\n",
       "      <td>ultra</td>\n",
       "      <td>6.0</td>\n",
       "      <td>479.702381</td>\n",
       "      <td>41.726190</td>\n",
       "      <td>18942.238095</td>\n",
       "      <td>2041.071429</td>\n",
       "    </tr>\n",
       "    <tr>\n",
       "      <td>18</td>\n",
       "      <td>ultra</td>\n",
       "      <td>7.0</td>\n",
       "      <td>545.791209</td>\n",
       "      <td>49.846154</td>\n",
       "      <td>20514.648352</td>\n",
       "      <td>2124.725275</td>\n",
       "    </tr>\n",
       "    <tr>\n",
       "      <td>19</td>\n",
       "      <td>ultra</td>\n",
       "      <td>8.0</td>\n",
       "      <td>510.775701</td>\n",
       "      <td>48.439252</td>\n",
       "      <td>19594.065421</td>\n",
       "      <td>2087.383178</td>\n",
       "    </tr>\n",
       "    <tr>\n",
       "      <td>20</td>\n",
       "      <td>ultra</td>\n",
       "      <td>9.0</td>\n",
       "      <td>539.443478</td>\n",
       "      <td>52.286957</td>\n",
       "      <td>19222.208696</td>\n",
       "      <td>2025.652174</td>\n",
       "    </tr>\n",
       "    <tr>\n",
       "      <td>21</td>\n",
       "      <td>ultra</td>\n",
       "      <td>10.0</td>\n",
       "      <td>558.081301</td>\n",
       "      <td>58.430894</td>\n",
       "      <td>20063.869919</td>\n",
       "      <td>2070.731707</td>\n",
       "    </tr>\n",
       "    <tr>\n",
       "      <td>22</td>\n",
       "      <td>ultra</td>\n",
       "      <td>11.0</td>\n",
       "      <td>541.380597</td>\n",
       "      <td>55.791045</td>\n",
       "      <td>19805.313433</td>\n",
       "      <td>2094.402985</td>\n",
       "    </tr>\n",
       "    <tr>\n",
       "      <td>23</td>\n",
       "      <td>ultra</td>\n",
       "      <td>12.0</td>\n",
       "      <td>588.571429</td>\n",
       "      <td>60.178571</td>\n",
       "      <td>21657.778571</td>\n",
       "      <td>2140.714286</td>\n",
       "    </tr>\n",
       "  </tbody>\n",
       "</table>\n",
       "</div>"
      ],
      "text/plain": [
       "   tariff  month         min        mes            mb       income\n",
       "0   smart    1.0  203.852941  18.235294   8524.441176   721.323529\n",
       "1   smart    2.0  298.689655  24.086207  11611.396552   844.844828\n",
       "2   smart    3.0  390.051948  31.857143  15123.857143  1175.012987\n",
       "3   smart    4.0  367.133929  30.741071  13479.482143   980.946429\n",
       "4   smart    5.0  387.361702  33.773050  15825.198582  1220.205674\n",
       "5   smart    6.0  395.640244  33.402439  15814.768293  1221.091463\n",
       "6   smart    7.0  408.353234  33.751244  15763.512438  1241.860697\n",
       "7   smart    8.0  421.468085  33.638298  16632.174468  1340.170213\n",
       "8   smart    9.0  428.611538  33.638462  16324.526923  1270.715385\n",
       "9   smart   10.0  426.136054  33.765306  16778.564626  1381.180272\n",
       "10  smart   11.0  435.265823  34.075949  16917.531646  1360.136076\n",
       "11  smart   12.0  477.144970  35.887574  18083.174556  1590.281065\n",
       "12  ultra    1.0  428.111111  33.777778  13153.555556  1950.000000\n",
       "13  ultra    2.0  297.125000  21.958333  11786.958333  1975.000000\n",
       "14  ultra    3.0  489.648649  32.297297  17551.972973  2014.864865\n",
       "15  ultra    4.0  458.018182  31.563636  16843.800000  2007.272727\n",
       "16  ultra    5.0  510.328358  37.850746  19381.194030  2068.656716\n",
       "17  ultra    6.0  479.702381  41.726190  18942.238095  2041.071429\n",
       "18  ultra    7.0  545.791209  49.846154  20514.648352  2124.725275\n",
       "19  ultra    8.0  510.775701  48.439252  19594.065421  2087.383178\n",
       "20  ultra    9.0  539.443478  52.286957  19222.208696  2025.652174\n",
       "21  ultra   10.0  558.081301  58.430894  20063.869919  2070.731707\n",
       "22  ultra   11.0  541.380597  55.791045  19805.313433  2094.402985\n",
       "23  ultra   12.0  588.571429  60.178571  21657.778571  2140.714286"
      ]
     },
     "execution_count": 92,
     "metadata": {},
     "output_type": "execute_result"
    }
   ],
   "source": [
    "tar = abonents.groupby(['tariff', 'month'])['min', 'mes', 'mb','income'].mean().reset_index()\n",
    "tar"
   ]
  },
  {
   "cell_type": "markdown",
   "metadata": {},
   "source": [
    "***Теперь разделим новую таблицу на две `smart` и `ultra` - по каждому тарифу***"
   ]
  },
  {
   "cell_type": "code",
   "execution_count": 93,
   "metadata": {},
   "outputs": [],
   "source": [
    "smart = tar.query(' tariff==\"smart\" ')\n",
    "ultra = tar[tar['tariff']=='ultra'].reset_index(drop=True)\n",
    "# просто попробовал 2 варианта"
   ]
  },
  {
   "cell_type": "code",
   "execution_count": 94,
   "metadata": {},
   "outputs": [
    {
     "data": {
      "text/html": [
       "<div>\n",
       "<style scoped>\n",
       "    .dataframe tbody tr th:only-of-type {\n",
       "        vertical-align: middle;\n",
       "    }\n",
       "\n",
       "    .dataframe tbody tr th {\n",
       "        vertical-align: top;\n",
       "    }\n",
       "\n",
       "    .dataframe thead th {\n",
       "        text-align: right;\n",
       "    }\n",
       "</style>\n",
       "<table border=\"1\" class=\"dataframe\">\n",
       "  <thead>\n",
       "    <tr style=\"text-align: right;\">\n",
       "      <th></th>\n",
       "      <th>tariff</th>\n",
       "      <th>month</th>\n",
       "      <th>min</th>\n",
       "      <th>mes</th>\n",
       "      <th>mb</th>\n",
       "      <th>income</th>\n",
       "    </tr>\n",
       "  </thead>\n",
       "  <tbody>\n",
       "    <tr>\n",
       "      <td>0</td>\n",
       "      <td>smart</td>\n",
       "      <td>1.0</td>\n",
       "      <td>203.852941</td>\n",
       "      <td>18.235294</td>\n",
       "      <td>8524.441176</td>\n",
       "      <td>721.323529</td>\n",
       "    </tr>\n",
       "    <tr>\n",
       "      <td>1</td>\n",
       "      <td>smart</td>\n",
       "      <td>2.0</td>\n",
       "      <td>298.689655</td>\n",
       "      <td>24.086207</td>\n",
       "      <td>11611.396552</td>\n",
       "      <td>844.844828</td>\n",
       "    </tr>\n",
       "    <tr>\n",
       "      <td>2</td>\n",
       "      <td>smart</td>\n",
       "      <td>3.0</td>\n",
       "      <td>390.051948</td>\n",
       "      <td>31.857143</td>\n",
       "      <td>15123.857143</td>\n",
       "      <td>1175.012987</td>\n",
       "    </tr>\n",
       "    <tr>\n",
       "      <td>3</td>\n",
       "      <td>smart</td>\n",
       "      <td>4.0</td>\n",
       "      <td>367.133929</td>\n",
       "      <td>30.741071</td>\n",
       "      <td>13479.482143</td>\n",
       "      <td>980.946429</td>\n",
       "    </tr>\n",
       "    <tr>\n",
       "      <td>4</td>\n",
       "      <td>smart</td>\n",
       "      <td>5.0</td>\n",
       "      <td>387.361702</td>\n",
       "      <td>33.773050</td>\n",
       "      <td>15825.198582</td>\n",
       "      <td>1220.205674</td>\n",
       "    </tr>\n",
       "    <tr>\n",
       "      <td>5</td>\n",
       "      <td>smart</td>\n",
       "      <td>6.0</td>\n",
       "      <td>395.640244</td>\n",
       "      <td>33.402439</td>\n",
       "      <td>15814.768293</td>\n",
       "      <td>1221.091463</td>\n",
       "    </tr>\n",
       "    <tr>\n",
       "      <td>6</td>\n",
       "      <td>smart</td>\n",
       "      <td>7.0</td>\n",
       "      <td>408.353234</td>\n",
       "      <td>33.751244</td>\n",
       "      <td>15763.512438</td>\n",
       "      <td>1241.860697</td>\n",
       "    </tr>\n",
       "    <tr>\n",
       "      <td>7</td>\n",
       "      <td>smart</td>\n",
       "      <td>8.0</td>\n",
       "      <td>421.468085</td>\n",
       "      <td>33.638298</td>\n",
       "      <td>16632.174468</td>\n",
       "      <td>1340.170213</td>\n",
       "    </tr>\n",
       "    <tr>\n",
       "      <td>8</td>\n",
       "      <td>smart</td>\n",
       "      <td>9.0</td>\n",
       "      <td>428.611538</td>\n",
       "      <td>33.638462</td>\n",
       "      <td>16324.526923</td>\n",
       "      <td>1270.715385</td>\n",
       "    </tr>\n",
       "    <tr>\n",
       "      <td>9</td>\n",
       "      <td>smart</td>\n",
       "      <td>10.0</td>\n",
       "      <td>426.136054</td>\n",
       "      <td>33.765306</td>\n",
       "      <td>16778.564626</td>\n",
       "      <td>1381.180272</td>\n",
       "    </tr>\n",
       "    <tr>\n",
       "      <td>10</td>\n",
       "      <td>smart</td>\n",
       "      <td>11.0</td>\n",
       "      <td>435.265823</td>\n",
       "      <td>34.075949</td>\n",
       "      <td>16917.531646</td>\n",
       "      <td>1360.136076</td>\n",
       "    </tr>\n",
       "    <tr>\n",
       "      <td>11</td>\n",
       "      <td>smart</td>\n",
       "      <td>12.0</td>\n",
       "      <td>477.144970</td>\n",
       "      <td>35.887574</td>\n",
       "      <td>18083.174556</td>\n",
       "      <td>1590.281065</td>\n",
       "    </tr>\n",
       "  </tbody>\n",
       "</table>\n",
       "</div>"
      ],
      "text/plain": [
       "   tariff  month         min        mes            mb       income\n",
       "0   smart    1.0  203.852941  18.235294   8524.441176   721.323529\n",
       "1   smart    2.0  298.689655  24.086207  11611.396552   844.844828\n",
       "2   smart    3.0  390.051948  31.857143  15123.857143  1175.012987\n",
       "3   smart    4.0  367.133929  30.741071  13479.482143   980.946429\n",
       "4   smart    5.0  387.361702  33.773050  15825.198582  1220.205674\n",
       "5   smart    6.0  395.640244  33.402439  15814.768293  1221.091463\n",
       "6   smart    7.0  408.353234  33.751244  15763.512438  1241.860697\n",
       "7   smart    8.0  421.468085  33.638298  16632.174468  1340.170213\n",
       "8   smart    9.0  428.611538  33.638462  16324.526923  1270.715385\n",
       "9   smart   10.0  426.136054  33.765306  16778.564626  1381.180272\n",
       "10  smart   11.0  435.265823  34.075949  16917.531646  1360.136076\n",
       "11  smart   12.0  477.144970  35.887574  18083.174556  1590.281065"
      ]
     },
     "execution_count": 94,
     "metadata": {},
     "output_type": "execute_result"
    }
   ],
   "source": [
    "smart"
   ]
  },
  {
   "cell_type": "code",
   "execution_count": 95,
   "metadata": {},
   "outputs": [
    {
     "data": {
      "text/html": [
       "<div>\n",
       "<style scoped>\n",
       "    .dataframe tbody tr th:only-of-type {\n",
       "        vertical-align: middle;\n",
       "    }\n",
       "\n",
       "    .dataframe tbody tr th {\n",
       "        vertical-align: top;\n",
       "    }\n",
       "\n",
       "    .dataframe thead th {\n",
       "        text-align: right;\n",
       "    }\n",
       "</style>\n",
       "<table border=\"1\" class=\"dataframe\">\n",
       "  <thead>\n",
       "    <tr style=\"text-align: right;\">\n",
       "      <th></th>\n",
       "      <th>tariff</th>\n",
       "      <th>month</th>\n",
       "      <th>min</th>\n",
       "      <th>mes</th>\n",
       "      <th>mb</th>\n",
       "      <th>income</th>\n",
       "    </tr>\n",
       "  </thead>\n",
       "  <tbody>\n",
       "    <tr>\n",
       "      <td>0</td>\n",
       "      <td>ultra</td>\n",
       "      <td>1.0</td>\n",
       "      <td>428.111111</td>\n",
       "      <td>33.777778</td>\n",
       "      <td>13153.555556</td>\n",
       "      <td>1950.000000</td>\n",
       "    </tr>\n",
       "    <tr>\n",
       "      <td>1</td>\n",
       "      <td>ultra</td>\n",
       "      <td>2.0</td>\n",
       "      <td>297.125000</td>\n",
       "      <td>21.958333</td>\n",
       "      <td>11786.958333</td>\n",
       "      <td>1975.000000</td>\n",
       "    </tr>\n",
       "    <tr>\n",
       "      <td>2</td>\n",
       "      <td>ultra</td>\n",
       "      <td>3.0</td>\n",
       "      <td>489.648649</td>\n",
       "      <td>32.297297</td>\n",
       "      <td>17551.972973</td>\n",
       "      <td>2014.864865</td>\n",
       "    </tr>\n",
       "    <tr>\n",
       "      <td>3</td>\n",
       "      <td>ultra</td>\n",
       "      <td>4.0</td>\n",
       "      <td>458.018182</td>\n",
       "      <td>31.563636</td>\n",
       "      <td>16843.800000</td>\n",
       "      <td>2007.272727</td>\n",
       "    </tr>\n",
       "    <tr>\n",
       "      <td>4</td>\n",
       "      <td>ultra</td>\n",
       "      <td>5.0</td>\n",
       "      <td>510.328358</td>\n",
       "      <td>37.850746</td>\n",
       "      <td>19381.194030</td>\n",
       "      <td>2068.656716</td>\n",
       "    </tr>\n",
       "    <tr>\n",
       "      <td>5</td>\n",
       "      <td>ultra</td>\n",
       "      <td>6.0</td>\n",
       "      <td>479.702381</td>\n",
       "      <td>41.726190</td>\n",
       "      <td>18942.238095</td>\n",
       "      <td>2041.071429</td>\n",
       "    </tr>\n",
       "    <tr>\n",
       "      <td>6</td>\n",
       "      <td>ultra</td>\n",
       "      <td>7.0</td>\n",
       "      <td>545.791209</td>\n",
       "      <td>49.846154</td>\n",
       "      <td>20514.648352</td>\n",
       "      <td>2124.725275</td>\n",
       "    </tr>\n",
       "    <tr>\n",
       "      <td>7</td>\n",
       "      <td>ultra</td>\n",
       "      <td>8.0</td>\n",
       "      <td>510.775701</td>\n",
       "      <td>48.439252</td>\n",
       "      <td>19594.065421</td>\n",
       "      <td>2087.383178</td>\n",
       "    </tr>\n",
       "    <tr>\n",
       "      <td>8</td>\n",
       "      <td>ultra</td>\n",
       "      <td>9.0</td>\n",
       "      <td>539.443478</td>\n",
       "      <td>52.286957</td>\n",
       "      <td>19222.208696</td>\n",
       "      <td>2025.652174</td>\n",
       "    </tr>\n",
       "    <tr>\n",
       "      <td>9</td>\n",
       "      <td>ultra</td>\n",
       "      <td>10.0</td>\n",
       "      <td>558.081301</td>\n",
       "      <td>58.430894</td>\n",
       "      <td>20063.869919</td>\n",
       "      <td>2070.731707</td>\n",
       "    </tr>\n",
       "    <tr>\n",
       "      <td>10</td>\n",
       "      <td>ultra</td>\n",
       "      <td>11.0</td>\n",
       "      <td>541.380597</td>\n",
       "      <td>55.791045</td>\n",
       "      <td>19805.313433</td>\n",
       "      <td>2094.402985</td>\n",
       "    </tr>\n",
       "    <tr>\n",
       "      <td>11</td>\n",
       "      <td>ultra</td>\n",
       "      <td>12.0</td>\n",
       "      <td>588.571429</td>\n",
       "      <td>60.178571</td>\n",
       "      <td>21657.778571</td>\n",
       "      <td>2140.714286</td>\n",
       "    </tr>\n",
       "  </tbody>\n",
       "</table>\n",
       "</div>"
      ],
      "text/plain": [
       "   tariff  month         min        mes            mb       income\n",
       "0   ultra    1.0  428.111111  33.777778  13153.555556  1950.000000\n",
       "1   ultra    2.0  297.125000  21.958333  11786.958333  1975.000000\n",
       "2   ultra    3.0  489.648649  32.297297  17551.972973  2014.864865\n",
       "3   ultra    4.0  458.018182  31.563636  16843.800000  2007.272727\n",
       "4   ultra    5.0  510.328358  37.850746  19381.194030  2068.656716\n",
       "5   ultra    6.0  479.702381  41.726190  18942.238095  2041.071429\n",
       "6   ultra    7.0  545.791209  49.846154  20514.648352  2124.725275\n",
       "7   ultra    8.0  510.775701  48.439252  19594.065421  2087.383178\n",
       "8   ultra    9.0  539.443478  52.286957  19222.208696  2025.652174\n",
       "9   ultra   10.0  558.081301  58.430894  20063.869919  2070.731707\n",
       "10  ultra   11.0  541.380597  55.791045  19805.313433  2094.402985\n",
       "11  ultra   12.0  588.571429  60.178571  21657.778571  2140.714286"
      ]
     },
     "execution_count": 95,
     "metadata": {},
     "output_type": "execute_result"
    }
   ],
   "source": [
    "ultra"
   ]
  },
  {
   "cell_type": "code",
   "execution_count": 96,
   "metadata": {},
   "outputs": [
    {
     "data": {
      "text/html": [
       "<div>\n",
       "<style scoped>\n",
       "    .dataframe tbody tr th:only-of-type {\n",
       "        vertical-align: middle;\n",
       "    }\n",
       "\n",
       "    .dataframe tbody tr th {\n",
       "        vertical-align: top;\n",
       "    }\n",
       "\n",
       "    .dataframe thead th {\n",
       "        text-align: right;\n",
       "    }\n",
       "</style>\n",
       "<table border=\"1\" class=\"dataframe\">\n",
       "  <thead>\n",
       "    <tr style=\"text-align: right;\">\n",
       "      <th></th>\n",
       "      <th>messages_included</th>\n",
       "      <th>mb_per_month_included</th>\n",
       "      <th>minutes_included</th>\n",
       "      <th>rub_monthly_fee</th>\n",
       "      <th>rub_per_gb</th>\n",
       "      <th>rub_per_message</th>\n",
       "      <th>rub_per_minute</th>\n",
       "      <th>tariff_name</th>\n",
       "    </tr>\n",
       "  </thead>\n",
       "  <tbody>\n",
       "    <tr>\n",
       "      <td>0</td>\n",
       "      <td>50</td>\n",
       "      <td>15360</td>\n",
       "      <td>500</td>\n",
       "      <td>550</td>\n",
       "      <td>200</td>\n",
       "      <td>3</td>\n",
       "      <td>3</td>\n",
       "      <td>smart</td>\n",
       "    </tr>\n",
       "    <tr>\n",
       "      <td>1</td>\n",
       "      <td>1000</td>\n",
       "      <td>30720</td>\n",
       "      <td>3000</td>\n",
       "      <td>1950</td>\n",
       "      <td>150</td>\n",
       "      <td>1</td>\n",
       "      <td>1</td>\n",
       "      <td>ultra</td>\n",
       "    </tr>\n",
       "  </tbody>\n",
       "</table>\n",
       "</div>"
      ],
      "text/plain": [
       "   messages_included  mb_per_month_included  minutes_included  \\\n",
       "0                 50                  15360               500   \n",
       "1               1000                  30720              3000   \n",
       "\n",
       "   rub_monthly_fee  rub_per_gb  rub_per_message  rub_per_minute tariff_name  \n",
       "0              550         200                3               3       smart  \n",
       "1             1950         150                1               1       ultra  "
      ]
     },
     "execution_count": 96,
     "metadata": {},
     "output_type": "execute_result"
    }
   ],
   "source": [
    "tariffs"
   ]
  },
  {
   "cell_type": "markdown",
   "metadata": {},
   "source": [
    "***Нарисуем теперь для обоих тарифов усредненные расходы по месяцам для одного абонента***"
   ]
  },
  {
   "cell_type": "code",
   "execution_count": 97,
   "metadata": {
    "scrolled": false
   },
   "outputs": [
    {
     "data": {
      "image/png": "[encoded data removed]",
      "text/plain": [
       "<Figure size 1008x360 with 1 Axes>"
      ]
     },
     "metadata": {
      "needs_background": "light"
     },
     "output_type": "display_data"
    },
    {
     "data": {
      "image/png": "[encoded data removed]",
      "text/plain": [
       "<Figure size 1008x360 with 1 Axes>"
      ]
     },
     "metadata": {
      "needs_background": "light"
     },
     "output_type": "display_data"
    },
    {
     "data": {
      "image/png": "[encoded data removed]",
      "text/plain": [
       "<Figure size 1008x360 with 1 Axes>"
      ]
     },
     "metadata": {
      "needs_background": "light"
     },
     "output_type": "display_data"
    },
    {
     "data": {
      "image/png": "[encoded data removed]",
      "text/plain": [
       "<Figure size 1008x360 with 1 Axes>"
      ]
     },
     "metadata": {
      "needs_background": "light"
     },
     "output_type": "display_data"
    }
   ],
   "source": [
    "for param in ['min', 'mes', 'mb','income']:\n",
    "    w = 0.4\n",
    "    plt.figure(figsize=(14, 5))\n",
    "    plt.bar(smart['month']-w/2, smart[param], label='smart', color='g', alpha=0.5, width=w)\n",
    "    plt.bar(ultra['month']+w/2, ultra[param], label='ultra', color='b', alpha=0.4, width=w)\n",
    "\n",
    "# porog- пороговое значение в smart, после которого идёт оплата сверх абонентской\n",
    "    if param == 'min':\n",
    "        porog=500\n",
    "    elif param == 'mes':\n",
    "        porog=50\n",
    "    elif param == 'mb':\n",
    "        porog=15360\n",
    "    else:\n",
    "        porog=550\n",
    "        \n",
    "    plt.axhline(y=porog, label='Порог для smart', color='red')  \n",
    "    plt.xlabel('month')\n",
    "    plt.ylabel(param)\n",
    "    plt.grid()\n",
    "    plt.title(f'Кол-во {param} одного абонента по месяцам для обоих тарифов')\n",
    "    plt.legend()\n",
    "    plt.show();\n"
   ]
  },
  {
   "cell_type": "markdown",
   "metadata": {},
   "source": [
    "***Рассчитаем усредненные значения за месяц, которые требуются абонентам в обоих тарифах***"
   ]
  },
  {
   "cell_type": "code",
   "execution_count": 98,
   "metadata": {
    "scrolled": false
   },
   "outputs": [
    {
     "name": "stdout",
     "output_type": "stream",
     "text": [
      "Медианные месячные значения абонента в течение 2018 года\n",
      "Кол-во min: smart = 402 / ultra = 511\n",
      "Кол-во mes: smart = 34 / ultra = 45\n",
      "Кол-во mb: smart = 15820 / ultra = 19302\n",
      "Кол-во income: smart = 1231 / ultra = 2055\n"
     ]
    }
   ],
   "source": [
    "print('Медианные месячные значения абонента в течение 2018 года')\n",
    "for parametr in ['min', 'mes', 'mb', 'income']:\n",
    "    print(f'Кол-во {parametr}: smart = {round(smart[parametr].median())} / ultra = {round(ultra[parametr].median())}')"
   ]
  },
  {
   "cell_type": "markdown",
   "metadata": {},
   "source": [
    "***Вывод будет обобщен (с двумя последующими подпунктами 4.4 и 4.5)***"
   ]
  },
  {
   "cell_type": "markdown",
   "metadata": {},
   "source": [
    "## 4.4 Распределение абонентов по кол-ву использованых услуг, гистограммы <a id=\"raspr\"></a>  \n",
    "[К содержанию](#soder)"
   ]
  },
  {
   "cell_type": "markdown",
   "metadata": {},
   "source": [
    "***Вернёмя к таблице `abonents`. Посмотрим на гистограммах частоту распределения клиентов по объему использования услуг***"
   ]
  },
  {
   "cell_type": "code",
   "execution_count": 99,
   "metadata": {
    "scrolled": true
   },
   "outputs": [
    {
     "data": {
      "text/html": [
       "<div>\n",
       "<style scoped>\n",
       "    .dataframe tbody tr th:only-of-type {\n",
       "        vertical-align: middle;\n",
       "    }\n",
       "\n",
       "    .dataframe tbody tr th {\n",
       "        vertical-align: top;\n",
       "    }\n",
       "\n",
       "    .dataframe thead th {\n",
       "        text-align: right;\n",
       "    }\n",
       "</style>\n",
       "<table border=\"1\" class=\"dataframe\">\n",
       "  <thead>\n",
       "    <tr style=\"text-align: right;\">\n",
       "      <th></th>\n",
       "      <th>user_id</th>\n",
       "      <th>month</th>\n",
       "      <th>calls</th>\n",
       "      <th>min</th>\n",
       "      <th>mes</th>\n",
       "      <th>mb</th>\n",
       "      <th>city</th>\n",
       "      <th>tariff</th>\n",
       "      <th>income</th>\n",
       "    </tr>\n",
       "  </thead>\n",
       "  <tbody>\n",
       "    <tr>\n",
       "      <td>0</td>\n",
       "      <td>1000</td>\n",
       "      <td>5.0</td>\n",
       "      <td>22.0</td>\n",
       "      <td>159.0</td>\n",
       "      <td>22.0</td>\n",
       "      <td>2256.0</td>\n",
       "      <td>Краснодар</td>\n",
       "      <td>ultra</td>\n",
       "      <td>1950.0</td>\n",
       "    </tr>\n",
       "    <tr>\n",
       "      <td>1</td>\n",
       "      <td>1000</td>\n",
       "      <td>6.0</td>\n",
       "      <td>43.0</td>\n",
       "      <td>172.0</td>\n",
       "      <td>60.0</td>\n",
       "      <td>23257.0</td>\n",
       "      <td>Краснодар</td>\n",
       "      <td>ultra</td>\n",
       "      <td>1950.0</td>\n",
       "    </tr>\n",
       "    <tr>\n",
       "      <td>2</td>\n",
       "      <td>1000</td>\n",
       "      <td>7.0</td>\n",
       "      <td>47.0</td>\n",
       "      <td>340.0</td>\n",
       "      <td>75.0</td>\n",
       "      <td>14016.0</td>\n",
       "      <td>Краснодар</td>\n",
       "      <td>ultra</td>\n",
       "      <td>1950.0</td>\n",
       "    </tr>\n",
       "    <tr>\n",
       "      <td>3</td>\n",
       "      <td>1000</td>\n",
       "      <td>8.0</td>\n",
       "      <td>52.0</td>\n",
       "      <td>408.0</td>\n",
       "      <td>81.0</td>\n",
       "      <td>14070.0</td>\n",
       "      <td>Краснодар</td>\n",
       "      <td>ultra</td>\n",
       "      <td>1950.0</td>\n",
       "    </tr>\n",
       "    <tr>\n",
       "      <td>4</td>\n",
       "      <td>1000</td>\n",
       "      <td>9.0</td>\n",
       "      <td>58.0</td>\n",
       "      <td>466.0</td>\n",
       "      <td>57.0</td>\n",
       "      <td>14581.0</td>\n",
       "      <td>Краснодар</td>\n",
       "      <td>ultra</td>\n",
       "      <td>1950.0</td>\n",
       "    </tr>\n",
       "    <tr>\n",
       "      <td>...</td>\n",
       "      <td>...</td>\n",
       "      <td>...</td>\n",
       "      <td>...</td>\n",
       "      <td>...</td>\n",
       "      <td>...</td>\n",
       "      <td>...</td>\n",
       "      <td>...</td>\n",
       "      <td>...</td>\n",
       "      <td>...</td>\n",
       "    </tr>\n",
       "    <tr>\n",
       "      <td>3211</td>\n",
       "      <td>1489</td>\n",
       "      <td>10.0</td>\n",
       "      <td>0.0</td>\n",
       "      <td>0.0</td>\n",
       "      <td>21.0</td>\n",
       "      <td>19588.0</td>\n",
       "      <td>Санкт-Петербург</td>\n",
       "      <td>smart</td>\n",
       "      <td>1550.0</td>\n",
       "    </tr>\n",
       "    <tr>\n",
       "      <td>3212</td>\n",
       "      <td>1489</td>\n",
       "      <td>11.0</td>\n",
       "      <td>0.0</td>\n",
       "      <td>0.0</td>\n",
       "      <td>20.0</td>\n",
       "      <td>17516.0</td>\n",
       "      <td>Санкт-Петербург</td>\n",
       "      <td>smart</td>\n",
       "      <td>1150.0</td>\n",
       "    </tr>\n",
       "    <tr>\n",
       "      <td>3213</td>\n",
       "      <td>1489</td>\n",
       "      <td>12.0</td>\n",
       "      <td>0.0</td>\n",
       "      <td>0.0</td>\n",
       "      <td>35.0</td>\n",
       "      <td>17341.0</td>\n",
       "      <td>Санкт-Петербург</td>\n",
       "      <td>smart</td>\n",
       "      <td>950.0</td>\n",
       "    </tr>\n",
       "    <tr>\n",
       "      <td>3214</td>\n",
       "      <td>1128</td>\n",
       "      <td>12.0</td>\n",
       "      <td>0.0</td>\n",
       "      <td>0.0</td>\n",
       "      <td>0.0</td>\n",
       "      <td>0.0</td>\n",
       "      <td>Волжский</td>\n",
       "      <td>ultra</td>\n",
       "      <td>1950.0</td>\n",
       "    </tr>\n",
       "    <tr>\n",
       "      <td>3215</td>\n",
       "      <td>1371</td>\n",
       "      <td>12.0</td>\n",
       "      <td>0.0</td>\n",
       "      <td>0.0</td>\n",
       "      <td>0.0</td>\n",
       "      <td>0.0</td>\n",
       "      <td>Омск</td>\n",
       "      <td>smart</td>\n",
       "      <td>550.0</td>\n",
       "    </tr>\n",
       "  </tbody>\n",
       "</table>\n",
       "<p>3216 rows × 9 columns</p>\n",
       "</div>"
      ],
      "text/plain": [
       "      user_id  month  calls    min   mes       mb             city tariff  \\\n",
       "0        1000    5.0   22.0  159.0  22.0   2256.0        Краснодар  ultra   \n",
       "1        1000    6.0   43.0  172.0  60.0  23257.0        Краснодар  ultra   \n",
       "2        1000    7.0   47.0  340.0  75.0  14016.0        Краснодар  ultra   \n",
       "3        1000    8.0   52.0  408.0  81.0  14070.0        Краснодар  ultra   \n",
       "4        1000    9.0   58.0  466.0  57.0  14581.0        Краснодар  ultra   \n",
       "...       ...    ...    ...    ...   ...      ...              ...    ...   \n",
       "3211     1489   10.0    0.0    0.0  21.0  19588.0  Санкт-Петербург  smart   \n",
       "3212     1489   11.0    0.0    0.0  20.0  17516.0  Санкт-Петербург  smart   \n",
       "3213     1489   12.0    0.0    0.0  35.0  17341.0  Санкт-Петербург  smart   \n",
       "3214     1128   12.0    0.0    0.0   0.0      0.0         Волжский  ultra   \n",
       "3215     1371   12.0    0.0    0.0   0.0      0.0             Омск  smart   \n",
       "\n",
       "      income  \n",
       "0     1950.0  \n",
       "1     1950.0  \n",
       "2     1950.0  \n",
       "3     1950.0  \n",
       "4     1950.0  \n",
       "...      ...  \n",
       "3211  1550.0  \n",
       "3212  1150.0  \n",
       "3213   950.0  \n",
       "3214  1950.0  \n",
       "3215   550.0  \n",
       "\n",
       "[3216 rows x 9 columns]"
      ]
     },
     "execution_count": 99,
     "metadata": {},
     "output_type": "execute_result"
    }
   ],
   "source": [
    "abonents"
   ]
  },
  {
   "cell_type": "code",
   "execution_count": 100,
   "metadata": {
    "scrolled": false
   },
   "outputs": [
    {
     "data": {
      "image/png": "[encoded data removed]",
      "text/plain": [
       "<Figure size 1008x360 with 1 Axes>"
      ]
     },
     "metadata": {
      "needs_background": "light"
     },
     "output_type": "display_data"
    },
    {
     "data": {
      "image/png": "[encoded data removed]",
      "text/plain": [
       "<Figure size 1008x360 with 1 Axes>"
      ]
     },
     "metadata": {
      "needs_background": "light"
     },
     "output_type": "display_data"
    },
    {
     "data": {
      "image/png": "[encoded data removed]",
      "text/plain": [
       "<Figure size 1008x360 with 1 Axes>"
      ]
     },
     "metadata": {
      "needs_background": "light"
     },
     "output_type": "display_data"
    },
    {
     "data": {
      "image/png": "[encoded data removed]",
      "text/plain": [
       "<Figure size 1008x360 with 1 Axes>"
      ]
     },
     "metadata": {
      "needs_background": "light"
     },
     "output_type": "display_data"
    }
   ],
   "source": [
    "for param in ['min', 'mes', 'mb','income']:\n",
    "    b = 50\n",
    "    plt.figure(figsize=(14, 5))\n",
    "    \n",
    "    plt.hist(abonents.loc[abonents['tariff'] == \"smart\", param], label='smart / '+param, color='g', alpha=0.65, bins = b)\n",
    "    plt.hist(abonents.loc[abonents['tariff'] == \"ultra\", param], label='ultra / '+param, color='r', alpha=0.35, bins = b)\n",
    "    \n",
    "    plt.ylabel('ЧАСТОТА')\n",
    "    plt.xlabel(param)\n",
    "    plt.grid()\n",
    "    plt.title(f'Распределение {param} в месяцам для обоих тарифов')\n",
    "    plt.legend()\n",
    "    plt.show();"
   ]
  },
  {
   "cell_type": "markdown",
   "metadata": {},
   "source": [
    "***Вывод будет обобщен (с двумя подпунктами 4.3 и 4.5)***"
   ]
  },
  {
   "cell_type": "markdown",
   "metadata": {},
   "source": [
    "## 4.5 Среднее количество, дисперсия и стандартное отклонение. <a id=\"analys2\"></a>  \n",
    "[К содержанию](#soder)  \n",
    "\n",
    "***Создадим новый DataFrame `stat_frame` и запишем в него все расчитываемые статистические значения***"
   ]
  },
  {
   "cell_type": "markdown",
   "metadata": {
    "scrolled": true
   },
   "source": [
    "***Таблица `stat_frame` - статистика для выборки. Столбцы:***  \n",
    "    `parameter` - (min-минуты, mes-СМС, mb-трафик)  \n",
    "    `mean` - среднее  \n",
    "    `var` - дисперсия  \n",
    "    `std` - стандартное отклонение  \n",
    "    `tariff` - тариф (smart, ultra, all-по обоим тарифам)  \n",
    "    "
   ]
  },
  {
   "cell_type": "code",
   "execution_count": 101,
   "metadata": {
    "scrolled": true
   },
   "outputs": [
    {
     "data": {
      "text/html": [
       "<div>\n",
       "<style scoped>\n",
       "    .dataframe tbody tr th:only-of-type {\n",
       "        vertical-align: middle;\n",
       "    }\n",
       "\n",
       "    .dataframe tbody tr th {\n",
       "        vertical-align: top;\n",
       "    }\n",
       "\n",
       "    .dataframe thead th {\n",
       "        text-align: right;\n",
       "    }\n",
       "</style>\n",
       "<table border=\"1\" class=\"dataframe\">\n",
       "  <thead>\n",
       "    <tr style=\"text-align: right;\">\n",
       "      <th></th>\n",
       "      <th>parameter</th>\n",
       "      <th>mean</th>\n",
       "      <th>var</th>\n",
       "      <th>std</th>\n",
       "      <th>tariff</th>\n",
       "    </tr>\n",
       "  </thead>\n",
       "  <tbody>\n",
       "    <tr>\n",
       "      <td>0</td>\n",
       "      <td>min</td>\n",
       "      <td>386.6</td>\n",
       "      <td>5198.3</td>\n",
       "      <td>72.1</td>\n",
       "      <td>smart</td>\n",
       "    </tr>\n",
       "    <tr>\n",
       "      <td>1</td>\n",
       "      <td>min</td>\n",
       "      <td>495.6</td>\n",
       "      <td>5925.4</td>\n",
       "      <td>77</td>\n",
       "      <td>ultra</td>\n",
       "    </tr>\n",
       "    <tr>\n",
       "      <td>2</td>\n",
       "      <td>min</td>\n",
       "      <td>441.1</td>\n",
       "      <td>8416</td>\n",
       "      <td>91.7</td>\n",
       "      <td>all</td>\n",
       "    </tr>\n",
       "    <tr>\n",
       "      <td>3</td>\n",
       "      <td>mes</td>\n",
       "      <td>31.4</td>\n",
       "      <td>26</td>\n",
       "      <td>5.1</td>\n",
       "      <td>smart</td>\n",
       "    </tr>\n",
       "    <tr>\n",
       "      <td>4</td>\n",
       "      <td>mes</td>\n",
       "      <td>43.7</td>\n",
       "      <td>150.5</td>\n",
       "      <td>12.3</td>\n",
       "      <td>ultra</td>\n",
       "    </tr>\n",
       "    <tr>\n",
       "      <td>5</td>\n",
       "      <td>mes</td>\n",
       "      <td>37.5</td>\n",
       "      <td>123.7</td>\n",
       "      <td>11.1</td>\n",
       "      <td>all</td>\n",
       "    </tr>\n",
       "    <tr>\n",
       "      <td>6</td>\n",
       "      <td>mb</td>\n",
       "      <td>15073.2</td>\n",
       "      <td>7.12462e+06</td>\n",
       "      <td>2669.2</td>\n",
       "      <td>smart</td>\n",
       "    </tr>\n",
       "    <tr>\n",
       "      <td>7</td>\n",
       "      <td>mb</td>\n",
       "      <td>18209.8</td>\n",
       "      <td>8.83192e+06</td>\n",
       "      <td>2971.9</td>\n",
       "      <td>ultra</td>\n",
       "    </tr>\n",
       "    <tr>\n",
       "      <td>8</td>\n",
       "      <td>mb</td>\n",
       "      <td>16641.5</td>\n",
       "      <td>1.01979e+07</td>\n",
       "      <td>3193.4</td>\n",
       "      <td>all</td>\n",
       "    </tr>\n",
       "    <tr>\n",
       "      <td>9</td>\n",
       "      <td>income</td>\n",
       "      <td>1195.6</td>\n",
       "      <td>58335.5</td>\n",
       "      <td>241.5</td>\n",
       "      <td>smart</td>\n",
       "    </tr>\n",
       "    <tr>\n",
       "      <td>10</td>\n",
       "      <td>income</td>\n",
       "      <td>2050</td>\n",
       "      <td>3392.5</td>\n",
       "      <td>58.2</td>\n",
       "      <td>ultra</td>\n",
       "    </tr>\n",
       "    <tr>\n",
       "      <td>11</td>\n",
       "      <td>income</td>\n",
       "      <td>1622.8</td>\n",
       "      <td>219953</td>\n",
       "      <td>469</td>\n",
       "      <td>all</td>\n",
       "    </tr>\n",
       "  </tbody>\n",
       "</table>\n",
       "</div>"
      ],
      "text/plain": [
       "   parameter     mean          var     std tariff\n",
       "0        min    386.6       5198.3    72.1  smart\n",
       "1        min    495.6       5925.4      77  ultra\n",
       "2        min    441.1         8416    91.7    all\n",
       "3        mes     31.4           26     5.1  smart\n",
       "4        mes     43.7        150.5    12.3  ultra\n",
       "5        mes     37.5        123.7    11.1    all\n",
       "6         mb  15073.2  7.12462e+06  2669.2  smart\n",
       "7         mb  18209.8  8.83192e+06  2971.9  ultra\n",
       "8         mb  16641.5  1.01979e+07  3193.4    all\n",
       "9     income   1195.6      58335.5   241.5  smart\n",
       "10    income     2050       3392.5    58.2  ultra\n",
       "11    income   1622.8       219953     469    all"
      ]
     },
     "execution_count": 101,
     "metadata": {},
     "output_type": "execute_result"
    }
   ],
   "source": [
    "stat_frame = pd.DataFrame(columns = ['parameter', 'mean', 'var', 'std', 'tariff'])\n",
    "\n",
    "ind = 0\n",
    "t = ['smart', 'ultra', 'all']\n",
    "for param in ['min', 'mes', 'mb', 'income']:\n",
    "    tariff_ind = 0\n",
    "    for df in [smart, ultra, tar]:\n",
    "        stat_frame.loc[ind, 'parameter'] = param\n",
    "        stat_frame.loc[ind, 'mean'] = round(df[param].mean(),1)\n",
    "        stat_frame.loc[ind, 'var'] = round(np.var(df[param], ddof=1),1) # Поскольку данные являются выборкой, это указано\n",
    "        stat_frame.loc[ind, 'std'] = round(np.std(df[param], ddof=1),1) # в условии, то ипользуем параметр - ddof=1\n",
    "        stat_frame.loc[ind, 'tariff'] = t[tariff_ind]\n",
    "        ind +=1\n",
    "        tariff_ind +=1\n",
    "stat_frame"
   ]
  },
  {
   "cell_type": "markdown",
   "metadata": {},
   "source": [
    "***Расчитаем доли стандартных отклонений в среднем - столбец `%std` (Для лучшей наглядности)***"
   ]
  },
  {
   "cell_type": "code",
   "execution_count": 102,
   "metadata": {
    "scrolled": true
   },
   "outputs": [
    {
     "data": {
      "text/html": [
       "<div>\n",
       "<style scoped>\n",
       "    .dataframe tbody tr th:only-of-type {\n",
       "        vertical-align: middle;\n",
       "    }\n",
       "\n",
       "    .dataframe tbody tr th {\n",
       "        vertical-align: top;\n",
       "    }\n",
       "\n",
       "    .dataframe thead th {\n",
       "        text-align: right;\n",
       "    }\n",
       "</style>\n",
       "<table border=\"1\" class=\"dataframe\">\n",
       "  <thead>\n",
       "    <tr style=\"text-align: right;\">\n",
       "      <th></th>\n",
       "      <th>parameter</th>\n",
       "      <th>mean</th>\n",
       "      <th>var</th>\n",
       "      <th>std</th>\n",
       "      <th>tariff</th>\n",
       "      <th>%std</th>\n",
       "    </tr>\n",
       "  </thead>\n",
       "  <tbody>\n",
       "    <tr>\n",
       "      <td>0</td>\n",
       "      <td>min</td>\n",
       "      <td>386.6</td>\n",
       "      <td>5198.3</td>\n",
       "      <td>72.1</td>\n",
       "      <td>smart</td>\n",
       "      <td>18.6498</td>\n",
       "    </tr>\n",
       "    <tr>\n",
       "      <td>1</td>\n",
       "      <td>min</td>\n",
       "      <td>495.6</td>\n",
       "      <td>5925.4</td>\n",
       "      <td>77</td>\n",
       "      <td>ultra</td>\n",
       "      <td>15.5367</td>\n",
       "    </tr>\n",
       "    <tr>\n",
       "      <td>2</td>\n",
       "      <td>min</td>\n",
       "      <td>441.1</td>\n",
       "      <td>8416</td>\n",
       "      <td>91.7</td>\n",
       "      <td>all</td>\n",
       "      <td>20.7889</td>\n",
       "    </tr>\n",
       "    <tr>\n",
       "      <td>3</td>\n",
       "      <td>mes</td>\n",
       "      <td>31.4</td>\n",
       "      <td>26</td>\n",
       "      <td>5.1</td>\n",
       "      <td>smart</td>\n",
       "      <td>16.242</td>\n",
       "    </tr>\n",
       "    <tr>\n",
       "      <td>4</td>\n",
       "      <td>mes</td>\n",
       "      <td>43.7</td>\n",
       "      <td>150.5</td>\n",
       "      <td>12.3</td>\n",
       "      <td>ultra</td>\n",
       "      <td>28.1465</td>\n",
       "    </tr>\n",
       "    <tr>\n",
       "      <td>5</td>\n",
       "      <td>mes</td>\n",
       "      <td>37.5</td>\n",
       "      <td>123.7</td>\n",
       "      <td>11.1</td>\n",
       "      <td>all</td>\n",
       "      <td>29.6</td>\n",
       "    </tr>\n",
       "    <tr>\n",
       "      <td>6</td>\n",
       "      <td>mb</td>\n",
       "      <td>15073.2</td>\n",
       "      <td>7.12462e+06</td>\n",
       "      <td>2669.2</td>\n",
       "      <td>smart</td>\n",
       "      <td>17.7083</td>\n",
       "    </tr>\n",
       "    <tr>\n",
       "      <td>7</td>\n",
       "      <td>mb</td>\n",
       "      <td>18209.8</td>\n",
       "      <td>8.83192e+06</td>\n",
       "      <td>2971.9</td>\n",
       "      <td>ultra</td>\n",
       "      <td>16.3203</td>\n",
       "    </tr>\n",
       "    <tr>\n",
       "      <td>8</td>\n",
       "      <td>mb</td>\n",
       "      <td>16641.5</td>\n",
       "      <td>1.01979e+07</td>\n",
       "      <td>3193.4</td>\n",
       "      <td>all</td>\n",
       "      <td>19.1894</td>\n",
       "    </tr>\n",
       "    <tr>\n",
       "      <td>9</td>\n",
       "      <td>income</td>\n",
       "      <td>1195.6</td>\n",
       "      <td>58335.5</td>\n",
       "      <td>241.5</td>\n",
       "      <td>smart</td>\n",
       "      <td>20.1991</td>\n",
       "    </tr>\n",
       "    <tr>\n",
       "      <td>10</td>\n",
       "      <td>income</td>\n",
       "      <td>2050</td>\n",
       "      <td>3392.5</td>\n",
       "      <td>58.2</td>\n",
       "      <td>ultra</td>\n",
       "      <td>2.83902</td>\n",
       "    </tr>\n",
       "    <tr>\n",
       "      <td>11</td>\n",
       "      <td>income</td>\n",
       "      <td>1622.8</td>\n",
       "      <td>219953</td>\n",
       "      <td>469</td>\n",
       "      <td>all</td>\n",
       "      <td>28.9007</td>\n",
       "    </tr>\n",
       "  </tbody>\n",
       "</table>\n",
       "</div>"
      ],
      "text/plain": [
       "   parameter     mean          var     std tariff     %std\n",
       "0        min    386.6       5198.3    72.1  smart  18.6498\n",
       "1        min    495.6       5925.4      77  ultra  15.5367\n",
       "2        min    441.1         8416    91.7    all  20.7889\n",
       "3        mes     31.4           26     5.1  smart   16.242\n",
       "4        mes     43.7        150.5    12.3  ultra  28.1465\n",
       "5        mes     37.5        123.7    11.1    all     29.6\n",
       "6         mb  15073.2  7.12462e+06  2669.2  smart  17.7083\n",
       "7         mb  18209.8  8.83192e+06  2971.9  ultra  16.3203\n",
       "8         mb  16641.5  1.01979e+07  3193.4    all  19.1894\n",
       "9     income   1195.6      58335.5   241.5  smart  20.1991\n",
       "10    income     2050       3392.5    58.2  ultra  2.83902\n",
       "11    income   1622.8       219953     469    all  28.9007"
      ]
     },
     "execution_count": 102,
     "metadata": {},
     "output_type": "execute_result"
    }
   ],
   "source": [
    "stat_frame['%std'] = stat_frame['std'] / stat_frame['mean'] * 100\n",
    "stat_frame"
   ]
  },
  {
   "cell_type": "markdown",
   "metadata": {},
   "source": [
    "***Из таблицы `stat_frame` и её средних значений видно, что медианные значения (см. в конце пункта 4.3) располагаются правее средних. Это говорит о скошенности данных влево, то есть бОльшая \"весомая масса\" значений\" расположены меньше медианых значений. По стандартным отклонениям можно сказать, что они вполне адекватные (доля `%std` примерно от 18 до 24 %), за иключением сообщений (mes) на тарифе ultra - здесь доля `%std` около 42,8%. Это говорит о том что присутствует много абонентов, которые отправляют очень мало СМС ( это очень хорошо видно на гистограмме в пункте 4.4). В выручке `income` можно выделить то, что в тарифе ultra стандартное отклонение равно нулю (и дисперсия соответственно тоже) так как все платять одну и туже сумму  1950р (мы исходили из медианных значений, если бы было взято среднее, то отклонение было бы, но маленькое)***"
   ]
  },
  {
   "cell_type": "markdown",
   "metadata": {},
   "source": [
    "## Вывод (обобщенный): <a id=\"analys_vivod\"></a>  \n",
    "[К содержанию](#soder)\n",
    "\n",
    "***В тарифе smart подавляющее большинство абонентов укладываются в лимит 500 минут разговора (среднее значение за 2018 год - 421 минута), да и в тарифе ultra не сильно ушли от этого значения - среднемесячное не больше 600 минут (не говоря уже об излишнем лимите в 3000! ). Также можно наблюдать, что расход минут постепенно возрастает в течение года. Исключение месяц февраль у тарифа ultra довольно сильное падение (хоть февраль самый короткий месяц, но снижение не пропорцианально - почти в 2 раза).Также надо отметить, что в тарифе smart в январе и феврале мало звонят - тоже в 2 раза меньше, чем в другие месяцы***  \n",
    "\n",
    "***СМС - мало популярная услуга (много абонентов которых вообще не пишут СМС или почти не пишут). Абоненты тарифа smart вполне укладываются в лимит 50 СМС (а среднее 28 СМС в месяц за год), даже абоненты тарифа ultra редко превышают порог в 50 СМС (скорее всего это какие-то интернет-сервисы или магазины). Видно, что на тарифе ultra СМС ближе к концу года пишут всё чаще и чаще, исключение - январь где наблюдаются, более высокая активность.  В тарифе smart в первой половине года активность постепенно возрастает, а во второй держится примерно на одном уровне.***  \n",
    "\n",
    "***А вот с интернет-трафиком другая ситуация. Абоненты smart любят посидеть в интернете и частенько привышают лимитв 15360 МБ, даже среднее значение выше - 16073 МБ, также надо отметить, что опять начало года (январь и февраль) характеризовано низкой активностью в интернете (около 7,5 ГБ). В тарифе ultra опять сильный провал в феврале (в 2 раза), а в остально часть года идет очень постепенный рост; средний расход трафика на smart довольно не высокий не смотря на порог в 30 ГБ средний расход около 18,8 ГБ. Подавляющее большинство абонентов расходуют в месяц трафика от 11 до 23 ГБ***\n",
    "\n",
    "***По выручке можно сказать: что  выручка абонентов ultra в подавляющем большинстве случаев ограничивается абонплатой(1950р), а абоненты smart напротив очень частенько платят сверх абонплаты ( 982средн - 550абонплата = ) 482р - на 87,5% больше абонплаты!!, - и все это за счет Интернет-трафика) !***\n",
    "\n",
    "***В принципе многие абоненты ultra могли бы перейти на тариф smart и платили бы меньше - если исходить из усредненных значений:  \n",
    "510мин (10 сверх 500) 10 * 3 = 30р \n",
    "Трафик 18831 МБ (3471 (4ГБ) сверх 15360 МБ) 4 * 200 = 800р  \n",
    "Итого = 550 + 30 + 800 = 1380р , а платят 1950 ! (поэтому те кто на тарифе smart - похоже умнее, не зря же его назвали smart - \"умный\" в переводе с английского :)) )***"
   ]
  },
  {
   "cell_type": "markdown",
   "metadata": {},
   "source": [
    "# Шаг 5. Проверьте гипотезы <a id=\"shag5\"></a>  \n",
    "[К содержанию](#soder)\n",
    "  \n",
    "•средняя выручка пользователей тарифов «Ультра» и «Смарт» различается;  \n",
    "•средняя выручка пользователей из Москвы отличается от выручки пользователей из других регионов;  \n",
    "Пороговое значение alpha задайте самостоятельно.  \n",
    "Поясните:  \n",
    "•как вы формулировали нулевую и альтернативную гипотезы;  \n",
    "•какой критерий использовали для проверки гипотез и почему.  \n",
    "\n",
    "\n"
   ]
  },
  {
   "cell_type": "markdown",
   "metadata": {},
   "source": [
    "## 5.1 Гипотеза №1: средняя выручка пользователей тарифов «Ультра» и «Смарт» различается <a id=\"hipot1\"></a>  \n",
    "[К содержанию](#soder)\n",
    "\n",
    "***Вернемся к основной таблице `abonents`***"
   ]
  },
  {
   "cell_type": "code",
   "execution_count": 103,
   "metadata": {
    "scrolled": true
   },
   "outputs": [
    {
     "data": {
      "text/html": [
       "<div>\n",
       "<style scoped>\n",
       "    .dataframe tbody tr th:only-of-type {\n",
       "        vertical-align: middle;\n",
       "    }\n",
       "\n",
       "    .dataframe tbody tr th {\n",
       "        vertical-align: top;\n",
       "    }\n",
       "\n",
       "    .dataframe thead th {\n",
       "        text-align: right;\n",
       "    }\n",
       "</style>\n",
       "<table border=\"1\" class=\"dataframe\">\n",
       "  <thead>\n",
       "    <tr style=\"text-align: right;\">\n",
       "      <th></th>\n",
       "      <th>user_id</th>\n",
       "      <th>month</th>\n",
       "      <th>calls</th>\n",
       "      <th>min</th>\n",
       "      <th>mes</th>\n",
       "      <th>mb</th>\n",
       "      <th>city</th>\n",
       "      <th>tariff</th>\n",
       "      <th>income</th>\n",
       "    </tr>\n",
       "  </thead>\n",
       "  <tbody>\n",
       "    <tr>\n",
       "      <td>0</td>\n",
       "      <td>1000</td>\n",
       "      <td>5.0</td>\n",
       "      <td>22.0</td>\n",
       "      <td>159.0</td>\n",
       "      <td>22.0</td>\n",
       "      <td>2256.0</td>\n",
       "      <td>Краснодар</td>\n",
       "      <td>ultra</td>\n",
       "      <td>1950.0</td>\n",
       "    </tr>\n",
       "    <tr>\n",
       "      <td>1</td>\n",
       "      <td>1000</td>\n",
       "      <td>6.0</td>\n",
       "      <td>43.0</td>\n",
       "      <td>172.0</td>\n",
       "      <td>60.0</td>\n",
       "      <td>23257.0</td>\n",
       "      <td>Краснодар</td>\n",
       "      <td>ultra</td>\n",
       "      <td>1950.0</td>\n",
       "    </tr>\n",
       "    <tr>\n",
       "      <td>2</td>\n",
       "      <td>1000</td>\n",
       "      <td>7.0</td>\n",
       "      <td>47.0</td>\n",
       "      <td>340.0</td>\n",
       "      <td>75.0</td>\n",
       "      <td>14016.0</td>\n",
       "      <td>Краснодар</td>\n",
       "      <td>ultra</td>\n",
       "      <td>1950.0</td>\n",
       "    </tr>\n",
       "    <tr>\n",
       "      <td>3</td>\n",
       "      <td>1000</td>\n",
       "      <td>8.0</td>\n",
       "      <td>52.0</td>\n",
       "      <td>408.0</td>\n",
       "      <td>81.0</td>\n",
       "      <td>14070.0</td>\n",
       "      <td>Краснодар</td>\n",
       "      <td>ultra</td>\n",
       "      <td>1950.0</td>\n",
       "    </tr>\n",
       "    <tr>\n",
       "      <td>4</td>\n",
       "      <td>1000</td>\n",
       "      <td>9.0</td>\n",
       "      <td>58.0</td>\n",
       "      <td>466.0</td>\n",
       "      <td>57.0</td>\n",
       "      <td>14581.0</td>\n",
       "      <td>Краснодар</td>\n",
       "      <td>ultra</td>\n",
       "      <td>1950.0</td>\n",
       "    </tr>\n",
       "    <tr>\n",
       "      <td>...</td>\n",
       "      <td>...</td>\n",
       "      <td>...</td>\n",
       "      <td>...</td>\n",
       "      <td>...</td>\n",
       "      <td>...</td>\n",
       "      <td>...</td>\n",
       "      <td>...</td>\n",
       "      <td>...</td>\n",
       "      <td>...</td>\n",
       "    </tr>\n",
       "    <tr>\n",
       "      <td>3211</td>\n",
       "      <td>1489</td>\n",
       "      <td>10.0</td>\n",
       "      <td>0.0</td>\n",
       "      <td>0.0</td>\n",
       "      <td>21.0</td>\n",
       "      <td>19588.0</td>\n",
       "      <td>Санкт-Петербург</td>\n",
       "      <td>smart</td>\n",
       "      <td>1550.0</td>\n",
       "    </tr>\n",
       "    <tr>\n",
       "      <td>3212</td>\n",
       "      <td>1489</td>\n",
       "      <td>11.0</td>\n",
       "      <td>0.0</td>\n",
       "      <td>0.0</td>\n",
       "      <td>20.0</td>\n",
       "      <td>17516.0</td>\n",
       "      <td>Санкт-Петербург</td>\n",
       "      <td>smart</td>\n",
       "      <td>1150.0</td>\n",
       "    </tr>\n",
       "    <tr>\n",
       "      <td>3213</td>\n",
       "      <td>1489</td>\n",
       "      <td>12.0</td>\n",
       "      <td>0.0</td>\n",
       "      <td>0.0</td>\n",
       "      <td>35.0</td>\n",
       "      <td>17341.0</td>\n",
       "      <td>Санкт-Петербург</td>\n",
       "      <td>smart</td>\n",
       "      <td>950.0</td>\n",
       "    </tr>\n",
       "    <tr>\n",
       "      <td>3214</td>\n",
       "      <td>1128</td>\n",
       "      <td>12.0</td>\n",
       "      <td>0.0</td>\n",
       "      <td>0.0</td>\n",
       "      <td>0.0</td>\n",
       "      <td>0.0</td>\n",
       "      <td>Волжский</td>\n",
       "      <td>ultra</td>\n",
       "      <td>1950.0</td>\n",
       "    </tr>\n",
       "    <tr>\n",
       "      <td>3215</td>\n",
       "      <td>1371</td>\n",
       "      <td>12.0</td>\n",
       "      <td>0.0</td>\n",
       "      <td>0.0</td>\n",
       "      <td>0.0</td>\n",
       "      <td>0.0</td>\n",
       "      <td>Омск</td>\n",
       "      <td>smart</td>\n",
       "      <td>550.0</td>\n",
       "    </tr>\n",
       "  </tbody>\n",
       "</table>\n",
       "<p>3216 rows × 9 columns</p>\n",
       "</div>"
      ],
      "text/plain": [
       "      user_id  month  calls    min   mes       mb             city tariff  \\\n",
       "0        1000    5.0   22.0  159.0  22.0   2256.0        Краснодар  ultra   \n",
       "1        1000    6.0   43.0  172.0  60.0  23257.0        Краснодар  ultra   \n",
       "2        1000    7.0   47.0  340.0  75.0  14016.0        Краснодар  ultra   \n",
       "3        1000    8.0   52.0  408.0  81.0  14070.0        Краснодар  ultra   \n",
       "4        1000    9.0   58.0  466.0  57.0  14581.0        Краснодар  ultra   \n",
       "...       ...    ...    ...    ...   ...      ...              ...    ...   \n",
       "3211     1489   10.0    0.0    0.0  21.0  19588.0  Санкт-Петербург  smart   \n",
       "3212     1489   11.0    0.0    0.0  20.0  17516.0  Санкт-Петербург  smart   \n",
       "3213     1489   12.0    0.0    0.0  35.0  17341.0  Санкт-Петербург  smart   \n",
       "3214     1128   12.0    0.0    0.0   0.0      0.0         Волжский  ultra   \n",
       "3215     1371   12.0    0.0    0.0   0.0      0.0             Омск  smart   \n",
       "\n",
       "      income  \n",
       "0     1950.0  \n",
       "1     1950.0  \n",
       "2     1950.0  \n",
       "3     1950.0  \n",
       "4     1950.0  \n",
       "...      ...  \n",
       "3211  1550.0  \n",
       "3212  1150.0  \n",
       "3213   950.0  \n",
       "3214  1950.0  \n",
       "3215   550.0  \n",
       "\n",
       "[3216 rows x 9 columns]"
      ]
     },
     "execution_count": 103,
     "metadata": {},
     "output_type": "execute_result"
    }
   ],
   "source": [
    "abonents"
   ]
  },
  {
   "cell_type": "markdown",
   "metadata": {},
   "source": [
    "***Запишем выручки в 2 таблицы `ultra_income_mean`, `smart_income_mean` для каждого тарифа***"
   ]
  },
  {
   "cell_type": "code",
   "execution_count": 104,
   "metadata": {},
   "outputs": [],
   "source": [
    "# Старый ВАРИАНТ : Запишем средние выручки за месяц каждого абонента в 2 таблицы `ultra_income_mean`, `smart_income_mean` для каждого тарифа\n",
    "# ultra_income_mean = abonents.query('tariff ==\"ultra\"').groupby('user_id')['income'].mean().values #reset_index()\n",
    "# smart_income_mean = abonents.query('tariff ==\"smart\"').groupby('user_id')['income'].mean().values #reset_index()\n",
    "\n",
    "# Новый ВАРИАНТ\n",
    "ultra_income_mean = abonents.query('tariff ==\"ultra\"')['income'].values #reset_index()\n",
    "smart_income_mean = abonents.query('tariff ==\"smart\"')['income'].values #reset_index()\n",
    "\n",
    "# print(len(ultra_income_mean),ultra_income_mean)\n",
    "# print(len(smart_income_mean),smart_income_mean)"
   ]
  },
  {
   "cell_type": "markdown",
   "metadata": {},
   "source": [
    "\" Методу st.ttest_ind(array1, array2, equal_var = True) передают параметры:  \n",
    "array1, array2 — массивы, содержащие выборки;  \n",
    "equal_var (от англ. equal variance, «равная дисперсия») — необязательный параметр, задающий считать ли равными дисперсии выборок. Передаётся как \"equal_var = True\" или \"equal_var = False\" (True — считать, False — не считать).  \n",
    "Есть основание полагать, что выборки взяты из схожих по параметрам совокупностей? Тогда укажите этот параметр как True, и дисперсия каждой выборки будет оценена по объединённому датасету из двух выборок, а не для каждой по отдельности по значениям в ней самой.  \n",
    "Так делают, чтобы получить более точные результаты. Но только в том случае, если считать примерно равными дисперсии генеральных совокупностей, из которых взяты выборки. Иначе параметр нужно указать как False; по умолчанию он задан как True (если вообще его не указывать). \"  "
   ]
  },
  {
   "cell_type": "code",
   "execution_count": 105,
   "metadata": {
    "scrolled": true
   },
   "outputs": [
    {
     "name": "stdout",
     "output_type": "stream",
     "text": [
      "Дисперсия smart_income_mean = 660979.9953686984 // Дисперсия ultra_income_mean = 142955.91886821177\n"
     ]
    }
   ],
   "source": [
    "print('Дисперсия smart_income_mean =', np.var(smart_income_mean), '// Дисперсия ultra_income_mean =', \\\n",
    "      np.var(ultra_income_mean))"
   ]
  },
  {
   "cell_type": "markdown",
   "metadata": {},
   "source": [
    "***Видно,что дисперсия сильно отличается 660979 против 142955 (в 4,6 раза). Поэтому для проведения тэста возьмем equal_var = False***  "
   ]
  },
  {
   "cell_type": "markdown",
   "metadata": {},
   "source": [
    "***Так как нам не нужны сверх точные значения, мы же не запускаем ракету в космос (где каждая мелочь может привести к катастрофе, точность очень высокая и всё надо очень тщателльно проверять, чтобы погрешности были максимально малы), то укажем критический уровень статистической значимости 5% `alpha = 0.05`***\n",
    "\n",
    "***По заданию надо проверить гипотезу: средняя выручка пользователей тарифов «Ультра» (`ultra_income_mean`) и «Смарт» (`smart_income_mean`) различается.***\n",
    "\n",
    "***Так как \"H₀ всегда формулируется так, чтобы использовать знак равенства\" то нулевую гипотезу сформулируем так: средняя выручка пользователей тарифов «Ультра» (`ultra_income_mean`) и «Смарт» (`smart_income_mean`) равны; альтернативная гипотеза H₁ тогда будет такая - средняя выручка пользователей тарифов «Ультра» и «Смарт» различается (как по заданию).***"
   ]
  },
  {
   "cell_type": "code",
   "execution_count": 106,
   "metadata": {},
   "outputs": [
    {
     "name": "stdout",
     "output_type": "stream",
     "text": [
      "p-значение: 4.5941480288116247e-244\n",
      "Отвергаем нулевую гипотезу\n"
     ]
    }
   ],
   "source": [
    "from scipy import stats as st\n",
    "\n",
    "alpha = 0.05\n",
    "\n",
    "results = st.ttest_ind(smart_income_mean, ultra_income_mean, equal_var = False)\n",
    "\n",
    "print('p-значение:', results.pvalue)\n",
    "\n",
    "if (results.pvalue < alpha):\n",
    "    print(\"Отвергаем нулевую гипотезу\")\n",
    "else:\n",
    "    print(\"Не получилось отвергнуть нулевую гипотезу\")"
   ]
  },
  {
   "cell_type": "markdown",
   "metadata": {},
   "source": [
    "***ВЫВОД: По-скольку нулевая гипотеза отвергнута (средняя выручка пользователей 2 тарифов равны), то актуальна альтернативная гипотеза (которую надо прояснить по заданью). Поэтому средняя выручка пользователей тарифов «Ультра» и «Смарт» различается, то есть ГИПОТЕЗА №1 ПОДТВЕРЖДАЕТСЯ***"
   ]
  },
  {
   "cell_type": "markdown",
   "metadata": {},
   "source": [
    "## 5.2 Гипотеза №2: средняя выручка пользователей из Москвы отличается от выручки пользователей из других регионов <a id=\"hipot2\"></a>  \n",
    "[К содержанию](#soder)"
   ]
  },
  {
   "cell_type": "markdown",
   "metadata": {},
   "source": [
    "***Тэстирование Гипотезы №2 сделаем по аналогии с Гипотезой №1***"
   ]
  },
  {
   "cell_type": "markdown",
   "metadata": {},
   "source": [
    "***Запишем выручки в 2 таблицы `moscow_income_mean`, `other_income_mean` для Москвы и Остальных***"
   ]
  },
  {
   "cell_type": "code",
   "execution_count": 107,
   "metadata": {},
   "outputs": [],
   "source": [
    "# Старый ВАРИАНТ : \n",
    "# moscow_income_mean = abonents.query('city == \"Москва\"').groupby('user_id')['income'].mean().values\n",
    "# other_income_mean = abonents.query('city != \"Москва\"').groupby('user_id')['income'].mean().values\n",
    "\n",
    "# Новый ВАРИАНТ: Запишем средние выручки за месяц каждого абонента в 2 таблицы `moscow_income_mean`, `other_income_mean` для Москвы и Остальных\n",
    "moscow_income_mean = abonents.query('city == \"Москва\"')['income'].values\n",
    "other_income_mean = abonents.query('city != \"Москва\"')['income'].values\n",
    "\n",
    "# print(len(moscow_income_mean),moscow_income_mean)\n",
    "# print(len(other_income_mean),other_income_mean)\n"
   ]
  },
  {
   "cell_type": "code",
   "execution_count": 108,
   "metadata": {},
   "outputs": [
    {
     "name": "stdout",
     "output_type": "stream",
     "text": [
      "Дисперсия moscow_income_mean = 555126.1226129793 // Дисперсия other_income_mean = 643914.3305976621\n"
     ]
    }
   ],
   "source": [
    "print('Дисперсия moscow_income_mean =', np.var(moscow_income_mean), '// Дисперсия other_income_mean =', \\\n",
    "      np.var(other_income_mean))"
   ]
  },
  {
   "cell_type": "markdown",
   "metadata": {},
   "source": [
    "***Видно,что дисперсия не сильно отличается: 555126 против 643914 (около 16% разница). Поэтому equal_var = True***  "
   ]
  },
  {
   "cell_type": "markdown",
   "metadata": {},
   "source": [
    "***Так как нам не нужны сверх точные значения, как и в гипотезе №1, то укажем критический уровень статистической значимости 5% `alpha = 0.05`***\n",
    "\n",
    "***По заданию надо проверить гипотезу: средняя выручка пользователей из Москвы (`moscow_income_mean`) отличается от выручки пользователей из других регионов (`other_income_mean`)***\n",
    "\n",
    "***Нулевую гипотезу сформулируем так: средняя выручка пользователей тарифов «Ультра» (`moscow_income_mean`) и «Смарт» (`other_income_mean`) равны. Альтернативная тогда - средняя выручка различается***"
   ]
  },
  {
   "cell_type": "code",
   "execution_count": 109,
   "metadata": {},
   "outputs": [
    {
     "name": "stdout",
     "output_type": "stream",
     "text": [
      "p-значение: 0.495399331911754\n",
      "Не получилось отвергнуть нулевую гипотезу\n"
     ]
    }
   ],
   "source": [
    "from scipy import stats as st\n",
    "\n",
    "alpha = 0.05\n",
    "\n",
    "results = st.ttest_ind(moscow_income_mean, other_income_mean, equal_var = True)\n",
    "\n",
    "print('p-значение:', results.pvalue) # ваш код: выведите на экран получившееся p-значение)\n",
    "\n",
    "if (results.pvalue < alpha): # ваш код: сравните получившееся p-значение с заданным уровнем статистической значимости):\n",
    "    print(\"Отвергаем нулевую гипотезу\")\n",
    "else:\n",
    "    print(\"Не получилось отвергнуть нулевую гипотезу\")"
   ]
  },
  {
   "cell_type": "markdown",
   "metadata": {},
   "source": [
    "***ВЫВОД: По-скольку нулевая гипотеза не отвергнута (средняя выручка пользователей Москвы и других городов равны), то это значит она актуадьна, то есть ГИПОТЕЗА №2 НЕ ПОДТВЕРЖДАЕТСЯ***"
   ]
  },
  {
   "cell_type": "code",
   "execution_count": 110,
   "metadata": {},
   "outputs": [
    {
     "name": "stdout",
     "output_type": "stream",
     "text": [
      "1306.9511210762332 2073.68154158215\n",
      "1561.6890343698853 1537.412284069098\n"
     ]
    }
   ],
   "source": [
    "# Для интереса сравнил средние в гипотезах\n",
    "print(smart_income_mean.mean(), ultra_income_mean.mean())\n",
    "print(moscow_income_mean.mean(), other_income_mean.mean())"
   ]
  },
  {
   "cell_type": "markdown",
   "metadata": {},
   "source": [
    "# Шаг 6. Общий вывод <a id=\"main_result\"></a>  \n",
    "[К содержанию](#soder)"
   ]
  },
  {
   "cell_type": "code",
   "execution_count": 111,
   "metadata": {
    "scrolled": true
   },
   "outputs": [
    {
     "name": "stdout",
     "output_type": "stream",
     "text": [
      "Выручка тарифа Ультра = 2044650.0 13722.48322147651\n",
      "Выручка тарифа Смарт = 2914501.0 8303.421652421652\n"
     ]
    }
   ],
   "source": [
    "ultra_income = abonents.query('tariff ==\"ultra\"')['income'].sum()\n",
    "ultra_abonents = len(abonents.query('tariff ==\"ultra\"'))\n",
    "smart_income = abonents.query('tariff ==\"smart\"')['income'].sum()\n",
    "smart_abonents = len(abonents.query('tariff ==\"smart\"'))\n",
    "print(f'Выручка тарифа Ультра = {ultra_income} {ultra_income/149}')\n",
    "print(f'Выручка тарифа Смарт = {smart_income} {smart_income/351}')"
   ]
  },
  {
   "cell_type": "markdown",
   "metadata": {},
   "source": [
    "**- БОлшая часть данных изначально в хорошем состоянии. Поэтому в  процессе предобработки данных изменены только типы в столбцах с датами на datetime64, и проверена корректность данных. Дубликатов не было.**\n",
    "\n",
    "**- Была создана новая таблица `abonents` - в которую сгруппировали данные по каждому абоненту за каждый месяц пользования. Заполнили образовавшиеся пропуски. Рассчитали для анализа 4 столбца: min - минут/мес, mes - СМС/мес, mb - МБ/мес и income - выручка за месяц.**\n",
    "\n",
    "**- В процессе анализа было выявлено:**  \n",
    "***1) В тарифе smart подавляющее большинство абонентов укладываются в лимит 500 минут разговора (среднее значение за 2018 год - 421 минута), да и в тарифе ultra не сильно ушли от этого значения - среднемесячное не больше 600 минут (не говоря уже об излишнем лимите в 3000! ). Также можно наблюдать, что расход минут постепенно возрастает в течение года. Исключение месяц февраль у тарифа ultra довольно сильное падение (хоть февраль самый короткий месяц, но снижение не пропорцианально - почти в 2 раза).Также надо отметить, что в тарифе smart в январе и феврале мало звонят - тоже в 2 раза меньше, чем в другие месяцы***  \n",
    "***2) СМС - мало популярная услуга (много абонентов которых вообще не пишут СМС или почти не пишут). Абоненты тарифа smart вполне укладываются в лимит 50 СМС (а среднее 28 СМС в месяц за год), даже абоненты тарифа ultra редко превышают порог в 50 СМС (скорее всего это какие-то интернет-сервисы или магазины). Видно, что на тарифе ultra СМС ближе к концу года пишут всё чаще и чаще, исключение - январь где наблюдаются, более высокая активность.  В тарифе smart в первой половине года активность постепенно возрастает, а во второй держится примерно на одном уровне***  \n",
    "***3) А вот с интернет-трафиком другая ситуация. Абоненты smart любят посидеть в интернете и частенько привышают лимитв 15360 МБ, даже среднее значение выше - 16073 МБ, также надо отметить, что опять начало года (январь и февраль) характеризовано низкой активностью в интернете (около 7,5 ГБ). В тарифе ultra опять сильный провал в феврале (в 2 раза), а в остально часть года идет очень постепенный рост; средний расход трафика на smart довольно не высокий не смотря на порог в 30 ГБ средний расход около 18,8 ГБ. Подавляющее большинство абонентов расходуют в месяц трафика от 11 до 23 ГБ***  \n",
    "***4) По выручке можно сказать: что  выручка абонентов ultra в подавляющем большинстве случаев ограничивается абонплатой(1950р), а абоненты smart напротив очень частенько платят сверх абонплаты ( 982средн - 550абонплата = ) 482р - на 87,5% больше абонплаты!!, - и все это за счет Интернет-трафика) !***  \n",
    "***5) В принципе многие абоненты ultra могли бы перейти на тариф smart и платили бы меньше - если исходить из усредненных значений:  \n",
    "510мин (10 сверх 500) 10 * 3 = 30р \n",
    "Трафик 18831 МБ (3471 (4ГБ) сверх 15360 МБ) 4 * 200 = 800р  \n",
    "Итого = 550 + 30 + 800 = 1380р , а платят 1950 ! (поэтому те кто на тарифе smart - похоже умнее, не зря же его назвали smart - \"умный\" в переводе с английского :)) )***\n",
    "\n",
    "**- Была создана таблица `stat_frame` куда записаны Среднее количество, дисперсия и стандартное отклонение для 4 параметров (минуты разговора, СМС, кол-во интернет-трафика, выручка) по каждому тарифу Смарт и Ультра и по объединенным значениям обоих тарифов**  \n",
    "\n",
    "**- Проверены две гипотезы:**  \n",
    "***1) Гипотеза №1: средняя выручка пользователей тарифов «Ультра» и «Смарт» различается: ГИПОТЕЗА ПОДТВЕРДИЛАСЬ***  \n",
    "***2) Гипотеза №2: средняя выручка пользователей из Москвы отличается от выручки пользователей из других регионов: ГИПОТЕЗА НЕ ПОДТВЕРДИЛАСЬ***\n",
    "\n",
    "***В итоге можно рекомендовать оператору продвигать тариф Смарт. Он приносит больше выручки (это очень весомый фактор для оператора), его абоненты очень часто переплачивают сверх лимита, в отличие от абонентов Ультры, которые очень редко выбирают свой лимит. Также по абонентской плате он более привлекателен для абонентов - а это очень весомый фактор для абонентов***"
   ]
  }
 ],
 "metadata": {
  "celltoolbar": "Raw Cell Format",
  "kernelspec": {
   "display_name": "Python 3",
   "language": "python",
   "name": "python3"
  },
  "language_info": {
   "codemirror_mode": {
    "name": "ipython",
    "version": 3
   },
   "file_extension": ".py",
   "mimetype": "text/x-python",
   "name": "python",
   "nbconvert_exporter": "python",
   "pygments_lexer": "ipython3",
   "version": "3.7.8"
  },
  "toc": {
   "base_numbering": 1,
   "nav_menu": {},
   "number_sections": false,
   "sideBar": true,
   "skip_h1_title": false,
   "title_cell": "Table of Contents",
   "title_sidebar": "Contents",
   "toc_cell": false,
   "toc_position": {},
   "toc_section_display": true,
   "toc_window_display": true
  }
 },
 "nbformat": 4,
 "nbformat_minor": 2
}
